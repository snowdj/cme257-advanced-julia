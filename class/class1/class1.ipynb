{
 "cells": [
  {
   "cell_type": "markdown",
   "metadata": {},
   "source": [
    "# CME 257 - Getting Started"
   ]
  },
  {
   "cell_type": "markdown",
   "metadata": {},
   "source": [
    "## What is Julia?\n",
    "\n",
    "[Julia](https://github.com/JuliaLang/julia) is a relatively new language designed for scientific computing.  You'll find similarities to MATLAB and Python, but will also find differences.  It is rapidly gaining popularity in the scientific computing community (for example, its optimization pacakges are very popular).  Stanford has its fair share of users and contributors.\n",
    "\n",
    "Some features (see [julialang.org](http://julialang.org/)):\n",
    "* just-in-time compiliation (JIT)\n",
    "* parallelism and distributed execution\n",
    "* call python and C (and other languages!)\n",
    "* macros and metaprogramming\n",
    "* multiple dispatch functions (overload for different argument type combinations)\n",
    "* dynamic type system (user-defined types perform well)\n",
    "* built on LLVM\n"
   ]
  },
  {
   "cell_type": "markdown",
   "metadata": {},
   "source": [
    "## Why use Julia?\n",
    "\n",
    "Julia is designed to balance two goals\n",
    "* Ease of programming\n",
    "* Speed of execution\n",
    "\n",
    "This means that you can get near C/Fortran-like performance, with the programming effort of MATLAB or Python.  Julias tries to incorporate the best features of a variety of languages\n",
    "\n",
    "* General purpose code reads like Python\n",
    "* Linear algebra looks like MATLAB\n",
    "* Macros give Lisp-like abilities\n",
    "* Loops give speed like C/Fortran\n",
    "* Statistics looks like R (see Dataframes, Distributions pacakages)\n",
    "\n",
    "To see a performance comparison, see [here](https://julialang.org/benchmarks/)\n",
    "\n",
    "Some other reasons:\n",
    "* Open-source (MIT license)\n",
    "* Built with scientific computing in mind\n",
    "* Built with parallelism and distribution in mind\n",
    "* Performance ([julia's figure](http://julialang.org/benchmarks/))\n",
    "* Packages (built-in package manager)\n",
    "* Easy to call complied libraries, python\n",
    "* Supports multiple programming paradigms (OO, functional)\n",
    "* You can have an impact!\n",
    "\n",
    "If you want to compare Julia to MATLAB/Python/R, check out the following:\n",
    "https://docs.julialang.org/en/release-0.5/manual/noteworthy-differences/\n",
    "\n",
    "This cheatsheet gives syntax translations between MATLAB, Numpy, and Julia:\n",
    "https://cheatsheets.quantecon.org/index.html"
   ]
  },
  {
   "cell_type": "markdown",
   "metadata": {},
   "source": [
    "## A Mental Model for Julia\n",
    "\n",
    "The following analogy is borrowed from:\n",
    "https://ucidatascienceinitiative.github.io/IntroToJulia/Html/JuliaMentalModel\n",
    "\n",
    "### A Mental Model for Python/R/MATLAB: Talking to a Politician\n",
    "* These scripting languages were developed to \"be easy\".\n",
    "* You tell them something, and they try to give you want you want.\n",
    "* There may be some things hidden behind the scenes to make everything \"work better\".\n",
    "* They may not give you the fastest reply.\n",
    "\n",
    "### A Mental Model for C/Fortran: Talking to a Philosopher\n",
    "* You say something, and they want something more specific.\n",
    "* You spend hours digging deep into the specifics of something.\n",
    "* After finally getting it right, you know how to quickly get a specific answer from them.\n",
    "* Everytime you want to talk about something new, you have to start all the way at the basics again.\n",
    "\n",
    "### A Mental Model for Julia: Talking to a Scientist\n",
    "* When you're talking, everything looks general. However, you really mean very specific details determined by context.\n",
    "* You can quickly dig deep into a subject, assuming many rules, theories, and terminology.\n",
    "* Nothing is hidden: if you ever want to hear about every little detail, you can ask.\n",
    "* They will get mad (and throw errors at you) if you begin to be loose with the specific details.\n"
   ]
  },
  {
   "cell_type": "markdown",
   "metadata": {},
   "source": [
    "## How to Use Julia\n",
    "\n",
    "1. [Jupyter notebooks](https://jupyter.org/).  Same as IPython notebooks.  One way to install is from the REPL with ```\n",
    "using Pkg; Pkg.add(\"IJulia\")\n",
    "```\n",
    "2. [The REPL (Read/Evaluate/Print/Loop)](https://en.wikibooks.org/wiki/Introducing_Julia/The_REPL). This is what you see when you launch Julia from the command line.\n",
    "3. [Juno IDE](http://junolab.org/).  An IDE for Julia built on the [open source editor Atom](https://atom.io/).\n",
    "\n",
    "You should already be able to launch the REPL.  Notes and homeworks for this course will primarily be contained in Jupyter notebooks posted to GitHub, so install the IJulia package on your system to use them (GitHub will render them online)."
   ]
  },
  {
   "cell_type": "markdown",
   "metadata": {},
   "source": [
    "## Time to Jump In\n",
    "\n",
    "Open up a Julia REPL, and start working on [worksheet1](worksheet1.md).\n",
    "Feel free to jump to a section that interests you. I highly recommend working in IJulia."
   ]
  },
  {
   "cell_type": "markdown",
   "metadata": {
    "collapsed": true
   },
   "source": [
    "## Scripts\n",
    "\n",
    "You can run julia scripts from the command line or use them to import code into a live session\n",
    "\n",
    "You can see an example in class1.jl:\n",
    "\n",
    "```julia\n",
    "println(\"Hello from class1.jl\")\n",
    "```\n",
    "\n",
    "Bash:\n",
    "```bash\n",
    "julia script.jl\n",
    "```\n",
    "\n",
    "Julia:\n",
    "```julia\n",
    "include(\"script.jl\")\n",
    "```\n",
    "\n",
    "You can use scripts to automate what you might do manually using the Julia prompt.\n",
    "\n",
    "Your first homework will involve writing a simple script."
   ]
  },
  {
   "cell_type": "markdown",
   "metadata": {},
   "source": [
    "## Jupyter Notebooks\n",
    "\n",
    "To set up jupyter notebooks for Julia, see [here](https://github.com/icme/cme257-advanced-julia/blob/master/class/using_notebooks.ipynb)\n"
   ]
  },
  {
   "cell_type": "markdown",
   "metadata": {},
   "source": [
    "## Integration Problems\n",
    "\n",
    "Try to solve one or more of the following problems using Julia:\n",
    "\n",
    "* Solving Linear Systems: Julia offers [several special matrix types](https://docs.julialang.org/en/stable/manual/linear-algebra/#Special-matrices-1) for structured problems.  Solve ```A x=b``` for x using backslash (```\\```, as in MATLAB) for several types of matrices, at several sizes.  Is there a difference in the speed?  What about asymptotic scaling?\n",
    "\n",
    "* Random walk on a grid: Simulate a random walk on an integer lattice in d dimensions, where d = 1,2,3,..., starting at the origin.  Over how 10000 steps, how many times do you return to the origin?\n",
    "\n",
    "\n",
    "\n",
    "If you'd like to try some more relatively easy practice problems, check out the following links:\n",
    "\n",
    "https://lectures.quantecon.org/jl/julia_by_example.html\n",
    "\n",
    "https://ucidatascienceinitiative.github.io/IntroToJulia/Html/BasicProblems"
   ]
  }
 ],
 "metadata": {
  "kernelspec": {
   "display_name": "Julia 1.2.0",
   "language": "julia",
   "name": "julia-1.2"
  },
  "language_info": {
   "file_extension": ".jl",
   "mimetype": "application/julia",
   "name": "julia",
   "version": "1.2.0"
  }
 },
 "nbformat": 4,
 "nbformat_minor": 1
}
