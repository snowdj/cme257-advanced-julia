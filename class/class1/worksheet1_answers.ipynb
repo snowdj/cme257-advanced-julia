{
 "cells": [
  {
   "cell_type": "markdown",
   "metadata": {},
   "source": [
    "# Syntax"
   ]
  },
  {
   "cell_type": "code",
   "execution_count": 2,
   "metadata": {},
   "outputs": [
    {
     "name": "stdout",
     "output_type": "stream",
     "text": [
      "x + 🔑 = 15\n"
     ]
    },
    {
     "data": {
      "text/plain": [
       "5"
      ]
     },
     "execution_count": 2,
     "metadata": {},
     "output_type": "execute_result"
    }
   ],
   "source": [
    "# How do you assign a variable?\n",
    "x = 5\n",
    "🔑 = 10 # type \"\\:key:\", press tab\n",
    "@show x + 🔑\n",
    "# you can also use latex-like commands to get variables\n",
    "α = 5 # type \"\\alpha\", press tab\n",
    "# see https://docs.julialang.org/en/stable/manual/unicode-input for unicode input"
   ]
  },
  {
   "cell_type": "code",
   "execution_count": 3,
   "metadata": {},
   "outputs": [
    {
     "data": {
      "text/plain": [
       "6.283185307179586"
      ]
     },
     "execution_count": 3,
     "metadata": {},
     "output_type": "execute_result"
    }
   ],
   "source": [
    "# note a lot of unicode symbols related to math behave like you would want\n",
    "π * 2 # \"\\pi\""
   ]
  },
  {
   "cell_type": "code",
   "execution_count": null,
   "metadata": {},
   "outputs": [],
   "source": [
    "# How do you make a comment?\n",
    "# like this!"
   ]
  },
  {
   "cell_type": "code",
   "execution_count": 4,
   "metadata": {},
   "outputs": [
    {
     "name": "stdout",
     "output_type": "stream",
     "text": [
      "x = 5\n",
      "y = 5\n",
      "x = 6\n",
      "y = 5\n"
     ]
    }
   ],
   "source": [
    "# If you assign variable x, and then set y=x, what happens to y when you change the value of x?\n",
    "x = 5\n",
    "y = x\n",
    "@show x\n",
    "@show y\n",
    "x = 6\n",
    "@show x\n",
    "@show y\n",
    ";"
   ]
  },
  {
   "cell_type": "code",
   "execution_count": 6,
   "metadata": {},
   "outputs": [
    {
     "name": "stdout",
     "output_type": "stream",
     "text": [
      "x = [1 2]\n",
      "y = [1 2]\n",
      "x = [3 2]\n",
      "y = [1 2]\n"
     ]
    }
   ],
   "source": [
    "x = [1 2]\n",
    "y = deepcopy(x)\n",
    "@show x\n",
    "@show y\n",
    "x[1] = 3\n",
    "@show x\n",
    "@show y\n",
    ";"
   ]
  },
  {
   "cell_type": "code",
   "execution_count": 9,
   "metadata": {},
   "outputs": [
    {
     "name": "stdout",
     "output_type": "stream",
     "text": [
      "hello!\n",
      "z = 10.2\n",
      "9 plus 1 is 10\n"
     ]
    }
   ],
   "source": [
    "# How can you print a statement?\n",
    "println(\"hello!\")\n",
    "z = 10\n",
    "#You can print variables like this: \n",
    "println(\"z = $z\")\n",
    "#You can also print variables like this:\n",
    "println(z-1, \" plus 1 is \", z)"
   ]
  },
  {
   "cell_type": "code",
   "execution_count": 10,
   "metadata": {},
   "outputs": [
    {
     "name": "stdout",
     "output_type": "stream",
     "text": [
      "z = 10\n"
     ]
    }
   ],
   "source": [
    "# how can you print the contents of a variable?\n",
    "@show z\n",
    ";"
   ]
  },
  {
   "cell_type": "code",
   "execution_count": 11,
   "metadata": {},
   "outputs": [
    {
     "name": "stdout",
     "output_type": "stream",
     "text": [
      "i = 1\n",
      "i = 2\n",
      "i = 3\n",
      "i = 4\n",
      "i = 5\n",
      "elt = 1\n",
      "elt = 2\n",
      "elt = 10\n"
     ]
    }
   ],
   "source": [
    "# What is the syntax for a for-loop?\n",
    "for i = 1:5\n",
    "    println(\"i = $i\")\n",
    "end\n",
    "\n",
    "arr = [1 2 10]\n",
    "for elt in arr\n",
    "    println(\"elt = $elt\")\n",
    "end"
   ]
  },
  {
   "cell_type": "code",
   "execution_count": 12,
   "metadata": {},
   "outputs": [
    {
     "name": "stdout",
     "output_type": "stream",
     "text": [
      "x must be large\n"
     ]
    }
   ],
   "source": [
    "# What is the syntax for if-else statements?\n",
    "x = 10\n",
    "\n",
    "if x < 3\n",
    "    println(\"x is small\")\n",
    "elseif x < 6\n",
    "    println(\"x is medium\")\n",
    "else\n",
    "    println(\"x must be large\")\n",
    "end"
   ]
  },
  {
   "cell_type": "code",
   "execution_count": 13,
   "metadata": {},
   "outputs": [
    {
     "name": "stdout",
     "output_type": "stream",
     "text": [
      "x = 10\n"
     ]
    }
   ],
   "source": [
    "#If you were wondering, while loops work like this:\n",
    "x = 0\n",
    "while x < 10\n",
    "    x += 1\n",
    "end\n",
    "@show x;"
   ]
  },
  {
   "cell_type": "code",
   "execution_count": 14,
   "metadata": {},
   "outputs": [
    {
     "data": {
      "text/plain": [
       "8"
      ]
     },
     "execution_count": 14,
     "metadata": {},
     "output_type": "execute_result"
    }
   ],
   "source": [
    "# How would you write a function that takes inputs x and y and returns x+2*y?\n",
    "function test_fn(x, y)\n",
    "    return x + 2 * y \n",
    "end\n",
    "\n",
    "test_fn(2, 3)"
   ]
  },
  {
   "cell_type": "markdown",
   "metadata": {},
   "source": [
    "# Files"
   ]
  },
  {
   "cell_type": "code",
   "execution_count": 15,
   "metadata": {},
   "outputs": [
    {
     "data": {
      "text/plain": [
       "2×4 Array{Float64,2}:\n",
       " 1.0  2.0  3.0  4.0\n",
       " 5.0  6.0  7.0  8.0"
      ]
     },
     "execution_count": 15,
     "metadata": {},
     "output_type": "execute_result"
    }
   ],
   "source": [
    "# How would you load a file? (try class1.csv)\n",
    "using DelimitedFiles\n",
    "data = readdlm(\"class1.csv\", ',')"
   ]
  },
  {
   "cell_type": "code",
   "execution_count": 16,
   "metadata": {},
   "outputs": [
    {
     "name": "stdout",
     "output_type": "stream",
     "text": [
      "Hello from class1.jl\n"
     ]
    }
   ],
   "source": [
    "# How would you run a script? (try class1.jl)\n",
    "include(\"class1.jl\")"
   ]
  },
  {
   "cell_type": "code",
   "execution_count": 17,
   "metadata": {},
   "outputs": [],
   "source": [
    "# How can you print to a file?\n",
    "f = open(\"hello.txt\",\"w\")\n",
    "write(f,\"Hello world!\")\n",
    "close(f)"
   ]
  },
  {
   "cell_type": "markdown",
   "metadata": {},
   "source": [
    "# Arrrays"
   ]
  },
  {
   "cell_type": "code",
   "execution_count": 20,
   "metadata": {},
   "outputs": [
    {
     "name": "stdout",
     "output_type": "stream",
     "text": [
      "arr1 = [1, 2, 3]\n",
      "arr2 = [1, 2, 3]\n",
      "arr1 == arr2 = true\n",
      "arr3 = [1 2; 5 4]\n",
      "arr3 = [2 4; 10 8]\n"
     ]
    }
   ],
   "source": [
    "# How would you create an array? What are some operations you may wish to perform?\n",
    "# note array indices begin at 1\n",
    "arr1 = [1,2,3]\n",
    "arr2 = collect(1:3)\n",
    "@show arr1\n",
    "@show arr2\n",
    "@show (arr1 == arr2)\n",
    "arr3 = [1 2; 3 4]\n",
    "arr3[2,1] = 5\n",
    "@show arr3\n",
    "arr3 *= 2\n",
    "@show arr3\n",
    ";"
   ]
  },
  {
   "cell_type": "code",
   "execution_count": 22,
   "metadata": {},
   "outputs": [
    {
     "data": {
      "text/plain": [
       "10×10 Array{Float64,2}:\n",
       "  0.64989   -1.93588     0.158056    …  -0.591015    1.62952    0.926401\n",
       "  0.104227   0.848127    1.42958        -0.77215    -0.7675    -0.047957\n",
       "  3.06466   -0.219058    1.7585         -2.47651     0.917616  -0.39811 \n",
       " -0.278243  -0.644927   -0.637932        1.91339    -1.39954   -0.831678\n",
       "  1.16639   -0.199771   -2.00153        -1.5918      1.5698     0.865532\n",
       " -0.905802  -0.869823   -0.771074    …  -2.5278      0.204874  -1.32995 \n",
       " -0.527578   0.617319   -2.53836         0.866022   -0.780956  -0.886435\n",
       "  0.147545  -0.0844774  -0.00787753      0.934273    0.559173   1.28373 \n",
       " -1.29351    1.31253    -0.0367369      -1.44371     0.40328    0.460434\n",
       " -1.02071    0.0395238   1.18356        -0.0838492  -1.34005   -1.39588 "
      ]
     },
     "execution_count": 22,
     "metadata": {},
     "output_type": "execute_result"
    }
   ],
   "source": [
    "# How can you create a 10x10 random matrix?\n",
    "rand_mat = rand(10,10) # uniform random entries\n",
    "rand_mat = randn(10,10) # normal 0,1 entries\n",
    "# for more types of randomness, use the Distributions package"
   ]
  },
  {
   "cell_type": "code",
   "execution_count": 25,
   "metadata": {},
   "outputs": [
    {
     "data": {
      "text/plain": [
       "3×4 Array{Int64,2}:\n",
       " 4789960096  4789960016  4789960416          14\n",
       " 4793638992           1  4789960496           2\n",
       " 4789960176  4789960256          14  4747952129"
      ]
     },
     "execution_count": 25,
     "metadata": {},
     "output_type": "execute_result"
    }
   ],
   "source": [
    "# Allocate a 3x4 array of Int64 (don't initialize)\n",
    "A = Array{Int64}(undef, 3,4)"
   ]
  },
  {
   "cell_type": "code",
   "execution_count": 24,
   "metadata": {},
   "outputs": [
    {
     "data": {
      "text/plain": [
       "3×4 Array{Int64,2}:\n",
       " 0  0  0  0\n",
       " 0  0  0  0\n",
       " 0  0  0  0"
      ]
     },
     "execution_count": 24,
     "metadata": {},
     "output_type": "execute_result"
    }
   ],
   "source": [
    "# Allocate a 3x4 array of Int64, initialized to zero\n",
    "A = zeros(Int64, 3,4)"
   ]
  },
  {
   "cell_type": "markdown",
   "metadata": {},
   "source": [
    "# Packages"
   ]
  },
  {
   "cell_type": "code",
   "execution_count": 26,
   "metadata": {},
   "outputs": [
    {
     "data": {
      "text/plain": [
       "Dict{String,Union{Nothing, VersionNumber}} with 10 entries:\n",
       "  \"CSV\"            => v\"0.5.12\"\n",
       "  \"Laplacians\"     => v\"1.1.1\"\n",
       "  \"Convex\"         => v\"0.12.5\"\n",
       "  \"DataStructures\" => v\"0.17.0\"\n",
       "  \"IJulia\"         => v\"1.20.0\"\n",
       "  \"LightGraphs\"    => v\"1.3.0\"\n",
       "  \"Plots\"          => v\"0.26.3\"\n",
       "  \"ECOS\"           => v\"0.10.0\"\n",
       "  \"SCS\"            => v\"0.6.1\"\n",
       "  \"PyCall\"         => v\"1.91.2\""
      ]
     },
     "execution_count": 26,
     "metadata": {},
     "output_type": "execute_result"
    }
   ],
   "source": [
    "# Where can you find a list of packages installed in Julia?\n",
    "# http://pkg.julialang.org/\n",
    "using Pkg\n",
    "Pkg.installed()"
   ]
  },
  {
   "cell_type": "code",
   "execution_count": 27,
   "metadata": {},
   "outputs": [
    {
     "name": "stdout",
     "output_type": "stream",
     "text": [
      "\u001b[32m\u001b[1m  Updating\u001b[22m\u001b[39m registry at `~/.julia/registries/General`\n",
      "\u001b[32m\u001b[1m  Updating\u001b[22m\u001b[39m git-repo `https://github.com/JuliaRegistries/General.git`\n",
      "\u001b[2K\u001b[?25h[1mFetching:\u001b[22m\u001b[39m [========================================>]  100.0 %.0 %\u001b[32m\u001b[1m Resolving\u001b[22m\u001b[39m package versions...\n",
      "\u001b[32m\u001b[1m Installed\u001b[22m\u001b[39m Primes ─ v0.4.0\n",
      "\u001b[32m\u001b[1m  Updating\u001b[22m\u001b[39m `~/.julia/environments/v1.2/Project.toml`\n",
      " \u001b[90m [27ebfcd6]\u001b[39m\u001b[92m + Primes v0.4.0\u001b[39m\n",
      "\u001b[32m\u001b[1m  Updating\u001b[22m\u001b[39m `~/.julia/environments/v1.2/Manifest.toml`\n",
      " \u001b[90m [27ebfcd6]\u001b[39m\u001b[92m + Primes v0.4.0\u001b[39m\n"
     ]
    }
   ],
   "source": [
    "# How to add a package\n",
    "Pkg.add(\"Primes\")\n",
    "# note you may need to build some packages the first time you use them\n",
    "# Pkg.build(\"PyPlot\")"
   ]
  },
  {
   "cell_type": "code",
   "execution_count": 29,
   "metadata": {},
   "outputs": [
    {
     "data": {
      "image/svg+xml": [
       "<?xml version=\"1.0\" encoding=\"utf-8\"?>\n",
       "<svg xmlns=\"http://www.w3.org/2000/svg\" xmlns:xlink=\"http://www.w3.org/1999/xlink\" width=\"600\" height=\"400\" viewBox=\"0 0 2400 1600\">\n",
       "<defs>\n",
       "  <clipPath id=\"clip6200\">\n",
       "    <rect x=\"0\" y=\"0\" width=\"2400\" height=\"1600\"/>\n",
       "  </clipPath>\n",
       "</defs>\n",
       "<polygon clip-path=\"url(#clip6200)\" points=\"\n",
       "0,1600 2400,1600 2400,0 0,0 \n",
       "  \" fill=\"#ffffff\" fill-rule=\"evenodd\" fill-opacity=\"1\"/>\n",
       "<defs>\n",
       "  <clipPath id=\"clip6201\">\n",
       "    <rect x=\"480\" y=\"0\" width=\"1681\" height=\"1600\"/>\n",
       "  </clipPath>\n",
       "</defs>\n",
       "<polygon clip-path=\"url(#clip6200)\" points=\"\n",
       "113.754,1487.47 2352.76,1487.47 2352.76,47.2441 113.754,47.2441 \n",
       "  \" fill=\"#ffffff\" fill-rule=\"evenodd\" fill-opacity=\"1\"/>\n",
       "<defs>\n",
       "  <clipPath id=\"clip6202\">\n",
       "    <rect x=\"113\" y=\"47\" width=\"2240\" height=\"1441\"/>\n",
       "  </clipPath>\n",
       "</defs>\n",
       "<polyline clip-path=\"url(#clip6202)\" style=\"stroke:#000000; stroke-width:2; stroke-opacity:0.1; fill:none\" points=\"\n",
       "  177.122,1487.47 177.122,47.2441 \n",
       "  \"/>\n",
       "<polyline clip-path=\"url(#clip6202)\" style=\"stroke:#000000; stroke-width:2; stroke-opacity:0.1; fill:none\" points=\"\n",
       "  705.189,1487.47 705.189,47.2441 \n",
       "  \"/>\n",
       "<polyline clip-path=\"url(#clip6202)\" style=\"stroke:#000000; stroke-width:2; stroke-opacity:0.1; fill:none\" points=\"\n",
       "  1233.26,1487.47 1233.26,47.2441 \n",
       "  \"/>\n",
       "<polyline clip-path=\"url(#clip6202)\" style=\"stroke:#000000; stroke-width:2; stroke-opacity:0.1; fill:none\" points=\"\n",
       "  1761.32,1487.47 1761.32,47.2441 \n",
       "  \"/>\n",
       "<polyline clip-path=\"url(#clip6202)\" style=\"stroke:#000000; stroke-width:2; stroke-opacity:0.1; fill:none\" points=\"\n",
       "  2289.39,1487.47 2289.39,47.2441 \n",
       "  \"/>\n",
       "<polyline clip-path=\"url(#clip6202)\" style=\"stroke:#000000; stroke-width:2; stroke-opacity:0.1; fill:none\" points=\"\n",
       "  113.754,1446.71 2352.76,1446.71 \n",
       "  \"/>\n",
       "<polyline clip-path=\"url(#clip6202)\" style=\"stroke:#000000; stroke-width:2; stroke-opacity:0.1; fill:none\" points=\"\n",
       "  113.754,1107.04 2352.76,1107.04 \n",
       "  \"/>\n",
       "<polyline clip-path=\"url(#clip6202)\" style=\"stroke:#000000; stroke-width:2; stroke-opacity:0.1; fill:none\" points=\"\n",
       "  113.754,767.359 2352.76,767.359 \n",
       "  \"/>\n",
       "<polyline clip-path=\"url(#clip6202)\" style=\"stroke:#000000; stroke-width:2; stroke-opacity:0.1; fill:none\" points=\"\n",
       "  113.754,427.682 2352.76,427.682 \n",
       "  \"/>\n",
       "<polyline clip-path=\"url(#clip6202)\" style=\"stroke:#000000; stroke-width:2; stroke-opacity:0.1; fill:none\" points=\"\n",
       "  113.754,88.0053 2352.76,88.0053 \n",
       "  \"/>\n",
       "<polyline clip-path=\"url(#clip6200)\" style=\"stroke:#000000; stroke-width:4; stroke-opacity:1; fill:none\" points=\"\n",
       "  113.754,1487.47 2352.76,1487.47 \n",
       "  \"/>\n",
       "<polyline clip-path=\"url(#clip6200)\" style=\"stroke:#000000; stroke-width:4; stroke-opacity:1; fill:none\" points=\"\n",
       "  113.754,1487.47 113.754,47.2441 \n",
       "  \"/>\n",
       "<polyline clip-path=\"url(#clip6200)\" style=\"stroke:#000000; stroke-width:4; stroke-opacity:1; fill:none\" points=\"\n",
       "  177.122,1487.47 177.122,1465.87 \n",
       "  \"/>\n",
       "<polyline clip-path=\"url(#clip6200)\" style=\"stroke:#000000; stroke-width:4; stroke-opacity:1; fill:none\" points=\"\n",
       "  705.189,1487.47 705.189,1465.87 \n",
       "  \"/>\n",
       "<polyline clip-path=\"url(#clip6200)\" style=\"stroke:#000000; stroke-width:4; stroke-opacity:1; fill:none\" points=\"\n",
       "  1233.26,1487.47 1233.26,1465.87 \n",
       "  \"/>\n",
       "<polyline clip-path=\"url(#clip6200)\" style=\"stroke:#000000; stroke-width:4; stroke-opacity:1; fill:none\" points=\"\n",
       "  1761.32,1487.47 1761.32,1465.87 \n",
       "  \"/>\n",
       "<polyline clip-path=\"url(#clip6200)\" style=\"stroke:#000000; stroke-width:4; stroke-opacity:1; fill:none\" points=\"\n",
       "  2289.39,1487.47 2289.39,1465.87 \n",
       "  \"/>\n",
       "<polyline clip-path=\"url(#clip6200)\" style=\"stroke:#000000; stroke-width:4; stroke-opacity:1; fill:none\" points=\"\n",
       "  113.754,1446.71 147.339,1446.71 \n",
       "  \"/>\n",
       "<polyline clip-path=\"url(#clip6200)\" style=\"stroke:#000000; stroke-width:4; stroke-opacity:1; fill:none\" points=\"\n",
       "  113.754,1107.04 147.339,1107.04 \n",
       "  \"/>\n",
       "<polyline clip-path=\"url(#clip6200)\" style=\"stroke:#000000; stroke-width:4; stroke-opacity:1; fill:none\" points=\"\n",
       "  113.754,767.359 147.339,767.359 \n",
       "  \"/>\n",
       "<polyline clip-path=\"url(#clip6200)\" style=\"stroke:#000000; stroke-width:4; stroke-opacity:1; fill:none\" points=\"\n",
       "  113.754,427.682 147.339,427.682 \n",
       "  \"/>\n",
       "<polyline clip-path=\"url(#clip6200)\" style=\"stroke:#000000; stroke-width:4; stroke-opacity:1; fill:none\" points=\"\n",
       "  113.754,88.0053 147.339,88.0053 \n",
       "  \"/>\n",
       "<g clip-path=\"url(#clip6200)\">\n",
       "<text style=\"fill:#000000; fill-opacity:1; font-family:Arial,Helvetica Neue,Helvetica,sans-serif; font-size:48px; text-anchor:middle;\" transform=\"rotate(0, 177.122, 1541.47)\" x=\"177.122\" y=\"1541.47\">0.0</text>\n",
       "</g>\n",
       "<g clip-path=\"url(#clip6200)\">\n",
       "<text style=\"fill:#000000; fill-opacity:1; font-family:Arial,Helvetica Neue,Helvetica,sans-serif; font-size:48px; text-anchor:middle;\" transform=\"rotate(0, 705.189, 1541.47)\" x=\"705.189\" y=\"1541.47\">0.5</text>\n",
       "</g>\n",
       "<g clip-path=\"url(#clip6200)\">\n",
       "<text style=\"fill:#000000; fill-opacity:1; font-family:Arial,Helvetica Neue,Helvetica,sans-serif; font-size:48px; text-anchor:middle;\" transform=\"rotate(0, 1233.26, 1541.47)\" x=\"1233.26\" y=\"1541.47\">1.0</text>\n",
       "</g>\n",
       "<g clip-path=\"url(#clip6200)\">\n",
       "<text style=\"fill:#000000; fill-opacity:1; font-family:Arial,Helvetica Neue,Helvetica,sans-serif; font-size:48px; text-anchor:middle;\" transform=\"rotate(0, 1761.32, 1541.47)\" x=\"1761.32\" y=\"1541.47\">1.5</text>\n",
       "</g>\n",
       "<g clip-path=\"url(#clip6200)\">\n",
       "<text style=\"fill:#000000; fill-opacity:1; font-family:Arial,Helvetica Neue,Helvetica,sans-serif; font-size:48px; text-anchor:middle;\" transform=\"rotate(0, 2289.39, 1541.47)\" x=\"2289.39\" y=\"1541.47\">2.0</text>\n",
       "</g>\n",
       "<g clip-path=\"url(#clip6200)\">\n",
       "<text style=\"fill:#000000; fill-opacity:1; font-family:Arial,Helvetica Neue,Helvetica,sans-serif; font-size:48px; text-anchor:end;\" transform=\"rotate(0, 89.7545, 1464.21)\" x=\"89.7545\" y=\"1464.21\">0</text>\n",
       "</g>\n",
       "<g clip-path=\"url(#clip6200)\">\n",
       "<text style=\"fill:#000000; fill-opacity:1; font-family:Arial,Helvetica Neue,Helvetica,sans-serif; font-size:48px; text-anchor:end;\" transform=\"rotate(0, 89.7545, 1124.54)\" x=\"89.7545\" y=\"1124.54\">1</text>\n",
       "</g>\n",
       "<g clip-path=\"url(#clip6200)\">\n",
       "<text style=\"fill:#000000; fill-opacity:1; font-family:Arial,Helvetica Neue,Helvetica,sans-serif; font-size:48px; text-anchor:end;\" transform=\"rotate(0, 89.7545, 784.859)\" x=\"89.7545\" y=\"784.859\">2</text>\n",
       "</g>\n",
       "<g clip-path=\"url(#clip6200)\">\n",
       "<text style=\"fill:#000000; fill-opacity:1; font-family:Arial,Helvetica Neue,Helvetica,sans-serif; font-size:48px; text-anchor:end;\" transform=\"rotate(0, 89.7545, 445.182)\" x=\"89.7545\" y=\"445.182\">3</text>\n",
       "</g>\n",
       "<g clip-path=\"url(#clip6200)\">\n",
       "<text style=\"fill:#000000; fill-opacity:1; font-family:Arial,Helvetica Neue,Helvetica,sans-serif; font-size:48px; text-anchor:end;\" transform=\"rotate(0, 89.7545, 105.505)\" x=\"89.7545\" y=\"105.505\">4</text>\n",
       "</g>\n",
       "<polyline clip-path=\"url(#clip6202)\" style=\"stroke:#009af9; stroke-width:4; stroke-opacity:1; fill:none\" points=\"\n",
       "  177.122,1446.71 1233.26,1107.04 2289.39,88.0053 \n",
       "  \"/>\n",
       "<polygon clip-path=\"url(#clip6200)\" points=\"\n",
       "1989.93,251.724 2280.76,251.724 2280.76,130.764 1989.93,130.764 \n",
       "  \" fill=\"#ffffff\" fill-rule=\"evenodd\" fill-opacity=\"1\"/>\n",
       "<polyline clip-path=\"url(#clip6200)\" style=\"stroke:#000000; stroke-width:4; stroke-opacity:1; fill:none\" points=\"\n",
       "  1989.93,251.724 2280.76,251.724 2280.76,130.764 1989.93,130.764 1989.93,251.724 \n",
       "  \"/>\n",
       "<polyline clip-path=\"url(#clip6200)\" style=\"stroke:#009af9; stroke-width:4; stroke-opacity:1; fill:none\" points=\"\n",
       "  2013.93,191.244 2157.93,191.244 \n",
       "  \"/>\n",
       "<g clip-path=\"url(#clip6200)\">\n",
       "<text style=\"fill:#000000; fill-opacity:1; font-family:Arial,Helvetica Neue,Helvetica,sans-serif; font-size:48px; text-anchor:start;\" transform=\"rotate(0, 2181.93, 208.744)\" x=\"2181.93\" y=\"208.744\">y1</text>\n",
       "</g>\n",
       "</svg>\n"
      ]
     },
     "execution_count": 29,
     "metadata": {},
     "output_type": "execute_result"
    }
   ],
   "source": [
    "# Add the Plots package, and plot y=x^2 for x in [0,10].\n",
    "using Plots;\n",
    "# Plot y=x^2 for x in [0,10].\n",
    "x = collect(0:2)\n",
    "y = x.^2\n",
    "plot(x, y) #note that this is interpolated"
   ]
  },
  {
   "cell_type": "code",
   "execution_count": 31,
   "metadata": {},
   "outputs": [
    {
     "name": "stdout",
     "output_type": "stream",
     "text": [
      "x.value = 1.1538550569104862\n",
      "y.value = 0.7692375664928938\n",
      "problem.optval = 1.9230921476537217\n"
     ]
    },
    {
     "data": {
      "text/plain": [
       "1.9230921476537217"
      ]
     },
     "execution_count": 31,
     "metadata": {},
     "output_type": "execute_result"
    }
   ],
   "source": [
    "#Add the Convex package and solve the convex problem minimize x^2 + y^2 where 3x+2y > 5 and x - 4y < 10\n",
    "using Convex, SCS\n",
    "x = Variable()\n",
    "y = Variable()\n",
    "problem = minimize(square(x)+square(y))\n",
    "problem.constraints += [3x + 2y > 5]\n",
    "problem.constraints += [x - 4y < 10]\n",
    "solve!(problem, SCSSolver(verbose = false))\n",
    "@show x.value\n",
    "@show y.value\n",
    "@show problem.optval"
   ]
  },
  {
   "cell_type": "markdown",
   "metadata": {},
   "source": [
    "# Data Types"
   ]
  },
  {
   "cell_type": "code",
   "execution_count": 31,
   "metadata": {},
   "outputs": [
    {
     "data": {
      "text/plain": [
       "-3 + 4im"
      ]
     },
     "execution_count": 31,
     "metadata": {},
     "output_type": "execute_result"
    }
   ],
   "source": [
    "# How can you represent imaginary numbers?\n",
    "c = 1 + 2im\n",
    "d = c * c"
   ]
  },
  {
   "cell_type": "code",
   "execution_count": 32,
   "metadata": {},
   "outputs": [
    {
     "data": {
      "text/plain": [
       "21//40"
      ]
     },
     "execution_count": 32,
     "metadata": {},
     "output_type": "execute_result"
    }
   ],
   "source": [
    "# How can you represent fractions?\n",
    "a = 3//5\n",
    "b = 7//8\n",
    "a * b"
   ]
  },
  {
   "cell_type": "code",
   "execution_count": 34,
   "metadata": {},
   "outputs": [
    {
     "ename": "MethodError",
     "evalue": "MethodError: no method matching setindex!(::Tuple{Int64,Int64,Int64}, ::Int64, ::Int64)",
     "output_type": "error",
     "traceback": [
      "MethodError: no method matching setindex!(::Tuple{Int64,Int64,Int64}, ::Int64, ::Int64)",
      "",
      "Stacktrace:",
      " [1] top-level scope at In[34]:6"
     ]
    }
   ],
   "source": [
    "# What's a difference between an array and tuple?\n",
    "# tuples are immutable (you can't change the entries)\n",
    "arr = [1, 2, 3]\n",
    "tup = (1, 2, 3)\n",
    "arr[1] = 4\n",
    "tup[1] = 4\n",
    "@show arr\n",
    "@show tup\n",
    ";"
   ]
  },
  {
   "cell_type": "code",
   "execution_count": 36,
   "metadata": {},
   "outputs": [
    {
     "data": {
      "text/plain": [
       "\"CME 257\""
      ]
     },
     "execution_count": 36,
     "metadata": {},
     "output_type": "execute_result"
    }
   ],
   "source": [
    "# How can you create a dict (i.e. dictionary, associatice array, map)?\n",
    "d = Dict(\"Julia\" => \"CME 257\", \"R\" => \"CME 195\", \"Python\" => \"CME 193\", \"MATLAB\" => \"CME 192\")\n",
    "d[\"Julia\"]"
   ]
  },
  {
   "cell_type": "code",
   "execution_count": 79,
   "metadata": {},
   "outputs": [
    {
     "data": {
      "text/plain": [
       "Set([\"MATLAB\", \"Julia\", \"C++\"])"
      ]
     },
     "execution_count": 79,
     "metadata": {},
     "output_type": "execute_result"
    }
   ],
   "source": [
    "# How can you create a set?\n",
    "s = Set([\"Julia\", \"C++\", \"MATLAB\", \"Julia\"]) \n",
    "#Sets are dictionaries internally"
   ]
  },
  {
   "cell_type": "code",
   "execution_count": 35,
   "metadata": {},
   "outputs": [
    {
     "name": "stdout",
     "output_type": "stream",
     "text": [
      "(x == y) == true = true\n",
      "(x == y) == false = false\n"
     ]
    }
   ],
   "source": [
    "# How can you use explicit boolean \"True\" and \"False\" values?\n",
    "x = 1\n",
    "y = 1\n",
    "@show (x == y) == true\n",
    "@show (x == y) == false\n",
    ";"
   ]
  },
  {
   "cell_type": "code",
   "execution_count": 36,
   "metadata": {},
   "outputs": [
    {
     "name": "stdout",
     "output_type": "stream",
     "text": [
      "append!(vector, 4) = [1, 2, 3, 4]\n",
      "append!(vector, 5) = [1, 2, 3, 4, 5]\n",
      "pop!(vector) = 5\n",
      "vector = [1, 2, 3, 4]\n"
     ]
    },
    {
     "data": {
      "text/plain": [
       "4-element Array{Int64,1}:\n",
       " 1\n",
       " 2\n",
       " 3\n",
       " 4"
      ]
     },
     "execution_count": 36,
     "metadata": {},
     "output_type": "execute_result"
    }
   ],
   "source": [
    "# How can I add an entry to the end of a vector?\n",
    "vector = [1,2,3]\n",
    "@show append!(vector, 4)\n",
    "@show append!(vector, 5)\n",
    "@show pop!(vector)\n",
    "@show vector\n"
   ]
  },
  {
   "cell_type": "code",
   "execution_count": 37,
   "metadata": {},
   "outputs": [
    {
     "ename": "MethodError",
     "evalue": "MethodError: no method matching append!(::Array{Int64,2}, ::Int64)\n\nYou might have used a 2d row vector where a 1d column vector was required.\nNote the difference between 1d column vector [1,2,3] and 2d row vector [1 2 3].\nYou can convert to a column vector with the vec() function.\nClosest candidates are:\n  append!(!Matched::BitArray{1}, ::Any) at bitarray.jl:744\n  append!(!Matched::Array{T,1} where T, ::Any) at array.jl:899\n  append!(!Matched::DataStructures.MutableLinkedList, ::Any...) at /Users/macuser/.julia/packages/DataStructures/5F6tJ/src/mutable_list.jl:165\n  ...",
     "output_type": "error",
     "traceback": [
      "MethodError: no method matching append!(::Array{Int64,2}, ::Int64)\n\nYou might have used a 2d row vector where a 1d column vector was required.\nNote the difference between 1d column vector [1,2,3] and 2d row vector [1 2 3].\nYou can convert to a column vector with the vec() function.\nClosest candidates are:\n  append!(!Matched::BitArray{1}, ::Any) at bitarray.jl:744\n  append!(!Matched::Array{T,1} where T, ::Any) at array.jl:899\n  append!(!Matched::DataStructures.MutableLinkedList, ::Any...) at /Users/macuser/.julia/packages/DataStructures/5F6tJ/src/mutable_list.jl:165\n  ...",
      "",
      "Stacktrace:",
      " [1] top-level scope at In[37]:3"
     ]
    }
   ],
   "source": [
    "#Note that [1 2 3] is not the same as [1,2,3]: the first is an array!\n",
    "vector2 = [1 2 3]\n",
    "append!(vector2, 4)"
   ]
  },
  {
   "cell_type": "code",
   "execution_count": 43,
   "metadata": {},
   "outputs": [
    {
     "data": {
      "text/plain": [
       "3×1 Array{Float64,2}:\n",
       " 0.0\n",
       " 0.0\n",
       " 0.0"
      ]
     },
     "execution_count": 43,
     "metadata": {},
     "output_type": "execute_result"
    }
   ],
   "source": [
    "A = rand(3,4)\n",
    "v = [1 1 1 1]'\n",
    "w = [1,1,1,1]\n",
    "A*v - A*w"
   ]
  },
  {
   "cell_type": "code",
   "execution_count": 44,
   "metadata": {},
   "outputs": [
    {
     "name": "stdout",
     "output_type": "stream",
     "text": [
      "enqueue!(q, 1) = Queue{Int64}(Deque [[1]])\n",
      "enqueue!(q, 2) = Queue{Int64}(Deque [[1, 2]])\n",
      "dequeue!(q) = 1\n",
      "q = Queue{Int64}(Deque [[2]])\n"
     ]
    }
   ],
   "source": [
    "# How do I create a queue and add and remove entries from it?\n",
    "using DataStructures\n",
    "q = Queue{Int64}()\n",
    "@show enqueue!(q,1)\n",
    "@show enqueue!(q,2)\n",
    "@show dequeue!(q)\n",
    "@show q;"
   ]
  },
  {
   "cell_type": "markdown",
   "metadata": {},
   "source": [
    "# Programming Tools"
   ]
  },
  {
   "cell_type": "code",
   "execution_count": 46,
   "metadata": {},
   "outputs": [
    {
     "name": "stdout",
     "output_type": "stream",
     "text": [
      "  0.000450 seconds (12 allocations: 159.219 KiB)\n"
     ]
    },
    {
     "data": {
      "text/plain": [
       "100×1 Array{Float64,2}:\n",
       " -0.10823438657256237 \n",
       " -1.3661146832730766  \n",
       "  0.15980487720820596 \n",
       " -0.810870424821206   \n",
       " -0.19625138572757145 \n",
       "  0.25139325777263827 \n",
       " -1.3178611564691052  \n",
       "  1.722224853417945   \n",
       "  0.017404877191461356\n",
       "  0.039504539784900886\n",
       " -0.13015087702376862 \n",
       "  2.4164342109499066  \n",
       " -0.7540959453191916  \n",
       "  ⋮                   \n",
       " -0.09278430745050062 \n",
       "  0.1020593293398116  \n",
       "  0.40352909475519444 \n",
       " -0.04963366312438363 \n",
       " -0.5396095254749931  \n",
       " -1.7576037529953425  \n",
       "  0.09075856442673053 \n",
       " -1.1417480926158838  \n",
       "  0.40791546978458154 \n",
       "  0.7531849152007827  \n",
       "  0.6430201415004577  \n",
       "  1.5604705075629164  "
      ]
     },
     "execution_count": 46,
     "metadata": {},
     "output_type": "execute_result"
    }
   ],
   "source": [
    "# How can you time an operation?\n",
    "@time randn(100,100)\\randn(100,1)\n",
    "# try running this cell twice - what's going on? - just in time compilation"
   ]
  },
  {
   "cell_type": "code",
   "execution_count": 47,
   "metadata": {},
   "outputs": [
    {
     "name": "stdout",
     "output_type": "stream",
     "text": [
      "typeof(5) = Int64\n",
      "typeof(6.3) = Float64\n",
      "typeof(π) = Irrational{:π}\n",
      "typeof(test_fn) = typeof(test_fn)\n",
      "supertype(Int64) = Signed\n"
     ]
    }
   ],
   "source": [
    "# How can you find the type of something?\n",
    "@show typeof(5)\n",
    "@show typeof(6.3)\n",
    "@show typeof(π)\n",
    "@show typeof(test_fn)\n",
    "@show supertype(Int64)\n",
    ";"
   ]
  },
  {
   "cell_type": "code",
   "execution_count": 48,
   "metadata": {},
   "outputs": [
    {
     "name": "stdout",
     "output_type": "stream",
     "text": [
      "\t.section\t__TEXT,__text,regular,pure_instructions\n",
      "; ┌ @ In[14]:3 within `test_fn'\n",
      "; │┌ @ In[14]:3 within `+'\n",
      "\tleaq\t(%rdi,%rsi,2), %rax\n",
      "; │└\n",
      "\tretq\n",
      "\tnopw\t%cs:(%rax,%rax)\n",
      "; └\n"
     ]
    }
   ],
   "source": [
    "# How can you see LLVM code?\n",
    "code_native(test_fn, (Int64, Int64))"
   ]
  },
  {
   "cell_type": "code",
   "execution_count": 49,
   "metadata": {},
   "outputs": [
    {
     "name": "stdout",
     "output_type": "stream",
     "text": [
      "\t.section\t__TEXT,__text,regular,pure_instructions\n",
      "; ┌ @ int.jl:53 within `+'\n",
      "\tleaq\t(%rdi,%rsi), %rax\n",
      "\tretq\n",
      "; └\n",
      "; ┌ @ int.jl:53 within `<invalid>'\n",
      "\tnopw\t%cs:(%rax,%rax)\n",
      "; └\n"
     ]
    }
   ],
   "source": [
    "@code_native 1+2"
   ]
  },
  {
   "cell_type": "code",
   "execution_count": 50,
   "metadata": {
    "scrolled": true
   },
   "outputs": [
    {
     "name": "stdout",
     "output_type": "stream",
     "text": [
      "\t.section\t__TEXT,__text,regular,pure_instructions\n",
      "; ┌ @ In[14]:3 within `test_fn'\n",
      "; │┌ @ In[14]:3 within `+'\n",
      "\tleaq\t(%rdi,%rsi,2), %rax\n",
      "; │└\n",
      "\tretq\n",
      "\tnopw\t%cs:(%rax,%rax)\n",
      "; └\n"
     ]
    }
   ],
   "source": [
    "@code_native test_fn(2,3)"
   ]
  },
  {
   "cell_type": "code",
   "execution_count": 51,
   "metadata": {},
   "outputs": [
    {
     "name": "stdout",
     "output_type": "stream",
     "text": [
      "x + y = 2\n",
      "  0.000003 seconds (4 allocations: 160 bytes)\n"
     ]
    },
    {
     "data": {
      "text/plain": [
       "2"
      ]
     },
     "execution_count": 51,
     "metadata": {},
     "output_type": "execute_result"
    }
   ],
   "source": [
    "# What is an example of a macro?\n",
    "# macros always begin with the @ symbol\n",
    "@show x + y\n",
    "@time x+y\n",
    "#full list of definitions at https://github.com/JuliaLang/julia/blob/master/base/exports.jl"
   ]
  },
  {
   "cell_type": "code",
   "execution_count": 52,
   "metadata": {},
   "outputs": [
    {
     "name": "stdout",
     "output_type": "stream",
     "text": [
      "Julia Version 1.2.0\n",
      "Commit c6da87ff4b (2019-08-20 00:03 UTC)\n",
      "Platform Info:\n",
      "  OS: macOS (x86_64-apple-darwin18.6.0)\n",
      "  CPU: Intel(R) Core(TM) i5-4250U CPU @ 1.30GHz\n",
      "  WORD_SIZE: 64\n",
      "  LIBM: libopenlibm\n",
      "  LLVM: libLLVM-6.0.1 (ORCJIT, haswell)\n"
     ]
    }
   ],
   "source": [
    "# How can you tell which version of Julia you are running?\n",
    "versioninfo()"
   ]
  },
  {
   "cell_type": "code",
   "execution_count": 53,
   "metadata": {},
   "outputs": [
    {
     "data": {
      "text/latex": [
       "\\begin{verbatim}\n",
       "exit(code=0)\n",
       "\\end{verbatim}\n",
       "Stop the program with an exit code. The default exit code is zero, indicating that the program completed successfully. In an interactive session, \\texttt{exit()} can be called with the keyboard shortcut \\texttt{\\^{}D}.\n",
       "\n"
      ],
      "text/markdown": [
       "```\n",
       "exit(code=0)\n",
       "```\n",
       "\n",
       "Stop the program with an exit code. The default exit code is zero, indicating that the program completed successfully. In an interactive session, `exit()` can be called with the keyboard shortcut `^D`.\n"
      ],
      "text/plain": [
       "\u001b[36m  exit(code=0)\u001b[39m\n",
       "\n",
       "  Stop the program with an exit code. The default exit code is zero,\n",
       "  indicating that the program completed successfully. In an interactive\n",
       "  session, \u001b[36mexit()\u001b[39m can be called with the keyboard shortcut \u001b[36m^D\u001b[39m."
      ]
     },
     "execution_count": 53,
     "metadata": {},
     "output_type": "execute_result"
    }
   ],
   "source": [
    "# How can you check the documentation of a function from the REPL/notebook?\n",
    "@doc exit()"
   ]
  }
 ],
 "metadata": {
  "kernelspec": {
   "display_name": "Julia 1.2.0",
   "language": "julia",
   "name": "julia-1.2"
  },
  "language_info": {
   "file_extension": ".jl",
   "mimetype": "application/julia",
   "name": "julia",
   "version": "1.2.0"
  }
 },
 "nbformat": 4,
 "nbformat_minor": 1
}
