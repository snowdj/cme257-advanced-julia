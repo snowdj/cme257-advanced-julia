{
 "cells": [
  {
   "cell_type": "markdown",
   "metadata": {},
   "source": [
    "# Class 2 - Types, Functions, and Modules\n",
    "\n",
    "Today, we'll see how Julia lets us rapidly develop code like Python or Matlab, and also how we can drill down and be specific as in C/Fortran.  Sometimes these two styles are not mutually exclusive.\n",
    "\n",
    "First, we'll demonstrate how to quickly write a function.  For simplicity, we'll just consider the example\n",
    "\n",
    "$$f(x,y) = x + y^2$$"
   ]
  },
  {
   "cell_type": "code",
   "execution_count": 1,
   "metadata": {},
   "outputs": [
    {
     "data": {
      "text/plain": [
       "demofunc (generic function with 1 method)"
      ]
     },
     "execution_count": 1,
     "metadata": {},
     "output_type": "execute_result"
    }
   ],
   "source": [
    "function demofunc(x,y)\n",
    "    x + y^2\n",
    "end"
   ]
  },
  {
   "cell_type": "code",
   "execution_count": 2,
   "metadata": {},
   "outputs": [
    {
     "data": {
      "text/plain": [
       "demofunc (generic function with 1 method)"
      ]
     },
     "execution_count": 2,
     "metadata": {},
     "output_type": "execute_result"
    }
   ],
   "source": [
    "# a more concise way to write short functions\n",
    "demofunc(x,y) = x + y^2"
   ]
  },
  {
   "cell_type": "code",
   "execution_count": 3,
   "metadata": {
    "scrolled": true
   },
   "outputs": [
    {
     "name": "stdout",
     "output_type": "stream",
     "text": [
      "demofunc(2, 5) = 27\n",
      "demofunc(2, 5.0) = 27.0\n",
      "demofunc('h', 2) = 'l'\n",
      "demofunc(randn(2, 2), rand(2, 2)) = [1.9124151879342919 1.2170546317910604; -1.211425997780906 2.1590976599283414]\n"
     ]
    }
   ],
   "source": [
    "# we can now call our demo function on a variety of inputs\n",
    "@show demofunc(2,5)\n",
    "@show demofunc(2, 5.0)\n",
    "@show demofunc('h', 2) #l is 4 letters after h\n",
    "@show demofunc(randn(2,2),rand(2,2))\n",
    ";"
   ]
  },
  {
   "cell_type": "markdown",
   "metadata": {},
   "source": [
    "As we see, you can write a function without worrying too much about details.  However, worrying about the details helps us write code that is faster, and more importantly, correct.  Today, we'll discuss some of the details that are good to understand, even if you don't use them explicitly in your code.\n",
    "\n",
    "## Types\n",
    "\n",
    "Julia's documentation for types can be found [here](https://docs.julialang.org/en/stable/manual/types/).\n",
    "\n",
    "If you have primarily programmed in Python, MATLAB, or R, you likely haven't had to think too much about types before.  For example, just about everything in MATLAB is assumed to be a ```double``` in C, or ```Float64``` in Julia.  This makes it easier to write code, but ultimately can sometimes make it difficult to write code that is fast and memory efficient.\n",
    "\n",
    "If you have experience in C, C++, or Fortran, you probably already know something about types - today we'll see how Types work in Julia.\n",
    "\n",
    "### Type Basics\n",
    "\n",
    "When you use a type in a programming language, you are telling the computer\n",
    "* How a variable should be stored\n",
    "* Something about how you intend to use it\n",
    "\n",
    "Even if you haven't seen types before in programming, you should already have some intution from mathematics - consider for example, integers $Z$, real numbers $R$, and complex numbers $C$ - you can think of these as types\n",
    "* $Z$, $R$, and $C$ are closed under addition and subtraction (+ takes two inputs and has a deterministic output)\n",
    "* You can divide in $R$ and $C$ (except for 0), but not in $Z$ (3 / 2?)\n",
    "* You know something about representing an element on a piece of paper: $Z$ (no decimal, but maybe a symbol $-$), $R$ (perhaps you need a decimal), and $C$, (you can use two real numbers and a symbol $i$)\n",
    "* You can represent an integer as a real number, and a real number as a complex number, but not the other ways around (this is an example of type promotion)\n",
    "* Certain functions have outputs in one of these sets.  For example, a square root is generally complex (an example of output type)\n",
    "\n",
    "Using types in programming allows you to share your knowledge about all these issues with a computer.\n",
    "\n",
    "We didn't use types in ```demofunc``` which made programming very easy for us.  However, this means that the compiler/interpreter can't assume too much about our inputs $x$ and $y$, or what we're going to do with them. \n",
    "\n",
    "Types can be useful for several reasons\n",
    "* They give the complier/interpreter information that can be used to make code faster and more memory efficient\n",
    "* Figuring things out is done at complie time, not run time\n",
    "* They help you (the programmer) keep track of what code should be doing\n",
    "* They prevent the code from being used in unintended ways ('h' + 2^2?)\n",
    "\n",
    "\n",
    "### Types in Julia\n",
    "\n",
    "\n",
    "Types in Julia come in several flavors.  For example, the following types may look somewhat familiar"
   ]
  },
  {
   "cell_type": "code",
   "execution_count": 4,
   "metadata": {
    "scrolled": true
   },
   "outputs": [
    {
     "name": "stdout",
     "output_type": "stream",
     "text": [
      "typeof(4) = Int64\n",
      "typeof(0x04) = UInt8\n",
      "typeof(3.2) = Float64\n"
     ]
    }
   ],
   "source": [
    "@show typeof(4)\n",
    "@show typeof(0x4)\n",
    "@show typeof(3.2)\n",
    ";"
   ]
  },
  {
   "cell_type": "markdown",
   "metadata": {},
   "source": [
    "Everything has a type in Julia, even types"
   ]
  },
  {
   "cell_type": "code",
   "execution_count": 5,
   "metadata": {},
   "outputs": [
    {
     "name": "stdout",
     "output_type": "stream",
     "text": [
      "typeof(Float64) = DataType\n",
      "typeof(DataType) = DataType\n",
      "supertype(DataType) = Type{T}\n",
      "typeof(+) = typeof(+)\n",
      "supertype(typeof(+)) = Function\n",
      "typeof(randn(3, 3)) = Array{Float64,2}\n"
     ]
    }
   ],
   "source": [
    "@show typeof(Float64)\n",
    "@show typeof(DataType)\n",
    "@show supertype(DataType)\n",
    "@show typeof(+)\n",
    "@show supertype(typeof(+))\n",
    "@show typeof(randn(3,3))\n",
    ";"
   ]
  },
  {
   "cell_type": "markdown",
   "metadata": {},
   "source": [
    "Types like Float64 and Int64 actually hold data (they are [primitive types](https://docs.julialang.org/en/stable/manual/types/#Primitive-Types-1) in Julia).  Every type in Julia has a \"super\" type. The type structure is a tree - Any is the root."
   ]
  },
  {
   "cell_type": "code",
   "execution_count": 6,
   "metadata": {},
   "outputs": [
    {
     "name": "stdout",
     "output_type": "stream",
     "text": [
      "supertype(Float64) = AbstractFloat\n",
      "supertype(AbstractFloat) = Real\n",
      "supertype(Real) = Number\n",
      "supertype(Number) = Any\n",
      "supertype(Any) = Any\n"
     ]
    },
    {
     "data": {
      "text/plain": [
       "Any"
      ]
     },
     "execution_count": 6,
     "metadata": {},
     "output_type": "execute_result"
    }
   ],
   "source": [
    "@show supertype(Float64)\n",
    "@show supertype(AbstractFloat)\n",
    "@show supertype(Real)\n",
    "@show supertype(Number)\n",
    "@show supertype(Any)"
   ]
  },
  {
   "cell_type": "markdown",
   "metadata": {},
   "source": [
    "you can also go down the tree by seeing subtypes of a supertype"
   ]
  },
  {
   "cell_type": "code",
   "execution_count": 7,
   "metadata": {},
   "outputs": [
    {
     "data": {
      "text/plain": [
       "4-element Array{Any,1}:\n",
       " BigFloat\n",
       " Float16 \n",
       " Float32 \n",
       " Float64 "
      ]
     },
     "execution_count": 7,
     "metadata": {},
     "output_type": "execute_result"
    }
   ],
   "source": [
    "subtypes(AbstractFloat)"
   ]
  },
  {
   "cell_type": "code",
   "execution_count": 8,
   "metadata": {},
   "outputs": [
    {
     "data": {
      "text/plain": [
       "0-element Array{Type,1}"
      ]
     },
     "execution_count": 8,
     "metadata": {},
     "output_type": "execute_result"
    }
   ],
   "source": [
    "# Types that actually hold data don't have subtypes\n",
    "subtypes(Float64)"
   ]
  },
  {
   "cell_type": "markdown",
   "metadata": {},
   "source": [
    "Floating point numbers (\"Floats\") are a way to represent real numbers up to a certain accuracy on a computer.  The 16, 32, and 64 on ```Float16```, ```Float32```, ```Float64``` refer to the number of bits (1s and 0s) used to store the type on the computer."
   ]
  },
  {
   "cell_type": "code",
   "execution_count": 7,
   "metadata": {},
   "outputs": [
    {
     "name": "stdout",
     "output_type": "stream",
     "text": [
      "eps(Float16) = Float16(0.000977)\n",
      "eps(Float32) = 1.1920929f-7\n",
      "eps(Float64) = 2.220446049250313e-16\n"
     ]
    }
   ],
   "source": [
    "# Get machine precision for a floating point type\n",
    "@show eps(Float16)\n",
    "@show eps(Float32)\n",
    "@show eps(Float64)\n",
    ";"
   ]
  },
  {
   "cell_type": "markdown",
   "metadata": {},
   "source": [
    "Many modern machines have 64-bit architectures, so in Julia the default is to use a 64-bit size to store numbers.  This means that floats are represented by ```Float64```, that integers by ```Int64```, and unsigned integers by ```UInt64```.  For more information on working with integers and floats see Julia's [documentation](https://docs.julialang.org/en/release-0.4/manual/integers-and-floating-point-numbers/)."
   ]
  },
  {
   "cell_type": "markdown",
   "metadata": {},
   "source": [
    "You can query whether one type is a descendant of another using \"<:\". The opposite direction can be checked with \":>\"."
   ]
  },
  {
   "cell_type": "code",
   "execution_count": 8,
   "metadata": {},
   "outputs": [
    {
     "name": "stdout",
     "output_type": "stream",
     "text": [
      "Float64 <: AbstractFloat = true\n",
      "Float64 <: Any = true\n",
      "Float64 <: Integer = false\n",
      "$(Expr(:>:, :Float64, :Integer)) = false\n",
      "typeof(3.4) == Float64 = true\n"
     ]
    }
   ],
   "source": [
    "@show Float64 <: AbstractFloat\n",
    "@show Float64 <: Any\n",
    "@show Float64 <: Integer\n",
    "@show Float64 >: Integer #it doesn't pretty-print well though...\n",
    "@show typeof(3.4) == Float64\n",
    ";"
   ]
  },
  {
   "cell_type": "markdown",
   "metadata": {},
   "source": [
    "Abstract types are nodes on the tree, but you never instantiate them (we'll talk about why you might want abstract types in functions)"
   ]
  },
  {
   "cell_type": "code",
   "execution_count": 9,
   "metadata": {},
   "outputs": [
    {
     "name": "stdout",
     "output_type": "stream",
     "text": [
      "supertype(cme257abstract) = Any\n"
     ]
    }
   ],
   "source": [
    "abstract type cme257abstract end\n",
    "@show supertype(cme257abstract)\n",
    ";"
   ]
  },
  {
   "cell_type": "markdown",
   "metadata": {},
   "source": [
    "Composite types in Julia are declared using the ```struct``` keyword.  (similar to C or MATLAB).  When you create a type, you can specify who its parent is."
   ]
  },
  {
   "cell_type": "code",
   "execution_count": 13,
   "metadata": {},
   "outputs": [
    {
     "name": "stdout",
     "output_type": "stream",
     "text": [
      "supertype(cme257int) = cme257real\n",
      "supertype(cme257float) = cme257real\n"
     ]
    }
   ],
   "source": [
    "# an abstract type for our real number types\n",
    "abstract type cme257real <: cme257abstract end\n",
    "\n",
    "struct cme257int <: cme257real # <: denotes \"child of\"\n",
    "    x::Int64 # :: tells us exactly what type x should be\n",
    "end\n",
    "struct cme257float <: cme257real\n",
    "    x::Float64\n",
    "end\n",
    "@show supertype(cme257int)\n",
    "@show supertype(cme257float)\n",
    ";"
   ]
  },
  {
   "cell_type": "markdown",
   "metadata": {},
   "source": [
    "When you create a composite type, a constructor function is automatically created based on the values of the type. To instantiate a member of the type:"
   ]
  },
  {
   "cell_type": "code",
   "execution_count": 14,
   "metadata": {},
   "outputs": [
    {
     "name": "stdout",
     "output_type": "stream",
     "text": [
      "y = cme257int(4)\n",
      "y.x = 4\n"
     ]
    },
    {
     "data": {
      "text/plain": [
       "(:x,)"
      ]
     },
     "execution_count": 14,
     "metadata": {},
     "output_type": "execute_result"
    }
   ],
   "source": [
    "y = cme257int(4)\n",
    "@show y\n",
    "@show y.x;\n",
    "fieldnames(cme257int) #this lets us see inside a struct (useful for debugging)"
   ]
  },
  {
   "cell_type": "markdown",
   "metadata": {},
   "source": [
    "Structs are not by default mutable, meaning, you can't change the values of fields once they are set.  To make a mutable struct, use the ```mutable``` keyword.  Mutable types are obviously more flexible, but often suffer a performance penalty."
   ]
  },
  {
   "cell_type": "code",
   "execution_count": 15,
   "metadata": {},
   "outputs": [
    {
     "name": "stdout",
     "output_type": "stream",
     "text": [
      "x = cme257mutable(1, 1.0)\n",
      "x = cme257mutable(2, 1.0)\n",
      "y = cme257immutable(1, 1.0)\n"
     ]
    },
    {
     "ename": "ErrorException",
     "evalue": "setfield! immutable struct of type cme257immutable cannot be changed",
     "output_type": "error",
     "traceback": [
      "setfield! immutable struct of type cme257immutable cannot be changed",
      "",
      "Stacktrace:",
      " [1] setproperty!(::cme257immutable, ::Symbol, ::Int64) at ./Base.jl:21",
      " [2] top-level scope at In[15]:18"
     ]
    }
   ],
   "source": [
    "mutable struct cme257mutable\n",
    "    a::Int64\n",
    "    b::Float64\n",
    "end\n",
    "\n",
    "struct cme257immutable\n",
    "    a::Int64\n",
    "    b::Float64\n",
    "end\n",
    "\n",
    "x = cme257mutable(1, 1.0)\n",
    "@show x\n",
    "x.a = 2\n",
    "@show x\n",
    "\n",
    "y = cme257immutable(1, 1.0)\n",
    "@show y\n",
    "y.a = 2 #this line causes problems\n",
    "@show y\n",
    ";"
   ]
  },
  {
   "cell_type": "markdown",
   "metadata": {},
   "source": [
    "Types can be parameterized (similar to C++ templates).  Think of the parameter as a variable that can be filled in later.  The parameterized type can be inferred by the type of the arguments in the constructor, or made explicit."
   ]
  },
  {
   "cell_type": "code",
   "execution_count": 16,
   "metadata": {},
   "outputs": [],
   "source": [
    "struct cme257par{T} <: cme257abstract\n",
    "    val::T \n",
    "end\n",
    ";"
   ]
  },
  {
   "cell_type": "code",
   "execution_count": 17,
   "metadata": {},
   "outputs": [],
   "source": [
    "mutable struct cme257parm{T}\n",
    "    val::T\n",
    "end"
   ]
  },
  {
   "cell_type": "code",
   "execution_count": 18,
   "metadata": {},
   "outputs": [
    {
     "name": "stdout",
     "output_type": "stream",
     "text": [
      "y = cme257parm{Any}(3)\n",
      "y = cme257parm{Any}(3.5)\n"
     ]
    }
   ],
   "source": [
    "y = cme257parm{Any}(3)\n",
    "@show y\n",
    "y.val = 3.5\n",
    "@show y\n",
    ";"
   ]
  },
  {
   "cell_type": "code",
   "execution_count": 18,
   "metadata": {},
   "outputs": [
    {
     "name": "stdout",
     "output_type": "stream",
     "text": [
      "y = cme257par(3.5) = cme257par{Float64}(3.5)\n",
      "z = cme257par{Float64}(3) = cme257par{Float64}(3.0)\n"
     ]
    }
   ],
   "source": [
    "@show y = cme257par(3.5) # type can be inferred\n",
    "@show z = cme257par{Float64}(3) # explicit type\n",
    ";"
   ]
  },
  {
   "cell_type": "markdown",
   "metadata": {},
   "source": [
    "You can modify the behavior of the default constructor in the type definition.  You can also add additional constructors for different types of input.  See more in the [documentation](https://docs.julialang.org/en/stable/manual/constructors/#man-constructors-1)"
   ]
  },
  {
   "cell_type": "code",
   "execution_count": 20,
   "metadata": {},
   "outputs": [
    {
     "name": "stdout",
     "output_type": "stream",
     "text": [
      "x = cme257ff{7, UInt8}(UInt8(12)) = cme257ff{7,UInt8}(0x05)\n",
      "x2 = cme257ff{7}(UInt8(5)) = cme257ff{7,UInt8}(0x05)\n",
      "x3 = cme257ff{5}(UInt(3)) = cme257ff{5,UInt64}(0x0000000000000003)\n",
      "x4 = cme257ff{11}(13) = cme257ff{11,UInt64}(0x0000000000000002)\n",
      "x5 = cme257ff{12}(14) = cme257ff{12,UInt64}(0x0000000000000002)\n",
      "x == x2 = true\n",
      "x4 == x5 = false\n"
     ]
    }
   ],
   "source": [
    "# we'll use this for rings of integers mod N\n",
    "# we'll use this for finite fields with characteristic N\n",
    "struct cme257ff{N, T<:Integer} #<: cme257abstract\n",
    "    val::T\n",
    "    # override the default constructor to store things mod N\n",
    "    function cme257ff{N,T}(val::T) where {N,T<:Integer} \n",
    "        return new(mod(val,N))\n",
    "    end\n",
    "end\n",
    "\n",
    "# You'll also see the N convention in Julia with types like Array{T,N}, where T is a type and N is a number\n",
    "\n",
    "# This will create constructors where the type of the value is inferred\n",
    "function cme257ff{N}(val::T) where {N, T}\n",
    "    return cme257ff{N,T}(val)\n",
    "end\n",
    "# this will create constructors where signed integers are converted to unsigned integers\n",
    "function cme257ff{N,T}(val::T) where {N, T<:Signed} \n",
    "    return cme257ff{N}(Unsigned(val))\n",
    "end\n",
    "# Note that the above are examples of creating functions\n",
    "\n",
    "@show x = cme257ff{7, UInt8}(UInt8(12)) \n",
    "@show x2 = cme257ff{7}(UInt8(5))\n",
    "@show x3 = cme257ff{5}(UInt(3))\n",
    "@show x4 = cme257ff{11}(13)\n",
    "@show x5 = cme257ff{12}(14)\n",
    "@show x == x2\n",
    "@show x4 == x5\n",
    ";"
   ]
  },
  {
   "cell_type": "markdown",
   "metadata": {},
   "source": [
    "Types constructed with parameters are called UnionAll types.  They are not DataTypes, since they can not hold data until their parameters are specified.\n",
    "\n",
    "One nice feature of using parametric types is that it allows you to ignore details that are largely irrelevant.  In the above example, we don't need to worry about what how the ```val``` parameter is actually stored (that is, what the type is), as long as it is an integer.  If someone who uses the type cares sufficiently, they can force the issue with an explicit constructor - otherwise, the issue can mostly be ignored (as with ```x4```).  We'll see more about the power of parametric types when we talk about functions.\n",
    "\n",
    "For the purposes of this class, you don't need to know much about UnionAll types beyond the basics (the above example is more advanced).  For more information about UnionAll types, and what you can do with the ```where``` keyword, check out the [documentation](https://docs.julialang.org/en/stable/manual/types/#UnionAll-Types-1)."
   ]
  },
  {
   "cell_type": "code",
   "execution_count": 23,
   "metadata": {},
   "outputs": [
    {
     "name": "stdout",
     "output_type": "stream",
     "text": [
      "typeof(cme257ff) = UnionAll\n",
      "typeof(cme257ff{5, UInt8}(0x03)) = cme257ff{5,UInt8}\n",
      "supertype(cme257ff{5, UInt8}) = Any\n"
     ]
    }
   ],
   "source": [
    "@show typeof(cme257ff)\n",
    "@show typeof(cme257ff{5,UInt8})\n",
    "@show supertype(cme257ff{5,UInt8})\n",
    ";"
   ]
  },
  {
   "cell_type": "markdown",
   "metadata": {},
   "source": [
    "UnionAll types can more accurately be written as ```cme257parm{T} where T```:"
   ]
  },
  {
   "cell_type": "code",
   "execution_count": 24,
   "metadata": {},
   "outputs": [
    {
     "name": "stdout",
     "output_type": "stream",
     "text": [
      "cme257parm == (cme257parm{T} where T) = true\n"
     ]
    },
    {
     "data": {
      "text/plain": [
       "true"
      ]
     },
     "execution_count": 24,
     "metadata": {},
     "output_type": "execute_result"
    }
   ],
   "source": [
    "@show cme257parm == (cme257parm{T} where {T})"
   ]
  },
  {
   "cell_type": "markdown",
   "metadata": {},
   "source": [
    "This choice of T is a \"variable type\": it acts as a variable in this sense but parametrizes the type ```cme257parm``` takes. The keyword ```where``` allows access to it. "
   ]
  },
  {
   "cell_type": "code",
   "execution_count": 25,
   "metadata": {},
   "outputs": [
    {
     "name": "stdout",
     "output_type": "stream",
     "text": [
      "get_hidden_type(cme257parm{Float64}(3)) = Float64\n"
     ]
    }
   ],
   "source": [
    "function get_hidden_type(x::cme257parm{T}) where {T}\n",
    "    return T\n",
    "end\n",
    "\n",
    "@show get_hidden_type(cme257parm{Float64}(3));"
   ]
  },
  {
   "cell_type": "markdown",
   "metadata": {},
   "source": [
    "Some of Julia's basic types such as ```Int64``` are known as primitive types (as opposed to composite types via ```struct```).  An example of creating a primitive type - you'll have to define quite a few functions by yourself, since you don't even get a constructor.  This is the only time we'll create a primitive type in this course."
   ]
  },
  {
   "cell_type": "code",
   "execution_count": 26,
   "metadata": {},
   "outputs": [],
   "source": [
    "primitive type cme257prim <: cme257abstract 8 end"
   ]
  },
  {
   "cell_type": "code",
   "execution_count": 27,
   "metadata": {},
   "outputs": [
    {
     "data": {
      "text/plain": [
       "cme257prim(0x05)"
      ]
     },
     "execution_count": 27,
     "metadata": {},
     "output_type": "execute_result"
    }
   ],
   "source": [
    "a = Core.Intrinsics.bitcast(cme257prim, UInt8(5)) # bit cast to put bits in your type"
   ]
  },
  {
   "cell_type": "markdown",
   "metadata": {},
   "source": [
    "You can set default values in a struct by adding a new constructor. If you would like more fine-grained control of what a struct defaults to, use the [Parameters.jl](https://github.com/mauro3/Parameters.jl) package."
   ]
  },
  {
   "cell_type": "code",
   "execution_count": 2,
   "metadata": {},
   "outputs": [
    {
     "data": {
      "text/plain": [
       "cme257example(10.0, 0.0)"
      ]
     },
     "execution_count": 2,
     "metadata": {},
     "output_type": "execute_result"
    }
   ],
   "source": [
    "struct cme257example\n",
    "    a::Float64\n",
    "    b::Float64\n",
    "end\n",
    "\n",
    "cme257example(a) = cme257example(a,0) #default values are 0\n",
    "cme257example() = cme257example(0)\n",
    "\n",
    "cme257example(10)"
   ]
  },
  {
   "cell_type": "markdown",
   "metadata": {},
   "source": [
    "## Break for Worksheet 1\n",
    "\n",
    "## Functions\n",
    "\n",
    "Functions map a tuple of arguments to an output. For example, the following function maps two inputs to their sum."
   ]
  },
  {
   "cell_type": "code",
   "execution_count": 28,
   "metadata": {},
   "outputs": [
    {
     "name": "stdout",
     "output_type": "stream",
     "text": [
      "z = cme257_sum(1, 2) = 3\n"
     ]
    }
   ],
   "source": [
    "function cme257_sum(x, y)\n",
    "    return x + y\n",
    "end\n",
    "@show z = cme257_sum(1,2)\n",
    ";"
   ]
  },
  {
   "cell_type": "markdown",
   "metadata": {},
   "source": [
    "Julia uses multiple dispatch in functions.  This means you can define two functions with the same name that will behave differently based on the type of the input.  A definition of one possible behavior for a function is [called a method](https://docs.julialang.org/en/stable/manual/methods/)."
   ]
  },
  {
   "cell_type": "code",
   "execution_count": 29,
   "metadata": {},
   "outputs": [
    {
     "name": "stdout",
     "output_type": "stream",
     "text": [
      "I'M AN INT64!\n",
      "I'M A FLOAT64!\n"
     ]
    }
   ],
   "source": [
    "# this may not work if you have a 32-but architecture\n",
    "function yell_my_type(x::Int64)\n",
    "    println(\"I'M AN INT64!\")\n",
    "end\n",
    "function yell_my_type(x::Float64)\n",
    "    println(\"I'M A FLOAT64!\")\n",
    "end\n",
    "yell_my_type(3)\n",
    "yell_my_type(3.4)\n",
    ";"
   ]
  },
  {
   "cell_type": "markdown",
   "metadata": {},
   "source": [
    "The ```x::Int64``` syntax is an example of a type annotation - it tells the compiler exactly what the type of the input should be.  This is analgous to C's ```int x``` declaration.\n",
    "\n",
    "If you've only defined your function for particular types, you may see an error like this:"
   ]
  },
  {
   "cell_type": "code",
   "execution_count": 30,
   "metadata": {},
   "outputs": [
    {
     "ename": "MethodError",
     "evalue": "MethodError: no method matching yell_my_type(::Rational{Int64})\nClosest candidates are:\n  yell_my_type(!Matched::Float64) at In[29]:6\n  yell_my_type(!Matched::Int64) at In[29]:3",
     "output_type": "error",
     "traceback": [
      "MethodError: no method matching yell_my_type(::Rational{Int64})\nClosest candidates are:\n  yell_my_type(!Matched::Float64) at In[29]:6\n  yell_my_type(!Matched::Int64) at In[29]:3",
      "",
      "Stacktrace:",
      " [1] top-level scope at In[30]:1"
     ]
    }
   ],
   "source": [
    "yell_my_type(3//4)"
   ]
  },
  {
   "cell_type": "markdown",
   "metadata": {},
   "source": [
    "Errors can be bad if you expect the function to behave a certain way, or good if they indicate that someone is using your function incorrectly. "
   ]
  },
  {
   "cell_type": "code",
   "execution_count": 31,
   "metadata": {},
   "outputs": [
    {
     "name": "stdout",
     "output_type": "stream",
     "text": [
      "typeof(3 // 4) <: Number = true\n",
      "I'M A NUMBER!\n",
      "I'M A FLOAT64!\n"
     ]
    }
   ],
   "source": [
    "function yell_my_type(x::Number)\n",
    "    println(\"I'M A NUMBER!\")\n",
    "end\n",
    "@show typeof(3//4) <: Number\n",
    "yell_my_type(3//4)\n",
    "yell_my_type(3.4) # note that the more specific function declaration is used\n",
    ";"
   ]
  },
  {
   "cell_type": "markdown",
   "metadata": {},
   "source": [
    "Note that behavior defined for more specific types dominates that defined for less specific ones."
   ]
  },
  {
   "cell_type": "code",
   "execution_count": 29,
   "metadata": {},
   "outputs": [
    {
     "name": "stdout",
     "output_type": "stream",
     "text": [
      "I'M👏AN👏INT64!\n",
      "I'M👏A👏NUMBER!\n"
     ]
    }
   ],
   "source": [
    "function clap_my_type(x::Number)\n",
    "    println(\"I'M👏A👏NUMBER!\")\n",
    "end\n",
    "function clap_my_type(x::Int64)\n",
    "    println(\"I'M👏AN👏INT64!\")\n",
    "end\n",
    "clap_my_type(2) #even though the behavior for Ints was defined later\n",
    "clap_my_type(2.1)"
   ]
  },
  {
   "cell_type": "markdown",
   "metadata": {},
   "source": [
    "If you want to try to cover all possible inputs, you can just leave off type annotations.  Your more specific methods will still be used for the relevant inputs. "
   ]
  },
  {
   "cell_type": "code",
   "execution_count": 32,
   "metadata": {},
   "outputs": [
    {
     "name": "stdout",
     "output_type": "stream",
     "text": [
      "I DON'T KNOW MY TYPE!\n",
      "I'M A NUMBER!\n",
      "I'M A FLOAT64!\n"
     ]
    }
   ],
   "source": [
    "function yell_my_type(x)\n",
    "    println(\"I DON'T KNOW MY TYPE!\")\n",
    "end\n",
    "yell_my_type(yell_my_type) # everything in Julia has a type.  Even functions.\n",
    "yell_my_type(3//4)\n",
    "yell_my_type(3.4)\n",
    ";"
   ]
  },
  {
   "cell_type": "markdown",
   "metadata": {},
   "source": [
    "You can also add new methods to Julia's built in functions.  If you do this, make sure to import the function first (default functions are in the Base module), or Julia will think that your definition is the only one out there."
   ]
  },
  {
   "cell_type": "code",
   "execution_count": 33,
   "metadata": {},
   "outputs": [
    {
     "name": "stdout",
     "output_type": "stream",
     "text": [
      "a + b = cme257int(7)\n"
     ]
    }
   ],
   "source": [
    "import Base.+\n",
    "function +(a::T, b::T) where T\n",
    "    return T(a.x+b.x)\n",
    "end\n",
    "a = cme257int(3)\n",
    "b = cme257int(4)\n",
    "@show a + b\n",
    ";"
   ]
  },
  {
   "cell_type": "markdown",
   "metadata": {},
   "source": [
    "You can also annotate the return type of a function."
   ]
  },
  {
   "cell_type": "code",
   "execution_count": 32,
   "metadata": {},
   "outputs": [
    {
     "data": {
      "text/plain": [
       "3.0"
      ]
     },
     "execution_count": 32,
     "metadata": {},
     "output_type": "execute_result"
    }
   ],
   "source": [
    "function cme257_sum(x::Int64, y::Int64)::Float64\n",
    "   return x+y \n",
    "end\n",
    "\n",
    "cme257_sum(1, 2)"
   ]
  },
  {
   "cell_type": "markdown",
   "metadata": {},
   "source": [
    "Once you've created your own types, you may also wish have custom printing for things like the ```@show``` macro.  See the [documentation](https://docs.julialang.org/en/stable/manual/types/#Custom-pretty-printing-1) for reference.\n",
    "\n",
    "\n",
    "This syntax of addressing of parametrized types is supported throughout Julia, but it comes up rarely. See [here](https://discourse.julialang.org/t/dispatch-function-based-on-value-of-parametric-type/9177/11) for more details."
   ]
  },
  {
   "cell_type": "code",
   "execution_count": 34,
   "metadata": {},
   "outputs": [
    {
     "name": "stdout",
     "output_type": "stream",
     "text": [
      "x = 2 mod 5\n"
     ]
    }
   ],
   "source": [
    "# pretty printing for our cme257ff type with underlying storage mentioned\n",
    "function Base.show(io::IO, x::cme257ff{N}) where {N} \n",
    "    print(io, x.val, \" mod \", N)\n",
    "end\n",
    "\n",
    "# 7 mod 5\n",
    "x = cme257ff{5}(7)\n",
    "@show x\n",
    ";"
   ]
  },
  {
   "cell_type": "markdown",
   "metadata": {},
   "source": [
    "## Break for Worksheet 2"
   ]
  },
  {
   "cell_type": "markdown",
   "metadata": {
    "collapsed": true
   },
   "source": [
    "## More on Types and Functions\n",
    "\n",
    "Sometimes you may wish to have arguments to a function that default to certain values."
   ]
  },
  {
   "cell_type": "code",
   "execution_count": 34,
   "metadata": {},
   "outputs": [
    {
     "name": "stdout",
     "output_type": "stream",
     "text": [
      "hello\n",
      "goodbye\n"
     ]
    }
   ],
   "source": [
    "function say(str=\"hello\")\n",
    "    println(\"$str\")\n",
    "end\n",
    "say()\n",
    "say(\"goodbye\")\n",
    ";"
   ]
  },
  {
   "cell_type": "markdown",
   "metadata": {},
   "source": [
    "You can also add key-word arguments (to the right of a semicolon ```;```).  These must come with default assignments"
   ]
  },
  {
   "cell_type": "code",
   "execution_count": 35,
   "metadata": {},
   "outputs": [
    {
     "name": "stdout",
     "output_type": "stream",
     "text": [
      "a = 1.0, b = 10, c=20\n",
      "a = 2.0, b = 10, c=11\n",
      "a = 3.0, b = 5, c=10\n"
     ]
    }
   ],
   "source": [
    "function cme257kw(a::Float64; b::Int64=10, c::Int64=20)\n",
    "    println(\"a = $a, b = $b, c=$c\")\n",
    "end\n",
    "\n",
    "cme257kw(1.0)\n",
    "cme257kw(2.0, c=11)\n",
    "cme257kw(3.0, c=10, b=5)\n",
    ";"
   ]
  },
  {
   "cell_type": "markdown",
   "metadata": {},
   "source": [
    "You can also add methods to constructor functions for types.  This is useful if you want default constructors, or want to be able to construct a type in a variety of ways."
   ]
  },
  {
   "cell_type": "code",
   "execution_count": 35,
   "metadata": {},
   "outputs": [
    {
     "name": "stdout",
     "output_type": "stream",
     "text": [
      "a = cme257int() = cme257int(0)\n"
     ]
    }
   ],
   "source": [
    "cme257int() = cme257int(0)\n",
    "@show a = cme257int()\n",
    ";"
   ]
  },
  {
   "cell_type": "markdown",
   "metadata": {},
   "source": [
    "### Checking Input\n",
    "Sometimes, you will want to check that certain conditions on an input are met before executing a function.  The ```@assert``` macro is useful for this."
   ]
  },
  {
   "cell_type": "code",
   "execution_count": 36,
   "metadata": {},
   "outputs": [
    {
     "name": "stdout",
     "output_type": "stream",
     "text": [
      "cme257dot(x, y) = -0.7915667683771321\n"
     ]
    },
    {
     "ename": "AssertionError",
     "evalue": "AssertionError: length(x) == length(y)",
     "output_type": "error",
     "traceback": [
      "AssertionError: length(x) == length(y)",
      "",
      "Stacktrace:",
      " [1] cme257dot(::Array{Float64,1}, ::Array{Float64,1}) at ./In[36]:3",
      " [2] top-level scope at show.jl:576",
      " [3] top-level scope at In[36]:12"
     ]
    }
   ],
   "source": [
    "using LinearAlgebra\n",
    "function cme257dot(x::Vector{T}, y::Vector{T}) where {T}\n",
    "    @assert length(x) == length(y)\n",
    "    return dot(x,y)\n",
    "end\n",
    "\n",
    "x = randn(5)\n",
    "y = randn(5)\n",
    "@show cme257dot(x,y)\n",
    "\n",
    "y = randn(7) # now x and y have different lengths\n",
    "@show cme257dot(x,y)\n",
    ";"
   ]
  },
  {
   "cell_type": "markdown",
   "metadata": {},
   "source": [
    "### Type Conversion\n",
    "\n",
    "What if you have defined a special integer type (such as cme257int), and want to add a method to \"/\" to implement division?  The true answer may be something that is not an integer, so you may wish to convert to a cme257float."
   ]
  },
  {
   "cell_type": "code",
   "execution_count": 38,
   "metadata": {},
   "outputs": [
    {
     "name": "stdout",
     "output_type": "stream",
     "text": [
      "a = cme257int(5) = cme257int(5)\n",
      "convert(cme257float, a) = cme257float(5.0)\n"
     ]
    }
   ],
   "source": [
    "import Base.convert\n",
    "function convert(::Type{cme257float}, a::cme257int) \n",
    "    return cme257float(a.x)\n",
    "end\n",
    "\n",
    "@show a = cme257int(5)\n",
    "@show convert(cme257float, a)\n",
    ";"
   ]
  },
  {
   "cell_type": "markdown",
   "metadata": {},
   "source": [
    "now since we can convert cme257ints to cme257floats, we can define division"
   ]
  },
  {
   "cell_type": "code",
   "execution_count": 39,
   "metadata": {},
   "outputs": [
    {
     "name": "stdout",
     "output_type": "stream",
     "text": [
      "a / b = cme257float(1.25)\n"
     ]
    }
   ],
   "source": [
    "import Base./\n",
    "function /(a::cme257float, b::cme257float)\n",
    "    return cme257float(a.x / b.x) \n",
    "end\n",
    "\n",
    "function /(a::cme257int, b::cme257int)\n",
    "    return convert(cme257float, a) / convert(cme257float, b) \n",
    "end\n",
    "\n",
    "a = cme257int(5)\n",
    "b = cme257int(4)\n",
    "@show a/b\n",
    ";"
   ]
  },
  {
   "cell_type": "markdown",
   "metadata": {},
   "source": [
    "Note that Julia's built in arithmetic types and operators already have conversion defined and implemented where necessary.  You mostly need to know about this if you're defining your own types.\n",
    "\n",
    "### Promotion\n",
    "\n",
    "Suppose you want to add a cme257int to a cme257float.  What would the correct type be?  Since integers are a subset of the reals, the natural answer is a cme257float.  In order to achieve this, we should promote a cme257int to a cme257float, on which addition is defined."
   ]
  },
  {
   "cell_type": "code",
   "execution_count": 40,
   "metadata": {},
   "outputs": [
    {
     "name": "stdout",
     "output_type": "stream",
     "text": [
      "cme257float(2.0)\n",
      "cme257float(2.0)\n",
      "cme257int(2)\n"
     ]
    }
   ],
   "source": [
    "import Base.promote_rule\n",
    "# the following tells us how to promote types when there is a cme257int and cme257float involved\n",
    "promote_rule(::Type{cme257float}, ::Type{cme257int}) = cme257float\n",
    "promote_rule(::Type{cme257int}, ::Type{cme257float}) = cme257float\n",
    "\n",
    "function +(a::T1, b::T2) where {T1 ,T2}\n",
    "    T = promote_rule(T1, T2)\n",
    "    return convert(T,a) + convert(T,b)\n",
    "end\n",
    "\n",
    "a = cme257int(1)\n",
    "b = cme257float(1.0)\n",
    "\n",
    "println(a+b)\n",
    "println(b+a)\n",
    "b = cme257int(1)\n",
    "println(b+a) \n",
    "\n"
   ]
  },
  {
   "cell_type": "markdown",
   "metadata": {},
   "source": [
    "We can see how to make our cme257ff operations more robust to underlying storage type"
   ]
  },
  {
   "cell_type": "code",
   "execution_count": 41,
   "metadata": {},
   "outputs": [
    {
     "name": "stdout",
     "output_type": "stream",
     "text": [
      "x = 2 mod 5\n",
      "y = 4 mod 5\n",
      "x * y = 3 mod 5\n",
      "x + y = 1 mod 5\n"
     ]
    }
   ],
   "source": [
    "import Base.*, Base.+\n",
    "function *(a::cme257ff{N,T1}, b::cme257ff{N,T2}) where {N,T1,T2}\n",
    "    T = promote_type(T1, T2)\n",
    "    cme257ff{N,T}(T(mod(a.val * b.val, N)))\n",
    "end\n",
    "\n",
    "function +(a::cme257ff{N,T1}, b::cme257ff{N,T2}) where {N,T1, T2}\n",
    "    T = promote_type(T1, T2)\n",
    "    cme257ff{N,T}(T(mod(a.val + b.val,N)))\n",
    "end\n",
    "\n",
    "x = cme257ff{5}(UInt8(2))\n",
    "@show x\n",
    "y = cme257ff{5}(UInt16(4))\n",
    "@show y\n",
    "@show x*y # 2 * 4 = 8 = 3 mod 5\n",
    "@show x+y # 2 + 4 = 6 = 1 mod 5\n",
    ";"
   ]
  }
 ],
 "metadata": {
  "kernelspec": {
   "display_name": "Julia 1.2.0",
   "language": "julia",
   "name": "julia-1.2"
  },
  "language_info": {
   "file_extension": ".jl",
   "mimetype": "application/julia",
   "name": "julia",
   "version": "1.2.0"
  }
 },
 "nbformat": 4,
 "nbformat_minor": 1
}
