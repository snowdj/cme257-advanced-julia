{
 "cells": [
  {
   "cell_type": "markdown",
   "metadata": {},
   "source": [
    "# Worksheet 1: Types\n",
    "\n",
    "1. What happens if you try to instantiate a cme257int with a float?  Why did this happen?\n",
    "\n",
    "2. Create a type called \"cme257OrderedPair\" with the following properties:\n",
    "    1. It is a child of cme257abstract\n",
    "    2. It has two fields: \"a\" and \"b\"\n",
    "    3. The fields \"a\" and \"b\" are the same parameterized type\n",
    "    \n",
    "3. How do you create a Complex number in Julia?  Investigate the resulting type:\n",
    "    1. Is it a primitive type?  If not, what fields does it have?\n",
    "    2. What else do you notice?  Is it immutable?  Is it parameterized?"
   ]
  },
  {
   "cell_type": "code",
   "execution_count": 9,
   "metadata": {},
   "outputs": [],
   "source": [
    "abstract type cme257abstract end"
   ]
  },
  {
   "cell_type": "code",
   "execution_count": 10,
   "metadata": {},
   "outputs": [],
   "source": [
    "# an abstract type for our real number types\n",
    "abstract type cme257real <: cme257abstract end\n",
    "\n",
    "struct cme257int <: cme257real # <: denotes \"child of\"\n",
    "    x::Int64 # :: tells us exactly what type x should be\n",
    "end\n",
    "struct cme257float <: cme257real\n",
    "    x::Float64\n",
    "end"
   ]
  },
  {
   "cell_type": "code",
   "execution_count": 11,
   "metadata": {},
   "outputs": [
    {
     "ename": "InexactError",
     "evalue": "InexactError: Int64(5.5)",
     "output_type": "error",
     "traceback": [
      "InexactError: Int64(5.5)",
      "",
      "Stacktrace:",
      " [1] Type at ./float.jl:703 [inlined]",
      " [2] convert at ./number.jl:7 [inlined]",
      " [3] cme257int(::Float64) at ./In[10]:5",
      " [4] top-level scope at In[11]:1"
     ]
    }
   ],
   "source": [
    "#a0 = cme257int(5.0)\n",
    "a1 = cme257int(5.5)"
   ]
  },
  {
   "cell_type": "code",
   "execution_count": 12,
   "metadata": {},
   "outputs": [],
   "source": [
    "struct cme257OrderedPair{T} <: cme257abstract\n",
    "    a::T\n",
    "    b::T\n",
    "end"
   ]
  },
  {
   "cell_type": "code",
   "execution_count": 13,
   "metadata": {},
   "outputs": [
    {
     "data": {
      "text/plain": [
       "\"a\""
      ]
     },
     "execution_count": 13,
     "metadata": {},
     "output_type": "execute_result"
    }
   ],
   "source": [
    "op1 = cme257OrderedPair(\"a\",\"b\")\n",
    "op1.a"
   ]
  },
  {
   "cell_type": "code",
   "execution_count": 14,
   "metadata": {},
   "outputs": [
    {
     "data": {
      "text/plain": [
       "5.0 + 1.0im"
      ]
     },
     "execution_count": 14,
     "metadata": {},
     "output_type": "execute_result"
    }
   ],
   "source": [
    "z = 5.0 + 1.0im"
   ]
  },
  {
   "cell_type": "code",
   "execution_count": 15,
   "metadata": {},
   "outputs": [
    {
     "data": {
      "text/plain": [
       "Complex{Float64}"
      ]
     },
     "execution_count": 15,
     "metadata": {},
     "output_type": "execute_result"
    }
   ],
   "source": [
    "typeof(z)"
   ]
  },
  {
   "cell_type": "code",
   "execution_count": 16,
   "metadata": {},
   "outputs": [
    {
     "name": "stdout",
     "output_type": "stream",
     "text": [
      "z.re = 5.0\n",
      "z.im = 1.0\n"
     ]
    },
    {
     "ename": "ErrorException",
     "evalue": "setfield! immutable struct of type Complex cannot be changed",
     "output_type": "error",
     "traceback": [
      "setfield! immutable struct of type Complex cannot be changed",
      "",
      "Stacktrace:",
      " [1] setproperty!(::Complex{Float64}, ::Symbol, ::Float64) at ./Base.jl:21",
      " [2] top-level scope at In[16]:4"
     ]
    }
   ],
   "source": [
    "# fields of complex numbers\n",
    "@show z.re\n",
    "@show z.im\n",
    "z.re = 3.0 # immutable\n",
    ";"
   ]
  },
  {
   "cell_type": "markdown",
   "metadata": {},
   "source": [
    "# Worksheet 2: Functions\n",
    "\n",
    "1. Overload the addition and multiplication operators to do element-wise addition and multiplication on cme257OrderedPair.\n",
    "\n",
    "2. Overload addition and multiplication to work with cme257ff{N,T} for N any positive integer (don't worry about checking positivity).\n",
    "\n",
    "(a +/* b).val = a.val +/* b.val mod N\n",
    "\n",
    "Generally, this gives this type the structure of a ring.  If N is prime, the type has the structure of a field.\n",
    "\n",
    "3. Modify ```yell_my_type``` to yell all types correctly."
   ]
  },
  {
   "cell_type": "code",
   "execution_count": 17,
   "metadata": {},
   "outputs": [
    {
     "name": "stdout",
     "output_type": "stream",
     "text": [
      "x + y = cme257OrderedPair{Int64}(5, 7)\n",
      "x * y = cme257OrderedPair{Int64}(6, 12)\n"
     ]
    }
   ],
   "source": [
    "import Base.+, Base.*\n",
    "\n",
    "x = cme257OrderedPair(2, 3)\n",
    "y = cme257OrderedPair(3, 4)\n",
    "\n",
    "function +(x::cme257OrderedPair{T}, y::cme257OrderedPair{T}) where T\n",
    "    return cme257OrderedPair(x.a + y.a, x.b + y.b) \n",
    "end\n",
    "\n",
    "@show x + y\n",
    "\n",
    "function *(x::cme257OrderedPair{T}, y::cme257OrderedPair{T}) where T\n",
    "    return cme257OrderedPair(x.a * y.a, x.b * y.b)\n",
    "end\n",
    "\n",
    "@show x * y\n",
    ";"
   ]
  },
  {
   "cell_type": "code",
   "execution_count": 18,
   "metadata": {},
   "outputs": [],
   "source": [
    "# we'll use this for finite fields with characteristic N\n",
    "struct cme257ff{N, T<:Integer} #<: cme257abstract\n",
    "    val::T\n",
    "    # override the default constructor to store things mod N\n",
    "    function cme257ff{N,T}(val::T) where {N,T<:Integer} \n",
    "        return new(mod(val,N))\n",
    "    end\n",
    "end\n",
    "\n",
    "# You'll also see the N convention in Julia with types like Array{T,N}, where T is a type and N is a number\n",
    "\n",
    "# This will create constructors where the type of the value is inferred\n",
    "function cme257ff{N}(val::T) where {N, T}\n",
    "    return cme257ff{N,T}(val)\n",
    "end\n",
    "# this will create constructors where signed integers are converted to unsigned integers\n",
    "function cme257ff{N,T}(val::T) where {N, T<:Signed} \n",
    "    return cme257ff{N}(Unsigned(val))\n",
    "end\n",
    "# Note that the above are examples of creating functions\n",
    "\n",
    "function Base.show(io::IO, x::cme257ff{N,T}) where {N,T}\n",
    "    print(io, x.val, \" mod \", N, \" (\", T, \")\")\n",
    "    return\n",
    "end"
   ]
  },
  {
   "cell_type": "code",
   "execution_count": 19,
   "metadata": {},
   "outputs": [
    {
     "name": "stdout",
     "output_type": "stream",
     "text": [
      "x * y = 3 mod 5 (UInt64)\n",
      "x + y = 1 mod 5 (UInt64)\n"
     ]
    }
   ],
   "source": [
    "function *(a::cme257ff{N,T}, b::cme257ff{N,T}) where {N,T}\n",
    "    cme257ff{N,T}(T(mod(a.val * b.val, N)))\n",
    "end\n",
    "\n",
    "function +(a::cme257ff{N,T}, b::cme257ff{N,T}) where {N,T}\n",
    "    cme257ff{N,T}(T(mod(a.val + b.val,N)))\n",
    "end\n",
    "\n",
    "x = cme257ff{5}(2)\n",
    "y = cme257ff{5}(4)\n",
    "@show x*y # 2 * 4 = 8 = 3 mod 5\n",
    "@show x+y # 2 + 4 = 6 = 1 mod 5\n",
    ";"
   ]
  },
  {
   "cell_type": "code",
   "execution_count": 20,
   "metadata": {},
   "outputs": [
    {
     "ename": "MethodError",
     "evalue": "MethodError: no method matching +(::cme257ff{5,UInt64}, ::cme257ff{7,UInt64})\nClosest candidates are:\n  +(::Any, ::Any, !Matched::Any, !Matched::Any...) at operators.jl:529\n  +(::cme257ff{N,T}, !Matched::cme257ff{N,T}) where {N, T} at In[19]:6",
     "output_type": "error",
     "traceback": [
      "MethodError: no method matching +(::cme257ff{5,UInt64}, ::cme257ff{7,UInt64})\nClosest candidates are:\n  +(::Any, ::Any, !Matched::Any, !Matched::Any...) at operators.jl:529\n  +(::cme257ff{N,T}, !Matched::cme257ff{N,T}) where {N, T} at In[19]:6",
      "",
      "Stacktrace:",
      " [1] top-level scope at show.jl:576",
      " [2] top-level scope at In[20]:4"
     ]
    }
   ],
   "source": [
    "# note that with our cme257ff type, we can't add or multiply elements of different rings\n",
    "x = cme257ff{5}(2)\n",
    "y = cme257ff{7}(4)\n",
    "@show x+y\n",
    ";"
   ]
  },
  {
   "cell_type": "code",
   "execution_count": 21,
   "metadata": {},
   "outputs": [
    {
     "ename": "MethodError",
     "evalue": "MethodError: no method matching *(::cme257ff{5,UInt16}, ::cme257ff{5,UInt32})\nClosest candidates are:\n  *(::Any, ::Any, !Matched::Any, !Matched::Any...) at operators.jl:529\n  *(::cme257ff{N,T}, !Matched::cme257ff{N,T}) where {N, T} at In[19]:2",
     "output_type": "error",
     "traceback": [
      "MethodError: no method matching *(::cme257ff{5,UInt16}, ::cme257ff{5,UInt32})\nClosest candidates are:\n  *(::Any, ::Any, !Matched::Any, !Matched::Any...) at operators.jl:529\n  *(::cme257ff{N,T}, !Matched::cme257ff{N,T}) where {N, T} at In[19]:2",
      "",
      "Stacktrace:",
      " [1] top-level scope at show.jl:576",
      " [2] top-level scope at In[21]:4"
     ]
    }
   ],
   "source": [
    "# we also need the same underlying type\n",
    "x = cme257ff{5}(UInt16(2))\n",
    "y = cme257ff{5}(UInt32(4))\n",
    "@show x*y\n",
    ";"
   ]
  },
  {
   "cell_type": "code",
   "execution_count": 22,
   "metadata": {},
   "outputs": [
    {
     "name": "stdout",
     "output_type": "stream",
     "text": [
      "MY TYPE IS RATIONAL{INT64}\n"
     ]
    }
   ],
   "source": [
    "function yell_my_type(x::T) where T\n",
    "   println(uppercase(\"MY TYPE IS $(T)\"))\n",
    "end\n",
    "\n",
    "yell_my_type(5//7)"
   ]
  }
 ],
 "metadata": {
  "kernelspec": {
   "display_name": "Julia 1.2.0",
   "language": "julia",
   "name": "julia-1.2"
  },
  "language_info": {
   "file_extension": ".jl",
   "mimetype": "application/julia",
   "name": "julia",
   "version": "1.2.0"
  }
 },
 "nbformat": 4,
 "nbformat_minor": 1
}
