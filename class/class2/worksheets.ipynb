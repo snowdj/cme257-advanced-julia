{
 "cells": [
  {
   "cell_type": "markdown",
   "metadata": {},
   "source": [
    "# Worksheet 1: Types\n",
    "\n",
    "1. What happens if you try to instantiate a cme257int with a float?  Why did this happen?\n",
    "\n",
    "2. Create a type called \"cme257OrderedPair\" with the following properties:\n",
    "    1. It is a child of cme257abstract\n",
    "    2. It has two fields: \"a\" and \"b\"\n",
    "    3. The fields \"a\" and \"b\" are the same parameterized type\n",
    "    \n",
    "3. How do you create a Complex number in Julia?  Investigate the resulting type:\n",
    "    1. Is it a primitive type?  If not, what fields does it have?\n",
    "    2. What else do you notice?  Is it immutable?  Is it parameterized?"
   ]
  },
  {
   "cell_type": "code",
   "execution_count": 1,
   "metadata": {},
   "outputs": [],
   "source": [
    "abstract type cme257abstract end"
   ]
  },
  {
   "cell_type": "code",
   "execution_count": 2,
   "metadata": {},
   "outputs": [],
   "source": [
    "# an abstract type for our real number types\n",
    "abstract type cme257real <: cme257abstract end\n",
    "\n",
    "struct cme257int <: cme257real # <: denotes \"child of\"\n",
    "    x::Int64 # :: tells us exactly what type x should be\n",
    "end\n",
    "struct cme257float <: cme257real\n",
    "    x::Float64\n",
    "end"
   ]
  },
  {
   "cell_type": "code",
   "execution_count": 3,
   "metadata": {},
   "outputs": [
    {
     "ename": "LoadError",
     "evalue": "\u001b[91mInexactError()\u001b[39m",
     "output_type": "error",
     "traceback": [
      "\u001b[91mInexactError()\u001b[39m",
      "",
      "Stacktrace:",
      " [1] \u001b[1mconvert\u001b[22m\u001b[22m\u001b[1m(\u001b[22m\u001b[22m::Type{Int64}, ::Float64\u001b[1m)\u001b[22m\u001b[22m at \u001b[1m./float.jl:679\u001b[22m\u001b[22m",
      " [2] \u001b[1mcme257int\u001b[22m\u001b[22m\u001b[1m(\u001b[22m\u001b[22m::Float64\u001b[1m)\u001b[22m\u001b[22m at \u001b[1m./In[2]:5\u001b[22m\u001b[22m",
      " [3] \u001b[1minclude_string\u001b[22m\u001b[22m\u001b[1m(\u001b[22m\u001b[22m::String, ::String\u001b[1m)\u001b[22m\u001b[22m at \u001b[1m./loading.jl:522\u001b[22m\u001b[22m"
     ]
    }
   ],
   "source": [
    "#a0 = cme257int(5.0)\n",
    "a1 = cme257int(5.5)"
   ]
  },
  {
   "cell_type": "code",
   "execution_count": 4,
   "metadata": {},
   "outputs": [],
   "source": [
    "struct cme257OrderedPair{T} <: cme257abstract\n",
    "    a::T\n",
    "    b::T\n",
    "end"
   ]
  },
  {
   "cell_type": "code",
   "execution_count": 5,
   "metadata": {},
   "outputs": [
    {
     "data": {
      "text/plain": [
       "3"
      ]
     },
     "execution_count": 5,
     "metadata": {},
     "output_type": "execute_result"
    }
   ],
   "source": [
    "op1 = cme257OrderedPair(3,4)\n",
    "op1.a"
   ]
  },
  {
   "cell_type": "code",
   "execution_count": 6,
   "metadata": {},
   "outputs": [
    {
     "data": {
      "text/plain": [
       "5.0 + 1.0im"
      ]
     },
     "execution_count": 6,
     "metadata": {},
     "output_type": "execute_result"
    }
   ],
   "source": [
    "z = 5.0 + 1.0im"
   ]
  },
  {
   "cell_type": "code",
   "execution_count": 7,
   "metadata": {},
   "outputs": [
    {
     "data": {
      "text/plain": [
       "Complex{Float64}"
      ]
     },
     "execution_count": 7,
     "metadata": {},
     "output_type": "execute_result"
    }
   ],
   "source": [
    "typeof(z)"
   ]
  },
  {
   "cell_type": "code",
   "execution_count": 8,
   "metadata": {},
   "outputs": [
    {
     "name": "stdout",
     "output_type": "stream",
     "text": [
      "z.re = 5.0\n",
      "z.im = 1.0\n"
     ]
    },
    {
     "ename": "LoadError",
     "evalue": "\u001b[91mtype Complex is immutable\u001b[39m",
     "output_type": "error",
     "traceback": [
      "\u001b[91mtype Complex is immutable\u001b[39m",
      "",
      "Stacktrace:",
      " [1] \u001b[1minclude_string\u001b[22m\u001b[22m\u001b[1m(\u001b[22m\u001b[22m::String, ::String\u001b[1m)\u001b[22m\u001b[22m at \u001b[1m./loading.jl:522\u001b[22m\u001b[22m"
     ]
    }
   ],
   "source": [
    "# fields of complex numbers\n",
    "@show z.re\n",
    "@show z.im\n",
    "z.re = 3.0 # immutable\n",
    ";"
   ]
  },
  {
   "cell_type": "markdown",
   "metadata": {},
   "source": [
    "# Worksheet 2: Functions\n",
    "\n",
    "1. Overload the addition and multiplication operators to do element-wise addition and multiplication on cme257OrderedPair.\n",
    "\n",
    "2. Overload addition and multiplication to work with cme257ff{N,T} for N any positive integer (don't worry about checking positivity).\n",
    "\n",
    "(a +/* b).val = a.val +/* b.val mod N\n",
    "\n",
    "Generally, this gives this type the structure of a ring.  If N is prime, the type has the structure of a field.\n",
    "\n",
    "3. Modify ```yell_my_type``` to yell all types correctly."
   ]
  },
  {
   "cell_type": "code",
   "execution_count": 9,
   "metadata": {},
   "outputs": [
    {
     "name": "stdout",
     "output_type": "stream",
     "text": [
      "x + y = cme257OrderedPair{Int64}(5, 7)\n",
      "x * y = cme257OrderedPair{Int64}(6, 12)\n"
     ]
    }
   ],
   "source": [
    "import Base.+, Base.*\n",
    "\n",
    "x = cme257OrderedPair(2, 3)\n",
    "y = cme257OrderedPair(3, 4)\n",
    "\n",
    "function +{T}(x::cme257OrderedPair{T}, y::cme257OrderedPair{T})\n",
    "    return cme257OrderedPair(x.a + y.a, x.b + y.b) \n",
    "end\n",
    "\n",
    "@show x + y\n",
    "\n",
    "function *{T}(x::cme257OrderedPair{T}, y::cme257OrderedPair{T})\n",
    "    return cme257OrderedPair(x.a * y.a, x.b * y.b)\n",
    "end\n",
    "\n",
    "@show x * y\n",
    ";"
   ]
  },
  {
   "cell_type": "code",
   "execution_count": 10,
   "metadata": {},
   "outputs": [],
   "source": [
    "# copied from lecture notebook\n",
    "\n",
    "# we'll use this for finite fields with characteristic N\n",
    "struct cme257ff{N, T<:Integer} #<: cme257abstract\n",
    "    val::T\n",
    "    # override the default constructor to store things mod N\n",
    "    cme257ff{N,T}(val::T) where {N,T<:Integer} = new(mod(val,N))\n",
    "end\n",
    "\n",
    "# You'll also see the N convention in Julia with types like Array{T,N}, where T is a type and N is a number\n",
    "\n",
    "# This will create constructors where the type of the value is inferred\n",
    "cme257ff{N}(val::T) where {N, T} = cme257ff{N,T}(val)\n",
    "# this will create constructors where signed integers are converted to unsigned integers\n",
    "cme257ff{N,T}(val::T) where {N, T<:Signed} = cme257ff{N}(Unsigned(val))\n",
    "# Note that the above are examples of creating functions\n",
    "\n",
    "Base.show{N,T}(io::IO, x::cme257ff{N,T}) = print(io, x.val, \" mod \", N, \" (\", T, \")\")"
   ]
  },
  {
   "cell_type": "code",
   "execution_count": 11,
   "metadata": {},
   "outputs": [
    {
     "name": "stdout",
     "output_type": "stream",
     "text": [
      "x * y = 3 mod 5 (UInt64)\n",
      "x + y = 1 mod 5 (UInt64)\n"
     ]
    }
   ],
   "source": [
    "function *{N,T}(a::cme257ff{N,T}, b::cme257ff{N,T})\n",
    "    cme257ff{N,T}(T(mod(a.val * b.val, N)))\n",
    "end\n",
    "\n",
    "function +{N,T}(a::cme257ff{N,T}, b::cme257ff{N,T})\n",
    "    cme257ff{N,T}(T(mod(a.val + b.val,N)))\n",
    "end\n",
    "\n",
    "x = cme257ff{5}(2)\n",
    "y = cme257ff{5}(4)\n",
    "@show x*y # 2 * 4 = 8 = 3 mod 5\n",
    "@show x+y # 2 + 4 = 6 = 1 mod 5\n",
    ";"
   ]
  },
  {
   "cell_type": "code",
   "execution_count": 12,
   "metadata": {},
   "outputs": [
    {
     "ename": "LoadError",
     "evalue": "\u001b[91mMethodError: no method matching +(::cme257ff{5,UInt64}, ::cme257ff{7,UInt64})\u001b[0m\nClosest candidates are:\n  +(::Any, ::Any, \u001b[91m::Any\u001b[39m, \u001b[91m::Any...\u001b[39m) at operators.jl:424\n  +(::cme257ff{N,T}, \u001b[91m::cme257ff{N,T}\u001b[39m) where {N, T} at In[11]:6\u001b[39m",
     "output_type": "error",
     "traceback": [
      "\u001b[91mMethodError: no method matching +(::cme257ff{5,UInt64}, ::cme257ff{7,UInt64})\u001b[0m\nClosest candidates are:\n  +(::Any, ::Any, \u001b[91m::Any\u001b[39m, \u001b[91m::Any...\u001b[39m) at operators.jl:424\n  +(::cme257ff{N,T}, \u001b[91m::cme257ff{N,T}\u001b[39m) where {N, T} at In[11]:6\u001b[39m",
      "",
      "Stacktrace:",
      " [1] \u001b[1minclude_string\u001b[22m\u001b[22m\u001b[1m(\u001b[22m\u001b[22m::String, ::String\u001b[1m)\u001b[22m\u001b[22m at \u001b[1m./loading.jl:522\u001b[22m\u001b[22m"
     ]
    }
   ],
   "source": [
    "# note that with our cme257ff type, we can't add or multiply elements of different rings\n",
    "x = cme257ff{5}(2)\n",
    "y = cme257ff{7}(4)\n",
    "@show x+y\n",
    ";"
   ]
  },
  {
   "cell_type": "code",
   "execution_count": 13,
   "metadata": {},
   "outputs": [
    {
     "ename": "LoadError",
     "evalue": "\u001b[91mMethodError: no method matching *(::cme257ff{5,UInt16}, ::cme257ff{5,UInt32})\u001b[0m\nClosest candidates are:\n  *(::Any, ::Any, \u001b[91m::Any\u001b[39m, \u001b[91m::Any...\u001b[39m) at operators.jl:424\n  *(::cme257ff{N,T}, \u001b[91m::cme257ff{N,T}\u001b[39m) where {N, T} at In[11]:2\u001b[39m",
     "output_type": "error",
     "traceback": [
      "\u001b[91mMethodError: no method matching *(::cme257ff{5,UInt16}, ::cme257ff{5,UInt32})\u001b[0m\nClosest candidates are:\n  *(::Any, ::Any, \u001b[91m::Any\u001b[39m, \u001b[91m::Any...\u001b[39m) at operators.jl:424\n  *(::cme257ff{N,T}, \u001b[91m::cme257ff{N,T}\u001b[39m) where {N, T} at In[11]:2\u001b[39m",
      "",
      "Stacktrace:",
      " [1] \u001b[1minclude_string\u001b[22m\u001b[22m\u001b[1m(\u001b[22m\u001b[22m::String, ::String\u001b[1m)\u001b[22m\u001b[22m at \u001b[1m./loading.jl:522\u001b[22m\u001b[22m"
     ]
    }
   ],
   "source": [
    "# we also need the same underlying type\n",
    "x = cme257ff{5}(UInt16(2))\n",
    "y = cme257ff{5}(UInt32(4))\n",
    "@show x*y\n",
    ";"
   ]
  },
  {
   "cell_type": "code",
   "execution_count": 14,
   "metadata": {},
   "outputs": [
    {
     "name": "stdout",
     "output_type": "stream",
     "text": [
      "MY TYPE IS RATIONAL{INT64}\n"
     ]
    }
   ],
   "source": [
    "function yell_my_type{T}(x::T)\n",
    "   println(uppercase(\"MY TYPE IS $(T)\"))\n",
    "end\n",
    "\n",
    "yell_my_type(5//7)"
   ]
  },
  {
   "cell_type": "code",
   "execution_count": null,
   "metadata": {},
   "outputs": [],
   "source": []
  }
 ],
 "metadata": {
  "kernelspec": {
   "display_name": "Julia 0.6.2",
   "language": "julia",
   "name": "julia-0.6"
  },
  "language_info": {
   "file_extension": ".jl",
   "mimetype": "application/julia",
   "name": "julia",
   "version": "0.6.2"
  }
 },
 "nbformat": 4,
 "nbformat_minor": 1
}
