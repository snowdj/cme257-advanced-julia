{
 "cells": [
  {
   "cell_type": "markdown",
   "metadata": {},
   "source": [
    "# Julia Packages\n",
    "\n",
    "So far, we've seen\n",
    "* basic Julia syntax\n",
    "* the Julia type system\n",
    "\n",
    "Today, we're going to \n",
    "* See some of the features of the package manager\n",
    "* Demo some packages for numerical linear algebra\n",
    "* Demo some packages for visualization\n",
    "* Since you all may have different ideas of what packages you may want to use, we'll try to have some open-ended time for trying out whatever you'd like.  I can (try to) help with any installation issues, or depending on the pacakge, perhaps some basic usage.\n",
    "\n",
    "Future plan\n",
    "* Next week: git version control and how to make your own package\n",
    "* Second half of the class: \"Advanced Topics\" portion of the course\n",
    "\n",
    "## Packages We May Use Today\n",
    "\n",
    "* LinearOperators\n",
    "* IterativeSolvers\n",
    "* DataFrames\n",
    "* Convex\n",
    "* SCS\n",
    "* DataStructures\n",
    "* Plots\n",
    "* ProgressMeter\n",
    "* StatPlots\n",
    "* RDatasets\n",
    "* GR\n",
    "* PyPlot\n",
    "* PlotlyJS\n",
    "* Interact\n",
    "\n",
    "Go ahead and ```Pkg.add``` them in Julia.\n",
    "\n",
    "\n",
    "# Packages\n",
    "\n",
    "(This IJulia notebook is tested using Julia [v1.2.0](https://github.com/JuliaLang/julia/releases))\n",
    "\n",
    "Julia currently has [over 2300 packages](http://pkg.julialang.org) registered.  This includes relatively mature and popular pacakges as well as packages that are just getting off the ground.\n",
    "\n",
    "Today we'll look a bit more at the package manager and some popular Julia packages."
   ]
  },
  {
   "cell_type": "markdown",
   "metadata": {},
   "source": [
    "You have already used [Pkg.add()](https://docs.julialang.org/en/v1/stdlib/Pkg/index.html) to start using packages such as IJulia and PyPlot. "
   ]
  },
  {
   "cell_type": "code",
   "execution_count": 1,
   "metadata": {},
   "outputs": [
    {
     "name": "stdout",
     "output_type": "stream",
     "text": [
      "\u001b[32m\u001b[1m  Updating\u001b[22m\u001b[39m registry at `~/.julia/registries/General`\n",
      "\u001b[32m\u001b[1m  Updating\u001b[22m\u001b[39m git-repo `https://github.com/JuliaRegistries/General.git`\n",
      "\u001b[2K\u001b[?25h[1mFetching:\u001b[22m\u001b[39m [========================================>]  100.0 %.0 %\u001b[32m\u001b[1m Resolving\u001b[22m\u001b[39m package versions...\n",
      "\u001b[32m\u001b[1m  Updating\u001b[22m\u001b[39m `~/.julia/environments/v1.2/Project.toml`\n",
      "\u001b[90m [no changes]\u001b[39m\n",
      "\u001b[32m\u001b[1m  Updating\u001b[22m\u001b[39m `~/.julia/environments/v1.2/Manifest.toml`\n",
      "\u001b[90m [no changes]\u001b[39m\n"
     ]
    }
   ],
   "source": [
    "using Pkg\n",
    "Pkg.add(\"IJulia\") #isn't this a bit recursive?"
   ]
  },
  {
   "cell_type": "markdown",
   "metadata": {},
   "source": [
    "Recall that you can use Pkg.status() to view all your installed packages.  Required pacakges are those that you specifically added.  Additional packages are those that are required as dependencies of the required packages."
   ]
  },
  {
   "cell_type": "code",
   "execution_count": 2,
   "metadata": {},
   "outputs": [
    {
     "name": "stdout",
     "output_type": "stream",
     "text": [
      "\u001b[32m\u001b[1m    Status\u001b[22m\u001b[39m `~/.julia/environments/v1.2/Project.toml`\n",
      " \u001b[90m [7d9fca2a]\u001b[39m\u001b[37m Arpack v0.3.1\u001b[39m\n",
      " \u001b[90m [336ed68f]\u001b[39m\u001b[37m CSV v0.5.13\u001b[39m\n",
      " \u001b[90m [a81c6b42]\u001b[39m\u001b[37m Compose v0.7.3\u001b[39m\n",
      " \u001b[90m [f65535da]\u001b[39m\u001b[37m Convex v0.12.5\u001b[39m\n",
      " \u001b[90m [a93c6f00]\u001b[39m\u001b[37m DataFrames v0.19.4\u001b[39m\n",
      " \u001b[90m [864edb3b]\u001b[39m\u001b[37m DataStructures v0.17.2\u001b[39m\n",
      " \u001b[90m [e2685f51]\u001b[39m\u001b[37m ECOS v0.10.0\u001b[39m\n",
      " \u001b[90m [a2cc645c]\u001b[39m\u001b[37m GraphPlot v0.3.1\u001b[39m\n",
      " \u001b[90m [7073ff75]\u001b[39m\u001b[37m IJulia v1.20.0\u001b[39m\n",
      " \u001b[90m [42fd0dbc]\u001b[39m\u001b[37m IterativeSolvers v0.8.1\u001b[39m\n",
      " \u001b[90m [6f8e5838]\u001b[39m\u001b[37m Laplacians v1.1.1\u001b[39m\n",
      " \u001b[90m [093fc24a]\u001b[39m\u001b[37m LightGraphs v1.3.0\u001b[39m\n",
      " \u001b[90m [5c8ed15e]\u001b[39m\u001b[37m LinearOperators v0.5.4\u001b[39m\n",
      " \u001b[90m [91a5bcdd]\u001b[39m\u001b[37m Plots v0.27.0\u001b[39m\n",
      " \u001b[90m [27ebfcd6]\u001b[39m\u001b[37m Primes v0.4.0\u001b[39m\n",
      " \u001b[90m [92933f4c]\u001b[39m\u001b[37m ProgressMeter v1.1.0\u001b[39m\n",
      " \u001b[90m [438e738f]\u001b[39m\u001b[37m PyCall v1.91.2\u001b[39m\n",
      " \u001b[90m [ce6b1742]\u001b[39m\u001b[37m RDatasets v0.6.3\u001b[39m\n",
      " \u001b[90m [c946c3f1]\u001b[39m\u001b[37m SCS v0.6.1\u001b[39m\n",
      " \u001b[90m [f3b207a7]\u001b[39m\u001b[37m StatsPlots v0.12.0\u001b[39m\n"
     ]
    }
   ],
   "source": [
    "Pkg.status()"
   ]
  },
  {
   "cell_type": "markdown",
   "metadata": {},
   "source": [
    "If you want to see if a particular package is installed, you can use Pkg.installed(). Note that Pkgs.installed() returns a dictionary normally."
   ]
  },
  {
   "cell_type": "code",
   "execution_count": 3,
   "metadata": {},
   "outputs": [
    {
     "data": {
      "text/plain": [
       "v\"1.20.0\""
      ]
     },
     "execution_count": 3,
     "metadata": {},
     "output_type": "execute_result"
    }
   ],
   "source": [
    "Pkg.installed()[\"IJulia\"] "
   ]
  },
  {
   "cell_type": "markdown",
   "metadata": {},
   "source": [
    "Sometimes after updating a package you may need to re-build it."
   ]
  },
  {
   "cell_type": "code",
   "execution_count": 4,
   "metadata": {},
   "outputs": [
    {
     "name": "stdout",
     "output_type": "stream",
     "text": [
      "\u001b[32m\u001b[1m  Building\u001b[22m\u001b[39m GR ────→ `~/.julia/packages/GR/ZI5OE/deps/build.log`\n",
      "\u001b[32m\u001b[1m  Building\u001b[22m\u001b[39m FFMPEG → `~/.julia/packages/FFMPEG/bkWgb/deps/build.log`\n",
      "\u001b[32m\u001b[1m  Building\u001b[22m\u001b[39m Plots ─→ `~/.julia/packages/Plots/Iuc9S/deps/build.log`\n"
     ]
    }
   ],
   "source": [
    "Pkg.build(\"Plots\");"
   ]
  },
  {
   "cell_type": "markdown",
   "metadata": {},
   "source": [
    "If you're having trouble getting packages to play nicely, you can try using [Pkg.resolve()](http://julia.readthedocs.org/en/latest/stdlib/pkg/#Base.Pkg.resolve)."
   ]
  },
  {
   "cell_type": "code",
   "execution_count": 12,
   "metadata": {},
   "outputs": [
    {
     "name": "stdout",
     "output_type": "stream",
     "text": [
      "\u001b[32m\u001b[1m Resolving\u001b[22m\u001b[39m package versions...\n",
      "\u001b[32m\u001b[1m  Updating\u001b[22m\u001b[39m `~/.julia/environments/v1.2/Project.toml`\n",
      "\u001b[90m [no changes]\u001b[39m\n",
      "\u001b[32m\u001b[1m  Updating\u001b[22m\u001b[39m `~/.julia/environments/v1.2/Manifest.toml`\n",
      "\u001b[90m [no changes]\u001b[39m\n"
     ]
    }
   ],
   "source": [
    "Pkg.resolve()"
   ]
  },
  {
   "cell_type": "markdown",
   "metadata": {},
   "source": [
    "If you're debugging a package, Pkg.test() will run tests provided with a package"
   ]
  },
  {
   "cell_type": "code",
   "execution_count": 13,
   "metadata": {},
   "outputs": [
    {
     "name": "stdout",
     "output_type": "stream",
     "text": [
      "\u001b[32m\u001b[1m   Testing\u001b[22m\u001b[39m Convex\n",
      "\u001b[32m\u001b[1m Resolving\u001b[22m\u001b[39m package versions...\n",
      "\u001b[32m\u001b[1m Installed\u001b[22m\u001b[39m GLPKMathProgInterface ─ v0.4.4\n",
      "\u001b[32m\u001b[1m Installed\u001b[22m\u001b[39m GLPK ────────────────── v0.11.4\n",
      "\u001b[32m\u001b[1m  Building\u001b[22m\u001b[39m GLPK → `~/.julia/packages/GLPK/lOaTT/deps/build.log`\n",
      "\u001b[32m\u001b[1m    Status\u001b[22m\u001b[39m `/var/folders/94/12xvs4cx5pbd7n9n21l8wb3h0000gn/T/jl_rsSGH3/Manifest.toml`\n",
      " \u001b[90m [1520ce14]\u001b[39m\u001b[37m AbstractTrees v0.2.1\u001b[39m\n",
      " \u001b[90m [6e4b80f9]\u001b[39m\u001b[37m BenchmarkTools v0.4.3\u001b[39m\n",
      " \u001b[90m [b99e7846]\u001b[39m\u001b[37m BinaryProvider v0.5.6\u001b[39m\n",
      " \u001b[90m [34da2185]\u001b[39m\u001b[37m Compat v2.2.0\u001b[39m\n",
      " \u001b[90m [f65535da]\u001b[39m\u001b[37m Convex v0.12.5\u001b[39m\n",
      " \u001b[90m [e2685f51]\u001b[39m\u001b[37m ECOS v0.10.0\u001b[39m\n",
      " \u001b[90m [60bf3e95]\u001b[39m\u001b[37m GLPK v0.11.4\u001b[39m\n",
      " \u001b[90m [3c7084bd]\u001b[39m\u001b[37m GLPKMathProgInterface v0.4.4\u001b[39m\n",
      " \u001b[90m [682c06a0]\u001b[39m\u001b[37m JSON v0.21.0\u001b[39m\n",
      " \u001b[90m [b8f27783]\u001b[39m\u001b[37m MathOptInterface v0.9.5\u001b[39m\n",
      " \u001b[90m [fdba3010]\u001b[39m\u001b[37m MathProgBase v0.7.7\u001b[39m\n",
      " \u001b[90m [bac558e1]\u001b[39m\u001b[37m OrderedCollections v1.1.0\u001b[39m\n",
      " \u001b[90m [69de0a69]\u001b[39m\u001b[37m Parsers v0.3.7\u001b[39m\n",
      " \u001b[90m [c946c3f1]\u001b[39m\u001b[37m SCS v0.6.1\u001b[39m\n",
      " \u001b[90m [2a0f44e3]\u001b[39m\u001b[37m Base64  [`@stdlib/Base64`]\u001b[39m\n",
      " \u001b[90m [ade2ca70]\u001b[39m\u001b[37m Dates  [`@stdlib/Dates`]\u001b[39m\n",
      " \u001b[90m [8bb1440f]\u001b[39m\u001b[37m DelimitedFiles  [`@stdlib/DelimitedFiles`]\u001b[39m\n",
      " \u001b[90m [8ba89e20]\u001b[39m\u001b[37m Distributed  [`@stdlib/Distributed`]\u001b[39m\n",
      " \u001b[90m [b77e0a4c]\u001b[39m\u001b[37m InteractiveUtils  [`@stdlib/InteractiveUtils`]\u001b[39m\n",
      " \u001b[90m [76f85450]\u001b[39m\u001b[37m LibGit2  [`@stdlib/LibGit2`]\u001b[39m\n",
      " \u001b[90m [8f399da3]\u001b[39m\u001b[37m Libdl  [`@stdlib/Libdl`]\u001b[39m\n",
      " \u001b[90m [37e2e46d]\u001b[39m\u001b[37m LinearAlgebra  [`@stdlib/LinearAlgebra`]\u001b[39m\n",
      " \u001b[90m [56ddb016]\u001b[39m\u001b[37m Logging  [`@stdlib/Logging`]\u001b[39m\n",
      " \u001b[90m [d6f4376e]\u001b[39m\u001b[37m Markdown  [`@stdlib/Markdown`]\u001b[39m\n",
      " \u001b[90m [a63ad114]\u001b[39m\u001b[37m Mmap  [`@stdlib/Mmap`]\u001b[39m\n",
      " \u001b[90m [44cfe95a]\u001b[39m\u001b[37m Pkg  [`@stdlib/Pkg`]\u001b[39m\n",
      " \u001b[90m [de0858da]\u001b[39m\u001b[37m Printf  [`@stdlib/Printf`]\u001b[39m\n",
      " \u001b[90m [3fa0cd96]\u001b[39m\u001b[37m REPL  [`@stdlib/REPL`]\u001b[39m\n",
      " \u001b[90m [9a3f8284]\u001b[39m\u001b[37m Random  [`@stdlib/Random`]\u001b[39m\n",
      " \u001b[90m [ea8e919c]\u001b[39m\u001b[37m SHA  [`@stdlib/SHA`]\u001b[39m\n",
      " \u001b[90m [9e88b42a]\u001b[39m\u001b[37m Serialization  [`@stdlib/Serialization`]\u001b[39m\n",
      " \u001b[90m [1a1011a3]\u001b[39m\u001b[37m SharedArrays  [`@stdlib/SharedArrays`]\u001b[39m\n",
      " \u001b[90m [6462fe0b]\u001b[39m\u001b[37m Sockets  [`@stdlib/Sockets`]\u001b[39m\n",
      " \u001b[90m [2f01184e]\u001b[39m\u001b[37m SparseArrays  [`@stdlib/SparseArrays`]\u001b[39m\n",
      " \u001b[90m [10745b16]\u001b[39m\u001b[37m Statistics  [`@stdlib/Statistics`]\u001b[39m\n",
      " \u001b[90m [8dfed614]\u001b[39m\u001b[37m Test  [`@stdlib/Test`]\u001b[39m\n",
      " \u001b[90m [cf7118a7]\u001b[39m\u001b[37m UUIDs  [`@stdlib/UUIDs`]\u001b[39m\n",
      " \u001b[90m [4ec0a83e]\u001b[39m\u001b[37m Unicode  [`@stdlib/Unicode`]\u001b[39m\n"
     ]
    },
    {
     "name": "stderr",
     "output_type": "stream",
     "text": [
      "┌ Warning: Problem status Infeasible; solution may be inaccurate.\n",
      "└ @ Convex ~/.julia/packages/Convex/6NNC8/src/solution.jl:51\n"
     ]
    },
    {
     "name": "stdout",
     "output_type": "stream",
     "text": [
      "Solution object has dual value, checking for dual correctness.\n",
      "Solution object has dual value, checking for dual correctness.\n",
      "Solution object has dual value, checking for dual correctness.\n",
      "Solution object has dual value, checking for dual correctness.\n",
      "glp_intopt: optimal basis to initial LP relaxation not provided\n"
     ]
    },
    {
     "name": "stderr",
     "output_type": "stream",
     "text": [
      "┌ Warning: Problem status Infeasible; solution may be inaccurate.\n",
      "└ @ Convex ~/.julia/packages/Convex/6NNC8/src/solution.jl:51\n"
     ]
    },
    {
     "name": "stdout",
     "output_type": "stream",
     "text": [
      "Solution object has dual value, checking for dual correctness.\n",
      "Solution object has dual value, checking for dual correctness.\n",
      "Solution object has dual value, checking for dual correctness.\n"
     ]
    },
    {
     "name": "stderr",
     "output_type": "stream",
     "text": [
      "┌ Warning: Problem status Infeasible; solution may be inaccurate.\n",
      "└ @ Convex ~/.julia/packages/Convex/6NNC8/src/solution.jl:51\n"
     ]
    },
    {
     "name": "stdout",
     "output_type": "stream",
     "text": [
      "Solution object has dual value, checking for dual correctness.\n"
     ]
    },
    {
     "name": "stderr",
     "output_type": "stream",
     "text": [
      "┌ Warning: Problem not DCP compliant: objective is not DCP\n",
      "└ @ Convex ~/.julia/packages/Convex/6NNC8/src/problems.jl:86\n",
      "┌ Warning: Rational norm generating 18 intermediate constraints.\n",
      "│ \tIncreasing :max_iters or decreasing solver tolerance\n",
      "│ \tmay give more accurate solutions\n",
      "└ @ Convex ~/.julia/packages/Convex/6NNC8/src/atoms/second_order_cone/rationalnorm.jl:88\n",
      "[ Info: GLPKSolverMIP cannot solve second order cone programs. Consider using SCS, ECOS, Mosek, or Gurobi.\n",
      "┌ Warning: Problem not DCP compliant: objective is not DCP\n",
      "└ @ Convex ~/.julia/packages/Convex/6NNC8/src/problems.jl:86\n",
      "┌ Warning: Rational norm generating 18 intermediate constraints.\n",
      "│ \tIncreasing :max_iters or decreasing solver tolerance\n",
      "│ \tmay give more accurate solutions\n",
      "└ @ Convex ~/.julia/packages/Convex/6NNC8/src/atoms/second_order_cone/rationalnorm.jl:88\n",
      "┌ Warning: Problem status UnknownError; solution may be inaccurate.\n",
      "└ @ Convex ~/.julia/packages/Convex/6NNC8/src/solution.jl:51\n",
      "[ Info: ECOSSolver cannot solve semidefinite programs. Consider using SCS or Mosek.\n",
      "[ Info: GLPKSolverMIP cannot solve semidefinite programs. Consider using SCS or Mosek.\n",
      "┌ Warning: Problem status UnknownError; solution may be inaccurate.\n",
      "└ @ Convex ~/.julia/packages/Convex/6NNC8/src/solution.jl:51\n"
     ]
    },
    {
     "name": "stdout",
     "output_type": "stream",
     "text": [
      "8.485280538819282\n"
     ]
    },
    {
     "name": "stderr",
     "output_type": "stream",
     "text": [
      "[ Info: GLPKSolverMIP cannot solve exponential programs. Consider using SCS or ECOS.\n",
      "[ Info: ECOSSolver cannot solve semidefinite programs. Consider using SCS or Mosek.\n",
      "[ Info: GLPKSolverMIP cannot solve semidefinite programs. Consider using SCS or Mosek.\n",
      "[ Info: ECOSSolver cannot solve mixed integer programs. Consider using Gurobi, Mosek, or GLPK.\n",
      "[ Info: SCSSolver cannot solve mixed integer programs. Consider using Gurobi, Mosek, or GLPK.\n"
     ]
    },
    {
     "name": "stdout",
     "output_type": "stream",
     "text": [
      "Test Summary: | Pass  Total\n",
      "Convex        | 1005   1005\n",
      "Call to SCS(accelerate) failed with code 16, falling back to using no acceleration\n",
      "----------------------------------------------------------------------------\n",
      "\tSCS v2.0.2 - Splitting Conic Solver\n",
      "\t(c) Brendan O'Donoghue, Stanford University, 2012-2017\n",
      "----------------------------------------------------------------------------\n",
      "Lin-sys: sparse-indirect, nnz in A = 29, CG tol ~ 1/iter^(2.00)\n",
      "eps = 1.00e-05, alpha = 1.50, max_iters = 5000, normalize = 1, scale = 1.00\n",
      "acceleration_lookback = 20, rho_x = 1.00e-03\n",
      "Variables n = 9, constraints m = 25\n",
      "Cones:\tprimal zero / dual free vars: 15\n",
      "\tsd vars: 10, sd blks: 1\n",
      "Setup time: 9.34e-05s\n",
      "----------------------------------------------------------------------------\n",
      " Iter | pri res | dua res | rel gap | pri obj | dua obj | kap/tau | time (s)\n",
      "----------------------------------------------------------------------------\n",
      "     0| 6.80e+00  1.54e+01  9.77e-01 -1.27e+01  3.06e+01  5.90e-15  4.67e-05 \n",
      "     9| 1.53e-16  7.20e-17  1.18e-16 -9.00e-18 -1.27e-16  8.36e-17  1.20e-04 \n",
      "----------------------------------------------------------------------------\n",
      "Status: Solved\n",
      "Timing: Solve time: 1.22e-04s\n",
      "\tLin-sys: avg # CG iterations: 1.00, avg solve time: 1.04e-06s\n",
      "\tCones: avg projection time: 1.85e-06s\n",
      "\tAcceleration: avg step time: 3.98e-06s\n",
      "----------------------------------------------------------------------------\n",
      "Error metrics:\n",
      "dist(s, K) = 1.1294e-16, dist(y, K*) = 0.0000e+00, s'y/|s||y| = -5.6472e-17\n",
      "primal res: |Ax + s - b|_2 / (1 + |b|_2) = 1.5331e-16\n",
      "dual res:   |A'y + c|_2 / (1 + |c|_2) = 7.1960e-17\n",
      "rel gap:    |c'x + b'y| / (1 + |c'x| + |b'y|) = 1.1793e-16\n",
      "----------------------------------------------------------------------------\n",
      "c'x = -0.0000, -b'y = -0.0000\n",
      "============================================================================\n",
      "\u001b[32m\u001b[1m   Testing\u001b[22m\u001b[39m Convex tests passed \n"
     ]
    }
   ],
   "source": [
    "Pkg.test(\"Convex\");"
   ]
  },
  {
   "cell_type": "code",
   "execution_count": 5,
   "metadata": {},
   "outputs": [
    {
     "name": "stdout",
     "output_type": "stream",
     "text": [
      "\u001b[32m\u001b[1m  Updating\u001b[22m\u001b[39m registry at `~/.julia/registries/General`\n",
      "\u001b[32m\u001b[1m  Updating\u001b[22m\u001b[39m git-repo `https://github.com/JuliaRegistries/General.git`\n",
      "\u001b[?25l\u001b[2K\u001b[?25h\u001b[32m\u001b[1m Resolving\u001b[22m\u001b[39m package versions...\n",
      "\u001b[32m\u001b[1m Installed\u001b[22m\u001b[39m SCS ─ v0.6.2\n",
      "\u001b[32m\u001b[1m  Updating\u001b[22m\u001b[39m `~/.julia/environments/v1.2/Project.toml`\n",
      " \u001b[90m [c946c3f1]\u001b[39m\u001b[93m ↑ SCS v0.6.1 ⇒ v0.6.2\u001b[39m\n",
      "\u001b[32m\u001b[1m  Updating\u001b[22m\u001b[39m `~/.julia/environments/v1.2/Manifest.toml`\n",
      " \u001b[90m [c946c3f1]\u001b[39m\u001b[93m ↑ SCS v0.6.1 ⇒ v0.6.2\u001b[39m\n",
      "\u001b[32m\u001b[1m  Building\u001b[22m\u001b[39m SCS → `~/.julia/packages/SCS/Y9wx3/deps/build.log`\n"
     ]
    }
   ],
   "source": [
    "Pkg.update()"
   ]
  },
  {
   "cell_type": "markdown",
   "metadata": {},
   "source": [
    "If you want to use a package that is not a registered Julia package or if you want to use the current development branch of a package, use Pkg.add(PackageSpec(url=\" \") with a GitHub URL."
   ]
  },
  {
   "cell_type": "code",
   "execution_count": 7,
   "metadata": {},
   "outputs": [
    {
     "name": "stdout",
     "output_type": "stream",
     "text": [
      "\u001b[32m\u001b[1m  Updating\u001b[22m\u001b[39m git-repo `https://github.com/timholy/HeaderREPLs.jl`\n",
      "\u001b[?25l\u001b[2K\u001b[?25h\u001b[32m\u001b[1m  Updating\u001b[22m\u001b[39m git-repo `https://github.com/timholy/HeaderREPLs.jl`\n",
      "\u001b[?25l\u001b[2K\u001b[?25h\u001b[32m\u001b[1m Resolving\u001b[22m\u001b[39m package versions...\n",
      "\u001b[32m\u001b[1m  Updating\u001b[22m\u001b[39m `~/.julia/environments/v1.2/Project.toml`\n",
      " \u001b[90m [54d51984]\u001b[39m\u001b[92m + HeaderREPLs v0.3.0 #master (https://github.com/timholy/HeaderREPLs.jl)\u001b[39m\n",
      "\u001b[32m\u001b[1m  Updating\u001b[22m\u001b[39m `~/.julia/environments/v1.2/Manifest.toml`\n",
      " \u001b[90m [54d51984]\u001b[39m\u001b[92m + HeaderREPLs v0.3.0 #master (https://github.com/timholy/HeaderREPLs.jl)\u001b[39m\n"
     ]
    }
   ],
   "source": [
    "Pkg.add(PackageSpec(url = \"https://github.com/timholy/HeaderREPLs.jl\"))\n",
    "#PackageSpec will assemble an object from the url that Pkg.add knows how to interpret.\n",
    "#Pkg.clone is the old way to do this in Julia-- only use is for legacy reasons"
   ]
  },
  {
   "cell_type": "code",
   "execution_count": 8,
   "metadata": {},
   "outputs": [
    {
     "name": "stdout",
     "output_type": "stream",
     "text": [
      "\u001b[32m\u001b[1m    Status\u001b[22m\u001b[39m `~/.julia/environments/v1.2/Project.toml`\n",
      " \u001b[90m [7d9fca2a]\u001b[39m\u001b[37m Arpack v0.3.1\u001b[39m\n",
      " \u001b[90m [336ed68f]\u001b[39m\u001b[37m CSV v0.5.13\u001b[39m\n",
      " \u001b[90m [a81c6b42]\u001b[39m\u001b[37m Compose v0.7.3\u001b[39m\n",
      " \u001b[90m [f65535da]\u001b[39m\u001b[37m Convex v0.12.5\u001b[39m\n",
      " \u001b[90m [a93c6f00]\u001b[39m\u001b[37m DataFrames v0.19.4\u001b[39m\n",
      " \u001b[90m [864edb3b]\u001b[39m\u001b[37m DataStructures v0.17.2\u001b[39m\n",
      " \u001b[90m [e2685f51]\u001b[39m\u001b[37m ECOS v0.10.0\u001b[39m\n",
      " \u001b[90m [a2cc645c]\u001b[39m\u001b[37m GraphPlot v0.3.1\u001b[39m\n",
      " \u001b[90m [54d51984]\u001b[39m\u001b[37m HeaderREPLs v0.3.0 #master (https://github.com/timholy/HeaderREPLs.jl)\u001b[39m\n",
      " \u001b[90m [7073ff75]\u001b[39m\u001b[37m IJulia v1.20.0\u001b[39m\n",
      " \u001b[90m [42fd0dbc]\u001b[39m\u001b[37m IterativeSolvers v0.8.1\u001b[39m\n",
      " \u001b[90m [6f8e5838]\u001b[39m\u001b[37m Laplacians v1.1.1\u001b[39m\n",
      " \u001b[90m [093fc24a]\u001b[39m\u001b[37m LightGraphs v1.3.0\u001b[39m\n",
      " \u001b[90m [5c8ed15e]\u001b[39m\u001b[37m LinearOperators v0.5.4\u001b[39m\n",
      " \u001b[90m [91a5bcdd]\u001b[39m\u001b[37m Plots v0.27.0\u001b[39m\n",
      " \u001b[90m [27ebfcd6]\u001b[39m\u001b[37m Primes v0.4.0\u001b[39m\n",
      " \u001b[90m [92933f4c]\u001b[39m\u001b[37m ProgressMeter v1.1.0\u001b[39m\n",
      " \u001b[90m [438e738f]\u001b[39m\u001b[37m PyCall v1.91.2\u001b[39m\n",
      " \u001b[90m [ce6b1742]\u001b[39m\u001b[37m RDatasets v0.6.3\u001b[39m\n",
      " \u001b[90m [c946c3f1]\u001b[39m\u001b[37m SCS v0.6.2\u001b[39m\n",
      " \u001b[90m [f3b207a7]\u001b[39m\u001b[37m StatsPlots v0.12.0\u001b[39m\n"
     ]
    }
   ],
   "source": [
    "Pkg.status()"
   ]
  },
  {
   "cell_type": "code",
   "execution_count": 9,
   "metadata": {},
   "outputs": [
    {
     "name": "stdout",
     "output_type": "stream",
     "text": [
      "\u001b[32m\u001b[1m  Updating\u001b[22m\u001b[39m `~/.julia/environments/v1.2/Project.toml`\n",
      " \u001b[90m [54d51984]\u001b[39m\u001b[91m - HeaderREPLs v0.3.0 #master (https://github.com/timholy/HeaderREPLs.jl)\u001b[39m\n",
      "\u001b[32m\u001b[1m  Updating\u001b[22m\u001b[39m `~/.julia/environments/v1.2/Manifest.toml`\n",
      " \u001b[90m [54d51984]\u001b[39m\u001b[91m - HeaderREPLs v0.3.0 #master (https://github.com/timholy/HeaderREPLs.jl)\u001b[39m\n"
     ]
    }
   ],
   "source": [
    "Pkg.rm(\"HeaderREPLs\")"
   ]
  },
  {
   "cell_type": "code",
   "execution_count": 10,
   "metadata": {},
   "outputs": [
    {
     "name": "stdout",
     "output_type": "stream",
     "text": [
      "\u001b[32m\u001b[1m    Status\u001b[22m\u001b[39m `~/.julia/environments/v1.2/Project.toml`\n",
      " \u001b[90m [7d9fca2a]\u001b[39m\u001b[37m Arpack v0.3.1\u001b[39m\n",
      " \u001b[90m [336ed68f]\u001b[39m\u001b[37m CSV v0.5.13\u001b[39m\n",
      " \u001b[90m [a81c6b42]\u001b[39m\u001b[37m Compose v0.7.3\u001b[39m\n",
      " \u001b[90m [f65535da]\u001b[39m\u001b[37m Convex v0.12.5\u001b[39m\n",
      " \u001b[90m [a93c6f00]\u001b[39m\u001b[37m DataFrames v0.19.4\u001b[39m\n",
      " \u001b[90m [864edb3b]\u001b[39m\u001b[37m DataStructures v0.17.2\u001b[39m\n",
      " \u001b[90m [e2685f51]\u001b[39m\u001b[37m ECOS v0.10.0\u001b[39m\n",
      " \u001b[90m [a2cc645c]\u001b[39m\u001b[37m GraphPlot v0.3.1\u001b[39m\n",
      " \u001b[90m [7073ff75]\u001b[39m\u001b[37m IJulia v1.20.0\u001b[39m\n",
      " \u001b[90m [42fd0dbc]\u001b[39m\u001b[37m IterativeSolvers v0.8.1\u001b[39m\n",
      " \u001b[90m [6f8e5838]\u001b[39m\u001b[37m Laplacians v1.1.1\u001b[39m\n",
      " \u001b[90m [093fc24a]\u001b[39m\u001b[37m LightGraphs v1.3.0\u001b[39m\n",
      " \u001b[90m [5c8ed15e]\u001b[39m\u001b[37m LinearOperators v0.5.4\u001b[39m\n",
      " \u001b[90m [91a5bcdd]\u001b[39m\u001b[37m Plots v0.27.0\u001b[39m\n",
      " \u001b[90m [27ebfcd6]\u001b[39m\u001b[37m Primes v0.4.0\u001b[39m\n",
      " \u001b[90m [92933f4c]\u001b[39m\u001b[37m ProgressMeter v1.1.0\u001b[39m\n",
      " \u001b[90m [438e738f]\u001b[39m\u001b[37m PyCall v1.91.2\u001b[39m\n",
      " \u001b[90m [ce6b1742]\u001b[39m\u001b[37m RDatasets v0.6.3\u001b[39m\n",
      " \u001b[90m [c946c3f1]\u001b[39m\u001b[37m SCS v0.6.2\u001b[39m\n",
      " \u001b[90m [f3b207a7]\u001b[39m\u001b[37m StatsPlots v0.12.0\u001b[39m\n"
     ]
    }
   ],
   "source": [
    "Pkg.status()"
   ]
  },
  {
   "cell_type": "markdown",
   "metadata": {},
   "source": [
    "# Linear Operators & Iterative Solvers\n",
    "\n",
    "Go to the [iterative solvers notebook](https://github.com/icme/cme257-advanced-julia/tree/master/class/class3/iterative_solvers.ipynb) on the class website."
   ]
  },
  {
   "cell_type": "markdown",
   "metadata": {},
   "source": [
    "# Data and Plots\n",
    "\n",
    "Go to the [data and plots notebook](https://github.com/icme/cme257-advanced-julia/tree/master/class/class3/data_and_plots.ipynb) on the class website in the extras folder.\n",
    "\n"
   ]
  },
  {
   "cell_type": "markdown",
   "metadata": {},
   "source": [
    "# Rest of Class\n",
    "\n",
    "Try installing/using any package you think is interesting.  Check out the [package listing](https://pkg.julialang.org/), or clone a package that is in development.\n",
    "\n",
    "# Final Notes\n",
    "\n",
    "* Very small HW assignment this week, will be due in 2 weeks (I'll need to use a little bit of material that I'll cover in lecture 4.)\n",
    "* Next week, we'll talk about git version control, and making your own package\n",
    "* HW next week will be to make an ipynb demoing a Julia package of your choice, and creating a pull request to the class Julia repository to share it.  You can start on the ipynb ahead of time if you'd like."
   ]
  }
 ],
 "metadata": {
  "kernelspec": {
   "display_name": "Julia 1.2.0",
   "language": "julia",
   "name": "julia-1.2"
  },
  "language_info": {
   "file_extension": ".jl",
   "mimetype": "application/julia",
   "name": "julia",
   "version": "1.2.0"
  }
 },
 "nbformat": 4,
 "nbformat_minor": 1
}
