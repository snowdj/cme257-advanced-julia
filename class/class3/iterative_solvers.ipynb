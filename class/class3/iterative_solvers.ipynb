{
 "cells": [
  {
   "cell_type": "markdown",
   "metadata": {},
   "source": [
    "# Iterative Solvers with Linear Operators\n",
    "\n",
    "Here we demo how to solve data-sparse linear operators with an iterative solver.  Essentially we'd like to solve\n",
    "$$Ax = b$$\n",
    "for $x$, where $A$ may have some special structure\n",
    "\n",
    "The two packages we'll use are\n",
    "* [LinearOperators.jl](https://juliasmoothoptimizers.github.io/LinearOperators.jl/latest/index.html)\n",
    "* [IterativeSolvers.jl](https://juliamath.github.io/IterativeSolvers.jl/latest/)\n",
    "\n",
    "In the exercises, you can also try out\n",
    "* [RandomizedLinAlg.jl](https://haampie.github.io/RandomizedLinAlg.jl/latest/)\n",
    "\n",
    "Which allows you to use randomized algorithms on linear operators.  Note that this package is still not very well developed."
   ]
  },
  {
   "cell_type": "code",
   "execution_count": 2,
   "metadata": {},
   "outputs": [
    {
     "name": "stdout",
     "output_type": "stream",
     "text": [
      "\u001b[32m\u001b[1m  Updating\u001b[22m\u001b[39m registry at `~/.julia/registries/General`\n",
      "\u001b[32m\u001b[1m  Updating\u001b[22m\u001b[39m git-repo `https://github.com/JuliaRegistries/General.git`\n",
      "\u001b[2K\u001b[?25h[1mFetching:\u001b[22m\u001b[39m [========================================>]  100.0 %.0 %\u001b[32m\u001b[1m Resolving\u001b[22m\u001b[39m package versions...\n",
      "\u001b[32m\u001b[1m  Updating\u001b[22m\u001b[39m `~/.julia/environments/v1.2/Project.toml`\n",
      "\u001b[90m [no changes]\u001b[39m\n",
      "\u001b[32m\u001b[1m  Updating\u001b[22m\u001b[39m `~/.julia/environments/v1.2/Manifest.toml`\n",
      "\u001b[90m [no changes]\u001b[39m\n"
     ]
    }
   ],
   "source": [
    "using Pkg; Pkg.add([\"IterativeSolvers\",\"LinearOperators\"])\n",
    "using LinearOperators, IterativeSolvers, LinearAlgebra"
   ]
  },
  {
   "cell_type": "markdown",
   "metadata": {},
   "source": [
    "LinearOperators let you work with low-rank and otherwise sparse objects as if they were matrices, but with basically no performance penalty for doing so."
   ]
  },
  {
   "cell_type": "code",
   "execution_count": 3,
   "metadata": {},
   "outputs": [],
   "source": [
    "n = 1000\n",
    "v = randn(n,1)\n",
    "v /= norm(v)\n",
    "opV = LinearOperator(v)\n",
    "A = v*v'\n",
    "opA = opV * opV'\n",
    ";"
   ]
  },
  {
   "cell_type": "code",
   "execution_count": 5,
   "metadata": {},
   "outputs": [
    {
     "name": "stdout",
     "output_type": "stream",
     "text": [
      "  0.002600 seconds (5 allocations: 8.094 KiB)\n",
      "  0.000019 seconds (6 allocations: 8.188 KiB)\n",
      "  0.000017 seconds (6 allocations: 8.109 KiB)\n",
      "norm(b1 - b2) = 4.2090860693657047e-16\n",
      "norm(b2 - b3) = 0.0\n"
     ]
    }
   ],
   "source": [
    "x = randn(n)\n",
    "@time b1 = A * x\n",
    "@time b2 = opA*x \n",
    "@time b3 = dot(v,x)*v\n",
    "@show norm(b1-b2)\n",
    "@show norm(b2-b3)\n",
    ";"
   ]
  },
  {
   "cell_type": "code",
   "execution_count": 6,
   "metadata": {},
   "outputs": [
    {
     "data": {
      "text/plain": [
       "f2 (generic function with 1 method)"
      ]
     },
     "execution_count": 6,
     "metadata": {},
     "output_type": "execute_result"
    }
   ],
   "source": [
    "#comparing how LinearOperators do when compared to the equivalent vectorized code\n",
    "function f1(n)\n",
    "    local x = randn(n)\n",
    "    for i=1:10*n\n",
    "        local v = randn(n,1)\n",
    "        local v /= norm(v)\n",
    "        local opV = LinearOperator(v)\n",
    "        local b2 = opA*x\n",
    "    end\n",
    "end\n",
    "\n",
    "function f2(n)\n",
    "    local x = randn(n)\n",
    "    for i=1:10*n\n",
    "        local v = randn(n)\n",
    "        local v /= norm(v)\n",
    "        local b3 = dot(v,x)*v\n",
    "    end\n",
    "end"
   ]
  },
  {
   "cell_type": "code",
   "execution_count": 8,
   "metadata": {},
   "outputs": [
    {
     "name": "stdout",
     "output_type": "stream",
     "text": [
      "  0.258557 seconds (40.01 k allocations: 233.467 MiB, 12.30% gc time)\n",
      "  0.273919 seconds (30.00 k allocations: 232.552 MiB, 14.11% gc time)\n"
     ]
    }
   ],
   "source": [
    "@time f1(1000)\n",
    "@time f2(1000)"
   ]
  },
  {
   "cell_type": "markdown",
   "metadata": {},
   "source": [
    "## Use with IterativeSolvers package"
   ]
  },
  {
   "cell_type": "code",
   "execution_count": 9,
   "metadata": {},
   "outputs": [
    {
     "name": "stdout",
     "output_type": "stream",
     "text": [
      "c = sqrt(2 * log(n)) = 3.7169221888498383\n"
     ]
    },
    {
     "data": {
      "text/plain": [
       "Linear operator\n",
       "  nrow: 1000\n",
       "  ncol: 1000\n",
       "  eltype: Float64\n",
       "  symmetric: true\n",
       "  hermitian: true\n",
       "\n"
      ]
     },
     "execution_count": 9,
     "metadata": {},
     "output_type": "execute_result"
    }
   ],
   "source": [
    "using Random\n",
    "Random.seed!(1)\n",
    "@show c = sqrt(2*log(n))\n",
    "opA2 = (2*c)*opA + Diagonal(abs.(randn(n))) # spiked model\n",
    "opA2.symmetric=true\n",
    "opA2.hermitian=true\n",
    "opA2"
   ]
  },
  {
   "cell_type": "code",
   "execution_count": 18,
   "metadata": {},
   "outputs": [
    {
     "name": "stdout",
     "output_type": "stream",
     "text": [
      "  0.013801 seconds (1.24 k allocations: 7.643 MiB, 80.02% gc time)\n",
      "  0.002155 seconds (1.29 k allocations: 7.970 MiB)\n",
      "norm(b - opA2 * x_est_minres) = 4.036826124819918e-7\n",
      "norm(b - opA2 * x_est_cg) = 3.754567418356935e-7\n"
     ]
    }
   ],
   "source": [
    "x_true = randn(n)\n",
    "b = opA2 * x_true\n",
    "@time x_est_minres = minres(opA2, b)\n",
    "@time x_est_cg = cg(opA2, b)\n",
    "@show norm(b - opA2*x_est_minres)\n",
    "@show norm(b - opA2*x_est_cg)\n",
    ";"
   ]
  },
  {
   "cell_type": "markdown",
   "metadata": {},
   "source": [
    "As a comparison, here's how solving the dense matrix with backslash goes:"
   ]
  },
  {
   "cell_type": "code",
   "execution_count": 15,
   "metadata": {},
   "outputs": [
    {
     "name": "stdout",
     "output_type": "stream",
     "text": [
      "  0.126188 seconds (9 allocations: 7.645 MiB, 65.32% gc time)\n",
      "norm(b - A2 * x_est) = 2.019170560589031e-14\n"
     ]
    }
   ],
   "source": [
    "Random.seed!(1)\n",
    "A2 = (2*c)*A + Diagonal(abs.(randn(n)))\n",
    "@time x_est = A2\\b\n",
    "@show norm(b - A2*x_est)\n",
    ";"
   ]
  },
  {
   "cell_type": "markdown",
   "metadata": {},
   "source": [
    "## Exercises/Extras\n",
    "\n",
    "If you're interested, try out one or more of the following exercises:\n",
    "\n",
    "1. Try out the randomized linear algebra package [RandomizedLinAlg.jl](https://haampie.github.io/RandomizedLinAlg.jl/latest/).  Try using the ```rnorms``` function to estimate the matrix norm.\n",
    "\n",
    "2. Try out the Krylov methods package [Krylov.jl](https://github.com/JuliaSmoothOptimizers/Krylov.jl), or mess with matrix exponentials with [Expokit.jl](https://github.com/acroy/Expokit.jl).\n",
    "\n",
    "3. Make a plot of how long it takes to solve $Ax = b$ for $A$ diagonal + rank-1, for various sizes of problems. Estimate how long it would take to solve the equivalent problem using the full matrix\n",
    "\n",
    "4. You can also use sparse matrices as LinearOperators, and with iterative solvers.  Use [sprand](https://docs.julialang.org/en/stable/stdlib/arrays/#Base.SparseArrays.sprand) to generate sparse matrices of various sizes and try using [gmres](https://juliamath.github.io/IterativeSolvers.jl/latest/linear_systems/gmres.html) to solve some linear systems.\n",
    "\n",
    "5. Check out the [tutorial](https://juliasmoothoptimizers.github.io/LinearOperators.jl/latest/tutorial.html#Using-functions-1) on how to use functions as linear operators"
   ]
  }
 ],
 "metadata": {
  "kernelspec": {
   "display_name": "Julia 1.2.0",
   "language": "julia",
   "name": "julia-1.2"
  },
  "language_info": {
   "file_extension": ".jl",
   "mimetype": "application/julia",
   "name": "julia",
   "version": "1.2.0"
  }
 },
 "nbformat": 4,
 "nbformat_minor": 1
}
