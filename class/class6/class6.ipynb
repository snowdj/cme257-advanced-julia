{
 "cells": [
  {
   "cell_type": "markdown",
   "metadata": {},
   "source": [
    "# CME 257 Class 6 - Language & Library Interfaces\n",
    "\n",
    "One of the nice things about Julia is that it is relatively easy to use code written in other languages.  Today we'll talk about Julia's built-in [`ccall()`](http://julia.readthedocs.org/en/latest/manual/calling-c-and-fortran-code/) function (for C and Fortran) as well as the [PyCall](https://github.com/stevengj/PyCall.jl) package.  There are also packages to call [R](https://github.com/JuliaStats/RCall.jl), [Matlab](https://github.com/JuliaLang/MATLAB.jl), [Mathematica](https://github.com/one-more-minute/Mathematica.jl), [C++](https://github.com/Keno/Cxx.jl), and [Java](https://github.com/aviks/JavaCall.jl) (maybe more that aren't on the package registry).  We'll focus on ccall and PyCall today because these are probably the most important in the current Julia ecosystem, although you may find one of these other packages useful depending on your needs and interests.\n",
    "\n",
    "## Why call other languages?\n",
    "\n",
    "Julia can be nice to work with, but isn't perfectly suited for all problems, and hasn't been around for a long time to gain extensive package support.  Using language interfaces can let you\n",
    "\n",
    "* Use Julia for certain tasks, and use a different language for other tasks\n",
    "* Utilize robust, tried and tested libraries, or industry/community standard libraries\n",
    "* Use code from your old projects in Julia\n",
    "\n",
    "## ccall\n",
    "\n",
    "`ccall()` lets you call libraries written in either in c or fortran from Julia.  Shared object libraries vary a bit between operating systems - typically on linux they have a .so extension, Macs have a .dylib extension, and Windows has a .dll extension.  Static libraries have a .a extension on Mac/linux, and .lib extension on Windows.  The examples here were tested on a Mac.\n",
    "\n",
    "Shared object libraries are loaded at runtime, and static libraries have code that is copied when a binary is created.  You can only call shared object libraries from Julia.  If you want to learn more, try this [StackOverflow thread](http://stackoverflow.com/questions/2649334/difference-between-static-and-shared-libraries) to start."
   ]
  },
  {
   "cell_type": "code",
   "execution_count": 3,
   "metadata": {},
   "outputs": [
    {
     "data": {
      "text/plain": [
       "14369025"
      ]
     },
     "execution_count": 3,
     "metadata": {},
     "output_type": "execute_result"
    }
   ],
   "source": [
    "#A first example\n",
    "ccall((:clock, \"libc\"), Int32, ())"
   ]
  },
  {
   "cell_type": "markdown",
   "metadata": {},
   "source": [
    "\n",
    "### Compiling a library\n",
    "\n",
    "When you install a library using a package manager, it's pretty easy to get started using it.  If you have your own custom code, you need to pass in `-fPIC` and `-shared` to your compiler (at least gcc, other compilers may behave slightly differently) to help the complier know it is creating a shared object library.\n",
    "\n",
    "Here we'll use C to compile libraries, but you can also use fortran.\n",
    "\n",
    "Refer to the [Makefile](Makefile) to see a basic example.\n",
    "\n",
    "### Using ccall\n",
    "\n",
    "Important: You need to be able to find the libraries to use them.  This is done using the global variable `LD_LIBRARY_PATH`, set in the bash shell.  Set this in your terminal before launching Julia/Jupyter in order to use the libcme257.so library.\n",
    "\n",
    "```\n",
    "export LD_LIBRARY_PATH=$LD_LIBRARY_PATH:{path to your .so files}\n",
    "\n",
    "```\n",
    "\n",
    "the `.` just appends the current directory to the search path for libraries.  If you want to use a library in another directory, use its path.\n",
    "\n",
    "Information can be found in [Julia's documentation](https://docs.julialang.org/en/v1/manual/calling-c-and-fortran-code/)\n",
    "\n",
    "The first input is a function-library pair e.g. `(:c_sum, \"libcme257.so\")`, the second input is a return type, e.g. `Int64`, the third argument is a tuple of input types e.g. `(Int64, Int64)`, and the rest of the arguments are inputs.\n",
    "\n",
    "Refer to [cme257.c](cme257.c) to see the function declarations for libcme257.so.\n",
    "\n"
   ]
  },
  {
   "cell_type": "code",
   "execution_count": 11,
   "metadata": {},
   "outputs": [],
   "source": [
    "function c_hello()\n",
    "    ccall((:hello, \"libcme257.so\"), Nothing, ())\n",
    "end\n",
    "\n",
    "function c_sum(a::Int64, b::Int64)\n",
    "    return ccall((:c_sum, \"libcme257.so\"), Int64, (Int64, Int64), a, b)\n",
    "    #return ccall((:c_sum, \"libcme257\"), Int64, (Float64, Float64), Float64(a), Float64(b))\n",
    "end\n",
    "\n",
    "# an example of what you can do wrong\n",
    "function c_sum2(a::Float64, b::Float64)\n",
    "    return ccall((:c_sum, \"libcme257.so\"), Float64, (Float64, Float64), a, b)\n",
    "end\n",
    ";"
   ]
  },
  {
   "cell_type": "code",
   "execution_count": 12,
   "metadata": {},
   "outputs": [
    {
     "name": "stdout",
     "output_type": "stream",
     "text": [
      "c_sum(100, 5) = 105\n",
      "hello world!"
     ]
    }
   ],
   "source": [
    "@show c_sum(100, 5)\n",
    "c_hello()"
   ]
  },
  {
   "cell_type": "code",
   "execution_count": 13,
   "metadata": {},
   "outputs": [
    {
     "data": {
      "text/plain": [
       "1.0"
      ]
     },
     "execution_count": 13,
     "metadata": {},
     "output_type": "execute_result"
    }
   ],
   "source": [
    "c_sum2(1.0, 2.0)"
   ]
  },
  {
   "cell_type": "markdown",
   "metadata": {},
   "source": [
    "You can also call libraries installed on your computer, usually without modifying `LD_LIBRARY_PATH`"
   ]
  },
  {
   "cell_type": "code",
   "execution_count": 14,
   "metadata": {},
   "outputs": [
    {
     "data": {
      "text/plain": [
       "c_cos (generic function with 1 method)"
      ]
     },
     "execution_count": 14,
     "metadata": {},
     "output_type": "execute_result"
    }
   ],
   "source": [
    "# call cosine in libmath\n",
    "function c_cos(x::Float64)\n",
    "   return ccall((:cos, \"libm\"), Float64, (Float64,), x) \n",
    "end"
   ]
  },
  {
   "cell_type": "code",
   "execution_count": 17,
   "metadata": {},
   "outputs": [
    {
     "name": "stdout",
     "output_type": "stream",
     "text": [
      "  0.000003 seconds (5 allocations: 176 bytes)\n",
      "  0.000007 seconds (5 allocations: 176 bytes)\n",
      "(y1, y2) = (-1.0, -1.0)\n"
     ]
    }
   ],
   "source": [
    "x = Float64(pi)\n",
    "@time y1 = c_cos(x)\n",
    "@time y2 = cos(x)\n",
    "@show y1, y2\n",
    ";"
   ]
  },
  {
   "cell_type": "markdown",
   "metadata": {},
   "source": [
    "For the math library, see [here](http://en.cppreference.com/w/c/numeric/math).  You can find many standard library function headers [here](http://en.cppreference.com/w/c/header).\n",
    "\n",
    "ccall is used in parts of Julia, and also in some common libraries.\n",
    "\n",
    "* [Metis.jl](https://github.com/JuliaSparse/Metis.jl) is simply a wrapper for the Metis library (graph partioning).\n",
    "* [TensorFlow.jl](https://github.com/malmaud/TensorFlow.jl) wraps the TensorFlow library."
   ]
  },
  {
   "cell_type": "markdown",
   "metadata": {},
   "source": [
    "## Broadcasting/vectorization\n",
    "\n",
    "Whenever you create a function in Julia, you can \"broadcast\" that function to an array of the types that the function works on.  This is done using the `.`:"
   ]
  },
  {
   "cell_type": "code",
   "execution_count": 19,
   "metadata": {},
   "outputs": [
    {
     "data": {
      "text/plain": [
       "5-element Array{Float64,1}:\n",
       " 0.9743406502659705\n",
       " 0.7433038460352788\n",
       " 0.9794989264587904\n",
       " 0.9685956739889715\n",
       " 0.968852534991265 "
      ]
     },
     "execution_count": 19,
     "metadata": {},
     "output_type": "execute_result"
    }
   ],
   "source": [
    "x = randn()\n",
    "y = c_cos(x) # regular function\n",
    "x = randn(5)\n",
    "y = c_cos.(x) # broadcasted function"
   ]
  },
  {
   "cell_type": "markdown",
   "metadata": {},
   "source": [
    "Note we never defined a function `c_cos.`, just `c_cos` - think of this `.` as automatically creating vectorized functions (if you're used to MATLAB)."
   ]
  },
  {
   "cell_type": "code",
   "execution_count": 20,
   "metadata": {},
   "outputs": [
    {
     "name": "stdout",
     "output_type": "stream",
     "text": [
      "  0.000010 seconds (7 allocations: 320 bytes)\n",
      "  0.099578 seconds (138.33 k allocations: 7.375 MiB, 26.92% gc time)\n"
     ]
    },
    {
     "data": {
      "text/plain": [
       "1.2412670766236366e-16"
      ]
     },
     "execution_count": 20,
     "metadata": {},
     "output_type": "execute_result"
    }
   ],
   "source": [
    "x = randn(5)\n",
    "using LinearAlgebra\n",
    "@time y1 = c_cos.(x)\n",
    "@time y2 = cos.(x)\n",
    "norm(y1-y2)"
   ]
  },
  {
   "cell_type": "markdown",
   "metadata": {},
   "source": [
    "For more information see Julia's documentation on [array broadcasting](hhttps://docs.julialang.org/en/v1/base/arrays/#Broadcast-and-vectorization-1) and [vectorizing functions](https://docs.julialang.org/en/v1/manual/functions/#man-vectorized-1).  \n",
    "\n",
    "For more complicated element-wise array manipulations, it is also handy to know about the [`map` function](https://docs.julialang.org/en/v1/base/collections/#Base.map)"
   ]
  },
  {
   "cell_type": "code",
   "execution_count": 21,
   "metadata": {},
   "outputs": [
    {
     "name": "stdout",
     "output_type": "stream",
     "text": [
      "  0.000012 seconds (7 allocations: 320 bytes)\n",
      "  0.080124 seconds (103.60 k allocations: 5.390 MiB)\n"
     ]
    },
    {
     "data": {
      "text/plain": [
       "0.0"
      ]
     },
     "execution_count": 21,
     "metadata": {},
     "output_type": "execute_result"
    }
   ],
   "source": [
    "@time y1 = c_cos.(x)\n",
    "@time y2 = map(c_cos, x)\n",
    "norm(y1 - y2)"
   ]
  },
  {
   "cell_type": "code",
   "execution_count": 22,
   "metadata": {},
   "outputs": [
    {
     "data": {
      "text/plain": [
       "5-element Array{Int64,1}:\n",
       "  2\n",
       "  6\n",
       " 12\n",
       " 20\n",
       " 30"
      ]
     },
     "execution_count": 22,
     "metadata": {},
     "output_type": "execute_result"
    }
   ],
   "source": [
    "# something non-trivial\n",
    "a = [(i,i+1) for i = 1:5]\n",
    "map(x -> x[2]*x[1], a)"
   ]
  },
  {
   "cell_type": "markdown",
   "metadata": {},
   "source": [
    "`x -> x[2]*x[1]` is an example of an [anonymous function](https://en.wikibooks.org/wiki/Introducing_Julia/Functions#Anonymous_functions).  These are like [lambda functions in Python](https://www.python-course.eu/lambda.php)."
   ]
  },
  {
   "cell_type": "markdown",
   "metadata": {},
   "source": [
    "# Exercise 1\n",
    "\n",
    "* modify the cme257.c to include a multiplication function.  Create a function in Julia that calls the multiplication function in the shared object library.\n",
    "* create a function that wraps sine in libmath"
   ]
  },
  {
   "cell_type": "code",
   "execution_count": 2,
   "metadata": {},
   "outputs": [
    {
     "data": {
      "text/plain": [
       "402"
      ]
     },
     "execution_count": 2,
     "metadata": {},
     "output_type": "execute_result"
    }
   ],
   "source": [
    "function c_mult(a::Int64, b::Int64)\n",
    "    return ccall((:c_mult, \"libcme257.so\"), Int64, (Int64, Int64), a, b)\n",
    "    #return ccall((:c_sum, \"libcme257\"), Int64, (Float64, Float64), Float64(a), Float64(b))\n",
    "end\n",
    "\n",
    "c_mult(201,2)"
   ]
  },
  {
   "cell_type": "markdown",
   "metadata": {},
   "source": [
    "# BLAS and LAPACK interface\n",
    "\n",
    "[BLAS](http://www.netlib.org/blas/) and [LAPACK](http://www.netlib.org/lapack/) are commonly used linear algebra libraries.  Today we'll briefly cover the interface in Julia. \n",
    "\n",
    "Why use these interfaces?  BLAS and LAPACK are often tuned for your machine architecture, and much effort is put into making them fast and efficient.  One common example is Intel's MKL, which you can use when you compile Julia.\n",
    "\n",
    "Another advantage of these libraries are that they allow you to operate on arrays in-place.  If you write a optimization routine or PDE solver that requires a matrix-vector multiplication at each step, you can actually improve the speed of your function quite a bit by pre-allocating arrays and doing everything in-place.  This is because memory allocation is expensive.\n",
    "\n",
    "These libraries also have special routines for special matrix formats (symmetric, triangular, banded), which you can use to further speed up your code.\n",
    "\n",
    "To read more about Julia's BLAS and LAPACK interfaces, see its [linear algebra documentation](https://docs.julialang.org/en/v1/stdlib/LinearAlgebra/#BLAS-Functions-1).\n",
    "\n",
    "## dot, gemv, gemm\n",
    "\n",
    "BLAS has 3 levels:\n",
    "* level 1 consists of vector operations\n",
    "* level 2 consists of matrix-vector operations\n",
    "* level 3 consists of matrix-matrix operations\n",
    "\n",
    "There are 4 underlying datatypes that you can use with BLAS: `Float32`, `Float64`, `Complex{Float32}`, and `Complex{Float64}`"
   ]
  },
  {
   "cell_type": "code",
   "execution_count": 7,
   "metadata": {},
   "outputs": [
    {
     "name": "stdout",
     "output_type": "stream",
     "text": [
      "  0.000010 seconds (5 allocations: 176 bytes)\n",
      "  0.000005 seconds (5 allocations: 176 bytes)\n"
     ]
    },
    {
     "data": {
      "text/plain": [
       "0.0f0"
      ]
     },
     "execution_count": 7,
     "metadata": {},
     "output_type": "execute_result"
    }
   ],
   "source": [
    "using LinearAlgebra\n",
    "# dot product between two vectors\n",
    "# this is an example of a BLAS level-1 operation\n",
    "T = Float32\n",
    "n = 5\n",
    "x = randn(T, n)\n",
    "y = randn(T, n)\n",
    "@time d1 = BLAS.dot(x,y)\n",
    "@time d2 = dot(x,y)\n",
    "d1 - d2"
   ]
  },
  {
   "cell_type": "markdown",
   "metadata": {},
   "source": [
    "In Julia, functions that mutate data are typically denoted with a `!` symbol.  In the following, `gemv` returns the result of `A*x`, and `gemv!` overwrites a vector `y` that has been pre-allocated, and passed in as an input. There are somtimes valid performance reasons to do this: `gemv` (usually) does not cause Julia to call the garbage collector."
   ]
  },
  {
   "cell_type": "code",
   "execution_count": 9,
   "metadata": {},
   "outputs": [
    {
     "name": "stdout",
     "output_type": "stream",
     "text": [
      "  0.000018 seconds (5 allocations: 656 bytes)\n",
      "  0.000011 seconds (5 allocations: 656 bytes)\n",
      "norm(y2 - y1) = 0.0f0\n"
     ]
    }
   ],
   "source": [
    "# gemv  - general matrix vector multiplication\n",
    "# gemv  - y = α * A * x\n",
    "# gemv! - y = α * A * x + β * y\n",
    "T = Float32\n",
    "n = 50\n",
    "m = 100\n",
    "A = rand(T, m, n)\n",
    "x = rand(T, n)\n",
    "y = Array{Float64}(undef,m)\n",
    "α = one(T) # alpha\n",
    "β = zero(T) # beta\n",
    "# if we replaced the 'N' with a 'T', we would do A'*x - make sure dimensions are correct!\n",
    "@time y1 = BLAS.gemv('N', α, A, x)\n",
    "@time y2 = A*x\n",
    "@show norm(y2 - y1)\n",
    ";"
   ]
  },
  {
   "cell_type": "code",
   "execution_count": 16,
   "metadata": {},
   "outputs": [
    {
     "name": "stdout",
     "output_type": "stream",
     "text": [
      "  0.065370 seconds (4 allocations: 160 bytes)\n",
      "C ≈ α * A * B' + β * Corig = true\n",
      "  0.071084 seconds (13 allocations: 30.518 MiB, 2.41% gc time)\n"
     ]
    }
   ],
   "source": [
    "# gemm - general matrix-matrix multiplication\n",
    "begin\n",
    "    T = Float64\n",
    "    n = 1000;\n",
    "    A = rand(T,n, n);\n",
    "    B = rand(T,n, n);\n",
    "    C = rand(T,n, n);\n",
    "    Corig = copy(C);\n",
    "    α = T(2.0);\n",
    "    β = T(3.0);\n",
    "\n",
    "    # C = α A B' + β C\n",
    "    @time BLAS.gemm!('N', 'C', α, A, B, β, C);\n",
    "    @show C ≈ (α * A * B' + β * Corig)\n",
    "    C = copy(Corig);\n",
    "    @time C = α * A * B' + β * C;\n",
    "\n",
    "end\n",
    "\n",
    ";"
   ]
  },
  {
   "cell_type": "markdown",
   "metadata": {},
   "source": [
    "# Exercise 2\n",
    "\n",
    "* Compare the time it takes to do GEMM calling BLAS versus writing out the corresponding expression in Julia (try n = 10, 100, 1000).  Can you explain the results?\n",
    "* implement the power method using `gemv!`.  Don't use any more allocations than necessary."
   ]
  },
  {
   "cell_type": "markdown",
   "metadata": {},
   "source": [
    "# PyCall\n",
    "\n",
    "[PyCall](https://github.com/stevengj/PyCall.jl) is a package by [Stephen Johnson](http://math.mit.edu/~stevenj/), which allows you to call Python libraries using syntax that is essentially the same as Python's import statement.\n",
    "\n",
    "It is used in several packages in Julia, including PyPlot."
   ]
  },
  {
   "cell_type": "code",
   "execution_count": 17,
   "metadata": {},
   "outputs": [],
   "source": [
    "using PyCall"
   ]
  },
  {
   "cell_type": "code",
   "execution_count": 18,
   "metadata": {},
   "outputs": [
    {
     "data": {
      "text/plain": [
       "1.1102230246251565e-16"
      ]
     },
     "execution_count": 18,
     "metadata": {},
     "output_type": "execute_result"
    }
   ],
   "source": [
    "# Demo similar to https://github.com/stevengj/PyCall.jl#usage\n",
    "math = pyimport(\"math\");\n",
    "x = 5;\n",
    "math.sin(math.pi + x) - sin(π + x)"
   ]
  },
  {
   "cell_type": "markdown",
   "metadata": {},
   "source": [
    "PyCall works by combining Python's C API, and Julia's `ccall()` functions (so you can't use Jython, unless you want to try [JavaCall](https://github.com/aviks/JavaCall.jl)).  Check out the [source for PyCall](https://github.com/stevengj/PyCall.jl/blob/master/src/PyCall.jl), and see how `ccall` is being used.\n",
    "\n",
    "Here's an example using Python's popular [scikit-learn](http://scikit-learn.org/stable/) from Julia:"
   ]
  },
  {
   "cell_type": "code",
   "execution_count": 19,
   "metadata": {},
   "outputs": [
    {
     "data": {
      "text/plain": [
       "PyObject SVC(C=1.0, cache_size=200, class_weight=None, coef0=0.0,\n",
       "    decision_function_shape='ovr', degree=3, gamma='auto_deprecated',\n",
       "    kernel='rbf', max_iter=-1, probability=False, random_state=None,\n",
       "    shrinking=True, tol=0.001, verbose=False)"
      ]
     },
     "execution_count": 19,
     "metadata": {},
     "output_type": "execute_result"
    }
   ],
   "source": [
    "# https://rizalzaf.wordpress.com/2015/05/15/calling-pythons-scikit-learn-machine-learning-library-from-julia/\n",
    "svm = pyimport_conda(\"sklearn.svm\", \"scikit-learn\")\n",
    "X = [[0 0]; [1 1]]\n",
    "y = [0; 1]\n",
    "clf = svm.SVC()\n",
    "(clf.fit)(X, y) \n",
    "# note syntax to call a method on an object\n",
    "# clf.fit() in Python\n",
    "# clf[:fit]() in PyCall"
   ]
  },
  {
   "cell_type": "code",
   "execution_count": 20,
   "metadata": {},
   "outputs": [
    {
     "data": {
      "text/plain": [
       "1-element Array{Int64,1}:\n",
       " 0"
      ]
     },
     "execution_count": 20,
     "metadata": {},
     "output_type": "execute_result"
    }
   ],
   "source": [
    "x_test = [0.01 0.02]\n",
    "y_test = (clf.predict)(x_test)"
   ]
  },
  {
   "cell_type": "markdown",
   "metadata": {},
   "source": [
    "You can also import your own Python modules.  Refer to [cme257.py](cme257.py) to see the function defintion of `fibonacci`.  Note that this is a terrible algorithm for computing fibonacci numbers."
   ]
  },
  {
   "cell_type": "code",
   "execution_count": 21,
   "metadata": {},
   "outputs": [],
   "source": [
    "py\"\"\"\n",
    "import sys\n",
    "sys.path.insert(0, \".\")\n",
    "\"\"\""
   ]
  },
  {
   "cell_type": "code",
   "execution_count": 24,
   "metadata": {},
   "outputs": [
    {
     "data": {
      "text/plain": [
       "6765"
      ]
     },
     "execution_count": 24,
     "metadata": {},
     "output_type": "execute_result"
    }
   ],
   "source": [
    "cme257py = pyimport(\"cme257\")\n",
    "cme257py.fibonacci(20)"
   ]
  },
  {
   "cell_type": "code",
   "execution_count": 25,
   "metadata": {},
   "outputs": [
    {
     "name": "stdout",
     "output_type": "stream",
     "text": [
      "fibonacci(0) = 0\n",
      "fibonacci(1) = 1\n",
      "fibonacci(2) = 1\n",
      "fibonacci(3) = 2\n",
      "fibonacci(4) = 3\n",
      "fibonacci(5) = 5\n",
      "fibonacci(6) = 8\n",
      "fibonacci(7) = 13\n",
      "fibonacci(8) = 21\n",
      "fibonacci(9) = 34\n",
      "fibonacci(10) = 55\n"
     ]
    }
   ],
   "source": [
    "for i = 0:10\n",
    "    println(\"fibonacci($i) = $(cme257py.fibonacci(i))\")\n",
    "end"
   ]
  },
  {
   "cell_type": "markdown",
   "metadata": {},
   "source": [
    "# Running External Programs\n",
    "\n",
    "You may also be interested in running programs that are typically executed using the bash shell in Julia.  You can read about this in [the documentation](https://docs.julialang.org/en/stable/manual/running-external-programs/#Running-External-Programs-1) - here we'll just give some simple examples."
   ]
  },
  {
   "cell_type": "code",
   "execution_count": 26,
   "metadata": {},
   "outputs": [
    {
     "data": {
      "text/plain": [
       "Cmd"
      ]
     },
     "execution_count": 26,
     "metadata": {},
     "output_type": "execute_result"
    }
   ],
   "source": [
    "c = `echo hello` # note tick marks to produce command\n",
    "typeof(c)"
   ]
  },
  {
   "cell_type": "code",
   "execution_count": 27,
   "metadata": {},
   "outputs": [
    {
     "name": "stdout",
     "output_type": "stream",
     "text": [
      "hello\n"
     ]
    },
    {
     "data": {
      "text/plain": [
       "Process(`\u001b[4mecho\u001b[24m \u001b[4mhello\u001b[24m`, ProcessExited(0))"
      ]
     },
     "execution_count": 27,
     "metadata": {},
     "output_type": "execute_result"
    }
   ],
   "source": [
    "run(c) # this will run the command as if you did it in the bash shell\n",
    "# output is piped to stdout"
   ]
  },
  {
   "cell_type": "code",
   "execution_count": 28,
   "metadata": {},
   "outputs": [
    {
     "ename": "UndefVarError",
     "evalue": "UndefVarError: readstring not defined",
     "output_type": "error",
     "traceback": [
      "UndefVarError: readstring not defined",
      "",
      "Stacktrace:",
      " [1] top-level scope at In[28]:1"
     ]
    }
   ],
   "source": [
    "# if you want to capture output as a string, use the following\n",
    "ans = readstring(c)\n",
    "ans"
   ]
  },
  {
   "cell_type": "code",
   "execution_count": 29,
   "metadata": {},
   "outputs": [
    {
     "name": "stdout",
     "output_type": "stream",
     "text": [
      "void hello();\n",
      "void hello() {\n"
     ]
    },
    {
     "data": {
      "text/plain": [
       "Process(`\u001b[4mgrep\u001b[24m \u001b[4m'hello()'\u001b[24m \u001b[4mcme257.c\u001b[24m`, ProcessExited(0))"
      ]
     },
     "execution_count": 29,
     "metadata": {},
     "output_type": "execute_result"
    }
   ],
   "source": [
    "# example of string interpolation in command\n",
    "str = \"hello()\"\n",
    "fname = \"cme257.c\"\n",
    "c = `grep $str $fname`\n",
    "run(c)"
   ]
  },
  {
   "cell_type": "markdown",
   "metadata": {},
   "source": [
    "# Exercise 3\n",
    "\n",
    "(You may need to install scikit learn to do this - `conda install scikit-learn` or `pip install scikit-learn` - try this with the `run` command in Julia!).\n",
    "\n",
    "* compare several methods of computing element-wise `sin` of an array - an explicit for-loop, julia's built-in `sin.`, a broadcast call to `libmath`, and a map call with Python's `math.sin`.\n",
    "* use a [decision tree classifier](http://scikit-learn.org/stable/modules/tree.html#classification) from scikit-learn on the example above.\n",
    "* modify cme257.py to include a function that adds 3 integers together and call it from Julia\n",
    "* How long does it take to multiply two 100x100 matrices using numpy?  How long does it take if you call numpy from Julia? How does this compare to doing the same thing in native Julia?"
   ]
  }
 ],
 "metadata": {
  "kernelspec": {
   "display_name": "Julia 1.2.0",
   "language": "julia",
   "name": "julia-1.2"
  },
  "language_info": {
   "file_extension": ".jl",
   "mimetype": "application/julia",
   "name": "julia",
   "version": "1.2.0"
  }
 },
 "nbformat": 4,
 "nbformat_minor": 1
}
