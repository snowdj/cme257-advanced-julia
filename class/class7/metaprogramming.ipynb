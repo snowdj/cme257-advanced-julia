{
 "cells": [
  {
   "cell_type": "markdown",
   "metadata": {},
   "source": [
    "# Class 7 - Metaprogramming\n",
    "\n",
    "Today we'll cover metaprogramming in Julia.  This should answer some questions about what's really going on when you use a macro such as `@simd` or a expression such as `:hello`.  \n",
    "\n",
    "# What is Metaprogramming?\n",
    "\n",
    "Briefly, [metaprogramming](https://en.wikipedia.org/wiki/Metaprogramming) refers to writing programs to write programs.  This is poweful because it allows you to write less code for repetitive tasks, and even write domain-specific languages.  [Template Metaprogramming](https://en.wikipedia.org/wiki/Template_metaprogramming) is one example of this.  e.g."
   ]
  },
  {
   "cell_type": "code",
   "execution_count": 1,
   "metadata": {},
   "outputs": [],
   "source": [
    "function cme257fn(a::T, b::T) where T\n",
    "    a + T(2)*b\n",
    "end\n",
    ";"
   ]
  },
  {
   "cell_type": "code",
   "execution_count": 4,
   "metadata": {},
   "outputs": [
    {
     "data": {
      "text/plain": [
       "3.0"
      ]
     },
     "execution_count": 4,
     "metadata": {},
     "output_type": "execute_result"
    }
   ],
   "source": [
    "cme257fn(1.,1.)"
   ]
  },
  {
   "cell_type": "markdown",
   "metadata": {},
   "source": [
    "allows you to write a function for any number of types `T`.  We've already seen quite a bit of this, and today we'll talk more about macros and expressions.\n",
    "\n",
    "## Reference\n",
    "\n",
    "Today we'll mostly cover material that can be found in the [metaprogramming](https://docs.julialang.org/en/stable/manual/metaprogramming/) section of Julia's documentation.  Many examples will be drawn from the documentation.\n",
    "\n",
    "# Expressions - How Text Becomes a Program\n",
    "\n",
    "Everything you put into a Jupyter notebook, a `.jl` file, or the Julia REPL starts as a string."
   ]
  },
  {
   "cell_type": "code",
   "execution_count": 5,
   "metadata": {},
   "outputs": [
    {
     "data": {
      "text/plain": [
       "String"
      ]
     },
     "execution_count": 5,
     "metadata": {},
     "output_type": "execute_result"
    }
   ],
   "source": [
    "prog = \"1 + 1\"\n",
    "typeof(prog)"
   ]
  },
  {
   "cell_type": "markdown",
   "metadata": {},
   "source": [
    "Julia then parses this string to determine what to do with the input"
   ]
  },
  {
   "cell_type": "code",
   "execution_count": 6,
   "metadata": {},
   "outputs": [
    {
     "data": {
      "text/plain": [
       ":(1 + 1)"
      ]
     },
     "execution_count": 6,
     "metadata": {},
     "output_type": "execute_result"
    }
   ],
   "source": [
    "exp = Meta.parse(prog)"
   ]
  },
  {
   "cell_type": "code",
   "execution_count": 7,
   "metadata": {},
   "outputs": [
    {
     "data": {
      "text/plain": [
       "Expr"
      ]
     },
     "execution_count": 7,
     "metadata": {},
     "output_type": "execute_result"
    }
   ],
   "source": [
    "typeof(exp)"
   ]
  },
  {
   "cell_type": "code",
   "execution_count": 8,
   "metadata": {},
   "outputs": [
    {
     "data": {
      "text/plain": [
       "2"
      ]
     },
     "execution_count": 8,
     "metadata": {},
     "output_type": "execute_result"
    }
   ],
   "source": [
    "eval(exp)"
   ]
  },
  {
   "cell_type": "markdown",
   "metadata": {},
   "source": [
    "You can think of expressions as \"quoting\" code, not evaluating it.  For example `1+1` evalueates to 2, but the expression `:(1+1)` is akin to the satement `'1+1' is an equation`, which doesn't refer to the result of the evaluation, but the statement itself"
   ]
  },
  {
   "cell_type": "code",
   "execution_count": 9,
   "metadata": {},
   "outputs": [
    {
     "name": "stdout",
     "output_type": "stream",
     "text": [
      "typeof(exp.head) = Symbol\n"
     ]
    },
    {
     "data": {
      "text/plain": [
       ":call"
      ]
     },
     "execution_count": 9,
     "metadata": {},
     "output_type": "execute_result"
    }
   ],
   "source": [
    "# expressions have a symbol that denotes the type of expression\n",
    "@show typeof(exp.head)\n",
    "exp.head"
   ]
  },
  {
   "cell_type": "code",
   "execution_count": 10,
   "metadata": {},
   "outputs": [
    {
     "data": {
      "text/plain": [
       "3-element Array{Any,1}:\n",
       "  :+\n",
       " 1  \n",
       " 1  "
      ]
     },
     "execution_count": 10,
     "metadata": {},
     "output_type": "execute_result"
    }
   ],
   "source": [
    "# expression arguments may be symbols, other expressions, or literal values\n",
    "exp.args"
   ]
  },
  {
   "cell_type": "markdown",
   "metadata": {},
   "source": [
    "This means that the program itself is stored in a data structure accessible through Julia!\n",
    "\n",
    "You can always run your program using `eval`"
   ]
  },
  {
   "cell_type": "code",
   "execution_count": 11,
   "metadata": {},
   "outputs": [
    {
     "name": "stdout",
     "output_type": "stream",
     "text": [
      "exp = :(1 + 1)\n"
     ]
    },
    {
     "data": {
      "text/plain": [
       "2"
      ]
     },
     "execution_count": 11,
     "metadata": {},
     "output_type": "execute_result"
    }
   ],
   "source": [
    "@show exp\n",
    "eval(exp)"
   ]
  },
  {
   "cell_type": "markdown",
   "metadata": {},
   "source": [
    "Some useful tools for working with expressions are `dump` and `Meta.show_sexpr`.  These are both ways of visualizing the [abstract syntax tree (AST)](https://en.wikibooks.org/wiki/Introducing_Julia/Metaprogramming#The_Abstract_Syntax_Tree) that is generated when code is parsed."
   ]
  },
  {
   "cell_type": "code",
   "execution_count": 12,
   "metadata": {},
   "outputs": [
    {
     "name": "stdout",
     "output_type": "stream",
     "text": [
      "Expr\n",
      "  head: Symbol call\n",
      "  args: Array{Any}((3,))\n",
      "    1: Symbol +\n",
      "    2: Int64 1\n",
      "    3: Int64 1\n"
     ]
    }
   ],
   "source": [
    "# more detailed printout of expression\n",
    "dump(exp)"
   ]
  },
  {
   "cell_type": "code",
   "execution_count": 13,
   "metadata": {},
   "outputs": [
    {
     "data": {
      "text/plain": [
       ":((1 + 1) / 2)"
      ]
     },
     "execution_count": 13,
     "metadata": {},
     "output_type": "execute_result"
    }
   ],
   "source": [
    "exp = Meta.parse(\"(1+1)/2\")"
   ]
  },
  {
   "cell_type": "code",
   "execution_count": 14,
   "metadata": {},
   "outputs": [
    {
     "name": "stdout",
     "output_type": "stream",
     "text": [
      "(:call, :/, (:call, :+, 1, 1), 2)"
     ]
    }
   ],
   "source": [
    "# s-expressions represent expression as tree\n",
    "Meta.show_sexpr(exp)"
   ]
  },
  {
   "cell_type": "code",
   "execution_count": 15,
   "metadata": {},
   "outputs": [
    {
     "name": "stdout",
     "output_type": "stream",
     "text": [
      "Expr\n",
      "  head: Symbol call\n",
      "  args: Array{Any}((3,))\n",
      "    1: Symbol /\n",
      "    2: Expr\n",
      "      head: Symbol call\n",
      "      args: Array{Any}((3,))\n",
      "        1: Symbol +\n",
      "        2: Int64 1\n",
      "        3: Int64 1\n",
      "    3: Int64 2\n"
     ]
    }
   ],
   "source": [
    "dump(exp)"
   ]
  },
  {
   "cell_type": "markdown",
   "metadata": {},
   "source": [
    "# Symbols, Quoting\n",
    "\n",
    "Symbols are denoted by the colon `:` symbol.  These are [interned strings](https://en.wikipedia.org/wiki/String_interning) which is used to build expressions.  "
   ]
  },
  {
   "cell_type": "code",
   "execution_count": 16,
   "metadata": {},
   "outputs": [
    {
     "name": "stdout",
     "output_type": "stream",
     "text": [
      "typeof(:hello) = Symbol\n",
      "typeof(Symbol(\"hello\")) = Symbol\n",
      "sym = Symbol(\"hello\", \"_world\", 10) = :hello_world10\n",
      "typeof(sym) = Symbol\n"
     ]
    }
   ],
   "source": [
    "@show typeof(:hello)\n",
    "@show typeof(Symbol(\"hello\"))\n",
    "@show sym = Symbol(\"hello\", \"_world\", 10)\n",
    "@show typeof(sym)\n",
    ";"
   ]
  },
  {
   "cell_type": "markdown",
   "metadata": {},
   "source": [
    "A second role for the `:` character is for \"quoting\", which helps build expressions\n"
   ]
  },
  {
   "cell_type": "code",
   "execution_count": 17,
   "metadata": {},
   "outputs": [
    {
     "name": "stdout",
     "output_type": "stream",
     "text": [
      "Expr\n",
      "  head: Symbol call\n",
      "  args: Array{Any}((3,))\n",
      "    1: Symbol +\n",
      "    2: Int64 1\n",
      "    3: Expr\n",
      "      head: Symbol call\n",
      "      args: Array{Any}((3,))\n",
      "        1: Symbol *\n",
      "        2: Int64 2\n",
      "        3: Int64 3\n"
     ]
    }
   ],
   "source": [
    "exp = :(1 + 2 * 3)\n",
    "dump(exp)"
   ]
  },
  {
   "cell_type": "markdown",
   "metadata": {},
   "source": [
    "quoing can also be done using the `quote` keyword"
   ]
  },
  {
   "cell_type": "code",
   "execution_count": 19,
   "metadata": {},
   "outputs": [
    {
     "name": "stdout",
     "output_type": "stream",
     "text": [
      "typeof(exp) = Expr\n",
      "exp = quote\n",
      "    #= In[19]:2 =#\n",
      "    x = 1\n",
      "    #= In[19]:3 =#\n",
      "    x + x\n",
      "end\n"
     ]
    },
    {
     "data": {
      "text/plain": [
       "quote\n",
       "    #= In[19]:2 =#\n",
       "    x = 1\n",
       "    #= In[19]:3 =#\n",
       "    x + x\n",
       "end"
      ]
     },
     "execution_count": 19,
     "metadata": {},
     "output_type": "execute_result"
    }
   ],
   "source": [
    "exp = quote\n",
    "    x = 1\n",
    "    x + x\n",
    "end\n",
    "@show typeof(exp)\n",
    "@show exp\n",
    "#eval(exp)"
   ]
  },
  {
   "cell_type": "code",
   "execution_count": 20,
   "metadata": {},
   "outputs": [
    {
     "name": "stdout",
     "output_type": "stream",
     "text": [
      "Expr\n",
      "  head: Symbol block\n",
      "  args: Array{Any}((4,))\n",
      "    1: LineNumberNode\n",
      "      line: Int64 2\n",
      "      file: Symbol In[19]\n",
      "    2: Expr\n",
      "      head: Symbol =\n",
      "      args: Array{Any}((2,))\n",
      "        1: Symbol x\n",
      "        2: Int64 1\n",
      "    3: LineNumberNode\n",
      "      line: Int64 3\n",
      "      file: Symbol In[19]\n",
      "    4: Expr\n",
      "      head: Symbol call\n",
      "      args: Array{Any}((3,))\n",
      "        1: Symbol +\n",
      "        2: Symbol x\n",
      "        3: Symbol x\n"
     ]
    }
   ],
   "source": [
    "dump(exp)"
   ]
  },
  {
   "cell_type": "markdown",
   "metadata": {},
   "source": [
    "# Interpolation\n",
    "\n",
    "Just like you can interpolate in expressions by using `$`, just like you can in strings"
   ]
  },
  {
   "cell_type": "code",
   "execution_count": 21,
   "metadata": {},
   "outputs": [
    {
     "data": {
      "text/plain": [
       "\"x = 1\""
      ]
     },
     "execution_count": 21,
     "metadata": {},
     "output_type": "execute_result"
    }
   ],
   "source": [
    "x = 1\n",
    "\"x = $x\""
   ]
  },
  {
   "cell_type": "code",
   "execution_count": 22,
   "metadata": {},
   "outputs": [
    {
     "data": {
      "text/plain": [
       ":(1 + b)"
      ]
     },
     "execution_count": 22,
     "metadata": {},
     "output_type": "execute_result"
    }
   ],
   "source": [
    "a = 1\n",
    "exp = :($a + b)"
   ]
  },
  {
   "cell_type": "code",
   "execution_count": 24,
   "metadata": {},
   "outputs": [
    {
     "data": {
      "text/plain": [
       "3"
      ]
     },
     "execution_count": 24,
     "metadata": {},
     "output_type": "execute_result"
    }
   ],
   "source": [
    "b = 2\n",
    "eval(exp)"
   ]
  },
  {
   "cell_type": "code",
   "execution_count": 25,
   "metadata": {},
   "outputs": [
    {
     "data": {
      "text/plain": [
       ":((1 + 1) / 2)"
      ]
     },
     "execution_count": 25,
     "metadata": {},
     "output_type": "execute_result"
    }
   ],
   "source": [
    "# you can also interpolate expressions.\n",
    "exp1 = :(1+1)\n",
    "exp2 = :($exp1/2)"
   ]
  },
  {
   "cell_type": "markdown",
   "metadata": {},
   "source": [
    "# Exercise 1\n",
    "\n",
    "1. try putting a simple for-loop in a quote.  What does it look like? Try using `dump` and `Meta.show_sexpr`\n",
    "2. Create an expression for `1 + (2+3)` starting with the expression `:(2+3)`\n",
    "3. use quoting with `:` to examine the expression for the function `sum257{T}(a::T,b::T) = a+b`.  Try rewriting the function using the `function` keyword, and creating an expression using a `quote` block."
   ]
  },
  {
   "cell_type": "code",
   "execution_count": 37,
   "metadata": {},
   "outputs": [],
   "source": [
    " c = 1\n",
    "for_exp = quote\n",
    "    for i = 1:2\n",
    "        global c+= i\n",
    "    end\n",
    "    c\n",
    "end\n",
    "#@show Meta.show_sexpr(for_exp)\n",
    "#dump(for_exp);"
   ]
  },
  {
   "cell_type": "code",
   "execution_count": 38,
   "metadata": {},
   "outputs": [
    {
     "data": {
      "text/plain": [
       "4"
      ]
     },
     "execution_count": 38,
     "metadata": {},
     "output_type": "execute_result"
    }
   ],
   "source": [
    "eval(for_exp)"
   ]
  },
  {
   "cell_type": "code",
   "execution_count": 39,
   "metadata": {},
   "outputs": [
    {
     "name": "stdout",
     "output_type": "stream",
     "text": [
      "exp2 = Expr(:call, :+, 1, exp1) = :(1 + (2 + 3))\n"
     ]
    },
    {
     "data": {
      "text/plain": [
       "6"
      ]
     },
     "execution_count": 39,
     "metadata": {},
     "output_type": "execute_result"
    }
   ],
   "source": [
    "exp1 = :(2+3 )\n",
    "@show exp2 = Expr(:call, :+, 1, exp1)\n",
    "eval(exp2)"
   ]
  },
  {
   "cell_type": "code",
   "execution_count": 40,
   "metadata": {},
   "outputs": [
    {
     "name": "stdout",
     "output_type": "stream",
     "text": [
      "exp2_alt = $(Expr(:quote, :(1 + $(Expr(:$, :exp1))))) = :(1 + (2 + 3))\n"
     ]
    },
    {
     "data": {
      "text/plain": [
       "6"
      ]
     },
     "execution_count": 40,
     "metadata": {},
     "output_type": "execute_result"
    }
   ],
   "source": [
    "@show exp2_alt = :(1+$exp1)\n",
    "eval(exp2_alt)"
   ]
  },
  {
   "cell_type": "code",
   "execution_count": 41,
   "metadata": {},
   "outputs": [
    {
     "data": {
      "text/plain": [
       ":((sum257(a::T, b::T) where T) = begin\n",
       "          #= In[41]:1 =#\n",
       "          a + b\n",
       "      end)"
      ]
     },
     "execution_count": 41,
     "metadata": {},
     "output_type": "execute_result"
    }
   ],
   "source": [
    ":(sum257(a::T,b::T) where T = a+b)"
   ]
  },
  {
   "cell_type": "code",
   "execution_count": 42,
   "metadata": {},
   "outputs": [
    {
     "name": "stdout",
     "output_type": "stream",
     "text": [
      "expr = quote\n",
      "    #= In[42]:2 =#\n",
      "    function sum257(a::T, b::T) where T\n",
      "        #= In[42]:3 =#\n",
      "        return a + b\n",
      "    end\n",
      "end\n"
     ]
    }
   ],
   "source": [
    "expr = quote\n",
    "    function sum257(a::T,b::T) where T\n",
    "        return a+b\n",
    "    end\n",
    "end\n",
    "@show(expr);"
   ]
  },
  {
   "cell_type": "markdown",
   "metadata": {},
   "source": [
    "# Functions of Expressions\n",
    "\n",
    "Since expressions are a data type in Julia, you can create functions of expresssions"
   ]
  },
  {
   "cell_type": "code",
   "execution_count": 43,
   "metadata": {
    "scrolled": true
   },
   "outputs": [
    {
     "name": "stdout",
     "output_type": "stream",
     "text": [
      "exp = :(1 + 2)\n",
      "eval(exp) = 3\n",
      "exp = :(2 * (1 + 1))\n",
      "exp == exp2 = true\n",
      "eval(exp) = 4\n"
     ]
    }
   ],
   "source": [
    "# expression for binary operation\n",
    "function bin_exp(op, arg1, arg2)\n",
    "   return Expr(:call, op, arg1, arg2) \n",
    "end\n",
    "\n",
    "exp = bin_exp(:+, 1,2)\n",
    "@show exp\n",
    "@show eval(exp)\n",
    "\n",
    "exp = bin_exp(:*, 2, :(1+1))\n",
    "exp2 = bin_exp(:*, 2, bin_exp(:+,1,1))\n",
    "@show exp\n",
    "@show exp == exp2\n",
    "@show eval(exp)\n",
    ";"
   ]
  },
  {
   "cell_type": "code",
   "execution_count": 44,
   "metadata": {},
   "outputs": [
    {
     "data": {
      "text/plain": [
       ":(1 + 1)"
      ]
     },
     "execution_count": 44,
     "metadata": {},
     "output_type": "execute_result"
    }
   ],
   "source": [
    ":(1 + 1)\n",
    "bin_exp(:+, 1, 1)"
   ]
  },
  {
   "cell_type": "markdown",
   "metadata": {},
   "source": [
    "# Macros\n",
    "\n",
    "Macros give you a way to generate code to be included in a program.  They are evaluated directly, and do not require a call to `eval()`.  They are created using the `macro` keyword."
   ]
  },
  {
   "cell_type": "code",
   "execution_count": 45,
   "metadata": {},
   "outputs": [
    {
     "data": {
      "text/plain": [
       "@helloworld (macro with 1 method)"
      ]
     },
     "execution_count": 45,
     "metadata": {},
     "output_type": "execute_result"
    }
   ],
   "source": [
    "macro helloworld()\n",
    "    return :( println(\"Hello World!\") )\n",
    "end"
   ]
  },
  {
   "cell_type": "code",
   "execution_count": 46,
   "metadata": {},
   "outputs": [
    {
     "name": "stdout",
     "output_type": "stream",
     "text": [
      "Hello World!\n"
     ]
    }
   ],
   "source": [
    "@helloworld"
   ]
  },
  {
   "cell_type": "code",
   "execution_count": 47,
   "metadata": {},
   "outputs": [
    {
     "data": {
      "text/plain": [
       "@hello (macro with 1 method)"
      ]
     },
     "execution_count": 47,
     "metadata": {},
     "output_type": "execute_result"
    }
   ],
   "source": [
    "# macros can take arguments\n",
    "macro hello(name)\n",
    "    return :(println(\"Hello \", $name))\n",
    "end"
   ]
  },
  {
   "cell_type": "code",
   "execution_count": 48,
   "metadata": {},
   "outputs": [
    {
     "name": "stdout",
     "output_type": "stream",
     "text": [
      "Hello CME 257\n"
     ]
    }
   ],
   "source": [
    "@hello \"CME 257\""
   ]
  },
  {
   "cell_type": "code",
   "execution_count": 49,
   "metadata": {},
   "outputs": [
    {
     "name": "stdout",
     "output_type": "stream",
     "text": [
      "Hello CME 257\n"
     ]
    }
   ],
   "source": [
    "# you can also call a macro with function-like syntax\n",
    "@hello(\"CME 257\")"
   ]
  },
  {
   "cell_type": "markdown",
   "metadata": {},
   "source": [
    "There are tools to help you build, understand, and debug macros - the function `macroexpand()` and the macro `@macroexpand`"
   ]
  },
  {
   "cell_type": "code",
   "execution_count": 52,
   "metadata": {},
   "outputs": [
    {
     "data": {
      "text/plain": [
       ":(Main.println(\"Hello \", \"CME 257\"))"
      ]
     },
     "execution_count": 52,
     "metadata": {},
     "output_type": "execute_result"
    }
   ],
   "source": [
    "macroexpand(Main, :(@hello(\"CME 257\")))"
   ]
  },
  {
   "cell_type": "code",
   "execution_count": 53,
   "metadata": {},
   "outputs": [
    {
     "data": {
      "text/plain": [
       ":(Main.println(\"Hello \", \"CME 257\"))"
      ]
     },
     "execution_count": 53,
     "metadata": {},
     "output_type": "execute_result"
    }
   ],
   "source": [
    "# the macro version is easier to call\n",
    "@macroexpand @hello \"CME 257\""
   ]
  },
  {
   "cell_type": "markdown",
   "metadata": {},
   "source": [
    "Macros are executed at parse time, not at run time (or compile time).  This means they don't add overhead to a function call (since they generate actual code).  However, they may add overhead to using a module, or including a file.  "
   ]
  },
  {
   "cell_type": "code",
   "execution_count": 55,
   "metadata": {},
   "outputs": [
    {
     "data": {
      "text/plain": [
       "@twostep (macro with 1 method)"
      ]
     },
     "execution_count": 55,
     "metadata": {},
     "output_type": "execute_result"
    }
   ],
   "source": [
    "macro twostep(arg)\n",
    "   println(\"I execute at parse time. The argument is: \", arg)\n",
    "   return :(println(\"I execute at runtime. The argument is: \", $arg))\n",
    "end\n",
    "\n"
   ]
  },
  {
   "cell_type": "code",
   "execution_count": 56,
   "metadata": {},
   "outputs": [
    {
     "name": "stdout",
     "output_type": "stream",
     "text": [
      "I execute at parse time. The argument is: 1 + 1\n"
     ]
    },
    {
     "data": {
      "text/plain": [
       ":(Main.println(\"I execute at runtime. The argument is: \", 1 + 1))"
      ]
     },
     "execution_count": 56,
     "metadata": {},
     "output_type": "execute_result"
    }
   ],
   "source": [
    "ex = @macroexpand @twostep 1+1"
   ]
  },
  {
   "cell_type": "code",
   "execution_count": 57,
   "metadata": {},
   "outputs": [
    {
     "name": "stdout",
     "output_type": "stream",
     "text": [
      "I execute at runtime. The argument is: 2\n"
     ]
    }
   ],
   "source": [
    "eval(ex)"
   ]
  },
  {
   "cell_type": "markdown",
   "metadata": {},
   "source": [
    "## Examples\n",
    "\n",
    "We've already seen the `@assert` macro"
   ]
  },
  {
   "cell_type": "code",
   "execution_count": 58,
   "metadata": {},
   "outputs": [
    {
     "ename": "AssertionError",
     "evalue": "AssertionError: 1 == 2",
     "output_type": "error",
     "traceback": [
      "AssertionError: 1 == 2",
      "",
      "Stacktrace:",
      " [1] top-level scope at In[58]:3"
     ]
    }
   ],
   "source": [
    "# does nothing\n",
    "@assert 1==1\n",
    "# throws error\n",
    "@assert 1==2\n",
    ";"
   ]
  },
  {
   "cell_type": "markdown",
   "metadata": {},
   "source": [
    "The [following example](https://docs.julialang.org/en/v1/manual/metaprogramming/#Building-an-advanced-macro-1) is given as a way to implement the `@assert` macro"
   ]
  },
  {
   "cell_type": "code",
   "execution_count": 59,
   "metadata": {},
   "outputs": [
    {
     "ename": "AssertionError",
     "evalue": "AssertionError: 1 == 2",
     "output_type": "error",
     "traceback": [
      "AssertionError: 1 == 2",
      "",
      "Stacktrace:",
      " [1] top-level scope at In[59]:6"
     ]
    }
   ],
   "source": [
    "macro assert2(ex)\n",
    "    return :( $ex ? nothing : throw(AssertionError($(string(ex)))) ) #this is an inline if-else statement\n",
    "end\n",
    "# does nothing\n",
    "@assert2 1==1\n",
    "# does something\n",
    "@assert2 1==2\n",
    ";"
   ]
  },
  {
   "cell_type": "code",
   "execution_count": 60,
   "metadata": {},
   "outputs": [
    {
     "data": {
      "text/plain": [
       ":(if 1 == 2\n",
       "      nothing\n",
       "  else\n",
       "      Base.throw(Base.AssertionError(\"1 == 2\"))\n",
       "  end)"
      ]
     },
     "execution_count": 60,
     "metadata": {},
     "output_type": "execute_result"
    }
   ],
   "source": [
    "@macroexpand @assert 1==2"
   ]
  },
  {
   "cell_type": "markdown",
   "metadata": {},
   "source": [
    "At runtime, the expression `ex` is spliced into the return statement in two places (`$ex`, `string(ex)`). The expression is evaluated, and depending on the result the macro either does nothing or throws an error."
   ]
  },
  {
   "cell_type": "markdown",
   "metadata": {},
   "source": [
    "if you do something more complicated in a macro, you may wish to use local variables to avoid creating new variables outside the macro.  Note you can use the `local` keyword in more general contexts."
   ]
  },
  {
   "cell_type": "code",
   "execution_count": 61,
   "metadata": {},
   "outputs": [
    {
     "name": "stdout",
     "output_type": "stream",
     "text": [
      "  0.000006 seconds (4 allocations: 160 bytes)\n"
     ]
    },
    {
     "data": {
      "text/plain": [
       "2"
      ]
     },
     "execution_count": 61,
     "metadata": {},
     "output_type": "execute_result"
    }
   ],
   "source": [
    "@time 1+1"
   ]
  },
  {
   "cell_type": "code",
   "execution_count": 65,
   "metadata": {},
   "outputs": [
    {
     "data": {
      "text/plain": [
       "quote\n",
       "    #= util.jl:154 =#\n",
       "    local #36#stats = Base.gc_num()\n",
       "    #= util.jl:155 =#\n",
       "    local #38#elapsedtime = Base.time_ns()\n",
       "    #= util.jl:156 =#\n",
       "    local #37#val = 1 + 1\n",
       "    #= util.jl:157 =#\n",
       "    #38#elapsedtime = Base.time_ns() - #38#elapsedtime\n",
       "    #= util.jl:158 =#\n",
       "    local #39#diff = Base.GC_Diff(Base.gc_num(), #36#stats)\n",
       "    #= util.jl:159 =#\n",
       "    Base.time_print(#38#elapsedtime, (#39#diff).allocd, (#39#diff).total_time, Base.gc_alloc_count(#39#diff))\n",
       "    #= util.jl:161 =#\n",
       "    Base.println()\n",
       "    #= util.jl:162 =#\n",
       "    #37#val\n",
       "end"
      ]
     },
     "execution_count": 65,
     "metadata": {},
     "output_type": "execute_result"
    }
   ],
   "source": [
    "@macroexpand @time 1+1"
   ]
  },
  {
   "cell_type": "code",
   "execution_count": 1,
   "metadata": {},
   "outputs": [
    {
     "data": {
      "text/plain": [
       "@time2 (macro with 1 method)"
      ]
     },
     "execution_count": 1,
     "metadata": {},
     "output_type": "execute_result"
    }
   ],
   "source": [
    "macro time2(ex)\n",
    "    return quote\n",
    "        local t0 = time()\n",
    "        local val = $ex\n",
    "        local t1 = time()\n",
    "        println(\"elapsed time: \", t1-t0, \" seconds\")\n",
    "        val\n",
    "    end\n",
    "end"
   ]
  },
  {
   "cell_type": "code",
   "execution_count": 2,
   "metadata": {},
   "outputs": [
    {
     "name": "stdout",
     "output_type": "stream",
     "text": [
      "elapsed time: 9.059906005859375e-6 seconds\n"
     ]
    },
    {
     "data": {
      "text/plain": [
       "3"
      ]
     },
     "execution_count": 2,
     "metadata": {},
     "output_type": "execute_result"
    }
   ],
   "source": [
    "a = 1\n",
    "b = 2\n",
    "@time2 a + b"
   ]
  },
  {
   "cell_type": "code",
   "execution_count": 67,
   "metadata": {},
   "outputs": [
    {
     "data": {
      "text/plain": [
       "quote\n",
       "    #= In[62]:3 =#\n",
       "    local #43#t0 = Main.time()\n",
       "    #= In[62]:4 =#\n",
       "    local #44#val = #43#t0 + #43#t0\n",
       "    #= In[62]:5 =#\n",
       "    local #45#t1 = Main.time()\n",
       "    #= In[62]:6 =#\n",
       "    Main.println(\"elapsed time: \", #45#t1 - #43#t0, \" seconds\")\n",
       "    #= In[62]:7 =#\n",
       "    #44#val\n",
       "end"
      ]
     },
     "execution_count": 67,
     "metadata": {},
     "output_type": "execute_result"
    }
   ],
   "source": [
    "t0 = 1\n",
    "t1 = 2\n",
    "#uh-oh!\n",
    "@macroexpand @time2 t0 + t0"
   ]
  },
  {
   "cell_type": "markdown",
   "metadata": {},
   "source": [
    "We see that even though we tried to avoid a name conflict, we still ran into trouble because we interpolated the expression in the macro definition.  We can avoid this by escaping the expression with `esc()`"
   ]
  },
  {
   "cell_type": "code",
   "execution_count": 68,
   "metadata": {},
   "outputs": [
    {
     "data": {
      "text/plain": [
       "@time2 (macro with 1 method)"
      ]
     },
     "execution_count": 68,
     "metadata": {},
     "output_type": "execute_result"
    }
   ],
   "source": [
    "macro time2(ex)\n",
    "    return quote\n",
    "        local t0 = time()\n",
    "        local val = $(esc(ex))\n",
    "        local t1 = time()\n",
    "        println(\"elapsed time: \", t1-t0, \" seconds\")\n",
    "        val\n",
    "    end\n",
    "end"
   ]
  },
  {
   "cell_type": "code",
   "execution_count": 71,
   "metadata": {},
   "outputs": [
    {
     "name": "stdout",
     "output_type": "stream",
     "text": [
      "elapsed time: 3.0994415283203125e-6 seconds\n"
     ]
    },
    {
     "data": {
      "text/plain": [
       "2"
      ]
     },
     "execution_count": 71,
     "metadata": {},
     "output_type": "execute_result"
    }
   ],
   "source": [
    "t0 = 1\n",
    "t1 = 2\n",
    "@time2 t0+t0"
   ]
  },
  {
   "cell_type": "markdown",
   "metadata": {},
   "source": [
    "# Exercise 2\n",
    "\n",
    "1. Create a macro `@show2` that does the same thing as the `@show` macro\n",
    "2. compare expressions generated in `@assert` and `@assert2` with the same input. You'll likely want to use `@macroexpand` and `dump()`\n",
    "3. compare the expressions generated by `@show` and your `@show2` macro with the same input."
   ]
  },
  {
   "cell_type": "code",
   "execution_count": 15,
   "metadata": {},
   "outputs": [
    {
     "data": {
      "text/plain": [
       "@show2 (macro with 1 method)"
      ]
     },
     "execution_count": 15,
     "metadata": {},
     "output_type": "execute_result"
    }
   ],
   "source": [
    "macro show2(ex)\n",
    "    local name = string(ex)\n",
    "    local val =  eval(ex)\n",
    "    println(string(name, \" = \", val))   \n",
    "    val\n",
    "end"
   ]
  },
  {
   "cell_type": "code",
   "execution_count": 16,
   "metadata": {
    "scrolled": true
   },
   "outputs": [
    {
     "name": "stdout",
     "output_type": "stream",
     "text": [
      "1 + 1 = 2\n"
     ]
    },
    {
     "data": {
      "text/plain": [
       "2"
      ]
     },
     "execution_count": 16,
     "metadata": {},
     "output_type": "execute_result"
    }
   ],
   "source": [
    "@show2 1+1"
   ]
  },
  {
   "cell_type": "code",
   "execution_count": 17,
   "metadata": {},
   "outputs": [
    {
     "name": "stdout",
     "output_type": "stream",
     "text": [
      "1 + 1 = 2\n"
     ]
    },
    {
     "data": {
      "text/plain": [
       "2"
      ]
     },
     "execution_count": 17,
     "metadata": {},
     "output_type": "execute_result"
    }
   ],
   "source": [
    "@show 1+1"
   ]
  },
  {
   "cell_type": "markdown",
   "metadata": {},
   "source": [
    "# Code Generation\n",
    "\n",
    "Metaprogramming can save you quite a bit of time and effort when it comes to writing repetitive code"
   ]
  },
  {
   "cell_type": "code",
   "execution_count": 86,
   "metadata": {},
   "outputs": [],
   "source": [
    "import Base: +, -, *, /\n",
    "struct cme257type\n",
    "    val::Float64\n",
    "end\n",
    "\n",
    "for op in (:+, :-, :*, :/)\n",
    "   eval(quote\n",
    "        ($op)(a::cme257type, b::cme257type) = cme257type($(op)(a.val, b.val))\n",
    "    end)\n",
    "end"
   ]
  },
  {
   "cell_type": "code",
   "execution_count": 87,
   "metadata": {},
   "outputs": [
    {
     "data": {
      "text/plain": [
       "+ (generic function with 162 methods)"
      ]
     },
     "execution_count": 87,
     "metadata": {},
     "output_type": "execute_result"
    }
   ],
   "source": [
    "+(a::cme257type, b::cme257type) = cme257type(+(a.val, b.val))"
   ]
  },
  {
   "cell_type": "code",
   "execution_count": 88,
   "metadata": {},
   "outputs": [
    {
     "name": "stdout",
     "output_type": "stream",
     "text": [
      "a * b = cme257type(2.0)\n",
      "a + b = cme257type(3.0)\n"
     ]
    },
    {
     "data": {
      "text/plain": [
       "cme257type(3.0)"
      ]
     },
     "execution_count": 88,
     "metadata": {},
     "output_type": "execute_result"
    }
   ],
   "source": [
    "a = cme257type(1)\n",
    "b = cme257type(2)\n",
    "@show a * b\n",
    "@show a+b"
   ]
  },
  {
   "cell_type": "markdown",
   "metadata": {},
   "source": [
    "there's a handy `@eval` macro that can be used to do the same thing"
   ]
  },
  {
   "cell_type": "code",
   "execution_count": 89,
   "metadata": {},
   "outputs": [],
   "source": [
    "# option 1\n",
    "for op in (:+, :-, :*, :/)\n",
    "   @eval begin\n",
    "        ($op)(a::cme257type, b::cme257type) = cme257type($(op)(a.val, b.val))\n",
    "    end\n",
    "end\n",
    "\n",
    "# option 2\n",
    "for op in (:+, :-, :*, :/)\n",
    "   @eval ($op)(a::cme257type, b::cme257type) = cme257type($(op)(a.val, b.val))\n",
    "end"
   ]
  },
  {
   "cell_type": "code",
   "execution_count": 90,
   "metadata": {},
   "outputs": [
    {
     "data": {
      "text/plain": [
       "cme257type(0.5)"
      ]
     },
     "execution_count": 90,
     "metadata": {},
     "output_type": "execute_result"
    }
   ],
   "source": [
    "a = cme257type(1.0)\n",
    "b = cme257type(2.0)\n",
    "a / b"
   ]
  },
  {
   "cell_type": "markdown",
   "metadata": {},
   "source": [
    "# Generated Functions\n",
    "\n",
    "Generated functions are a powerful way of creating functions, based on the types of the arguments.  Note that you have to be careful to avoid unintended side effects with them, so refer to the [documentation](https://docs.julialang.org/en/v1/manual/metaprogramming/#Generated-functions-1) if you indend to use them seriously, beyond this brief introduction.\n",
    "\n",
    "\n",
    "In a sentence, a generated function acts the same as a normal function, with the exception that multiple dispatch happens when the function is called. In other words, Julia only creates a new method when the function is called with differently-typed objects. This can be useful when optimizing code, as Julia won't create a new method until the need arises."
   ]
  },
  {
   "cell_type": "code",
   "execution_count": 91,
   "metadata": {},
   "outputs": [
    {
     "data": {
      "text/plain": [
       "foo (generic function with 1 method)"
      ]
     },
     "execution_count": 91,
     "metadata": {},
     "output_type": "execute_result"
    }
   ],
   "source": [
    "@generated function foo(x)\n",
    "   Core.println(x)\n",
    "   return :(x * x)\n",
    "end"
   ]
  },
  {
   "cell_type": "code",
   "execution_count": 93,
   "metadata": {
    "scrolled": true
   },
   "outputs": [],
   "source": [
    "x = foo(2);"
   ]
  },
  {
   "cell_type": "markdown",
   "metadata": {},
   "source": [
    "note that the generated function is generally only produced once. If you run this cell twice with the same type of input, you probably won't see the type output again.  However, there's no guarantee that this will happen, which is why the functions can't have any side effects "
   ]
  },
  {
   "cell_type": "code",
   "execution_count": 94,
   "metadata": {},
   "outputs": [
    {
     "data": {
      "text/plain": [
       "4"
      ]
     },
     "execution_count": 94,
     "metadata": {},
     "output_type": "execute_result"
    }
   ],
   "source": [
    "x"
   ]
  },
  {
   "cell_type": "markdown",
   "metadata": {},
   "source": [
    "For the next example, note that you can create a function with variable length arguments using `...`"
   ]
  },
  {
   "cell_type": "code",
   "execution_count": 95,
   "metadata": {},
   "outputs": [
    {
     "data": {
      "text/plain": [
       "test_fn (generic function with 1 method)"
      ]
     },
     "execution_count": 95,
     "metadata": {},
     "output_type": "execute_result"
    }
   ],
   "source": [
    "function test_fn(I::Int64...)\n",
    "    println(\"n inputs = \", length(I))\n",
    "    c = 0\n",
    "    for i = 1:length(I)\n",
    "       println(\"  $i: $(I[i])\") \n",
    "       c += I[i]\n",
    "    end\n",
    "    return c\n",
    "end"
   ]
  },
  {
   "cell_type": "code",
   "execution_count": 98,
   "metadata": {},
   "outputs": [
    {
     "name": "stdout",
     "output_type": "stream",
     "text": [
      "n inputs = 4\n",
      "  1: 1\n",
      "  2: 5\n",
      "  3: 3\n",
      "  4: 4\n"
     ]
    },
    {
     "data": {
      "text/plain": [
       "13"
      ]
     },
     "execution_count": 98,
     "metadata": {},
     "output_type": "execute_result"
    }
   ],
   "source": [
    "test_fn(1, 5, 3,4)"
   ]
  },
  {
   "cell_type": "markdown",
   "metadata": {},
   "source": [
    "Now, for the example, which is described in [the metaprogramming documentaion](https://docs.julialang.org/en/v1/manual/metaprogramming).  Recall that in Julia, arrays are stored in column-major format.  We can change the indexing of an array to linear indexing with `LinearIndices()`."
   ]
  },
  {
   "cell_type": "code",
   "execution_count": 99,
   "metadata": {},
   "outputs": [
    {
     "name": "stdout",
     "output_type": "stream",
     "text": [
      "A[2] = 3\n",
      "A[2, 1] = 3\n",
      "b[3] = 3\n",
      "b[1, 2] = 3\n"
     ]
    }
   ],
   "source": [
    "using LinearAlgebra\n",
    "A = [1 2;3 4]\n",
    "# two ways of accessing an array: single index and multi-index\n",
    "@show A[2]\n",
    "@show A[2,1]\n",
    "# the following gives us the conversion from the multi-index to the single index\n",
    "b = LinearIndices(A)\n",
    "@show b[3];\n",
    "@show b[1,2];"
   ]
  },
  {
   "cell_type": "code",
   "execution_count": 109,
   "metadata": {},
   "outputs": [
    {
     "data": {
      "text/latex": [
       "\\begin{verbatim}\n",
       "product(iters...)\n",
       "\\end{verbatim}\n",
       "Return an iterator over the product of several iterators. Each generated element is a tuple whose \\texttt{i}th element comes from the \\texttt{i}th argument iterator. The first iterator changes the fastest.\n",
       "\n",
       "\\section{Examples}\n",
       "\\begin{verbatim}\n",
       "julia> collect(Iterators.product(1:2, 3:5))\n",
       "2×3 Array{Tuple{Int64,Int64},2}:\n",
       " (1, 3)  (1, 4)  (1, 5)\n",
       " (2, 3)  (2, 4)  (2, 5)\n",
       "\\end{verbatim}\n"
      ],
      "text/markdown": [
       "```\n",
       "product(iters...)\n",
       "```\n",
       "\n",
       "Return an iterator over the product of several iterators. Each generated element is a tuple whose `i`th element comes from the `i`th argument iterator. The first iterator changes the fastest.\n",
       "\n",
       "# Examples\n",
       "\n",
       "```jldoctest\n",
       "julia> collect(Iterators.product(1:2, 3:5))\n",
       "2×3 Array{Tuple{Int64,Int64},2}:\n",
       " (1, 3)  (1, 4)  (1, 5)\n",
       " (2, 3)  (2, 4)  (2, 5)\n",
       "```\n"
      ],
      "text/plain": [
       "\u001b[36m  product(iters...)\u001b[39m\n",
       "\n",
       "  Return an iterator over the product of several iterators. Each generated\n",
       "  element is a tuple whose \u001b[36mi\u001b[39mth element comes from the \u001b[36mi\u001b[39mth argument iterator.\n",
       "  The first iterator changes the fastest.\n",
       "\n",
       "\u001b[1m  Examples\u001b[22m\n",
       "\u001b[1m  ≡≡≡≡≡≡≡≡≡≡\u001b[22m\n",
       "\n",
       "\u001b[36m  julia> collect(Iterators.product(1:2, 3:5))\u001b[39m\n",
       "\u001b[36m  2×3 Array{Tuple{Int64,Int64},2}:\u001b[39m\n",
       "\u001b[36m   (1, 3)  (1, 4)  (1, 5)\u001b[39m\n",
       "\u001b[36m   (2, 3)  (2, 4)  (2, 5)\u001b[39m"
      ]
     },
     "execution_count": 109,
     "metadata": {},
     "output_type": "execute_result"
    }
   ],
   "source": [
    "a = tuple(1,2)\n",
    "Iterators."
   ]
  },
  {
   "cell_type": "markdown",
   "metadata": {},
   "source": [
    "For a 2-dimensional array `A` with dimensions `(m,n)`, the formula for indices `A[i,j]` is `i + m*(j-1)`.  We'll see how this generalizes shortly.\n",
    "\n",
    "Now, the clever use of a generated function: we can write a single generated function that will produce the output of `sub2ind` that dispatches based on the number of dimensions."
   ]
  },
  {
   "cell_type": "code",
   "execution_count": 100,
   "metadata": {},
   "outputs": [
    {
     "data": {
      "text/plain": [
       "lin_ind (generic function with 1 method)"
      ]
     },
     "execution_count": 100,
     "metadata": {},
     "output_type": "execute_result"
    }
   ],
   "source": [
    "@generated function lin_ind(dims::NTuple{N}, I::Integer...) where N\n",
    "   length(I) == N || return :(error(\"partial indexing is unsupported\"))\n",
    "   ex = :(I[$N] - 1)\n",
    "   for i = (N - 1):-1:1\n",
    "       ex = :(I[$i] - 1 + dims[$i] * $ex)\n",
    "   end\n",
    "   return :($ex + 1)\n",
    "end"
   ]
  },
  {
   "cell_type": "code",
   "execution_count": 101,
   "metadata": {},
   "outputs": [
    {
     "data": {
      "text/plain": [
       "3"
      ]
     },
     "execution_count": 101,
     "metadata": {},
     "output_type": "execute_result"
    }
   ],
   "source": [
    "lin_ind((2,2), 1, 2)"
   ]
  },
  {
   "cell_type": "markdown",
   "metadata": {},
   "source": [
    "Note that we could do something similar with a non-generated function, but then we would evaluate the loop at run-time, instead of complie time.  Since there is some overhead associated with loops, for frequently called functions this can give performance benefits."
   ]
  },
  {
   "cell_type": "code",
   "execution_count": 46,
   "metadata": {},
   "outputs": [
    {
     "data": {
      "text/plain": [
       "sub2ind_loop (generic function with 1 method)"
      ]
     },
     "execution_count": 46,
     "metadata": {},
     "output_type": "execute_result"
    }
   ],
   "source": [
    "function sub2ind_loop(dims::NTuple{N}, I::Integer...) where N\n",
    "    length(I) == N || return error(\"partial indexing is unsupported\")\n",
    "    ind = I[N] - 1\n",
    "    for i = N-1:-1:1\n",
    "        ind = I[i]-1 + dims[i]*ind\n",
    "    end\n",
    "    return ind + 1\n",
    "end\n"
   ]
  },
  {
   "cell_type": "markdown",
   "metadata": {},
   "source": [
    "# Exercise 3\n",
    "\n",
    "Recall how we were able to call library functions e.g.  `ccall((:cos, \"libm\"), Float64, (Float64,), 1.0)`. Generate a set of wrappers for the following functions in libm - `cos, sin, acos, asin, tan, fabs, cosh` (just work with `Float64` inputs).  To avoid conflicts with existing funcitons, name the wrappers `cme257op` where `op` is the operation name.  Add some more functions with a single `Float64` input from [here](https://en.wikipedia.org/wiki/C_mathematical_functions)\n",
    "\n",
    "Hint: you can quote an expression `ex` using `Expr(:quote, ex)` - this is useful for the first argument of `ccall`\n",
    "\n",
    "If you have time, check out how TensorFlow.jl [wraps the TensorFlow library](https://github.com/malmaud/TensorFlow.jl/blob/master/src/ops/math.jl) using metaprogramming"
   ]
  },
  {
   "cell_type": "markdown",
   "metadata": {},
   "source": [
    "# Further Reading\n",
    "\n",
    "* [Wikibook on Metaprogramming in Julia](https://en.wikibooks.org/wiki/Introducing_Julia/Metaprogramming)\n",
    "* [On Machine Learning and Programming Languages](https://julialang.org/blog/2017/12/ml&pl)\n",
    "* Check out how TensorFlow.jl [wraps the TensorFlow library](https://github.com/malmaud/TensorFlow.jl/blob/master/src/ops/math.jl)"
   ]
  },
  {
   "cell_type": "code",
   "execution_count": 47,
   "metadata": {},
   "outputs": [
    {
     "name": "stdout",
     "output_type": "stream",
     "text": [
      "generating cme257cos\n",
      "generating cme257sin\n",
      "generating cme257acos\n",
      "generating cme257asin\n",
      "generating cme257tan\n",
      "generating cme257fabs\n",
      "generating cme257cosh\n"
     ]
    }
   ],
   "source": [
    "# Exercise 3 example solution\n",
    "ops = (:cos, :sin, :acos, :asin, :tan, :fabs, :cosh)\n",
    "for op in ops\n",
    "    fname = Symbol(:cme257,op)\n",
    "    println(\"generating $fname\")\n",
    "    opn = Expr(:quote, op)\n",
    "    @eval begin\n",
    "        $(fname)(x::Float64) = ccall(($opn, \"libm\"), Float64, (Float64,), x)\n",
    "    end\n",
    "end"
   ]
  }
 ],
 "metadata": {
  "kernelspec": {
   "display_name": "Julia 1.2.0",
   "language": "julia",
   "name": "julia-1.2"
  },
  "language_info": {
   "file_extension": ".jl",
   "mimetype": "application/julia",
   "name": "julia",
   "version": "1.2.0"
  }
 },
 "nbformat": 4,
 "nbformat_minor": 2
}
