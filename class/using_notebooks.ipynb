{
 "cells": [
  {
   "cell_type": "markdown",
   "metadata": {},
   "source": [
    "# CME 257 - IJulia Notebooks"
   ]
  },
  {
   "cell_type": "markdown",
   "metadata": {},
   "source": [
    "## What is this?\n",
    "\n",
    "This is a [IJulia notebook](https://github.com/JuliaLang/IJulia.jl).  You may have seen IPython (now Jupyter) notebooks before.  I'll put demos in IJulia notebooks that will let me annotate code, and which you can run from your browser.\n",
    "\n",
    "## How Can I Run This?\n",
    "\n",
    "To run an IJulia notebook, open up the Julia REPL and run \n",
    "```\n",
    "using Pkg\n",
    "Pkg.add(\"IJulia\")\n",
    "```\n",
    "\n",
    "You'll need to add more packages throughout the course as we explore different topics.\n",
    "\n",
    "Now to use IJulia, from Julia type\n",
    "\n",
    "```julia\n",
    "using IJulia\n",
    "notebook()\n",
    "```\n",
    "\n",
    "This should open up a new window in your browser that will let you navigate to IJulia notebooks.  When you open up a notebook, you'll be able to run cells by pressing Shift+Enter or Ctl+Enter.  Note that this won't work if you're viewing the notebook in GitHub. Try it in the next cell:"
   ]
  },
  {
   "cell_type": "code",
   "execution_count": 2,
   "metadata": {},
   "outputs": [
    {
     "data": {
      "text/plain": [
       "4"
      ]
     },
     "execution_count": 2,
     "metadata": {},
     "output_type": "execute_result"
    }
   ],
   "source": [
    "x = 2 # change this number and press Shift+Enter/Control+Enter\n",
    "x + x"
   ]
  },
  {
   "cell_type": "markdown",
   "metadata": {},
   "source": [
    "## Additional Resources\n",
    "\n",
    "* [IJulia](https://github.com/JuliaLang/IJulia.jl) GitHub page (good for troubleshooting)\n",
    "* [JuliaBox](https://juliabox.org) also includes a short tutorial on IJulia\n"
   ]
  }
 ],
 "metadata": {
  "kernelspec": {
   "display_name": "Julia 1.2.0",
   "language": "julia",
   "name": "julia-1.2"
  },
  "language_info": {
   "file_extension": ".jl",
   "mimetype": "application/julia",
   "name": "julia",
   "version": "1.2.0"
  }
 },
 "nbformat": 4,
 "nbformat_minor": 1
}
