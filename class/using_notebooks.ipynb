{
 "cells": [
  {
   "cell_type": "markdown",
   "metadata": {},
   "source": [
    "# CME 257 - IJulia Notebooks"
   ]
  },
  {
   "cell_type": "markdown",
   "metadata": {},
   "source": [
    "## What is this?\n",
    "\n",
    "This is a [IJulia notebook](https://github.com/JuliaLang/IJulia.jl).  You may have seen IPython (now Jupyter) notebooks before.  I'll put demos in IJulia notebooks that will let me annotate code, and which you can run from your browser.\n",
    "\n",
    "## How Can I Run This?\n",
    "\n",
    "First, [setup a GitHib account](https://github.com/join).  Then [generate SSH keys](https://help.github.com/articles/generating-ssh-keys/) and add your public key to your GitHub profile.\n",
    "\n",
    "In this course, we'll use the bleeding-edge version of Julia.  You need to clone the Julia repository on your computer\n",
    "\n",
    "```\n",
    "git clone git@github.com:JuliaLang/julia.git\n",
    "cd julia\n",
    "make\n",
    "```\n",
    "\n",
    "You may need to add the Julia repo to your path via your .bashrc to run Julia from anywhere (or create symbolic links to a place on your path).\n",
    "\n",
    "You should also clone the course repo, to download materials\n",
    "\n",
    "```\n",
    "git clone git@github.com:icme/cme257-advanced-julia.git cme257\n",
    "```\n",
    "(note that I gave the folder a different name).  You can get the latest course materials via\n",
    "\n",
    "```\n",
    "cd cme257\n",
    "git pull\n",
    "```\n",
    "\n",
    "To run IJulia notebooks, start up julia and checkout the Pkg commands\n",
    "\n",
    "```julia\n",
    "Pkg.status()\n",
    "Pkg.add(\"IJulia\")\n",
    "```\n",
    "\n",
    "You'll need to add more packages throughout the course as we explore different topics.\n",
    "\n",
    "Now to use IJulia, from Julia type\n",
    "\n",
    "```julia\n",
    "using IJulia\n",
    "notebook()\n",
    "```\n",
    "\n",
    "This should open up a new window in your browser that will let you navigate to IJulia notebooks.  When you open up a notebook, you'll be able to run cells by pressing Shift+Enter or Ctl+Enter.  Note that this won't work if you're viewing the notebook in GitHub. Try it in the next cell:"
   ]
  },
  {
   "cell_type": "code",
   "execution_count": 1,
   "metadata": {},
   "outputs": [
    {
     "data": {
      "text/plain": [
       "4"
      ]
     },
     "execution_count": 1,
     "metadata": {},
     "output_type": "execute_result"
    }
   ],
   "source": [
    "x = 2 # change this number and press Shift+Enter\n",
    "x + x"
   ]
  },
  {
   "cell_type": "markdown",
   "metadata": {},
   "source": [
    "## Additional Resources\n",
    "\n",
    "* [IJulia](https://github.com/JuliaLang/IJulia.jl) GitHub page (good for troubleshooting)\n",
    "* [JuliaBox](https://juliabox.org) also includes a short tutorial on IJulia\n"
   ]
  }
 ],
 "metadata": {
  "kernelspec": {
   "display_name": "Julia 0.6.2",
   "language": "julia",
   "name": "julia-0.6"
  },
  "language_info": {
   "file_extension": ".jl",
   "mimetype": "application/julia",
   "name": "julia",
   "version": "0.6.2"
  }
 },
 "nbformat": 4,
 "nbformat_minor": 1
}
