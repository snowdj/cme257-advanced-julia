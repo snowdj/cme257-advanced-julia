{
 "cells": [
  {
   "cell_type": "markdown",
   "metadata": {},
   "source": [
    "# Iterative Solvers with Linear Operators\n",
    "\n",
    "Here we demo how to solve data-sparse linear operators with an iterative solver.  Essentially we'd like to solve\n",
    "$$Ax = b$$\n",
    "for $x$, where $A$ may have some special structure\n",
    "\n",
    "The two packages we'll use are\n",
    "* [LinearOperators.jl](https://juliasmoothoptimizers.github.io/LinearOperators.jl/latest/index.html)\n",
    "* [IterativeSolvers.jl](https://juliamath.github.io/IterativeSolvers.jl/latest/)\n",
    "\n",
    "In the exercises, you can also try out\n",
    "* [RandomizedLinAlg.jl](https://haampie.github.io/RandomizedLinAlg.jl/latest/)\n",
    "\n",
    "Which allows you to use randomized algorithms on linear operators.  Note that this package is still not very well developed."
   ]
  },
  {
   "cell_type": "code",
   "execution_count": 1,
   "metadata": {},
   "outputs": [],
   "source": [
    "using LinearOperators, IterativeSolvers"
   ]
  },
  {
   "cell_type": "code",
   "execution_count": 3,
   "metadata": {},
   "outputs": [],
   "source": [
    "n = 100\n",
    "v = randn(n,1)\n",
    "v = v/norm(v)\n",
    "opV = LinearOperator(v)\n",
    "A = v*v'\n",
    "opA = opV * opV'\n",
    ";"
   ]
  },
  {
   "cell_type": "code",
   "execution_count": 5,
   "metadata": {},
   "outputs": [
    {
     "name": "stdout",
     "output_type": "stream",
     "text": [
      "  0.000939 seconds (5 allocations: 1.031 KiB)\n",
      "  0.000013 seconds (6 allocations: 1.125 KiB)\n",
      "norm(b1 - b2) = 1.0066566844408277e-16\n"
     ]
    }
   ],
   "source": [
    "x = randn(n)\n",
    "@time b1 = A * x\n",
    "@time b2 = opA*x\n",
    "@show norm(b1-b2)\n",
    ";"
   ]
  },
  {
   "cell_type": "markdown",
   "metadata": {},
   "source": [
    "## Use with ARPACK wrapped functions\n",
    "\n",
    "You can use a LinearOperator with Julia's interface to [ARPACK](http://www.caam.rice.edu/software/ARPACK/) via [eigs](https://docs.julialang.org/en/stable/stdlib/linalg/#Base.LinAlg.eigs-Tuple{Any}) and [svds](https://docs.julialang.org/en/stable/stdlib/linalg/#Base.LinAlg.svds)\n"
   ]
  },
  {
   "cell_type": "code",
   "execution_count": 6,
   "metadata": {},
   "outputs": [
    {
     "name": "stdout",
     "output_type": "stream",
     "text": [
      "hermitian(opA) = false\n",
      "hermitian(opA) = true\n"
     ]
    }
   ],
   "source": [
    "# note that for some operators, you may neet to set Hermitan flags\n",
    "@show hermitian(opA)\n",
    "opA.hermitian=true\n",
    "opA.symmetric=true\n",
    "@show hermitian(opA)\n",
    ";"
   ]
  },
  {
   "cell_type": "code",
   "execution_count": 8,
   "metadata": {},
   "outputs": [
    {
     "name": "stdout",
     "output_type": "stream",
     "text": [
      "  0.000515 seconds (246 allocations: 52.672 KiB)\n",
      "  0.000686 seconds (186 allocations: 32.984 KiB)\n"
     ]
    }
   ],
   "source": [
    "@time (E, V) = eigs(opA; nev=2, which=:LM)\n",
    "@time (E2, V2) = eigs(A; nev=2, which=:LM)\n",
    ";"
   ]
  },
  {
   "cell_type": "code",
   "execution_count": 11,
   "metadata": {},
   "outputs": [
    {
     "data": {
      "text/plain": [
       "2-element Array{Float64,1}:\n",
       "  1.0        \n",
       " -4.87866e-18"
      ]
     },
     "execution_count": 11,
     "metadata": {},
     "output_type": "execute_result"
    }
   ],
   "source": [
    "E"
   ]
  },
  {
   "cell_type": "markdown",
   "metadata": {},
   "source": [
    "## Use with IterativeSolvers package"
   ]
  },
  {
   "cell_type": "code",
   "execution_count": 12,
   "metadata": {},
   "outputs": [
    {
     "name": "stdout",
     "output_type": "stream",
     "text": [
      "c = sqrt(2 * log(n)) = 3.034854258770293\n"
     ]
    },
    {
     "data": {
      "text/plain": [
       "Linear operator\n",
       "  nrow: 100\n",
       "  ncol: 100\n",
       "  eltype: Float64\n",
       "  symmetric: true\n",
       "  hermitian: true\n",
       "  prod:   LinearOperators.#46\n",
       "  tprod:  Nullable{Function}(LinearOperators.#47)\n",
       "  ctprod: Nullable{Function}(LinearOperators.#48)\n"
      ]
     },
     "execution_count": 12,
     "metadata": {},
     "output_type": "execute_result"
    }
   ],
   "source": [
    "@show c = sqrt(2*log(n))\n",
    "opA2 = (2*c)*opA + Diagonal(abs.(randn(n))) # spiked model\n",
    "opA2.symmetric=true\n",
    "opA2.hermitian=true\n",
    "opA2"
   ]
  },
  {
   "cell_type": "code",
   "execution_count": 14,
   "metadata": {},
   "outputs": [
    {
     "name": "stdout",
     "output_type": "stream",
     "text": [
      "  0.000224 seconds (431 allocations: 121.891 KiB)\n",
      "  0.000084 seconds (149 allocations: 77.328 KiB)\n",
      "norm(b - opA2 * x_est_minres) = 0.001938666956087917\n",
      "norm(b - opA2 * x_est_cg) = 0.011831589898732627\n"
     ]
    }
   ],
   "source": [
    "x_true = randn(n)\n",
    "b = opA2 * x_true\n",
    "@time x_est_minres = minres(opA2, b)\n",
    "@time x_est_cg = cg(opA2, b)\n",
    "@show norm(b - opA2*x_est_minres)\n",
    "@show norm(b - opA2*x_est_cg)\n",
    ";"
   ]
  },
  {
   "cell_type": "code",
   "execution_count": 16,
   "metadata": {},
   "outputs": [
    {
     "name": "stdout",
     "output_type": "stream",
     "text": [
      "  0.047371 seconds (12 allocations: 80.203 KiB)\n",
      "norm(b - A2 * x_est) = 4.780823625858763e-15\n"
     ]
    }
   ],
   "source": [
    "A2 = full(opA2)\n",
    "@time x_est = A2\\b\n",
    "@show norm(b - A2*x_est)\n",
    ";"
   ]
  },
  {
   "cell_type": "markdown",
   "metadata": {},
   "source": [
    "## Exercises/Extras\n",
    "\n",
    "If you're interested, try out one or more of the following exercises:\n",
    "\n",
    "1. Try out the randomized linear algebra package [RandomizedLinAlg.jl](https://haampie.github.io/RandomizedLinAlg.jl/latest/).  Try using the ```rnorms``` function to estimate the matrix norm.\n",
    "\n",
    "2. Make a plot of how long it takes to solve $Ax = b$ for $A$ diagonal + rank-1, for various sizes of problems. Estimate how long it would take to solve the equivalent problem using the full matrix\n",
    "\n",
    "3. You can also use sparse matrices as LinearOperators, and with iterative solvers.  Use [sprand](https://docs.julialang.org/en/stable/stdlib/arrays/#Base.SparseArrays.sprand) to generate sparse matrices of various sizes and try using [gmres](https://juliamath.github.io/IterativeSolvers.jl/latest/linear_systems/gmres.html) to solve some linear systems.\n",
    "\n",
    "4. Check out the [tutorial](https://juliasmoothoptimizers.github.io/LinearOperators.jl/latest/tutorial.html#Using-functions-1) on how to use functions as linear operators"
   ]
  },
  {
   "cell_type": "code",
   "execution_count": null,
   "metadata": {},
   "outputs": [],
   "source": []
  }
 ],
 "metadata": {
  "kernelspec": {
   "display_name": "Julia 0.6.2",
   "language": "julia",
   "name": "julia-0.6"
  },
  "language_info": {
   "file_extension": ".jl",
   "mimetype": "application/julia",
   "name": "julia",
   "version": "0.6.2"
  }
 },
 "nbformat": 4,
 "nbformat_minor": 1
}
