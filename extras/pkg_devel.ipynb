{
 "cells": [
  {
   "cell_type": "markdown",
   "metadata": {},
   "source": [
    "# Package Development\n",
    "\n",
    "In the last week we've looked a bit at Julia's package ecosystem, and practiced using git repositories.  Homework 3 included contributing to someone else's project by creating a pull request on the course GitHub repository, so you now have the tools you need to contribute to someone else's package if you have the interest.\n",
    "\n",
    "This is great if you fix a bug in someone else's code,or get involved in an existing package, but what if:\n",
    "\n",
    "1. You want functionality to exist in Julia that no one has worked on yet?\n",
    "2. You have a reasearch project or course project you want to let other people play with?\n",
    "\n",
    "Today we're going to talk about how you can make your own package, and have it work for anyone who wants to use it right out of the box.\n",
    "\n",
    "Julia has [documentation](http://julia.readthedocs.org/en/latest/manual/packages/) on how to make a package.  If you want to make a package to be included in the Julia package registry, refer there for naming conventions and further information.  We'll take a look at the basic workflow and examine what different files are doing.\n",
    "\n",
    "## Generating a Package\n",
    "\n",
    "You can generate the basic files for your package by using Pkg.generate(\"name\", \"license\")"
   ]
  },
  {
   "cell_type": "code",
   "execution_count": null,
   "metadata": {
    "collapsed": true
   },
   "outputs": [],
   "source": [
    "#Pkg.generate(\"cme257demo\", \"MIT\")"
   ]
  },
  {
   "cell_type": "markdown",
   "metadata": {},
   "source": [
    "This will initialize a new package in your packages directory, which you can begin to edit.  Here's what I see:\n",
    "\n",
    "```bash\n",
    "julia> Pkg.generate(\"cme257demo\", \"MIT\")\n",
    "INFO: Initializing cme257demo repo: /home/brad/.julia/v0.4/cme257demo\n",
    "INFO: Generating LICENSE.md\n",
    "INFO: Generating README.md\n",
    "INFO: Generating src/cme257demo.jl\n",
    "INFO: Generating test/runtests.jl\n",
    "INFO: Generating REQUIRE\n",
    "INFO: Generating .travis.yml\n",
    "INFO: Generating appveyor.yml\n",
    "INFO: Generating .gitignore\n",
    "INFO: Committing cme257demo generated files\n",
    "```\n",
    "\n",
    "\n",
    "* LICENSE.md contains the license that you specified\n",
    "* README.md will contain information that people first see when the find your package on GitHub so make it nice and informative.\n",
    "* REQUIRE contains package dependency information.\n",
    "* .travis.yml and appveyor.yml contain information for the Travis and Appveyor CI platforms to let them know how to test your package.\n",
    "* src/cme257demo.jl starts a cme257demo module for you to put code. This will be loaded when you use a variant of\n",
    "```julia\n",
    "using cme257demo\n",
    "```\n",
    "* test/runtests.jl starts a test file for you to put your tests.  These are run with\n",
    "```julia\n",
    "Pkg.test(\"cme257demo\")\n",
    "```"
   ]
  },
  {
   "cell_type": "markdown",
   "metadata": {},
   "source": [
    "# Exercize 1\n",
    "\n",
    "* use Pkg.generate to generate your own package.  \n",
    "* add a hello() function to print a hello message\n",
    "* verify that you can print the message from julia after loading your package.\n",
    "* How can you make it so you can call your function directly? (not using importall)\n",
    "```julia\n",
    "# this:\n",
    "hello()\n",
    "# instead of \n",
    "cme257demo.hello()\n",
    "```\n",
    "* add a demofun() function that will add two integers\n",
    "* (if you have time) add a function that returns a random draw from the exponential distribution ($\\lambda = 1$).  Add Distributions to your REQUIRE file."
   ]
  },
  {
   "cell_type": "code",
   "execution_count": null,
   "metadata": {
    "collapsed": false
   },
   "outputs": [],
   "source": [
    "importall cme257demo"
   ]
  },
  {
   "cell_type": "code",
   "execution_count": null,
   "metadata": {
    "collapsed": false
   },
   "outputs": [],
   "source": [
    "hello()"
   ]
  },
  {
   "cell_type": "code",
   "execution_count": null,
   "metadata": {
    "collapsed": false
   },
   "outputs": [],
   "source": [
    "demofun(1, 2)"
   ]
  },
  {
   "cell_type": "code",
   "execution_count": null,
   "metadata": {
    "collapsed": false
   },
   "outputs": [],
   "source": [
    "exprand()"
   ]
  },
  {
   "cell_type": "markdown",
   "metadata": {},
   "source": [
    "## Testing packages\n",
    "\n",
    "It is important to include tests for your package as you go along.  How else are you going to convince someone that your code works (including future you)?  Having a comprehensive test suite also alerts you when you break something when you go back and make changes to your package. Ideally, you will have tests for every function and type you create, and test edge cases as well as possible.  If you haven't ever done this before, begin by including all the little tests you do on the command line when you're making sure your code works.\n",
    "\n",
    "Julia includes several useful macros designed for testing code.  These can be found in [Base.Test](https://github.com/JuliaLang/julia/blob/master/base/test.jl), which you need to include in your test script (the package generator automatically does this for you).\n",
    "\n",
    "* @test - tests boolean expression, and displays a message if the expression is evaluated to be false.\n"
   ]
  },
  {
   "cell_type": "code",
   "execution_count": null,
   "metadata": {
    "collapsed": false
   },
   "outputs": [],
   "source": [
    "using Base.Test"
   ]
  },
  {
   "cell_type": "code",
   "execution_count": null,
   "metadata": {
    "collapsed": false
   },
   "outputs": [],
   "source": [
    "@test 1 == 1 && (print(\"hello\") || 1)"
   ]
  },
  {
   "cell_type": "code",
   "execution_count": null,
   "metadata": {
    "collapsed": false
   },
   "outputs": [],
   "source": [
    "@test 1 == 2 || print(\"hello\")"
   ]
  },
  {
   "cell_type": "markdown",
   "metadata": {},
   "source": [
    "* @test_throws - test to see if a function throws a particular error when you give it bad input"
   ]
  },
  {
   "cell_type": "code",
   "execution_count": null,
   "metadata": {
    "collapsed": false
   },
   "outputs": [],
   "source": [
    "length(+)"
   ]
  },
  {
   "cell_type": "code",
   "execution_count": null,
   "metadata": {
    "collapsed": false
   },
   "outputs": [],
   "source": [
    "@test_throws MethodError length(+)\n",
    ";"
   ]
  },
  {
   "cell_type": "markdown",
   "metadata": {},
   "source": [
    "* You can test approximate equality using the isapporox() function or $\\approx$ operator.  This is useful for floating point computations."
   ]
  },
  {
   "cell_type": "code",
   "execution_count": null,
   "metadata": {
    "collapsed": false
   },
   "outputs": [],
   "source": [
    "ɛ = 2e-16\n",
    "@test 1 ≈ (1 + ɛ)\n",
    "@test isapprox(1, 1 + ɛ)\n",
    "# \\approx ≈"
   ]
  },
  {
   "cell_type": "code",
   "execution_count": null,
   "metadata": {
    "collapsed": false
   },
   "outputs": [],
   "source": [
    "@testset  begin\n",
    "    @test 1 == 1\n",
    "    @test 1 == 2\n",
    "    @test 1 == 1\n",
    "end"
   ]
  },
  {
   "cell_type": "markdown",
   "metadata": {},
   "source": [
    "## Exercise 2\n",
    "\n",
    "* add some tests to your demofun() function in your package. Include at least one @test and at least one @test_throws\n",
    "* what is the tolerance for isapprox() to fail?  Can you change this?"
   ]
  },
  {
   "cell_type": "code",
   "execution_count": null,
   "metadata": {
    "collapsed": false
   },
   "outputs": [],
   "source": [
    "Pkg.test(\"cme257demo\")"
   ]
  },
  {
   "cell_type": "markdown",
   "metadata": {},
   "source": [
    "## Continuous integration\n",
    "\n",
    "As we talked about in the last class, using continuous integration is a great way to show off that your code is working to people who are interested in your repository.\n",
    "\n",
    "Travis CI is a continuous integration platform for Mac/Linux builds.  Appveyor is used for Windows builds in Julia.  We'll demo how to use [Travis CI](https://travis-ci.org).\n",
    "\n",
    "* You need to set up an account for Travis CI.  If you're signed into GitHub, you can link the two.\n",
    "* to set up Travis CI for a repository, you need admin access to the repository\n",
    "\n",
    "[Demo Repository](https://github.com/bnels/cme257demo.jl)\n",
    "\n",
    "[Travis Julia instructions](http://docs.travis-ci.com/user/languages/julia/)"
   ]
  },
  {
   "cell_type": "markdown",
   "metadata": {},
   "source": [
    "## Precompiling packages\n",
    "\n",
    "As you know, sometimes packages can take a while to load.  The way to speed things up is through pre-compilation.  There are two strategies to do this:\n",
    "\n",
    "1. add `__precompile__()` to the top of your module file (before the module begins)\n",
    "2. add your package to your compile cache\n",
    "```julia\n",
    "Base.compilecache(\"cme257demo\")\n",
    "```\n",
    "\n",
    "You can also prevent your package from being precompiled by using `__precompile__(false)`.\n",
    "\n",
    "We'll talk a bit more about pre-compiling when we talk about calling libraries, since you need to make sure you load libraries at runtime.\n",
    "\n",
    "Juila has more information [here](http://julia.readthedocs.org/en/latest/manual/modules/#module-initialization-and-precompilation)."
   ]
  },
  {
   "cell_type": "markdown",
   "metadata": {},
   "source": [
    "## Exercise 3\n",
    "\n",
    "* modify your package to incrementally precompile\n",
    "* add your package to your precompile cache"
   ]
  },
  {
   "cell_type": "markdown",
   "metadata": {},
   "source": [
    "## Adding a Package to GitHub\n",
    "\n",
    "At some point, you'll want to put your package on GitHub to share with others.  To do this, create a new GitHub repository with your account with your desired name.  Then, you'll add the remote repository as the origin of your local repository.\n",
    "\n",
    "```bash\n",
    "cd /path/to/cme257demo\n",
    "git remote -v # doesn't print anything yet\n",
    "git remote add origin https://github.com/user/repo.git\n",
    "git remote -v # will now print the new origin\n",
    "```\n",
    "\n",
    "See also, [GitHub's help page on this](https://help.github.com/articles/adding-a-remote/)\n",
    "\n",
    "If you've set up git on your machine to know your github user name, this may already be done for you with the Pkg.generate() command.\n",
    "\n",
    "```bash\n",
    "git config --global github.user \"USERNAME\"\n",
    "```\n",
    "\n",
    "You can also edit your .git/config file in the repository if Pkg.generate() did not quite get it right.\n",
    "\n",
    "## Registering a Package in the Julia Package Registry\n",
    "\n",
    "You'll need to submit a pull request to the [METADATA.jl repository](https://github.com/JuliaLang/METADATA.jl).\n",
    "\n",
    "Julia encourages developers to do this via the Pkg commands:\n",
    "\n",
    "```julia\n",
    "Pkg.register(\"cme257demo\") # updates your copy of METADATA appropriately\n",
    "# don't publish unless you actually want to publish \n",
    "Pkg.publish(\"cme257demo\") # forks you a copy of METADATA and generates a pull request to the official repository\n",
    "```\n",
    "\n",
    "Julia has more instructions [here](http://julia.readthedocs.org/en/latest/manual/packages/#tagging-and-publishing-your-package)."
   ]
  }
 ],
 "metadata": {
  "kernelspec": {
   "display_name": "Julia 0.4.0",
   "language": "julia",
   "name": "julia-0.4"
  },
  "language_info": {
   "file_extension": ".jl",
   "mimetype": "application/julia",
   "name": "julia",
   "version": "0.4.0"
  }
 },
 "nbformat": 4,
 "nbformat_minor": 0
}
