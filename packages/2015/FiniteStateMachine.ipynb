{
 "cells": [
  {
   "cell_type": "markdown",
   "metadata": {},
   "source": [
    "#FiniteStateMachine.jl"
   ]
  },
  {
   "cell_type": "markdown",
   "metadata": {},
   "source": [
    "This notebook was created by R. Davis Born using Julia 0.3.11 in order to demonstrate the functionality of the FiniteStateMachine Julia package created by Jack Peterson.\n",
    "\n",
    "FiniteStateMachine is the only package used in this notebook."
   ]
  },
  {
   "cell_type": "code",
   "execution_count": 1,
   "metadata": {
    "collapsed": false
   },
   "outputs": [
    {
     "name": "stderr",
     "output_type": "stream",
     "text": [
      "INFO: Nothing to be done\n",
      "INFO: METADATA is out-of-date — you may not have the latest version of FiniteStateMachine\n",
      "INFO: Use `Pkg.update()` to get the latest versions of your packages\n"
     ]
    }
   ],
   "source": [
    "Pkg.add(\"FiniteStateMachine\")"
   ]
  },
  {
   "cell_type": "code",
   "execution_count": 2,
   "metadata": {
    "collapsed": true
   },
   "outputs": [],
   "source": [
    "using FiniteStateMachine"
   ]
  },
  {
   "cell_type": "markdown",
   "metadata": {},
   "source": [
    "##Basic Functionality"
   ]
  },
  {
   "cell_type": "markdown",
   "metadata": {},
   "source": [
    "This package serves to create a simple finite state machine that can support any number of states and actions.\n",
    "\n",
    "Actions must have at least one \"from\" state, exactly one \"to\" state, and exactly one \"initial\" state."
   ]
  },
  {
   "cell_type": "code",
   "execution_count": 3,
   "metadata": {
    "collapsed": false
   },
   "outputs": [],
   "source": [
    "Ferry = state_machine({\n",
    "    \"initial\" => \"EastBank\", # the initial state is where the machine starts when defined\n",
    "    \"events\" => [{\n",
    "            \"name\" => \"CrossRiver\", # the name of the action or \"event\"\n",
    "            \"from\" => \"EastBank\", # the state the action can be taken from\n",
    "            \"to\" => \"WestBank\", # the state the action leads to\n",
    "            }, {\n",
    "            \"name\" => \"CrossRiver\",\n",
    "            \"from\" => \"WestBank\",\n",
    "            \"to\" => \"EastBank\",\n",
    "            }]\n",
    "    })\n",
    ";"
   ]
  },
  {
   "cell_type": "markdown",
   "metadata": {},
   "source": [
    "The state can be changed by imposing an action (or \"event\") with fire(). See the current state with state_maching.current"
   ]
  },
  {
   "cell_type": "code",
   "execution_count": 4,
   "metadata": {
    "collapsed": false,
    "scrolled": true
   },
   "outputs": [
    {
     "name": "stdout",
     "output_type": "stream",
     "text": [
      "Ferry.current => \"EastBank\"\n",
      "Ferry.current => \"WestBank\"\n"
     ]
    }
   ],
   "source": [
    "@show Ferry.current\n",
    "fire(Ferry,\"CrossRiver\")\n",
    "@show Ferry.current\n",
    ";"
   ]
  },
  {
   "cell_type": "markdown",
   "metadata": {},
   "source": [
    "###Multiple \"from\" states and \"final\" states"
   ]
  },
  {
   "cell_type": "markdown",
   "metadata": {},
   "source": [
    "State machines support multiple \"from\" states, and you have the option to define a \"final\" state that will throw a flag indicating that the state machine has \"finished\". Check the status of this flag with fire(state_machine, \"finished\"). Note that it is possible to define an action that can move away from the final state and flip the flag back to false."
   ]
  },
  {
   "cell_type": "code",
   "execution_count": 5,
   "metadata": {
    "collapsed": false
   },
   "outputs": [],
   "source": [
    "Ferry = state_machine({\n",
    "    \"initial\" => \"Dock\",\n",
    "    \"final\" => \"RiverBottom\", # the final state indicates the state machine has \"finished\"\n",
    "    \"events\" => [{\n",
    "            \"name\" => \"Launch\",\n",
    "            \"from\" => \"Dock\",\n",
    "            \"to\" => \"EastBank\",\n",
    "            }, {\n",
    "            \"name\" => \"CrossRiver\",\n",
    "            \"from\" => \"EastBank\",\n",
    "            \"to\" => \"WestBank\",\n",
    "            }, {\n",
    "            \"name\" => \"CrossRiver\",\n",
    "            \"from\" => \"WestBank\",\n",
    "            \"to\" => \"EastBank\",\n",
    "            }, {\n",
    "            \"name\" => \"Sink\",\n",
    "            \"from\" => [\"EastBank\", \"WestBank\"],\n",
    "            \"to\" => \"RiverBottom\",\n",
    "            }]\n",
    "    })\n",
    ";"
   ]
  },
  {
   "cell_type": "code",
   "execution_count": 6,
   "metadata": {
    "collapsed": false
   },
   "outputs": [
    {
     "name": "stdout",
     "output_type": "stream",
     "text": [
      "Ferry.current => \"Dock\"\n",
      "Ferry.current => \"EastBank\"\n",
      "fire(Ferry,\"finished\") => false\n",
      "Ferry.current => \"RiverBottom\"\n",
      "fire(Ferry,\"finished\") => true\n"
     ]
    }
   ],
   "source": [
    "@show Ferry.current # Ferry starts at the Dock\n",
    "fire(Ferry,\"Launch\")\n",
    "@show Ferry.current # Ferry launches to the East Bank\n",
    "@show fire(Ferry, \"finished\") # Ferry is at East Bank, which is not the final state\n",
    "fire(Ferry,\"Sink\")\n",
    "@show Ferry.current # Ferry sunk to the Bottom of the River\n",
    "@show fire(Ferry, \"finished\") # Ferry is at the Bottom of the River, which is the final state\n",
    ";"
   ]
  },
  {
   "cell_type": "markdown",
   "metadata": {},
   "source": [
    "##A Game for You..."
   ]
  },
  {
   "cell_type": "markdown",
   "metadata": {},
   "source": [
    "Enjoy this simple Monty Hall simulation implemented with FiniteStateMachine :)"
   ]
  },
  {
   "cell_type": "code",
   "execution_count": 5,
   "metadata": {
    "collapsed": false
   },
   "outputs": [],
   "source": [
    "MontyHall = state_machine({\n",
    "    \"initial\" => \"begin\",\n",
    "    \"final\" => \"end\",\n",
    "    \"events\" => [{\n",
    "            \"name\" => \"GuessRight\",\n",
    "            \"from\" => [\"begin\",\"wrong\"],\n",
    "            \"to\" => \"right\",\n",
    "            }, {\n",
    "            \"name\" => \"GuessWrong\",\n",
    "            \"from\" => [\"begin\",\"right\"],\n",
    "            \"to\" => \"wrong\",\n",
    "            }, {\n",
    "            \"name\" => \"switch\",\n",
    "            \"from\" => \"right\",\n",
    "            \"to\" => \"lose\",\n",
    "            },  {\n",
    "            \"name\" => \"switch\",\n",
    "            \"from\" => \"wrong\",\n",
    "            \"to\" => \"win\",\n",
    "            }, {\n",
    "            \"name\" => \"stay\",\n",
    "            \"from\" => \"right\",\n",
    "            \"to\" => \"win\",\n",
    "            },  {\n",
    "            \"name\" => \"stay\",\n",
    "            \"from\" => \"wrong\",\n",
    "            \"to\" => \"lose\",\n",
    "            }, {\n",
    "            \"name\" => \"start\",\n",
    "            \"from\" => [\"right\", \"wrong\", \"win\", \"lose\", \"end\", \"begin\"],\n",
    "            \"to\" => \"begin\",\n",
    "            }, {\n",
    "            \"name\" => \"yes\",\n",
    "            \"from\" => [\"win\", \"lose\"],\n",
    "            \"to\" => \"begin\",\n",
    "            }, {\n",
    "            \"name\" => \"no\",\n",
    "            \"from\" => [\"win\", \"lose\"],\n",
    "            \"to\" => \"end\",\n",
    "            }]\n",
    "    })\n",
    "\n",
    "function MontyHallSetup()\n",
    "    winner = int(ceil(3*rand()))\n",
    "    doors = Array(String,3)\n",
    "    for i = 1:length(doors)\n",
    "        doors[i] = \"GOAT\"\n",
    "    end\n",
    "    doors[winner] = \"CAR\"\n",
    "    return doors, winner\n",
    "end\n",
    ";"
   ]
  },
  {
   "cell_type": "code",
   "execution_count": 6,
   "metadata": {
    "collapsed": false
   },
   "outputs": [
    {
     "name": "stdout",
     "output_type": "stream",
     "text": [
      "Welcome to the Monty Hall Game Show!\n",
      "We have three doors for you to choose from. Two doors hide goats, and one door hides a NEW CAR!!\n",
      "You will guess which door hides the car, and then one of the other two doors will be shown to hide a goat...\n",
      "You will then be given the opportunity to switch your guess to the other unopened door...\n",
      "If your final guess is correct, you win the car!!\n",
      "\n",
      "Go ahead and make your first guess! Type 1, 2, or 3:\n",
      "STDIN> 1\n",
      "\n",
      "We will now reveal one of the losing doors...\n",
      "Door 2 hides a GOAT! Would you like to switch or stay?\n",
      "STDIN> switch\n",
      "\n",
      "Sorry! You lose! Door 1 hid the car.\n",
      "Enjoy your new pet goat. Would you like to play again (yes/no)?\n",
      "STDIN> yes\n",
      "\n",
      "Go ahead and make your first guess! Type 1, 2, or 3:\n",
      "STDIN> 2\n",
      "\n",
      "We will now reveal one of the losing doors...\n",
      "Door 1 hides a GOAT! Would you like to switch or stay?\n",
      "STDIN> stay\n",
      "\n",
      "Congratulations! You win! Door 2 hides the car!\n",
      "Pick up your keys on your way out. Would you like to play again (yes/no)?\n",
      "STDIN> no\n",
      "\n",
      "Thanks for playing! Goodbye.\n"
     ]
    }
   ],
   "source": [
    "fire(MontyHall, \"start\")\n",
    "\n",
    "println(\"Welcome to the Monty Hall Game Show!\")\n",
    "println(\"We have three doors for you to choose from. Two doors hide goats, and one door hides a NEW CAR!!\")\n",
    "println(\"You will guess which door hides the car, and then one of the other two doors will be shown to hide a goat...\")\n",
    "println(\"You will then be given the opportunity to switch your guess to the other unopened door...\")\n",
    "println(\"If your final guess is correct, you win the car!!\")\n",
    "\n",
    "while !fire(MontyHall, \"finished\")\n",
    "    if MontyHall.current == \"begin\"\n",
    "        (doors, winner) = MontyHallSetup()\n",
    "        println()\n",
    "        println(\"Go ahead and make your first guess! Type 1, 2, or 3:\")\n",
    "        guess = readline(STDIN)\n",
    "        if guess == string(winner)\n",
    "            fire(MontyHall, \"GuessRight\")\n",
    "        else\n",
    "            fire(MontyHall, \"GuessWrong\")\n",
    "        end\n",
    "    elseif MontyHall.current == \"right\" || MontyHall.current == \"wrong\"\n",
    "        reveal = int(ceil(3*rand()))\n",
    "        while reveal == winner || string(reveal) == guess\n",
    "            reveal = int(ceil(3*rand()))\n",
    "        end\n",
    "        println()\n",
    "        println(\"We will now reveal one of the losing doors...\")\n",
    "        println(\"Door \", reveal, \" hides a GOAT! Would you like to switch or stay?\")\n",
    "        fire(MontyHall, readline(STDIN))\n",
    "    elseif MontyHall.current == \"win\"\n",
    "        println()\n",
    "        println(\"Congratulations! You win! Door \", winner, \" hides the car!\")\n",
    "        println(\"Pick up your keys on your way out. Would you like to play again (yes/no)?\")\n",
    "        fire(MontyHall, readline(STDIN))\n",
    "    elseif MontyHall.current == \"lose\"\n",
    "        println()\n",
    "        println(\"Sorry! You lose! Door \", winner, \" hid the car.\")\n",
    "        println(\"Enjoy your new pet goat. Would you like to play again (yes/no)?\")\n",
    "        fire(MontyHall, readline(STDIN))\n",
    "    end\n",
    "end\n",
    "\n",
    "println()\n",
    "println(\"Thanks for playing! Goodbye.\")"
   ]
  },
  {
   "cell_type": "code",
   "execution_count": null,
   "metadata": {
    "collapsed": true
   },
   "outputs": [],
   "source": []
  }
 ],
 "metadata": {
  "kernelspec": {
   "display_name": "Julia 0.3.11",
   "language": "julia",
   "name": "julia-0.3"
  },
  "language_info": {
   "file_extension": ".jl",
   "mimetype": "application/julia",
   "name": "julia",
   "version": "0.3.11"
  }
 },
 "nbformat": 4,
 "nbformat_minor": 0
}
