{
 "cells": [
  {
   "cell_type": "code",
   "execution_count": 6,
   "metadata": {
    "collapsed": false
   },
   "outputs": [
    {
     "name": "stderr",
     "output_type": "stream",
     "text": [
      "INFO: Nothing to be done\n",
      "INFO: Nothing to be done\n",
      "INFO: Cloning cache of FactCheck from git://github.com/JuliaLang/FactCheck.jl.git\n",
      "INFO: Cloning cache of Interact from git://github.com/JuliaLang/Interact.jl.git\n",
      "INFO: Cloning cache of Reactive from git://github.com/JuliaLang/Reactive.jl.git\n",
      "INFO: Installing FactCheck v0.4.1\n",
      "INFO: Installing Interact v0.2.1\n",
      "INFO: Installing Reactive v0.2.4\n",
      "INFO: Package database updated\n"
     ]
    }
   ],
   "source": [
    "Pkg.add(\"Ipopt\")\n",
    "Pkg.add(\"JuMP\")\n",
    "Pkg.add(\"Interact\")"
   ]
  },
  {
   "cell_type": "code",
   "execution_count": 22,
   "metadata": {
    "collapsed": false
   },
   "outputs": [
    {
     "ename": "LoadError",
     "evalue": "LoadError: ArgumentError: Gadfly not found in path\nwhile loading In[22], in expression starting on line 1",
     "output_type": "error",
     "traceback": [
      "LoadError: ArgumentError: Gadfly not found in path\nwhile loading In[22], in expression starting on line 1",
      "",
      " in require at loading.jl:233"
     ]
    }
   ],
   "source": []
  },
  {
   "cell_type": "code",
   "execution_count": 25,
   "metadata": {
    "collapsed": false
   },
   "outputs": [
    {
     "data": {
      "text/html": [],
      "text/plain": [
       "Interact.Slider{Int64}([Reactive.Input{Int64}] 2,\"upper_bound\",2,0:5)"
      ]
     },
     "metadata": {},
     "output_type": "display_data"
    },
    {
     "data": {
      "text/plain": [
       "\"Optimal solution: x = 2.0 y = 0.20000000199712123\""
      ]
     },
     "execution_count": 25,
     "metadata": {
      "comm_id": "d2475be7-0cbb-4b41-8759-c53999043c30",
      "reactive": true
     },
     "output_type": "execute_result"
    }
   ],
   "source": [
    "using Ipopt\n",
    "using JuMP\n",
    "using Interact\n",
    "\n",
    "# solve a linear program with different upper bounds on the x variable \n",
    "#(sorry this is a boring example but I am very pushed for time)\n",
    "@manipulate for upper_bound = 0:5\n",
    "    m = Model(solver=IpoptSolver())\n",
    "    @defVar(m, 0 <= x <= upper_bound )\n",
    "    @defVar(m, 0 <= y <= 30 )\n",
    "\n",
    "    @setObjective(m, Max, 5x + 3*y )\n",
    "    @addConstraint(m, 1x + 5y <= 3.0 )\n",
    "    \n",
    "    status = solve(m)\n",
    "    \n",
    "    return \"Optimal solution: x = \" * string(getValue(x)) * \" y = \" * string(getValue(y))\n",
    "end"
   ]
  },
  {
   "cell_type": "code",
   "execution_count": null,
   "metadata": {
    "collapsed": true
   },
   "outputs": [],
   "source": []
  },
  {
   "cell_type": "code",
   "execution_count": null,
   "metadata": {
    "collapsed": true
   },
   "outputs": [],
   "source": []
  },
  {
   "cell_type": "code",
   "execution_count": null,
   "metadata": {
    "collapsed": true
   },
   "outputs": [],
   "source": []
  },
  {
   "cell_type": "code",
   "execution_count": null,
   "metadata": {
    "collapsed": true
   },
   "outputs": [],
   "source": []
  }
 ],
 "metadata": {
  "kernelspec": {
   "display_name": "Julia 0.4.0",
   "language": "julia",
   "name": "julia-0.4"
  },
  "language_info": {
   "file_extension": ".jl",
   "mimetype": "application/julia",
   "name": "julia",
   "version": "0.4.0"
  }
 },
 "nbformat": 4,
 "nbformat_minor": 0
}
