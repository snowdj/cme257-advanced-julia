{
 "cells": [
  {
   "cell_type": "code",
   "execution_count": 1,
   "metadata": {
    "collapsed": false
   },
   "outputs": [],
   "source": [
    "using LightGraphs\n",
    "#Graphs.jl is absolutely terrible; you can't even remove edges!\n",
    "#Arun Jambulapati, HW #3, CME 257 submission: LightGraphs"
   ]
  },
  {
   "cell_type": "code",
   "execution_count": 2,
   "metadata": {
    "collapsed": false
   },
   "outputs": [
    {
     "name": "stdout",
     "output_type": "stream",
     "text": [
      "edge 4 - 3\n",
      "edge 1 - 4\n",
      "edge 9 - 5\n",
      "edge 5 - 4\n",
      "edge 10 - 5\n",
      "edge 3 - 6\n",
      "edge 8 - 3\n",
      "edge 3 - 5\n",
      "edge 8 - 6\n",
      "edge 6 - 4\n",
      "edge 4 - 9\n",
      "edge 8 - 5\n",
      "edge 7 - 1\n",
      "edge 8 - 9\n",
      "edge 2 - 7\n",
      "edge 9 - 7\n",
      "edge 10 - 3\n",
      "edge 6 - 7\n",
      "edge 6 - 9\n",
      "edge 8 - 1\n",
      "edge 3 - 9\n",
      "edge 1 - 10\n",
      "edge 5 - 6\n",
      "edge 2 - 8\n",
      "edge 7 - 8\n",
      "edge 10 - 8\n",
      "edge 6 - 10\n",
      "edge 1 - 9\n",
      "edge 1 - 3\n",
      "edge 4 - 8\n",
      "edge 4 - 10\n",
      "edge 4 - 2\n",
      "Neighbors of 4: [8,2,6,1,9,5,3,10]\n",
      "Distances from 4: [1,1,1,0,1,1,2,1,1,1]\n",
      "Mincut: (Bool[true,false,true,true,true,true,true,true,true,true],3)\n"
     ]
    }
   ],
   "source": [
    "#brief exhibit of the features of this package\n",
    "\n",
    "test = Graph(10)\n",
    "#create a 10 node graph\n",
    "test1 = Graph(10, 32)\n",
    "#create another 10 node graph with 32 randomly chosen edges\n",
    "\n",
    "add_edge!(test, 4, 5)\n",
    "#add an edge between 4 and 5\n",
    "\n",
    "for i in edges(test1)\n",
    "    println(i)\n",
    "end\n",
    "#print the edges of test\n",
    "rem_edge!(test, 4, 5)\n",
    "#remove an edge from test\n",
    "\n",
    "print(\"Neighbors of 4: \")\n",
    "println(neighbors(test1, 4))\n",
    "#print the neighborhood of vertex 4\n",
    "\n",
    "#compute the shortest paths from vertex 4 to all other nodes\n",
    "print(\"Distances from 4: \")\n",
    "println(dijkstra_shortest_paths(test1, 4).dists)\n",
    "\n",
    "#set test to test1's complement\n",
    "test = complement(test1)\n",
    "\n",
    "#mincut of test1\n",
    "print(\"Mincut: \")\n",
    "println(mincut(test1))\n",
    "\n"
   ]
  },
  {
   "cell_type": "code",
   "execution_count": 3,
   "metadata": {
    "collapsed": false
   },
   "outputs": [
    {
     "data": {
      "text/plain": [
       "281"
      ]
     },
     "execution_count": 3,
     "metadata": {},
     "output_type": "execute_result"
    }
   ],
   "source": [
    "n = 250000\n",
    "p_1 = .00001\n",
    "p_2 = .002\n",
    "G = erdos_renyi(n, p_1, is_directed=false)\n",
    "H = erdos_renyi(round(Int,3*sqrt(n)), p_2, is_directed=false)\n",
    "G = union(G,H)\n",
    "#generate a random graph with a large set of relatively sparse edges and a smaller dense cluster of edges\n",
    "threshold = round(Int, .5*(length(edges(G)))^.5)\n",
    "#triangle detection low-degree high-degree threshold\n",
    "#changing the probabilities and graphs if you want to test different densities and sizes\n",
    "#generating this graph takes a while due to the number of random bits required; a better test graph would require\n",
    "#much more work\n",
    "#the reason this takes so long is because to generate the several billion random bits required to create the graph, \n",
    "#we have to do several cpu cycles to get each of them\n",
    "#if this takes too long, just change the graph size to something smaller"
   ]
  },
  {
   "cell_type": "code",
   "execution_count": 4,
   "metadata": {
    "collapsed": false
   },
   "outputs": [
    {
     "name": "stdout",
     "output_type": "stream",
     "text": [
      "(156,709,979)"
     ]
    }
   ],
   "source": [
    "neighborhoods = Dict()\n",
    "inducing = []\n",
    "for i in vertices(G)\n",
    "    nb = neighbors(G, i)\n",
    "    c = length(nb)\n",
    "    if c >= threshold\n",
    "        push!(inducing, i)\n",
    "    end\n",
    "    neighborhoods[i] = nb\n",
    "end\n",
    "#create a dictionary of the neighborhoods of the graph; a better implementation is possible but this works OK\n",
    "hideg_graph = induced_subgraph(G, inducing)\n",
    "#create an induced subgraph for the high degree nodes\n",
    "\n",
    "function sparsetrianglefind(G)\n",
    "    for i in edges(G)\n",
    "        a = neighborhoods[i.first]\n",
    "        b = neighborhoods[i.second]\n",
    "        c = length(a)\n",
    "        d = length(b)\n",
    "        if c > threshold && d > threshold\n",
    "    \n",
    "        else \n",
    "            if c >= d\n",
    "                for j in b\n",
    "                    if in(j,a)\n",
    "                        return i.first, i.second, j\n",
    "                    end\n",
    "                end\n",
    "            else\n",
    "                for j in a\n",
    "                    if in(j,b)\n",
    "                        return i.first, i.second, j\n",
    "                    end\n",
    "                end\n",
    "            end\n",
    "        end\n",
    "    end\n",
    "    return 0\n",
    "end\n",
    "#over the sparse graph components, test every edge's endpoints' neighborhood and look for a node in common\n",
    "#we skip the dense edges for this\n",
    "\n",
    "function densetrianglefind(hideg_graph)\n",
    "    A = adjacency_matrix(hideg_graph)\n",
    "    B = A*A\n",
    "    for i = 1:size(A,1)\n",
    "        for j = 1:size(A,1)\n",
    "            if A[i,j] > 0 && B[i,j] > 0\n",
    "                a = neighborhoods[i]\n",
    "                b = neighborhoods[j]\n",
    "                for k in b\n",
    "                    if in(k,a)\n",
    "                        return inducing[i], inducing[j], inducing[k]\n",
    "                    end\n",
    "                end\n",
    "            end\n",
    "        end\n",
    "    end\n",
    "    return \"No Triangles\"\n",
    "end\n",
    "#for the dense part, look at the graph induced over the dense nodes and do a search by matrix multiplication\n",
    "#we know that i and j form a triangle with another vertex k iff A_i,j is nonzero and A^2_i,j is nonzero,\n",
    "#where A is the adjacency matrix. Once such i and j are found, we check their neighborhoods for an intersection.\n",
    "\n",
    "function trianglefind(G, hideg_graph)\n",
    "    a = sparsetrianglefind(G)\n",
    "    if a == 0\n",
    "        return densetrianglefind(hideg_graph)\n",
    "    else\n",
    "        return a        \n",
    "    end\n",
    "end\n",
    "#we first check the sparse componment; if no edge is found, check the dense component.\n",
    "\n",
    "tic()\n",
    "a = trianglefind(G, hideg_graph)\n",
    "t = toq()\n",
    "#test on our hybrid graph\n",
    "\n",
    "print(a)\n"
   ]
  },
  {
   "cell_type": "code",
   "execution_count": 5,
   "metadata": {
    "collapsed": false
   },
   "outputs": [
    {
     "name": "stdout",
     "output_type": "stream",
     "text": [
      "Time Elapsed: 0.190297998\n"
     ]
    }
   ],
   "source": [
    "print(\"Time Elapsed: \")\n",
    "println(t)\n",
    "#even on graphs of a quarter million nodes, this algorithm runs in under a fifth of a second"
   ]
  }
 ],
 "metadata": {
  "kernelspec": {
   "display_name": "Julia 0.4.0-rc3",
   "language": "julia",
   "name": "julia-0.4"
  },
  "language_info": {
   "file_extension": ".jl",
   "mimetype": "application/julia",
   "name": "julia",
   "version": "0.4.0"
  }
 },
 "nbformat": 4,
 "nbformat_minor": 0
}
