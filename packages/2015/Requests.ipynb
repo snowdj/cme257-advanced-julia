{
 "cells": [
  {
   "cell_type": "markdown",
   "metadata": {},
   "source": [
    "Requests\n",
    "========\n",
    "*Chuan-Zheng Lee*\n",
    "\n",
    "This notebook demonstrates the `Requests.jl` package. It was created using Julia version 0.5.0-dev+539 (commit 92670a9). \n",
    "\n",
    "`Requests` is a basic HTTP client. It can be used to download web pages, or (perhaps more usefully) interact with HTTP-based APIs. For example, some web services might provide data sets over HTTP.\n",
    "\n",
    "This notebook only demonstrates the `get()` function, since it's the most useful. There's also `post()`,\n",
    "which might occasionally be used, and `put()`, `delete()` and `options()`, which probably almost never\n",
    "get used.\n",
    "\n",
    "More information about this package can be found at https://github.com/JuliaWeb/Requests.jl.\n",
    "\n",
    "To install:\n",
    "```\n",
    "Pkg.add(\"Requests\")\n",
    "```"
   ]
  },
  {
   "cell_type": "code",
   "execution_count": 1,
   "metadata": {
    "collapsed": false
   },
   "outputs": [
    {
     "data": {
      "text/html": [
       "<script charset=\"utf-8\">(function ($, undefined) {\n",
       "\n",
       "    function createElem(tag, attr, content) {\n",
       "\t// TODO: remove jQuery dependency\n",
       "\tvar el = $(\"<\" + tag + \"/>\").attr(attr);\n",
       "\tif (content) {\n",
       "\t    el.append(content);\n",
       "\t}\n",
       "\treturn el[0];\n",
       "    }\n",
       "\n",
       "    // A widget must expose an id field which identifies it to the backend,\n",
       "    // an elem attribute which is will be added to the DOM, and\n",
       "    // a getState() method which returns the value to be sent to the backend\n",
       "    // a sendUpdate() method which sends its current value to the backend\n",
       "    var Widget = {\n",
       "\tid: undefined,\n",
       "\telem: undefined,\n",
       "\tlabel: undefined,\n",
       "\tgetState: function () {\n",
       "\t    return this.elem.value;\n",
       "\t},\n",
       "\tsendUpdate: undefined\n",
       "    };\n",
       "\n",
       "    var Slider = function (typ, id, init) {\n",
       "\tvar attr = { type:  \"range\",\n",
       "\t\t     value: init.value,\n",
       "\t\t     min:   init.min,\n",
       "\t\t     max:   init.max,\n",
       "\t\t     step:  init.step },\n",
       "\t    elem = createElem(\"input\", attr),\n",
       "\t    self = this;\n",
       "\n",
       "\telem.onchange = function () {\n",
       "\t    self.sendUpdate();\n",
       "\t}\n",
       "\n",
       "\tthis.id = id;\n",
       "\tthis.elem = elem;\n",
       "\tthis.label = init.label;\n",
       "\n",
       "\tInputWidgets.commInitializer(this); // Initialize communication\n",
       "    }\n",
       "    Slider.prototype = Widget;\n",
       "\n",
       "    var Checkbox = function (typ, id, init) {\n",
       "\tvar attr = { type: \"checkbox\",\n",
       "\t\t     checked: init.value },\n",
       "\t    elem = createElem(\"input\", attr),\n",
       "\t    self = this;\n",
       "\n",
       "\tthis.getState = function () {\n",
       "\t    return elem.checked;\n",
       "\t}\n",
       "\telem.onchange = function () {\n",
       "\t    self.sendUpdate();\n",
       "\t}\n",
       "\n",
       "\tthis.id = id;\n",
       "\tthis.elem = elem;\n",
       "\tthis.label = init.label;\n",
       "\n",
       "\tInputWidgets.commInitializer(this);\n",
       "    }\n",
       "    Checkbox.prototype = Widget;\n",
       "\n",
       "    var Button = function (typ, id, init) {\n",
       "\tvar attr = { type:    \"button\",\n",
       "\t\t     value:   init.label },\n",
       "\t    elem = createElem(\"input\", attr),\n",
       "\t    self = this;\n",
       "\tthis.getState = function () {\n",
       "\t    return null;\n",
       "\t}\n",
       "\telem.onclick = function () {\n",
       "\t    self.sendUpdate();\n",
       "\t}\n",
       "\n",
       "\tthis.id = id;\n",
       "\tthis.elem = elem;\n",
       "\tthis.label = init.label;\n",
       "\n",
       "\tInputWidgets.commInitializer(this);\n",
       "    }\n",
       "    Button.prototype = Widget;\n",
       "\n",
       "    var Text = function (typ, id, init) {\n",
       "\tvar attr = { type:  \"text\",\n",
       "\t\t     placeholder: init.label,\n",
       "\t\t     value: init.value },\n",
       "\t    elem = createElem(\"input\", attr),\n",
       "\t    self = this;\n",
       "\tthis.getState = function () {\n",
       "\t    return elem.value;\n",
       "\t}\n",
       "\telem.onkeyup = function () {\n",
       "\t    self.sendUpdate();\n",
       "\t}\n",
       "\n",
       "\tthis.id = id;\n",
       "\tthis.elem = elem;\n",
       "\tthis.label = init.label;\n",
       "\n",
       "\tInputWidgets.commInitializer(this);\n",
       "    }\n",
       "    Text.prototype = Widget;\n",
       "\n",
       "    var Textarea = function (typ, id, init) {\n",
       "\tvar attr = { placeholder: init.label },\n",
       "\t    elem = createElem(\"textarea\", attr, init.value),\n",
       "\t    self = this;\n",
       "\tthis.getState = function () {\n",
       "\t    return elem.value;\n",
       "\t}\n",
       "\telem.onchange = function () {\n",
       "\t    self.sendUpdate();\n",
       "\t}\n",
       "\n",
       "\tthis.id = id;\n",
       "\tthis.elem = elem;\n",
       "\tthis.label = init.label;\n",
       "\n",
       "\tInputWidgets.commInitializer(this);\n",
       "    }\n",
       "    Textarea.prototype = Widget;\n",
       "\n",
       "    // RadioButtons\n",
       "    // Dropdown\n",
       "    // HTML\n",
       "    // Latex\n",
       "\n",
       "    var InputWidgets = {\n",
       "\tSlider: Slider,\n",
       "\tCheckbox: Checkbox,\n",
       "\tButton: Button,\n",
       "\tText: Text,\n",
       "\tTextarea: Textarea,\n",
       "\tdebug: false,\n",
       "\tlog: function () {\n",
       "\t    if (InputWidgets.debug) {\n",
       "\t\tconsole.log.apply(console, arguments);\n",
       "\t    }\n",
       "\t},\n",
       "\t// a central way to initalize communication\n",
       "\t// for widgets.\n",
       "\tcommInitializer: function (widget) {\n",
       "\t    widget.sendUpdate = function () {};\n",
       "\t}\n",
       "    };\n",
       "\n",
       "    window.InputWidgets = InputWidgets;\n",
       "\n",
       "})(jQuery, undefined);\n",
       "</script>"
      ]
     },
     "metadata": {},
     "output_type": "display_data"
    },
    {
     "data": {
      "text/html": [
       "<div id=\"interact-js-shim\">\n",
       "    <script charset=\"utf-8\">\n",
       "(function (IPython, $, _, MathJax, Widgets) {\n",
       "    $.event.special.destroyed = {\n",
       "\tremove: function(o) {\n",
       "\t    if (o.handler) {\n",
       "\t\to.handler.apply(this, arguments)\n",
       "\t    }\n",
       "\t}\n",
       "    }\n",
       "\n",
       "    var OutputArea = IPython.version >= \"4.0.0\" ? require(\"notebook/js/outputarea\").OutputArea : IPython.OutputArea;\n",
       "\n",
       "    var redrawValue = function (container, type, val) {\n",
       "\tvar selector = $(\"<div/>\");\n",
       "\tvar oa = new OutputArea(_.extend(selector, {\n",
       "\t    selector: selector,\n",
       "\t    prompt_area: true,\n",
       "\t    events: IPython.events,\n",
       "\t    keyboard_manager: IPython.keyboard_manager\n",
       "\t})); // Hack to work with IPython 2.1.0\n",
       "\n",
       "\tswitch (type) {\n",
       "\tcase \"image/png\":\n",
       "            var _src = 'data:' + type + ';base64,' + val;\n",
       "\t    $(container).find(\"img\").attr('src', _src);\n",
       "\t    break;\n",
       "\tdefault:\n",
       "\t    var toinsert = OutputArea.append_map[type].apply(\n",
       "\t\toa, [val, {}, selector]\n",
       "\t    );\n",
       "\t    $(container).empty().append(toinsert.contents());\n",
       "\t    selector.remove();\n",
       "\t}\n",
       "\tif (type === \"text/latex\" && MathJax) {\n",
       "\t    MathJax.Hub.Queue([\"Typeset\", MathJax.Hub, toinsert.get(0)]);\n",
       "\t}\n",
       "    }\n",
       "\n",
       "\n",
       "    $(document).ready(function() {\n",
       "\tWidgets.debug = false; // log messages etc in console.\n",
       "\tfunction initComm(evt, data) {\n",
       "\t    var comm_manager = data.kernel.comm_manager;\n",
       "        //_.extend(comm_manager.targets, require(\"widgets/js/widget\"))\n",
       "\t    comm_manager.register_target(\"Signal\", function (comm) {\n",
       "            comm.on_msg(function (msg) {\n",
       "                //Widgets.log(\"message received\", msg);\n",
       "                var val = msg.content.data.value;\n",
       "                $(\".signal-\" + comm.comm_id).each(function() {\n",
       "                var type = $(this).data(\"type\");\n",
       "                if (val[type]) {\n",
       "                    redrawValue(this, type, val[type], type);\n",
       "                }\n",
       "                });\n",
       "                delete val;\n",
       "                delete msg.content.data.value;\n",
       "            });\n",
       "\t    });\n",
       "\n",
       "\t    // coordingate with Comm and redraw Signals\n",
       "\t    // XXX: Test using Reactive here to improve performance\n",
       "\t    $([IPython.events]).on(\n",
       "\t\t'output_appended.OutputArea', function (event, type, value, md, toinsert) {\n",
       "\t\t    if (md && md.reactive) {\n",
       "                // console.log(md.comm_id);\n",
       "                toinsert.addClass(\"signal-\" + md.comm_id);\n",
       "                toinsert.data(\"type\", type);\n",
       "                // Signal back indicating the mimetype required\n",
       "                var comm_manager = IPython.notebook.kernel.comm_manager;\n",
       "                var comm = comm_manager.comms[md.comm_id];\n",
       "                comm.then(function (c) {\n",
       "                    c.send({action: \"subscribe_mime\",\n",
       "                       mime: type});\n",
       "                    toinsert.bind(\"destroyed\", function() {\n",
       "                        c.send({action: \"unsubscribe_mime\",\n",
       "                               mime: type});\n",
       "                    });\n",
       "                })\n",
       "\t\t    }\n",
       "\t    });\n",
       "\t}\n",
       "\n",
       "\ttry {\n",
       "\t    // try to initialize right away. otherwise, wait on the status_started event.\n",
       "\t    initComm(undefined, IPython.notebook);\n",
       "\t} catch (e) {\n",
       "\t    $([IPython.events]).on('kernel_created.Kernel kernel_created.Session', initComm);\n",
       "\t}\n",
       "    });\n",
       "})(IPython, jQuery, _, MathJax, InputWidgets);\n",
       "</script>\n",
       "    <script>\n",
       "        window.interactLoadedFlag = true\n",
       "       $(\"#interact-js-shim\").bind(\"destroyed\", function () {\n",
       "           if (window.interactLoadedFlag) {\n",
       "               console.warn(\"JavaScript required by Interact will be removed if you remove this cell or run using Interact more than once.\")\n",
       "           }\n",
       "       })\n",
       "       $([IPython.events]).on(\"kernel_starting.Kernel kernel_restarting.Kernel\", function () { window.interactLoadedFlag = false })\n",
       "   </script>\n",
       "</div>"
      ]
     },
     "metadata": {},
     "output_type": "display_data"
    },
    {
     "name": "stderr",
     "output_type": "stream",
     "text": [
      "WARNING: Base.FloatingPoint is deprecated, use AbstractFloat instead.\n",
      "WARNING: Base.FloatingPoint is deprecated, use AbstractFloat instead.\n",
      "WARNING: Union(args...) is deprecated, use Union{args...} instead.\n"
     ]
    }
   ],
   "source": [
    "using Requests\n",
    "using Interact"
   ]
  },
  {
   "cell_type": "markdown",
   "metadata": {},
   "source": [
    "Status code\n",
    "------------\n",
    "\n",
    "The function `get(url)`, which returns a `Response` object, which encapsulates an HTTP response.\n",
    "\n",
    "You can read the HTTP status code with `statuscode()`. (The status code 200 means \"OK\", 404 means \"Not Found\", etc.)"
   ]
  },
  {
   "cell_type": "code",
   "execution_count": 2,
   "metadata": {
    "collapsed": false
   },
   "outputs": [
    {
     "name": "stdout",
     "output_type": "stream",
     "text": [
      "julia_homepage = get(\"http://julialang.org\") = Response(200 OK, 22 headers, 28858 bytes in body)\n",
      "statuscode(julia_homepage) = 200\n",
      "nonexistent_page = get(\"http://web.stanford.edu/~nonexistent\") = Response(404 Not Found, 11 headers, 5847 bytes in body)\n",
      "statuscode(nonexistent_page) = 404\n"
     ]
    }
   ],
   "source": [
    "# Request web pages and report the status code of the response\n",
    "@show julia_homepage = get(\"http://julialang.org\")\n",
    "@show statuscode(julia_homepage) # should give 200 (OK)\n",
    "\n",
    "@show nonexistent_page = get(\"http://web.stanford.edu/~nonexistent\")\n",
    "@show statuscode(nonexistent_page) # should give 404 (Not Found)\n",
    ";"
   ]
  },
  {
   "cell_type": "markdown",
   "metadata": {},
   "source": [
    "Headers\n",
    "-------\n",
    "\n",
    "The function `headers()` returns a `Dict` of all the headers in the response."
   ]
  },
  {
   "cell_type": "code",
   "execution_count": 3,
   "metadata": {
    "collapsed": false
   },
   "outputs": [
    {
     "name": "stdout",
     "output_type": "stream",
     "text": [
      "facebook_homepage = get(\"https://www.facebook.com/\") = Response(200 OK, 20 headers, 52751 bytes in body)"
     ]
    },
    {
     "data": {
      "text/plain": [
       "Dict{AbstractString,AbstractString} with 20 entries:\n",
       "  \"Connection\"             => \"keep-alive\"\n",
       "  \"Date\"                   => \"Fri, 09 Oct 2015 04:44:27 GMT\"\n",
       "  \"Public-Key-Pins-Report… => \"max-age=500; pin-sha256=\\\"WoiWRyIOVNa9ihaBciRSC7…\n",
       "  \"http_minor\"             => \"1\"\n",
       "  \"Keep-Alive\"             => \"1\"\n",
       "  \"status_code\"            => \"200\"\n",
       "  \"Transfer-Encoding\"      => \"chunked\"\n",
       "  \"Cache-Control\"          => \"private, no-cache, no-store, must-revalidate\"\n",
       "  \"X-FB-Debug\"             => \"K3dLGYH71YOiCi8A939JIVgcwy/K3pUUqBDPUKXUaexKKLcL…\n",
       "  \"Server\"                 => \"Julia/0.5.0-dev+539\"\n",
       "  \"Expires\"                => \"Sat, 01 Jan 2000 00:00:00 GMT\"\n",
       "  \"X-XSS-Protection\"       => \"0\"\n",
       "  \"X-Content-Type-Options\" => \"nosniff\"\n",
       "  \"Vary\"                   => \"Accept-Encoding\"\n",
       "  \"Pragma\"                 => \"no-cache\"\n",
       "  \"http_major\"             => \"1\"\n",
       "  \"Strict-Transport-Secur… => \"max-age=15552000; preload\"\n",
       "  \"Content-Type\"           => \"text/html\"\n",
       "  \"X-Frame-Options\"        => \"DENY\"\n",
       "  \"Content-Language\"       => \"en\""
      ]
     },
     "execution_count": 3,
     "metadata": {},
     "output_type": "execute_result"
    },
    {
     "name": "stdout",
     "output_type": "stream",
     "text": [
      "\n"
     ]
    }
   ],
   "source": [
    "# Retrieve a web page and display the headers in the response\n",
    "@show facebook_homepage = get(\"https://www.facebook.com/\")\n",
    "headers(facebook_homepage)"
   ]
  },
  {
   "cell_type": "markdown",
   "metadata": {},
   "source": [
    "Interactive example\n",
    "-------------------\n",
    "\n",
    "This example accesses the results of New Zealand general elections, which are hosted in CSV format by electorate and year on the New Zealand Electoral Commission's website. It then parses the CSV file to extract information about how many votes each party received in that electorate in that year, and displays the result as a simple HTML table.\n",
    "\n",
    "In real life one probably wouldn't do something so dull as display the information in an HTML table. One could, for example, use this method to analyze how a party's popularity changes over time, or to conduct other more involved analyses."
   ]
  },
  {
   "cell_type": "code",
   "execution_count": 4,
   "metadata": {
    "collapsed": false,
    "scrolled": true
   },
   "outputs": [
    {
     "data": {
      "text/html": [],
      "text/plain": [
       "Interact.Slider{Int64}([Reactive.Input{Int64}] 36,\"electorate_id\",36,1:71)"
      ]
     },
     "metadata": {},
     "output_type": "display_data"
    },
    {
     "data": {
      "text/html": [],
      "text/plain": [
       "Interact.Slider{Int64}([Reactive.Input{Int64}] 2008,\"year\",2008,2002:3:2014)"
      ]
     },
     "metadata": {},
     "output_type": "display_data"
    },
    {
     "data": {
      "text/html": [],
      "text/plain": [
       "Interact.HTML(\"\",\"<p><b>Party votes in the 2008 New Zealand general election</b></p>\\n<p><i>For electorate: <b>Otaki 36</b></i></p>\\n<table>\\n<tr>\\n    <th>Party</th>\\n    <th style=\\\"text-align: right;\\\">Votes</th>\\n    <th style=\\\"text-align: right;\\\">%age</th>\\n</tr>\\n<tr>\\n    <td> National Party </td>\\n    <td style=\\\"text-align: right; width: 5em;\\\"> 17534 </td>\\n    <td style=\\\"text-align: right; width: 5em;\\\"> 44.77% </td>\\n</tr>\\n<tr>\\n    <td> Labour Party </td>\\n    <td style=\\\"text-align: right; width: 5em;\\\"> 14472 </td>\\n    <td style=\\\"text-align: right; width: 5em;\\\"> 36.95% </td>\\n</tr>\\n<tr>\\n    <td> Green Party </td>\\n    <td style=\\\"text-align: right; width: 5em;\\\"> 2207 </td>\\n    <td style=\\\"text-align: right; width: 5em;\\\"> 5.64% </td>\\n</tr>\\n<tr>\\n    <td> New Zealand First Party </td>\\n    <td style=\\\"text-align: right; width: 5em;\\\"> 2153 </td>\\n    <td style=\\\"text-align: right; width: 5em;\\\"> 5.50% </td>\\n</tr>\\n<tr>\\n    <td> ACT New Zealand </td>\\n    <td style=\\\"text-align: right; width: 5em;\\\"> 1014 </td>\\n    <td style=\\\"text-align: right; width: 5em;\\\"> 2.59% </td>\\n</tr>\\n<tr>\\n    <td> Jim Anderton's Progressive </td>\\n    <td style=\\\"text-align: right; width: 5em;\\\"> 453 </td>\\n    <td style=\\\"text-align: right; width: 5em;\\\"> 1.16% </td>\\n</tr>\\n<tr>\\n    <td> United Future </td>\\n    <td style=\\\"text-align: right; width: 5em;\\\"> 397 </td>\\n    <td style=\\\"text-align: right; width: 5em;\\\"> 1.01% </td>\\n</tr>\\n<tr>\\n    <td> Maori Party </td>\\n    <td style=\\\"text-align: right; width: 5em;\\\"> 321 </td>\\n    <td style=\\\"text-align: right; width: 5em;\\\"> 0.82% </td>\\n</tr>\\n<tr>\\n    <td> The Bill and Ben Party </td>\\n    <td style=\\\"text-align: right; width: 5em;\\\"> 177 </td>\\n    <td style=\\\"text-align: right; width: 5em;\\\"> 0.45% </td>\\n</tr>\\n<tr>\\n    <td> Kiwi Party </td>\\n    <td style=\\\"text-align: right; width: 5em;\\\"> 165 </td>\\n    <td style=\\\"text-align: right; width: 5em;\\\"> 0.42% </td>\\n</tr>\\n<tr>\\n    <td> Aotearoa Legalise Cannabis Party </td>\\n    <td style=\\\"text-align: right; width: 5em;\\\"> 115 </td>\\n    <td style=\\\"text-align: right; width: 5em;\\\"> 0.29% </td>\\n</tr>\\n<tr>\\n    <td> Family Party </td>\\n    <td style=\\\"text-align: right; width: 5em;\\\"> 84 </td>\\n    <td style=\\\"text-align: right; width: 5em;\\\"> 0.21% </td>\\n</tr>\\n<tr>\\n    <td> Alliance </td>\\n    <td style=\\\"text-align: right; width: 5em;\\\"> 28 </td>\\n    <td style=\\\"text-align: right; width: 5em;\\\"> 0.07% </td>\\n</tr>\\n<tr>\\n    <td> Libertarianz </td>\\n    <td style=\\\"text-align: right; width: 5em;\\\"> 12 </td>\\n    <td style=\\\"text-align: right; width: 5em;\\\"> 0.03% </td>\\n</tr>\\n<tr>\\n    <td> Democrats for Social Credit </td>\\n    <td style=\\\"text-align: right; width: 5em;\\\"> 10 </td>\\n    <td style=\\\"text-align: right; width: 5em;\\\"> 0.03% </td>\\n</tr>\\n<tr>\\n    <td> New Zealand Pacific Party </td>\\n    <td style=\\\"text-align: right; width: 5em;\\\"> 9 </td>\\n    <td style=\\\"text-align: right; width: 5em;\\\"> 0.02% </td>\\n</tr>\\n<tr>\\n    <td> Workers Party </td>\\n    <td style=\\\"text-align: right; width: 5em;\\\"> 6 </td>\\n    <td style=\\\"text-align: right; width: 5em;\\\"> 0.02% </td>\\n</tr>\\n<tr>\\n    <td> The Republic of New Zealand Party </td>\\n    <td style=\\\"text-align: right; width: 5em;\\\"> 5 </td>\\n    <td style=\\\"text-align: right; width: 5em;\\\"> 0.01% </td>\\n</tr>\\n<tr>\\n    <td> RAM - Residents Action Movement </td>\\n    <td style=\\\"text-align: right; width: 5em;\\\"> 0 </td>\\n    <td style=\\\"text-align: right; width: 5em;\\\"> 0.00% </td>\\n</tr>\\n</table>\")"
      ]
     },
     "execution_count": 4,
     "metadata": {},
     "output_type": "execute_result"
    },
    {
     "name": "stderr",
     "output_type": "stream",
     "text": [
      "WARNING: both Interact and Base export \"HTML\"; uses of it in module Main must be qualified\n"
     ]
    }
   ],
   "source": [
    "# Download the results of some New Zealand general election in some electorate,\n",
    "# identified by electorate ID. Display the party votes as a simple HTML table.\n",
    "\n",
    "@manipulate for electorate_id in 1:71, year in 2002:3:2014\n",
    "    \n",
    "    # Construct URL to download\n",
    "    url = @sprintf(\"http://electionresults.govt.nz/electionresults_%d/e9/csv/e9_part8_%s_%d.csv\", year, \"party\", electorate_id)\n",
    "    \n",
    "    response = get(url) # retrieve the response\n",
    "    @assert(statuscode(response) == 200)\n",
    "    \n",
    "    content = readbytes(response) # reads the contents as a byte stream\n",
    "    data = readcsv(content)\n",
    "    \n",
    "    # Everything from here onwards is processing the downloaded data, generating\n",
    "    # a simple HTML display of the votes for each party in this electorate.\n",
    "    text = [UTF8String(\"\"\"<p><b>Party votes in the $year New Zealand general election</b></p>\n",
    "        <p><i>For electorate: <b>$(data[2,1])</b></i></p>\n",
    "        <table>\n",
    "        <tr>\n",
    "            <th>Party</th>\n",
    "            <th style=\"text-align: right;\">Votes</th>\n",
    "            <th style=\"text-align: right;\">%age</th>\n",
    "        </tr>\n",
    "        \"\"\")]\n",
    "\n",
    "    # The CSV file contains counts for each polling booth, and then the totals at the end.\n",
    "    # We only care about the totals. Also, sort in descending order by number of votes.\n",
    "    first_party_row = find(x -> isa(x, AbstractString) && contains(x, \"Electorate Party Valid Votes\"), data)[1] + 1\n",
    "    party_vote_data = sortrows(data[first_party_row:size(data,1), 1:3], by=x->x[2], rev=true)\n",
    "    for row in 1:size(party_vote_data,1)\n",
    "        party_name = party_vote_data[row,1]\n",
    "        votes = party_vote_data[row,2]\n",
    "        percentage = @sprintf(\"%.2f%%\", party_vote_data[row,3] * 100)\n",
    "        push!(text, \"\"\"<tr>\n",
    "                <td> $party_name </td>\n",
    "                <td style=\"text-align: right; width: 5em;\"> $votes </td>\n",
    "                <td style=\"text-align: right; width: 5em;\"> $percentage </td>\n",
    "            </tr>\n",
    "            \"\"\")\n",
    "    end\n",
    "    \n",
    "    push!(text, \"</table>\")\n",
    "    html(string(text...))\n",
    "end"
   ]
  }
 ],
 "metadata": {
  "kernelspec": {
   "display_name": "Julia 0.5.0-dev",
   "language": "julia",
   "name": "julia-0.5"
  },
  "language_info": {
   "file_extension": ".jl",
   "mimetype": "application/julia",
   "name": "julia",
   "version": "0.5.0"
  }
 },
 "nbformat": 4,
 "nbformat_minor": 0
}
