{
 "cells": [
  {
   "cell_type": "code",
   "execution_count": 21,
   "metadata": {
    "collapsed": false
   },
   "outputs": [
    {
     "data": {
      "text/html": [],
      "text/plain": [
       "Interact.Slider{Float64}([Reactive.Input{Float64}] 3.141592653589793,\"ϕ\",3.141592653589793,0.0:0.39269908169872414:6.283185307179586)"
      ]
     },
     "metadata": {},
     "output_type": "display_data"
    },
    {
     "data": {
      "text/html": [],
      "text/plain": [
       "Interact.Options{:ToggleButtons,Function}([Reactive.Input{Function}] sin,\"f\",sin,\"sin\",Interact.OptionDict(Any[\"sin\",\"cos\"],Dict{Any,Any}(\"cos\"=>cos,\"sin\"=>sin)),Any[],Any[])"
      ]
     },
     "metadata": {},
     "output_type": "display_data"
    },
    {
     "data": {
      "text/plain": [
       "\n",
       "\n",
       "\t. . . . . + + + + + + + + + + + + # # # \n",
       "\t. . . . . . . . + + + + + # # # # # # # \n",
       "\t    . . . . . . + + + + # # # # # # # # \n",
       "\t        . . . . . + + # # # # # @#@#@#@#\n",
       "\t          . . . . + + # # # # @#@#@#@#@#\n",
       "\t            . . . + + # # # @#@#@#@#@#@#\n",
       "\t            . . . + + # # @#@#@#@#@#@#@#\n",
       "\t              . . + # # # @#@#@#@#@#@#@#\n",
       "\t              . . + # # # @#@#@#@#@#@#@#\n",
       "\t              . . + # # # @#@#@#@#@#@#@#\n",
       "\t              . . + # # # @#@#@#@#@#@#@#\n",
       "\t              . . + # # # @#@#@#@#@#@#@#\n",
       "\t            . . . + + # # @#@#@#@#@#@#@#\n",
       "\t            . . . + + # # # @#@#@#@#@#@#\n",
       "\t          . . . . + + # # # # @#@#@#@#@#\n",
       "\t        . . . . . + + # # # # # @#@#@#@#\n",
       "\t    . . . . . . + + + + # # # # # # # # \n",
       "\t. . . . . . . . + + + + # # # # # # # # \n",
       "\t. . . . . . + + + + + + + + + + + # # # \n",
       "\t+ + + + + + + + + + + + + + + + + + + + \n",
       "\n"
      ]
     },
     "execution_count": 21,
     "metadata": {
      "comm_id": "3664ed4d-c2ce-487e-b185-bef9af6f8bc9",
      "reactive": true
     },
     "output_type": "execute_result"
    }
   ],
   "source": [
    "# CME 257 - Assignment 2\n",
    "#  - Julia v0.5\n",
    "#  - ASCIIPlots is just a package for plotting things with ASCII characters\n",
    "#  - You can make a heatmap plot using imagesc\n",
    "\n",
    "# Pkg.add(\"ASCIIPlots\")\n",
    "\n",
    "using ASCIIPlots\n",
    "using Interact\n",
    "\n",
    "n = 20\n",
    "vals = zeros(n,n)\n",
    "\n",
    "@manipulate for ϕ=0:π/8:2π, f=[:sin => sin, :cos => cos]\n",
    "    for x = 1:n\n",
    "        for y = 1:n\n",
    "            vals[x,y] = sin(x*π/n)*cos(y*π/n + ϕ)\n",
    "        end\n",
    "    end\n",
    "    \n",
    "    imagesc(vals)\n",
    "end\n",
    "\n"
   ]
  },
  {
   "cell_type": "code",
   "execution_count": 19,
   "metadata": {
    "collapsed": false
   },
   "outputs": [
    {
     "data": {
      "text/html": [],
      "text/plain": [
       "Interact.Slider{Float64}([Reactive.Input{Float64}] 3.141592653589793,\"ϕ\",3.141592653589793,0.0:0.39269908169872414:6.283185307179586)"
      ]
     },
     "metadata": {},
     "output_type": "display_data"
    },
    {
     "data": {
      "text/html": [],
      "text/plain": [
       "Interact.Options{:ToggleButtons,Function}([Reactive.Input{Function}] sin,\"f\",sin,\"sin\",Interact.OptionDict(Any[\"sin\",\"cos\"],Dict{Any,Any}(\"cos\"=>cos,\"sin\"=>sin)),Any[],Any[])"
      ]
     },
     "metadata": {},
     "output_type": "display_data"
    },
    {
     "data": {
      "text/plain": [
       "\n",
       "\t-------------------------------------------------------------\n",
       "\t|                                                           -| 1.00\n",
       "\t|                                                    -  -    |\n",
       "\t|                                              /  /          |\n",
       "\t|                                           /                |\n",
       "\t|                                        /                   |\n",
       "\t|                                                            |\n",
       "\t|                                     /                      |\n",
       "\t|                                  /                         |\n",
       "\t|                                                            |\n",
       "\t|                               /                            |\n",
       "\t|                           /                                |\n",
       "\t|                                                            |\n",
       "\t|                        /                                   |\n",
       "\t|                     /                                      |\n",
       "\t|                  /                                         |\n",
       "\t|                                                            |\n",
       "\t|               /                                            |\n",
       "\t|            /                                               |\n",
       "\t|         /                                                  |\n",
       "\t|-  /  /                                                     | -0.99\n",
       "\t-------------------------------------------------------------\n",
       "\t1.00                                                    20.00\n"
      ]
     },
     "execution_count": 19,
     "metadata": {
      "comm_id": "ac8b1c31-b51d-49c6-a9d8-ce024386d9c8",
      "reactive": true
     },
     "output_type": "execute_result"
    }
   ],
   "source": [
    "#  - Lineplots can also be made\n",
    "\n",
    "@manipulate for ϕ=0:π/8:2π, f=[:sin => sin, :cos => cos]\n",
    "    for x = 1:n\n",
    "        for y = 1:n\n",
    "            vals[x,y] = sin(x*π/n)*cos(y*π/n + ϕ)\n",
    "        end\n",
    "    end\n",
    "\n",
    "    lineplot(1:n, vals[n/2,:])\n",
    "end"
   ]
  }
 ],
 "metadata": {
  "kernelspec": {
   "display_name": "Julia 0.5.0-dev",
   "language": "julia",
   "name": "julia-0.5"
  },
  "language_info": {
   "file_extension": ".jl",
   "mimetype": "application/julia",
   "name": "julia",
   "version": "0.5.0"
  }
 },
 "nbformat": 4,
 "nbformat_minor": 0
}
