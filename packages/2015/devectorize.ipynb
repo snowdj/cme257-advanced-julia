{
 "cells": [
  {
   "cell_type": "markdown",
   "metadata": {},
   "source": [
    "Devectorize.jl\n",
    "========\n",
    "\n",
    "Front matter\n",
    "------------\n",
    "This notebook was created in Jupyter using Julia 0.5.0-dev+411.  It is intended to demonstrate some of the functionality of the Julia package [Devectorize.jl](https://github.com/lindahua/Devectorize.jl) by Dahua Lin.  \n",
    "\n",
    "Questions?  Contact [Victor Minden](vminden@stanford.edu).\n",
    "\n",
    "Required packages\n",
    "----------------\n",
    "\n",
    "- Devectorize.jl (demonstrated package)\n",
    "- PyPlot.jl (plotting)\n",
    "\n",
    "Note that all packages can be obtained through the typical Pkg.add() method"
   ]
  },
  {
   "cell_type": "code",
   "execution_count": 3,
   "metadata": {
    "collapsed": false
   },
   "outputs": [],
   "source": [
    "# Set parameters for package demonstration\n",
    "n = (Int)(1e6);\n",
    "# number of MC trials\n",
    "nMC = 20;"
   ]
  },
  {
   "cell_type": "markdown",
   "metadata": {},
   "source": [
    "In Matlab code, loops are slow and therefore to be avoided as much as possible.  This has led to an obsession with *vectorization*.  Let's consider the example of taking two arrays and computing their centered dot product, \n",
    "$$u = (x - \\bar{x})^T(y-\\bar{y}).$$"
   ]
  },
  {
   "cell_type": "code",
   "execution_count": 4,
   "metadata": {
    "collapsed": false
   },
   "outputs": [],
   "source": [
    "# Properly vectorized code\n",
    "function vectorized_eval{T<:Real}(x::Array{T},y::Array{T})\n",
    "    u = sum( (x .- mean(x)) .* (y .- mean(y)) )\n",
    "end\n",
    "x = rand(n);\n",
    "y = rand(n);\n",
    "\n",
    "u = vectorized_eval(x,y);"
   ]
  },
  {
   "cell_type": "markdown",
   "metadata": {},
   "source": [
    "What you might not know is that vectorized code can actually be very inefficient when the alternative is *compiled code with appropriate data access patterns*."
   ]
  },
  {
   "cell_type": "code",
   "execution_count": 5,
   "metadata": {
    "collapsed": false
   },
   "outputs": [],
   "source": [
    "# Hand-written loop following example from benchmark for devectorize\n",
    "function handloop_eval{T<:Real}(x::Array{T},y::Array{T})\n",
    "    n = length(x);\n",
    "    # calculate mean(x)\n",
    "    sx = 0.\n",
    "    for i = 1 : n\n",
    "        sx += x[i]\n",
    "    end\n",
    "    mx = sx / n\n",
    "\n",
    "    # calculate mean(y)\n",
    "    sy = 0.\n",
    "    for i = 1 : n\n",
    "        sy += y[i]\n",
    "    end\n",
    "    my = sy / n\n",
    "\n",
    "    # calculate shift dot\n",
    "    u = 0.\n",
    "    for i = 1 : n\n",
    "        u += (x[i] - mx) * (y[i] - my)\n",
    "    end\n",
    "end\n",
    "u = handloop_eval(x,y);"
   ]
  },
  {
   "cell_type": "code",
   "execution_count": 4,
   "metadata": {
    "collapsed": false
   },
   "outputs": [
    {
     "name": "stdout",
     "output_type": "stream",
     "text": [
      "Average time for vectorized function\n",
      "t_vector = 0.013307988100000001\n",
      "Average time for hand-rolled function\n",
      "t_handloop = 0.0012306255000000001\n",
      "t_vector / t_handloop = 10.814003204061674\n"
     ]
    }
   ],
   "source": [
    "# Explicit timing comparison\n",
    "t_vector = @elapsed for i = 1:nMC\n",
    "                        u = vectorized_eval(x,y);\n",
    "                    end\n",
    "t_handloop = @elapsed for i = 1:nMC\n",
    "                        u = handloop_eval(x,y);\n",
    "                      end\n",
    "t_vector /= nMC;\n",
    "t_handloop /= nMC;\n",
    "println(\"Average time for vectorized function\");\n",
    "@show t_vector;\n",
    "println(\"Average time for hand-rolled function\");\n",
    "@show t_handloop;\n",
    "\n",
    "#Speed up factor\n",
    "@show t_vector / t_handloop;"
   ]
  },
  {
   "cell_type": "markdown",
   "metadata": {},
   "source": [
    "As we see (varies by machine), the hand-written loop can be 10X faster or more!  This is because of all the extra looping over data and casting and the like that can occur in vectorization.  However, in Julia, we can compile whatever code we want, so we can get the added speed.  Unfortunately, the hand-written function is much grosser and longer than the vectorized one.  \n",
    "\n",
    "Enter Devectorize."
   ]
  },
  {
   "cell_type": "code",
   "execution_count": 6,
   "metadata": {
    "collapsed": false
   },
   "outputs": [],
   "source": [
    "using Devectorize;"
   ]
  },
  {
   "cell_type": "code",
   "execution_count": 7,
   "metadata": {
    "collapsed": false
   },
   "outputs": [],
   "source": [
    "# Properly Devectorized code\n",
    "function devectorized_eval{T<:Real}(x::Array{T},y::Array{T})\n",
    "    @devec u = sum( (x .- mean(x)) .* (y .- mean(y)) )\n",
    "end\n",
    "u = vectorized_eval(x,y);"
   ]
  },
  {
   "cell_type": "code",
   "execution_count": 10,
   "metadata": {
    "collapsed": false
   },
   "outputs": [
    {
     "name": "stdout",
     "output_type": "stream",
     "text": [
      "Average time for devectorized function\n",
      "t_devector = 0.00250504425\n",
      "t_vector / t_devector = 5.312476256656944\n"
     ]
    }
   ],
   "source": [
    "t_devector = @elapsed for i = 1:nMC\n",
    "                        u = devectorized_eval(x,y);\n",
    "                    end\n",
    "\n",
    "t_devector /= nMC;\n",
    "\n",
    "println(\"Average time for devectorized function\");\n",
    "@show t_devector;\n",
    "\n",
    "#Speed up factor\n",
    "@show t_vector / t_devector;\n"
   ]
  },
  {
   "cell_type": "markdown",
   "metadata": {},
   "source": [
    "The results aren't as good as writing a hand-unrolled loop, but a factor of ~5X over the vectorized code is not too shabby!  Note especially that we haven't had to do anything except add the decorator \"@devec\"."
   ]
  },
  {
   "cell_type": "markdown",
   "metadata": {},
   "source": [
    "Functions on which devectorization works\n",
    "======================\n",
    "\n",
    "- Simple elementwise arithmetic"
   ]
  },
  {
   "cell_type": "code",
   "execution_count": 13,
   "metadata": {
    "collapsed": false
   },
   "outputs": [],
   "source": [
    "@devec begin\n",
    "    u1 = x .+ y;\n",
    "    u2 = x .- y;\n",
    "    u3 = x .* y;\n",
    "    u4 = x ./ y;\n",
    "    u5 = x .^ y;\n",
    "end;"
   ]
  },
  {
   "cell_type": "markdown",
   "metadata": {},
   "source": [
    "- Simple elementwise comparisons"
   ]
  },
  {
   "cell_type": "code",
   "execution_count": 14,
   "metadata": {
    "collapsed": true
   },
   "outputs": [],
   "source": [
    "@devec begin\n",
    "    u1 = x .== y;\n",
    "    u2 = x .< y;\n",
    "    u3 = x .> y;\n",
    "    u4 = x .!= y;\n",
    "    u5 = x .<= y;\n",
    "    u6 = x .>= y;\n",
    "end;"
   ]
  },
  {
   "cell_type": "markdown",
   "metadata": {},
   "source": [
    "- Trigonometric functions\n",
    "- Exponentials\n",
    "- Logs\n",
    "- Rounding / ceiling / etc.\n",
    "\n",
    "New to Devectorize\n",
    "-----------------\n",
    "Devectorize includes a couple of non-base Julia functions to aid in devectorization.  Here we demonstrate them.  \n",
    "\n",
    "- The first is \"sqr\".  This is functionally equivalent to x.^2 or x.*x."
   ]
  },
  {
   "cell_type": "code",
   "execution_count": 19,
   "metadata": {
    "collapsed": false
   },
   "outputs": [],
   "source": [
    "@devec u = sqr(x);"
   ]
  },
  {
   "cell_type": "markdown",
   "metadata": {},
   "source": [
    "- The next is \"rcp\", which is functionally equivalent to 1./x."
   ]
  },
  {
   "cell_type": "code",
   "execution_count": 20,
   "metadata": {
    "collapsed": false
   },
   "outputs": [
    {
     "data": {
      "text/plain": [
       "1000000-element Array{Float64,1}:\n",
       "   1.91592\n",
       "   1.46652\n",
       "  26.8548 \n",
       "   1.22956\n",
       "   1.00156\n",
       "   3.91393\n",
       " 335.315  \n",
       "   2.03833\n",
       "   1.04536\n",
       "   1.33833\n",
       "   1.33462\n",
       "   1.96934\n",
       "   1.26363\n",
       "   ⋮      \n",
       "   1.61141\n",
       "   2.23612\n",
       "  15.8452 \n",
       "   2.24319\n",
       "   2.81024\n",
       "   2.2123 \n",
       "   8.59961\n",
       "   5.40616\n",
       "   4.75273\n",
       "   2.63967\n",
       "   4.07015\n",
       "   1.75052"
      ]
     },
     "execution_count": 20,
     "metadata": {},
     "output_type": "execute_result"
    }
   ],
   "source": [
    "@devec u = rcp(x);"
   ]
  },
  {
   "cell_type": "markdown",
   "metadata": {},
   "source": [
    "- The last is \"blend\", which requires some explanation. Blend takes in an array of conditions, an array of things to return if the condition is true, and an array of things to return if the condition is false.  Consider the example below."
   ]
  },
  {
   "cell_type": "code",
   "execution_count": 28,
   "metadata": {
    "collapsed": false
   },
   "outputs": [],
   "source": [
    "x = [5 for i = 1:n];\n",
    "y = [10 for i = 1:n];\n",
    "c = rand(n) .> 0.5;\n",
    "#uncomment semicolon to see result\n",
    "@devec u = blend(c,x,y);"
   ]
  },
  {
   "cell_type": "markdown",
   "metadata": {},
   "source": [
    "Example\n",
    "=======\n",
    "We took the opportunity to do make some timing plots to visualize the effect of devectorization.  The code for the actual tests is the Devectorize benchmark code.  It appears below for those who are interested."
   ]
  },
  {
   "cell_type": "code",
   "execution_count": 8,
   "metadata": {
    "collapsed": false
   },
   "outputs": [
    {
     "name": "stderr",
     "output_type": "stream",
     "text": [
      "WARNING: imported binding for repeat overwritten in module Main\n"
     ]
    }
   ],
   "source": [
    "repeat = 20\n",
    "# prepare data\n",
    "\n",
    "m = 1000\n",
    "n = 1000\n",
    "a = zeros(m, n)\n",
    "b = zeros(m, n)\n",
    "c = zeros(m, n)\n",
    "\n",
    "\n",
    "# simple element-wise\n",
    "\n",
    "type simple_ewise end\n",
    "formula(::simple_ewise) = \"(a - b).^2 + c\"\n",
    "\n",
    "function vec_eval{T<:Real}(::simple_ewise, a::Array{T}, b::Array{T}, c::Array{T})\n",
    "    r = sqr(a - b) + c   # Note: Devectorize defines a sqr on arrays\n",
    "end\n",
    "\n",
    "function devec_eval{T<:Real}(::simple_ewise, a::Array{T}, b::Array{T}, c::Array{T})\n",
    "    @devec r = sqr(a - b) + c\n",
    "end\n",
    "\n",
    "function hand_loop{T<:Real}(::simple_ewise, a::Array{T}, b::Array{T}, c::Array{T})\n",
    "    r = similar(a)\n",
    "    for i = 1 : length(a)\n",
    "        v = (a[i] - b[i])\n",
    "        r[i] = v * v + c[i]\n",
    "    end\n",
    "end\n",
    "\n",
    "\n",
    "# complex element-wise\n",
    "\n",
    "type complex_ewise end\n",
    "formula(::complex_ewise) = \"log(exp((a - b).^2) + exp(a + b)) - c .* log(c)\"\n",
    "\n",
    "function vec_eval{T<:Real}(::complex_ewise, a::Array{T}, b::Array{T}, c::Array{T})\n",
    "    r = log(exp((a - b).^2) + exp(a + b)) - c .* log(c)\n",
    "end\n",
    "\n",
    "function devec_eval{T<:Real}(::complex_ewise, a::Array{T}, b::Array{T}, c::Array{T})\n",
    "    @devec r = log(exp((a - b).^2) + exp(a + b)) - c .* log(c)\n",
    "end\n",
    "\n",
    "function hand_loop{T<:Real}(::complex_ewise, a::Array{T}, b::Array{T}, c::Array{T})\n",
    "    r = similar(a)\n",
    "    for i = 1 : length(a)\n",
    "        r[i] = log(exp((a[i] - b[i]).^2) + exp(a[i] + b[i])) - c[i] .* log(c[i])\n",
    "    end\n",
    "end\n",
    "\n",
    "# shift dot\n",
    "\n",
    "type shift_dot end\n",
    "formula(::shift_dot) = \"sum( (a - mean(a)) .* (b - mean(b)) )\"\n",
    "\n",
    "function vec_eval{T<:Real}(::shift_dot, a::Array{T}, b::Array{T}, c::Array{T})\n",
    "    r = sum( (a .- mean(a)) .* (b .- mean(b)) )\n",
    "end\n",
    "\n",
    "function devec_eval{T<:Real}(::shift_dot, a::Array{T}, b::Array{T}, c::Array{T})\n",
    "    @devec r = sum( (a .- mean(a)) .* (b .- mean(b)) )\n",
    "end\n",
    "\n",
    "function hand_loop{T<:Real}(::shift_dot, a::Array{T}, b::Array{T}, c::Array{T})\n",
    "    n = length(a)\n",
    "\n",
    "    # calculate mean(a)\n",
    "    sa = 0.\n",
    "    for i = 1 : n\n",
    "        sa += a[i]\n",
    "    end\n",
    "    ma = sa / n\n",
    "\n",
    "    # calculate mean(b)\n",
    "    sb = 0.\n",
    "    for i = 1 : n\n",
    "        sb += b[i]\n",
    "    end\n",
    "    mb = sb / n\n",
    "\n",
    "    # calculate shift dot\n",
    "    r = 0.\n",
    "    for i = 1 : n\n",
    "        r += (a[i] - ma) * (b[i] - mb)\n",
    "    end\n",
    "end\n",
    "\n",
    "# column wise sum\n",
    "\n",
    "type colwise_sum end\n",
    "formula(::colwise_sum) = \"sum(a, 1)\"\n",
    "\n",
    "function vec_eval{T<:Real}(::colwise_sum, a::Array{T}, b::Array{T}, c::Array{T})\n",
    "    r = sum(a, 1)\n",
    "end\n",
    "\n",
    "function devec_eval{T<:Real}(::colwise_sum, a::Array{T}, b::Array{T}, c::Array{T})\n",
    "    @devec r = sum(a, 1)\n",
    "end\n",
    "\n",
    "function hand_loop{T<:Real}(::colwise_sum, a::Array{T}, b::Array{T}, c::Array{T})\n",
    "    m, n = size(a)\n",
    "    r = zeros(1, n)\n",
    "    for j = 1 : n\n",
    "        s = 0.\n",
    "        for i = 1 : m\n",
    "            s += a[i, j]\n",
    "        end\n",
    "        r[j] = s\n",
    "    end\n",
    "end\n",
    "\n",
    "# row-wise sum\n",
    "\n",
    "type rowwise_sum end\n",
    "formula(::rowwise_sum) = \"sum(a, 2)\"\n",
    "\n",
    "function vec_eval{T<:Real}(::rowwise_sum, a::Array{T}, b::Array{T}, c::Array{T})\n",
    "    r = sum(a, 2)\n",
    "end\n",
    "\n",
    "function devec_eval{T<:Real}(::rowwise_sum, a::Array{T}, b::Array{T}, c::Array{T})\n",
    "    @devec r = sum(a, 2)\n",
    "end\n",
    "\n",
    "function hand_loop{T<:Real}(::rowwise_sum, a::Array{T}, b::Array{T}, c::Array{T})\n",
    "    m, n = size(a)\n",
    "    r = zeros(1, n)\n",
    "    for j = 1 : n\n",
    "        for i = 1 : m\n",
    "            r[i] += a[i,j]\n",
    "        end\n",
    "    end\n",
    "end\n",
    "\n",
    "\n",
    "# col-wise euclidean\n",
    "\n",
    "type colwise_eucdist end\n",
    "formula(::colwise_eucdist) = \"sqrt(sum((a - b).^2, 1))\"\n",
    "\n",
    "function vec_eval{T<:Real}(::colwise_eucdist, a::Array{T}, b::Array{T}, c::Array{T})\n",
    "    r = sqrt(sum(sqr(a - b), 1))\n",
    "end\n",
    "\n",
    "function devec_eval{T<:Real}(::colwise_eucdist, a::Array{T}, b::Array{T}, c::Array{T})\n",
    "    @devec r = sqrt(sum(sqr(a - b), 1))\n",
    "end\n",
    "\n",
    "function hand_loop{T<:Real}(::colwise_eucdist, a::Array{T}, b::Array{T}, c::Array{T})\n",
    "    m, n = size(a)\n",
    "    r = zeros(1, n)\n",
    "    for j = 1 : n\n",
    "        s = 0.\n",
    "        for i = 1 : m\n",
    "            v = a[i, j] - b[i, j]\n",
    "            s += v * v\n",
    "        end\n",
    "        r[j] = sqrt(s)\n",
    "    end\n",
    "end;\n",
    "\n",
    "\n"
   ]
  },
  {
   "cell_type": "code",
   "execution_count": 10,
   "metadata": {
    "collapsed": false
   },
   "outputs": [
    {
     "name": "stdout",
     "output_type": "stream",
     "text": [
      "bench: simple_ewise\n",
      "    vec_eval   :   0.2737 sec  |  gain =  1.0000\n",
      "    devec_eval :   0.1002 sec  |  gain =  2.7311\n",
      "    hand_loop  :   0.1247 sec  |  gain =  2.1947\n",
      "\n",
      "bench: complex_ewise\n",
      "    vec_eval   :   1.4143 sec  |  gain =  1.0000\n",
      "    devec_eval :   0.4271 sec  |  gain =  3.3118\n",
      "    hand_loop  :   0.3975 sec  |  gain =  3.5581\n",
      "\n",
      "bench: shift_dot\n",
      "    vec_eval   :   0.2688 sec  |  gain =  1.0000\n",
      "    devec_eval :   0.0280 sec  |  gain =  9.5983\n",
      "    hand_loop  :   0.0404 sec  |  gain =  6.6521\n",
      "\n",
      "bench: colwise_sum\n",
      "    vec_eval   :   0.0157 sec  |  gain =  1.0000\n",
      "    devec_eval :   0.0669 sec  |  gain =  0.2342\n",
      "    hand_loop  :   0.0269 sec  |  gain =  0.5816\n",
      "\n",
      "bench: rowwise_sum\n",
      "    vec_eval   :   0.0362 sec  |  gain =  1.0000\n",
      "    devec_eval :   0.0308 sec  |  gain =  1.1759\n",
      "    hand_loop  :   0.0256 sec  |  gain =  1.4114\n",
      "\n",
      "bench: colwise_eucdist\n",
      "    vec_eval   :   0.2752 sec  |  gain =  1.0000\n",
      "    devec_eval :   0.0526 sec  |  gain =  5.2267\n",
      "    hand_loop  :   0.0440 sec  |  gain =  6.2493\n",
      "\n"
     ]
    }
   ],
   "source": [
    "macro my_bench(Name,p)\n",
    "    quote\n",
    "        # create task\n",
    "        println(\"bench: \", $(string(Name)))\n",
    "        task = ($Name)()\n",
    "\n",
    "        vec_eval(task, a, b, c)\n",
    "        t1 = @elapsed for i = 1 : repeat\n",
    "            vec_eval(task, a, b, c)\n",
    "        end\n",
    "        @printf \"    vec_eval   : %8.4f sec  |  gain = %7.4f\\n\" t1 t1 / t1\n",
    "\n",
    "        devec_eval(task, a, b, c)\n",
    "        t2 = @elapsed for i = 1 : repeat\n",
    "            devec_eval(task, a, b, c)\n",
    "        end\n",
    "        @printf \"    devec_eval : %8.4f sec  |  gain = %7.4f\\n\" t2 t1 / t2\n",
    "\n",
    "        hand_loop(task, a, b, c)\n",
    "        t3 = @elapsed for i = 1 : repeat\n",
    "            hand_loop(task, a, b, c)\n",
    "        end\n",
    "        @printf \"    hand_loop  : %8.4f sec  |  gain = %7.4f\\n\" t3 t1 / t3\n",
    "\n",
    "        t_vec[$p] = t1;\n",
    "        t_devec[$p] = t2;\n",
    "        t_hand[$p] = t3;\n",
    "        println()\n",
    "    end\n",
    "end\n",
    "\n",
    "\n",
    "\n",
    "\n",
    "#  Benchmarks\n",
    "\n",
    "t_vec   = zeros(6);\n",
    "t_devec = zeros(6);\n",
    "t_hand  = zeros(6);\n",
    "\n",
    "@my_bench(simple_ewise,1)\n",
    "@my_bench(complex_ewise, 2)\n",
    "@my_bench(shift_dot, 3)\n",
    "@my_bench(colwise_sum, 4)\n",
    "@my_bench(rowwise_sum, 5)\n",
    "@my_bench(colwise_eucdist, 6)"
   ]
  },
  {
   "cell_type": "code",
   "execution_count": 9,
   "metadata": {
    "collapsed": false
   },
   "outputs": [],
   "source": [
    "using PyPlot;"
   ]
  },
  {
   "cell_type": "code",
   "execution_count": 13,
   "metadata": {
    "collapsed": false
   },
   "outputs": [
    {
     "data": {
      "image/png": "[encoded data removed]",
      "text/plain": [
       "PyPlot.Figure(PyObject <matplotlib.figure.Figure object at 0x3101bae50>)"
      ]
     },
     "metadata": {},
     "output_type": "display_data"
    }
   ],
   "source": [
    "fig, ax = subplots()\n",
    "\n",
    "index = 6*(1:6)\n",
    "bar_width = 1\n",
    "\n",
    "opacity = 0.4\n",
    "\n",
    "rects1 = bar(index, t_vec./t_vec, bar_width,\n",
    "                 alpha=opacity,\n",
    "                color=\"blue\",\n",
    "                label=\"Vec\")\n",
    "rects2 = bar(index+bar_width, t_vec./t_devec, bar_width,\n",
    "                 alpha=opacity,\n",
    "                color=\"green\",\n",
    "label=\"Devec\")\n",
    "rects3 = bar(index + 2*bar_width, t_vec./t_hand, bar_width,\n",
    "                 alpha=opacity,\n",
    "color=\"red\",\n",
    "label=\"Hand\")\n",
    "\n",
    "legend()\n",
    "\n",
    "ylabel(\"Speedup\")\n",
    "title(\"Speedup factor relative to native vectorized code\")\n",
    "xticks(index+bar_width)\n",
    "ax[:set_xticklabels]((\"ex1\",\"ex2\",\"ex3\",\"ex4\",\"ex5\",\"ex6\"));\n"
   ]
  },
  {
   "cell_type": "markdown",
   "metadata": {},
   "source": [
    "- ex1: simple_ewise \"(a - b).^2 + c\"\n",
    "- ex2: complex_ewise \"log(exp((a - b).^2) + exp(a + b)) - c .* log(c)\"\n",
    "- ex3: shift_dot \"sum( (a - mean(a)) .* (b - mean(b)) )\"\n",
    "- ex4: colwise_sum \"sum(a, 1)\"\n",
    "- ex5: rowwise_sum \"sum(a, 2)\"\n",
    "- ex6: colwise_eucdist \"sqrt(sum((a - b).^2, 1))\""
   ]
  },
  {
   "cell_type": "code",
   "execution_count": null,
   "metadata": {
    "collapsed": true
   },
   "outputs": [],
   "source": []
  }
 ],
 "metadata": {
  "kernelspec": {
   "display_name": "Julia 0.5.0-dev",
   "language": "julia",
   "name": "julia-0.5"
  },
  "language_info": {
   "file_extension": ".jl",
   "mimetype": "application/julia",
   "name": "julia",
   "version": "0.5.0"
  }
 },
 "nbformat": 4,
 "nbformat_minor": 0
}
