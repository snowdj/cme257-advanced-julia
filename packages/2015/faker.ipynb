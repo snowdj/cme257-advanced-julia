{
 "cells": [
  {
   "cell_type": "code",
   "execution_count": 4,
   "metadata": {
    "collapsed": false
   },
   "outputs": [
    {
     "name": "stdout",
     "output_type": "stream",
     "text": [
      "Julia Version 0.4.0\n",
      "Commit 0ff703b* (2015-10-08 06:20 UTC)\n",
      "Platform Info:\n",
      "  System: Windows (x86_64-w64-mingw32)\n",
      "  CPU: Intel(R) Core(TM) i7-5500U CPU @ 2.40GHz\n",
      "  WORD_SIZE: 64\n",
      "  BLAS: libopenblas (USE64BITINT DYNAMIC_ARCH NO_AFFINITY Prescott)\n",
      "  LAPACK: libopenblas64_\n",
      "  LIBM: libopenlibm\n",
      "  LLVM: libLLVM-3.3\n"
     ]
    }
   ],
   "source": [
    "#The version of using I am using to create the notebok:\n",
    "versioninfo()"
   ]
  },
  {
   "cell_type": "code",
   "execution_count": 8,
   "metadata": {
    "collapsed": false
   },
   "outputs": [],
   "source": [
    "#The package I chose to explore was called Faker\n",
    "#The purpose of this package is to randomly generate different\n",
    "#types of fake data.\n",
    "\n",
    "#Faker only seems to require itself\n",
    "using Faker"
   ]
  },
  {
   "cell_type": "code",
   "execution_count": 9,
   "metadata": {
    "collapsed": true
   },
   "outputs": [],
   "source": [
    "#The package has a whole slew of of different data types that it can\n",
    "#randomly generate for the users.  Some of the different types are:\n",
    "\n",
    "#Letters/numbers\n",
    "#Addresses\n",
    "#Company names/information\n",
    "#Dates\n",
    "#E-mail and internet url's\n",
    "#Work, sentences, paragraphs\n",
    "#Phone numbers\n",
    "#Credit cards information\n",
    "#Colors\n",
    "#File names/extenstions\n",
    "#Personal profiles"
   ]
  },
  {
   "cell_type": "code",
   "execution_count": 19,
   "metadata": {
    "collapsed": false
   },
   "outputs": [
    {
     "name": "stdout",
     "output_type": "stream",
     "text": [
      "Faker.random_digit() = \"7\"\n",
      "Faker.color_name() = \"DeepPink\"\n",
      "Faker.rgb_color() = \"59,113,237\"\n"
     ]
    }
   ],
   "source": [
    "#Using the package is very simple:\n",
    "\n",
    "#Random Digit Generation\n",
    "@show Faker.random_digit()\n",
    "\n",
    "#Fake color generation\n",
    "@show Faker.color_name()\n",
    "@show Faker.rgb_color()\n",
    ";\n",
    "\n",
    "#And so on there is a whole list of general fake commands"
   ]
  },
  {
   "cell_type": "code",
   "execution_count": 23,
   "metadata": {
    "collapsed": false
   },
   "outputs": [
    {
     "name": "stdout",
     "output_type": "stream",
     "text": [
      "Faker.simple_profile() = Dict{ASCIIString,Any}(\"name\"=>\"Salma\",\"mail\"=>\"WValle@hotmail.com\",\"username\"=>\"uValle\",\"birthdate\"=>\"1996-2-16\",\"sex\"=>\"M\",\"address\"=>\"Peatonal Filipinas 552 701  Vieja Etiopía, VER 09048\")\n",
      "Faker.time(\"%H:%M:%S\") = \"14:52:19\"\n",
      "Faker.date_time_between(\"-30y\",\"now\") = \"1998-12-05 16:32:51\"\n"
     ]
    }
   ],
   "source": [
    "#While at first, this type of package may seem quite useless\n",
    "#there is real value in such package (and I assume the reason for\n",
    "#its generation) is to be used to test form filling\n",
    "\n",
    "#Especially the fake profile information:\n",
    "@show Faker.simple_profile()\n",
    "\n",
    "#Such fake data could be used many times to fill out forms when they\n",
    "#are still testing\n",
    "\n",
    "#While coding up using random numbers or pre-made lists could be done,\n",
    "#this package makes it nice and simple, especially for random data\n",
    "#data entry that is expected in different formats, like the data/time\n",
    "@show Faker.time(\"%H:%M:%S\")\n",
    "@show Faker.date_time_between(\"-30y\",\"now\")\n",
    "\n",
    "#It's simple implementation makes it a useful package\n",
    ";"
   ]
  }
 ],
 "metadata": {
  "kernelspec": {
   "display_name": "Julia 0.4.0-rc4",
   "language": "julia",
   "name": "julia-0.4"
  },
  "language_info": {
   "file_extension": ".jl",
   "mimetype": "application/julia",
   "name": "julia",
   "version": "0.4.0"
  }
 },
 "nbformat": 4,
 "nbformat_minor": 0
}
