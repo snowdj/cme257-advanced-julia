{
 "cells": [
  {
   "cell_type": "markdown",
   "metadata": {},
   "source": [
    "#Graphs.jl\n",
    "\n",
    "This notebook is intended to demonstrate the Julia package [Graphs.jl](https://github.com/JuliaLang/Graphs.jl). This notebook was created using Julia 0.4.0-rc4."
   ]
  },
  {
   "cell_type": "markdown",
   "metadata": {},
   "source": [
    "#Basic usage"
   ]
  },
  {
   "cell_type": "markdown",
   "metadata": {},
   "source": [
    "We can easily create graphs by specifying the number of vertices and adding  edges one by one."
   ]
  },
  {
   "cell_type": "code",
   "execution_count": 25,
   "metadata": {
    "collapsed": false
   },
   "outputs": [
    {
     "name": "stdout",
     "output_type": "stream",
     "text": [
      "[edge [1]: 1 -- 2,edge [2]: 2 -- 3,edge [3]: 3 -- 1]\n",
      "1:3\n",
      "Bool[false true false\n",
      "     false false true\n",
      "     true false false]\n"
     ]
    }
   ],
   "source": [
    "using Graphs\n",
    "\n",
    "# Creating a directed graph.\n",
    "g = simple_graph(3)\n",
    "add_edge!(g, 1, 2)\n",
    "add_edge!(g, 2, 3)\n",
    "add_edge!(g, 3, 1)\n",
    "\n",
    "# Querying which edges and vertices exist.\n",
    "println(edges(g))\n",
    "println(vertices(g))\n",
    "\n",
    "# Representing g as an adjecency matrix.\n",
    "println(adjacency_matrix(g))"
   ]
  },
  {
   "cell_type": "markdown",
   "metadata": {},
   "source": [
    "We can also create graphs using a number of graph generators."
   ]
  },
  {
   "cell_type": "code",
   "execution_count": 38,
   "metadata": {
    "collapsed": false
   },
   "outputs": [
    {
     "data": {
      "text/plain": [
       "Directed Graph (5 vertices, 4 edges)"
      ]
     },
     "execution_count": 38,
     "metadata": {},
     "output_type": "execute_result"
    }
   ],
   "source": [
    "using Graphs\n",
    "\n",
    "g = simple_cubical_graph()\n",
    "h = simple_house_graph()\n",
    "i = simple_star_graph(5)"
   ]
  },
  {
   "cell_type": "markdown",
   "metadata": {},
   "source": [
    "#Graph algorithms"
   ]
  },
  {
   "cell_type": "markdown",
   "metadata": {},
   "source": [
    "Here we demonstrate how to use some common graph algorithms."
   ]
  },
  {
   "cell_type": "code",
   "execution_count": 44,
   "metadata": {
    "collapsed": false
   },
   "outputs": [
    {
     "data": {
      "text/plain": [
       "true"
      ]
     },
     "execution_count": 44,
     "metadata": {},
     "output_type": "execute_result"
    }
   ],
   "source": [
    "# Cycle detection using DFS.\n",
    "using Graphs\n",
    "test_cyclic_by_dfs(simple_house_graph())"
   ]
  },
  {
   "cell_type": "code",
   "execution_count": 53,
   "metadata": {
    "collapsed": false
   },
   "outputs": [
    {
     "name": "stdout",
     "output_type": "stream",
     "text": [
      "5\n",
      "3\n",
      "1\n"
     ]
    }
   ],
   "source": [
    "# Dijkstra's Algorithm (Shortest Path).\n",
    "using Graphs\n",
    "\n",
    "# Creating the graph.\n",
    "g = simple_graph(5)\n",
    "\n",
    "# Each element is (u, v, dist).\n",
    "edge_inputs = [\n",
    "    (1, 2, 10.),\n",
    "    (1, 3, 5.),\n",
    "    (2, 3, 2.),\n",
    "    (3, 2, 3.),\n",
    "    (2, 4, 1.),\n",
    "    (3, 5, 2.),\n",
    "    (4, 5, 4.),\n",
    "    (5, 4, 6.),\n",
    "    (5, 1, 7.),\n",
    "    (3, 4, 9.)\n",
    "]\n",
    "\n",
    "ne = length(edge_inputs)\n",
    "dists = zeros(ne)\n",
    "for i = 1 : ne\n",
    "    curr = edge_inputs[i]\n",
    "    add_edge!(g, curr[1], curr[2])\n",
    "    dists[i] = curr[3]\n",
    "end\n",
    "\n",
    "# Find shortest path from all vertices to 1.\n",
    "r = dijkstra_shortest_paths(g, dists, 1)\n",
    "\n",
    "# Print path from vertex 5 to 1:\n",
    "curr_vertex = 5\n",
    "println(curr_vertex)\n",
    "while curr_vertex != 1\n",
    "    curr_vertex = r.parents[curr_vertex]\n",
    "    println(curr_vertex)\n",
    "end"
   ]
  },
  {
   "cell_type": "code",
   "execution_count": 73,
   "metadata": {
    "collapsed": false
   },
   "outputs": [
    {
     "name": "stdout",
     "output_type": "stream",
     "text": [
      "[edge [1]: 1 -- 2,edge [2]: 1 -- 3,edge [3]: 2 -- 4,edge [5]: 3 -- 5]\n"
     ]
    }
   ],
   "source": [
    "# Kruskal's Algorithm (Minimum Spanning Tree).\n",
    "using Graphs\n",
    "\n",
    "# Print MST for undirected graph with 6 edges (house-shaped).\n",
    "g = simple_house_graph()\n",
    "weights = ones(length(edges(g)))\n",
    "println(kruskal_minimum_spantree(g, weights)[1])"
   ]
  },
  {
   "cell_type": "code",
   "execution_count": 82,
   "metadata": {
    "collapsed": false
   },
   "outputs": [
    {
     "name": "stdout",
     "output_type": "stream",
     "text": [
      "1:5\n",
      "Bool[true,false,false,false,false]\n",
      "2.0\n"
     ]
    }
   ],
   "source": [
    "# Stoer's Simple Minimum Cut.\n",
    "using Graphs\n",
    "\n",
    "g = simple_house_graph()\n",
    "println(vertices(g))\n",
    "\n",
    "# Printing the resulting partition.\n",
    "println(min_cut(g)[1])\n",
    "\n",
    "# Printing the min-cut weight. Since this is an unweighted graph,\n",
    "# this is the number of edges we had to cut.\n",
    "println(min_cut(g)[2])"
   ]
  },
  {
   "cell_type": "code",
   "execution_count": null,
   "metadata": {
    "collapsed": true
   },
   "outputs": [],
   "source": []
  }
 ],
 "metadata": {
  "kernelspec": {
   "display_name": "Julia 0.4.0-rc4",
   "language": "julia",
   "name": "julia-0.4"
  },
  "language_info": {
   "file_extension": ".jl",
   "mimetype": "application/julia",
   "name": "julia",
   "version": "0.4.0"
  }
 },
 "nbformat": 4,
 "nbformat_minor": 0
}
