{
 "cells": [
  {
   "cell_type": "code",
   "execution_count": 82,
   "metadata": {
    "collapsed": false
   },
   "outputs": [
    {
     "name": "stderr",
     "output_type": "stream",
     "text": [
      "INFO: Initializing package repository /home/juser/.julia/v0.4\n",
      "INFO: Package directory /home/juser/.julia/v0.4 is already initialized.\n",
      "INFO: Nothing to be done\n",
      "INFO: Updating METADATA...\n",
      "INFO: Computing changes...\n",
      "INFO: No packages to install, update or remove\n"
     ]
    }
   ],
   "source": [
    "# This notebook uses Julia 0.4.0.\n",
    "\n",
    "# A package that I found interesting is Phylogenetics.\n",
    "# Phylogenetics offers tools to analyze evolution and evolutionary history\n",
    "Pkg.init()\n",
    "Pkg.add(\"Phylogenetics\") # Install Phylogenetics.jl\n",
    "Pkg.update()\n",
    "using Phylogenetics # to use Phylogenetics"
   ]
  },
  {
   "cell_type": "code",
   "execution_count": 22,
   "metadata": {
    "collapsed": false
   },
   "outputs": [
    {
     "data": {
      "text/plain": [
       "Phylogenetics.Clado(\"\",5x2 Array{Int64,2}:\n",
       " 5  1\n",
       " 5  2\n",
       " 5  6\n",
       " 6  3\n",
       " 6  4,2,AbstractString[\"A\",\"B\",\"C\",\"D\"],AbstractString[\"\",\"\"])"
      ]
     },
     "execution_count": 22,
     "metadata": {},
     "output_type": "execute_result"
    }
   ],
   "source": [
    "# In the study of phylogeny, a common way to visualize evolution is with a phylogenetic tree. \n",
    "# This is a branching diagram that represents evolutionary relationships between species, \n",
    "# inferred by looking at similarities in their genome. Sometimes, branches are labeled with \n",
    "# distances. These trees are usually represented in Newick format (https://en.wikipedia.org/wiki/Newick_format)\n",
    "\n",
    "# This package allows for the representation of Cladograms (no distances)\n",
    "# and Phylogenetic trees (with distances) in Newick format. \n",
    "\n",
    "# Here is how to create a simple Cladogram \"Clado\" from Newick format\n",
    "simple_clado = tr\"(A,B,(C,D));\"\n",
    "\n",
    "# Notice that although we initially only entered 4 nodes into the tree, the result refers to nodes 5 and 6. \n",
    "# This is because to create this cladogram, 2 more nodes are necessary to properly combine the existing nodes. \n",
    "# See this image to see the other two nodes (called F and E) https://en.wikipedia.org/wiki/Newick_format#/media/File:NewickExample.svg\n",
    "\n",
    "\n"
   ]
  },
  {
   "cell_type": "code",
   "execution_count": null,
   "metadata": {
    "collapsed": true
   },
   "outputs": [],
   "source": [
    "# You can also create a phylogenetic tree with distances using Newick format\n",
    "\n",
    "simple_phylo = tr\"(A:0.1,B:0.2,(C:0.3,D:0.4):0.5);\"  \n"
   ]
  },
  {
   "cell_type": "code",
   "execution_count": 23,
   "metadata": {
    "collapsed": false
   },
   "outputs": [
    {
     "data": {
      "text/plain": [
       "6-element Array{Array{Int64,N},1}:\n",
       " Int64[]\n",
       " Int64[]\n",
       " Int64[]\n",
       " Int64[]\n",
       " [1,2,6]\n",
       " [3,4]  "
      ]
     },
     "execution_count": 23,
     "metadata": {},
     "output_type": "execute_result"
    }
   ],
   "source": [
    "# One of the most useful functions in this package is getkids, which returns an array associating\n",
    "# each node with its child nodes\n",
    "getkids(simple_clado)\n",
    "\n",
    "# If you refer to the image of the tree (https://en.wikipedia.org/wiki/Newick_format#/media/File:NewickExample.svg),\n",
    "# the only two nodes with children are nodes F (child nodes A, B, E) and E (child nodes C, D)"
   ]
  },
  {
   "cell_type": "code",
   "execution_count": 43,
   "metadata": {
    "collapsed": false
   },
   "outputs": [
    {
     "data": {
      "text/plain": [
       "5"
      ]
     },
     "execution_count": 43,
     "metadata": {},
     "output_type": "execute_result"
    }
   ],
   "source": [
    "# Another useful function is getroot, which finds the root node of the tree.\n",
    "getroot(simple_clado.edge[:,2],simple_clado.edge[:,1])\n",
    "\n",
    "# As you can see, it returns the correct root node (recall that node 5 maps to F on the phylogenetic tree image)"
   ]
  },
  {
   "cell_type": "code",
   "execution_count": 44,
   "metadata": {
    "collapsed": false
   },
   "outputs": [
    {
     "data": {
      "text/plain": [
       "Phylogenetics.Phylo(\"\",13x2 Array{Int64,2}:\n",
       "  9  10\n",
       " 10   1\n",
       " 10   2\n",
       "  9  11\n",
       " 11  12\n",
       " 12   3\n",
       " 12   4\n",
       " 11  13\n",
       " 13  14\n",
       " 14   5\n",
       " 14   6\n",
       " 13   7\n",
       "  9   8,6,AbstractString[\"raccoon\",\"bear\",\"sea_lion\",\"seal\",\"monkey\",\"cat\",\"weasel\",\"dog\"],[0.846,19.19959,6.80041,3.87382,7.52973,11.997,12.003,2.0946,20.59201,100.8593,47.14069,18.87953,25.46154],AbstractString[\"\",\"\",\"\",\"\",\"\",\"\"],-1.0)"
      ]
     },
     "execution_count": 44,
     "metadata": {},
     "output_type": "execute_result"
    }
   ],
   "source": [
    "# Now, we can use these tools to represent a real life data set that examines the overlapping evolutionary history of \n",
    "# raccoons, bears, seals, sea lions, monkeys, cats, weasels, and dogs.\n",
    "\n",
    "# We first construct the phylogenetic tree using Newick format\n",
    "\n",
    "real_tree = tr\"((raccoon:19.19959,bear:6.80041):0.84600,((sea_lion:11.99700, seal:12.00300):7.52973,((monkey:100.85930,cat:47.14069):20.59201, weasel:18.87953):2.09460):3.87382,dog:25.46154);\"\n",
    "\n"
   ]
  },
  {
   "cell_type": "code",
   "execution_count": 64,
   "metadata": {
    "collapsed": false
   },
   "outputs": [
    {
     "data": {
      "text/plain": [
       "1"
      ]
     },
     "execution_count": 64,
     "metadata": {},
     "output_type": "execute_result"
    }
   ],
   "source": [
    "# What if we wanted to know which of these other animals is most closely related to a raccoon evolutionarily?\n",
    "# In a phylogenetic tree, it will be the animal that shares the most recent parent with the raccoon. \n",
    "\n",
    "# To figure this out, we first, we need to find out which index represents raccoon in this list.\n",
    "\n",
    "# Here is the type definition for Phylo (which real_tree is a member of):\n",
    "#immutable Phylo <: Phylogeny\n",
    "#\tname::String\n",
    "#\tedge::Array{Int,2}\n",
    "#\tNnode::Int\n",
    "#\ttipLabel::Array{String}\n",
    "#\tedgeLength::Array{Float64}\n",
    "#\tnodeLabel::Array{String}\n",
    "#\trootEdge::Float64\n",
    "#end\n",
    "\n",
    "# The component containing the node labels is \"tipLabel\", so we search for \"raccoon\" within this list to retrieve the index\n",
    "raccoon_array = [\"raccoon\"]\n",
    "index = findin(raccoon_array, real_tree.tipLabel)\n"
   ]
  },
  {
   "cell_type": "code",
   "execution_count": 81,
   "metadata": {
    "collapsed": false
   },
   "outputs": [
    {
     "name": "stdout",
     "output_type": "stream",
     "text": [
      "Parent is additional node 10\n",
      "Children are: AbstractString[\"raccoon\",\"bear\"]"
     ]
    }
   ],
   "source": [
    "# Now that we know raccoon represents index \"index\", we can use the get kids method again.\n",
    "kids = getkids(real_tree)\n",
    "\n",
    "for i = [1:length(kids)] #for every parent-child list\n",
    "    childlist = kids[i]\n",
    "    if length(findin(childlist, index)) > 0 #if the raccoon index can be found in the parent-child list\n",
    "        if (i < length(real_tree.tipLabel)) #print out pertinent information about the parent and child\n",
    "            print(\"Parent is \")\n",
    "            print(real_tree.tipLabel[i])\n",
    "        else \n",
    "            print(\"Parent is additional node \")\n",
    "            print(i)\n",
    "            print(\"\\n\")\n",
    "            print(\"Children are: \")\n",
    "            print(real_tree.tipLabel[childlist])\n",
    "        end\n",
    "    end\n",
    "end\n",
    "\n",
    "# The resulting print out tells us that the parent of the raccoon is a new node 10, and its \"sibling\" in the tree is \n",
    "# the bear. So, out of the animals in this list, the bear is the most closely related to the raccoon.\n"
   ]
  }
 ],
 "metadata": {
  "kernelspec": {
   "display_name": "Julia 0.4.0-rc2",
   "language": "julia",
   "name": "julia-0.4"
  },
  "language_info": {
   "file_extension": ".jl",
   "mimetype": "application/julia",
   "name": "julia",
   "version": "0.4.0"
  }
 },
 "nbformat": 4,
 "nbformat_minor": 0
}
