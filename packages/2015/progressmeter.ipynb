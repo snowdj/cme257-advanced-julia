{
 "cells": [
  {
   "cell_type": "code",
   "execution_count": 23,
   "metadata": {
    "collapsed": true
   },
   "outputs": [],
   "source": [
    "# CME257 HW3 solution - Yair Carmon\n",
    "# Demonstration of ProgressMeter package\n",
    "# Julia version 0.4.0-rc4\n",
    "\n",
    "# Pkg.add(\"ProgressMeter\")\n",
    "using ProgressMeter"
   ]
  },
  {
   "cell_type": "markdown",
   "metadata": {},
   "source": [
    "Introduction\n",
    "---\n",
    "\n",
    "ProgressMeter is a small and simple package that creates a textual progress meter\n",
    "\n"
   ]
  },
  {
   "cell_type": "markdown",
   "metadata": {},
   "source": [
    "Usage\n",
    "---"
   ]
  },
  {
   "cell_type": "code",
   "execution_count": 21,
   "metadata": {
    "collapsed": false
   },
   "outputs": [
    {
     "name": "stdout",
     "output_type": "stream",
     "text": [
      "Progress: 100% Time: 0:00:11\n"
     ]
    }
   ],
   "source": [
    "# the progress meter object is initialized as follows\n",
    "# pMeterObj = Progress(TotalWork, Minimum update interval (in seconds), Display string, Number of characters for progress \"plot\")\n",
    "\n",
    "# Simple progress meter - notes that estimated time remaining is evaluated pretty much correctly\n",
    "pMeterObjSimple = Progress(100,0.05);\n",
    "\n",
    "for k = 1:100\n",
    "    sleep(0.1); # run time = 0.1*100 = 10 sec\n",
    "    next!(pMeterObjSimple); # one increment of progress\n",
    "end"
   ]
  },
  {
   "cell_type": "code",
   "execution_count": 24,
   "metadata": {
    "collapsed": false
   },
   "outputs": [
    {
     "name": "stdout",
     "output_type": "stream",
     "text": [
      "Zzz...100%|██████████████████████████████████████████████████| Time: 0:00:11\n"
     ]
    }
   ],
   "source": [
    "# Same loop, but with a nicer progress bar\n",
    "pMeterObjSimple = Progress(100,0.05,\"Zzz...\",50);\n",
    "\n",
    "for k = 1:100\n",
    "    sleep(0.1); # run time = 0.1*100 = 10 sec\n",
    "    next!(pMeterObjSimple); # one increment of progress\n",
    "end"
   ]
  },
  {
   "cell_type": "code",
   "execution_count": 27,
   "metadata": {
    "collapsed": false
   },
   "outputs": [
    {
     "name": "stdout",
     "output_type": "stream",
     "text": [
      "Zzz...100%|██████████████████████████████████████████████████| Time: 0:00:11\n"
     ]
    }
   ],
   "source": [
    "# When the task time changes, task time prediction suffers\n",
    "pMeterObjNicer = Progress(100,0.05,\"Zzz...\",50);\n",
    "\n",
    "for k = 1:100\n",
    "    sleep(0.002*k); # run time = ~ 10 sec\n",
    "    next!(pMeterObjNicer); # one increment of progress\n",
    "end"
   ]
  },
  {
   "cell_type": "code",
   "execution_count": 45,
   "metadata": {
    "collapsed": false
   },
   "outputs": [
    {
     "name": "stdout",
     "output_type": "stream",
     "text": [
      "Zzz...100%|██████████████████████████████████████████████████| Time: 0:00:11\n"
     ]
    }
   ],
   "source": [
    "# This can be solved by suitable update of the progress amount\n",
    "pMeterObjNicerCalibrated = Progress(100*10,0.05,\"Zzz...\",50);\n",
    "\n",
    "tot = 0;\n",
    "for k = 1:100\n",
    "    sleep(0.002*k); # run time = ~ 10 sec\n",
    "    tot += 0.002*k;\n",
    "    update!(pMeterObjNicerCalibrated, convert(Int64,round(100*tot)));\n",
    "end\n",
    "update!(pMeterObjNicerCalibrated, 1000); # to finish the run"
   ]
  },
  {
   "cell_type": "code",
   "execution_count": 52,
   "metadata": {
    "collapsed": false
   },
   "outputs": [
    {
     "name": "stdout",
     "output_type": "stream",
     "text": [
      "Automating...100%|██████████████████████████████████████████████████| Time: 0:00:11\n"
     ]
    }
   ],
   "source": [
    "# There is also a nice macro, but it does not seem to be able to time the loop very well\n",
    "@showprogress 0.05 \"Automating...\" 50 for k in 1:100\n",
    "    sleep(0.002*k)\n",
    "end"
   ]
  },
  {
   "cell_type": "markdown",
   "metadata": {},
   "source": [
    "Windows 98 progress bar :)\n",
    "---"
   ]
  },
  {
   "cell_type": "code",
   "execution_count": null,
   "metadata": {
    "collapsed": false
   },
   "outputs": [
    {
     "name": "stdout",
     "output_type": "stream",
     "text": [
      "Transfering file... 15%|████████                                          |  ETA: 0:03:06"
     ]
    }
   ],
   "source": [
    "p98 = Progress(1000,0.05,\"Transfering file...\",50);\n",
    "tot = 0;\n",
    "while tot < 1000\n",
    "    sleep(0.01)\n",
    "    tot = round(min(max(0,tot+0.1+randn(1)[1]),1000));\n",
    "    update!(p98, convert(Int64,tot));\n",
    "end"
   ]
  }
 ],
 "metadata": {
  "kernelspec": {
   "display_name": "Julia 0.4.0-rc4",
   "language": "julia",
   "name": "julia-0.4"
  },
  "language_info": {
   "file_extension": ".jl",
   "mimetype": "application/julia",
   "name": "julia",
   "version": "0.4.0"
  }
 },
 "nbformat": 4,
 "nbformat_minor": 0
}
