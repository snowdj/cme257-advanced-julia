{
 "cells": [
  {
   "cell_type": "markdown",
   "metadata": {},
   "source": [
    "### CME 257 Homework 3\n",
    "### February 4, 2018"
   ]
  },
  {
   "cell_type": "code",
   "execution_count": 124,
   "metadata": {},
   "outputs": [],
   "source": [
    "# Julia version: 0.6.2\n",
    "# Decision Tree Classifier and Regressor in Julia\n",
    "using DecisionTree"
   ]
  },
  {
   "cell_type": "code",
   "execution_count": 125,
   "metadata": {},
   "outputs": [
    {
     "data": {
      "text/plain": [
       "5-element Array{Int64,1}:\n",
       "  1\n",
       " -1\n",
       " -2\n",
       " -2\n",
       "  0"
      ]
     },
     "execution_count": 125,
     "metadata": {},
     "output_type": "execute_result"
    }
   ],
   "source": [
    "# Example 1: Regression Tree\n",
    "srand(1000)\n",
    "n, m = 100000, 5 ;\n",
    "features = randn(n, m);\n",
    "weights = rand(-2:2, m)"
   ]
  },
  {
   "cell_type": "code",
   "execution_count": 126,
   "metadata": {},
   "outputs": [],
   "source": [
    "labels = features * weights;"
   ]
  },
  {
   "cell_type": "code",
   "execution_count": 127,
   "metadata": {},
   "outputs": [
    {
     "data": {
      "text/plain": [
       "Decision Tree\n",
       "Leaves: 32149\n",
       "Depth:  25"
      ]
     },
     "execution_count": 127,
     "metadata": {},
     "output_type": "execute_result"
    }
   ],
   "source": [
    "# train regression tree: \n",
    "# regression automatically considered since lables are floats\n",
    "model = build_tree(labels, features)"
   ]
  },
  {
   "cell_type": "code",
   "execution_count": 128,
   "metadata": {},
   "outputs": [
    {
     "data": {
      "text/plain": [
       "-12.041004980600466"
      ]
     },
     "execution_count": 128,
     "metadata": {},
     "output_type": "execute_result"
    }
   ],
   "source": [
    "# apply learned model\n",
    "apply_tree(model, [-0.9,3.0,5.1,1.9,0.0]) # true value: -17.9"
   ]
  },
  {
   "cell_type": "code",
   "execution_count": 131,
   "metadata": {},
   "outputs": [
    {
     "name": "stdout",
     "output_type": "stream",
     "text": [
      "\n",
      "Fold 1\n",
      "Mean Squared Error:     0.20829236079547908\n",
      "Correlation Coeff:      0.9895886122990418\n",
      "Coeff of Determination: 0.9792134405255102\n",
      "\n",
      "Fold 2\n",
      "Mean Squared Error:     0.21806033294027016\n",
      "Correlation Coeff:      0.9893057444420884\n",
      "Coeff of Determination: 0.9786393684596367\n",
      "\n",
      "Fold 3\n",
      "Mean Squared Error:     0.21772785846409598\n",
      "Correlation Coeff:      0.9891128958485246\n",
      "Coeff of Determination: 0.9782416565982884\n",
      "\n",
      "Fold 4\n",
      "Mean Squared Error:     0.21552233309764496\n",
      "Correlation Coeff:      0.9891754812363047\n",
      "Coeff of Determination: 0.9783921655035095\n",
      "\n",
      "Fold 5\n",
      "Mean Squared Error:     0.2143584781106968\n",
      "Correlation Coeff:      0.9890917768405755\n",
      "Coeff of Determination: 0.9782139980432937\n",
      "\n",
      "Mean Coeff of Determination: 0.9785401258260477\n"
     ]
    },
    {
     "data": {
      "text/plain": [
       "5-element Array{Float64,1}:\n",
       " 0.979213\n",
       " 0.978639\n",
       " 0.978242\n",
       " 0.978392\n",
       " 0.978214"
      ]
     },
     "execution_count": 131,
     "metadata": {},
     "output_type": "execute_result"
    }
   ],
   "source": [
    "# run n-fold cross validation, using 5 folds\n",
    "# returns array of coefficients of determination (R^2)\n",
    "r2 = nfoldCV_tree(labels, features, 5)"
   ]
  },
  {
   "cell_type": "code",
   "execution_count": 132,
   "metadata": {},
   "outputs": [],
   "source": [
    "# Example 2: Classification Tree\n",
    "using RDatasets: dataset"
   ]
  },
  {
   "cell_type": "code",
   "execution_count": 133,
   "metadata": {},
   "outputs": [],
   "source": [
    "# import iris dataset data\n",
    "iris = dataset(\"datasets\", \"iris\")\n",
    "features = convert(Array, iris[:, 1:4]);\n",
    "labels = convert(Array, iris[:, 5]);"
   ]
  },
  {
   "cell_type": "code",
   "execution_count": 112,
   "metadata": {},
   "outputs": [
    {
     "name": "stdout",
     "output_type": "stream",
     "text": [
      "Feature 3, Threshold 3.0\n",
      "L-> setosa : 50/50\n",
      "R-> Feature 4, Threshold 1.8\n",
      "    L-> Feature 3, Threshold 5.0\n",
      "        L-> versicolor : 47/48\n",
      "        R-> Feature 4, Threshold 1.6\n",
      "            L-> virginica : 3/3\n",
      "            R-> Feature 1, Threshold 7.2\n",
      "                L-> versicolor : 2/2\n",
      "                R-> virginica : 1/1\n",
      "    R-> Feature 3, Threshold 4.9\n",
      "        L-> Feature 1, Threshold 6.0\n",
      "            L-> versicolor : 1/1\n",
      "            R-> virginica : 2/2\n",
      "        R-> virginica : 43/43\n"
     ]
    }
   ],
   "source": [
    "# train a full-tree classifier\n",
    "model = build_tree(labels, features)\n",
    "# prune the full tree: merge leaves with >= 80% purity\n",
    "model = prune_tree(model, 0.8)\n",
    "# graphical print of the tree\n",
    "print_tree(model)"
   ]
  },
  {
   "cell_type": "code",
   "execution_count": 116,
   "metadata": {},
   "outputs": [
    {
     "data": {
      "text/plain": [
       "\"setosa\""
      ]
     },
     "execution_count": 116,
     "metadata": {},
     "output_type": "execute_result"
    }
   ],
   "source": [
    "# apply learned model\n",
    "apply_tree(model, [2.4,4.2,0.1,2.8])"
   ]
  },
  {
   "cell_type": "code",
   "execution_count": 134,
   "metadata": {},
   "outputs": [
    {
     "data": {
      "text/plain": [
       "3×3 Array{Int64,2}:\n",
       " 7  0   0\n",
       " 0  9   0\n",
       " 0  1  13"
      ]
     },
     "metadata": {},
     "output_type": "display_data"
    },
    {
     "data": {
      "text/plain": [
       "3×3 Array{Int64,2}:\n",
       " 9  0  0\n",
       " 0  8  2\n",
       " 0  2  9"
      ]
     },
     "metadata": {},
     "output_type": "display_data"
    },
    {
     "data": {
      "text/plain": [
       "3×3 Array{Int64,2}:\n",
       " 9  0   0\n",
       " 0  9   0\n",
       " 0  1  11"
      ]
     },
     "metadata": {},
     "output_type": "display_data"
    },
    {
     "data": {
      "text/plain": [
       "3×3 Array{Int64,2}:\n",
       " 11  0   0\n",
       "  0  8   1\n",
       "  0  0  10"
      ]
     },
     "metadata": {},
     "output_type": "display_data"
    },
    {
     "data": {
      "text/plain": [
       "3×3 Array{Int64,2}:\n",
       " 14   0  0\n",
       "  1  11  1\n",
       "  0   1  2"
      ]
     },
     "metadata": {},
     "output_type": "display_data"
    },
    {
     "name": "stdout",
     "output_type": "stream",
     "text": [
      "\n",
      "Fold 1\n",
      "Classes:  String[\"setosa\", \"versicolor\", \"virginica\"]\n",
      "Matrix:   \n",
      "Accuracy: 0.9666666666666667\n",
      "Kappa:    0.9481865284974094\n",
      "\n",
      "Fold 2\n",
      "Classes:  String[\"setosa\", \"versicolor\", \"virginica\"]\n",
      "Matrix:   \n",
      "Accuracy: 0.8666666666666667\n",
      "Kappa:    0.7993311036789298\n",
      "\n",
      "Fold 3\n",
      "Classes:  String[\"setosa\", \"versicolor\", \"virginica\"]\n",
      "Matrix:   \n",
      "Accuracy: 0.9666666666666667\n",
      "Kappa:    0.949748743718593\n",
      "\n",
      "Fold 4\n",
      "Classes:  String[\"setosa\", \"versicolor\", \"virginica\"]\n",
      "Matrix:   \n",
      "Accuracy: 0.9666666666666667\n",
      "Kappa:    0.949748743718593\n",
      "\n",
      "Fold 5\n",
      "Classes:  String[\"setosa\", \"versicolor\", \"virginica\"]\n",
      "Matrix:   \n",
      "Accuracy: 0.9\n",
      "Kappa:    0.8285714285714287\n",
      "\n",
      "Mean Accuracy: 0.9333333333333333\n"
     ]
    },
    {
     "data": {
      "text/plain": [
       "5-element Array{Float64,1}:\n",
       " 0.966667\n",
       " 0.866667\n",
       " 0.966667\n",
       " 0.966667\n",
       " 0.9     "
      ]
     },
     "execution_count": 134,
     "metadata": {},
     "output_type": "execute_result"
    }
   ],
   "source": [
    "# run n-fold cross validation for pruned tree, using 80% purity threshold pruning, and 5 CV folds\n",
    "accuracy = nfoldCV_tree(labels, features, 0.8, 5)"
   ]
  },
  {
   "cell_type": "markdown",
   "metadata": {},
   "source": [
    "##### Summary: This package supports decision tree regression and classification, which allows pruning and cross validation. In addition, this package also supports parallelized bagging and adaptive boosting. It also allows ScikitLearn.jl interface and algorithms."
   ]
  }
 ],
 "metadata": {
  "kernelspec": {
   "display_name": "Julia 0.6.2",
   "language": "julia",
   "name": "julia-0.6"
  },
  "language_info": {
   "file_extension": ".jl",
   "mimetype": "application/julia",
   "name": "julia",
   "version": "0.6.2"
  }
 },
 "nbformat": 4,
 "nbformat_minor": 2
}
