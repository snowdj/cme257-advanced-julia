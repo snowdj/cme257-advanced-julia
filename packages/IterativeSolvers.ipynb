{
 "cells": [
  {
   "cell_type": "code",
   "execution_count": 1,
   "metadata": {},
   "outputs": [
    {
     "data": {
      "text/plain": [
       "v\"0.6.0\""
      ]
     },
     "execution_count": 1,
     "metadata": {},
     "output_type": "execute_result"
    }
   ],
   "source": [
    "VERSION"
   ]
  },
  {
   "cell_type": "code",
   "execution_count": 2,
   "metadata": {
    "collapsed": true
   },
   "outputs": [],
   "source": [
    "using IterativeSolvers"
   ]
  },
  {
   "cell_type": "code",
   "execution_count": 6,
   "metadata": {},
   "outputs": [
    {
     "data": {
      "text/html": [
       "9.635229849022109e-10"
      ],
      "text/plain": [
       "9.635229849022109e-10"
      ]
     },
     "execution_count": 6,
     "metadata": {},
     "output_type": "execute_result"
    }
   ],
   "source": [
    "# Solving linear system, where matrix A is SPD.\n",
    "# For this problem, we can iterative solvers. In particular, since A is SPD,\n",
    "# we can pick Conjugate Gradient as an example.\n",
    "\n",
    "m = 100\n",
    "b = ones(m, 1)\n",
    "A = randn(m, m)\n",
    "A = 0.5*(A+A') + m*eye(m)\n",
    "x = A\\b\n",
    "x_cg = IterativeSolvers.cg(A, b)\n",
    "eps = norm(x - x_cg)"
   ]
  },
  {
   "cell_type": "code",
   "execution_count": 28,
   "metadata": {},
   "outputs": [
    {
     "data": {
      "text/html": [
       "11.27718067441524"
      ],
      "text/plain": [
       "11.27718067441524"
      ]
     },
     "execution_count": 28,
     "metadata": {},
     "output_type": "execute_result"
    }
   ],
   "source": [
    "# Now let us explore a matrix A which is just symmetric.\n",
    "# For this case, we can use MINRES. MINRES is similar to SPD\n",
    "\n",
    "m = 100\n",
    "b = ones(m, 1)\n",
    "A = randn(m, m)\n",
    "A = 0.5*(A+A')\n",
    "x = A\\b\n",
    "x_minres = IterativeSolvers.minres(A, b)\n",
    "eps = norm(x - x_minres)"
   ]
  },
  {
   "cell_type": "code",
   "execution_count": 48,
   "metadata": {},
   "outputs": [
    {
     "data": {
      "text/html": [
       "5.678521008267138"
      ],
      "text/plain": [
       "5.678521008267138"
      ]
     },
     "execution_count": 48,
     "metadata": {},
     "output_type": "execute_result"
    }
   ],
   "source": [
    "# The last common example is GMRES\n",
    "# which is for any invertible matrix\n",
    "\n",
    "m = 100\n",
    "b = ones(m, 1)\n",
    "x_0 = ones(m, 1)\n",
    "A = randn(m, m)\n",
    "x = A\\b\n",
    "x_gmres = IterativeSolvers.gmres(A, b)\n",
    "eps = norm(x - x_gmres)"
   ]
  },
  {
   "cell_type": "code",
   "execution_count": null,
   "metadata": {
    "collapsed": true
   },
   "outputs": [],
   "source": []
  }
 ],
 "metadata": {
  "kernelspec": {
   "display_name": "Julia 0.6.0",
   "language": "julia",
   "name": "julia-0.6"
  },
  "language_info": {
   "file_extension": ".jl",
   "mimetype": "application/julia",
   "name": "julia",
   "version": "0.6.0"
  }
 },
 "nbformat": 4,
 "nbformat_minor": 2
}
