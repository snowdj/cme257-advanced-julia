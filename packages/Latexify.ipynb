{
 "cells": [
  {
   "cell_type": "markdown",
   "metadata": {},
   "source": [
    "# HW 3 - Package Exploration\n",
    "### Package - Latexify.jl\n",
    "Madison Maloney\n",
    "\n",
    "This notebook gives an overview of Julia's Latexify package. Latexify can be used to provide LaTeX formatting for objects in Julia. The formatted objects can be displayed within the Julia environment, and the formatting string can also be copied to a user's clipboard and pasted into an environment that accepts LaTeX formatting.\n",
    "\n",
    "Version used: 1.2.0\n",
    "\n",
    "Package used: Latexify.jl\n",
    "\n",
    "Features explored: \n",
    "\n",
    "Reference: https://pkg.julialang.org/docs/Latexify"
   ]
  },
  {
   "cell_type": "code",
   "execution_count": 12,
   "metadata": {},
   "outputs": [
    {
     "data": {
      "text/plain": [
       "v\"1.2.0\""
      ]
     },
     "execution_count": 12,
     "metadata": {},
     "output_type": "execute_result"
    }
   ],
   "source": [
    "VERSION"
   ]
  },
  {
   "cell_type": "markdown",
   "metadata": {},
   "source": [
    "First you need to add the Latexify package and prepare to use it by implementing the code block below."
   ]
  },
  {
   "cell_type": "code",
   "execution_count": 37,
   "metadata": {},
   "outputs": [
    {
     "name": "stdout",
     "output_type": "stream",
     "text": [
      "\u001b[32m\u001b[1m Resolving\u001b[22m\u001b[39m package versions...\n",
      "\u001b[32m\u001b[1m  Updating\u001b[22m\u001b[39m `C:\\Users\\madis\\.julia\\environments\\v1.2\\Project.toml`\n",
      "\u001b[90m [no changes]\u001b[39m\n",
      "\u001b[32m\u001b[1m  Updating\u001b[22m\u001b[39m `C:\\Users\\madis\\.julia\\environments\\v1.2\\Manifest.toml`\n",
      "\u001b[90m [no changes]\u001b[39m\n",
      "\u001b[32m\u001b[1m Resolving\u001b[22m\u001b[39m package versions...\n",
      "\u001b[32m\u001b[1m  Updating\u001b[22m\u001b[39m `C:\\Users\\madis\\.julia\\environments\\v1.2\\Project.toml`\n",
      " \u001b[90m [37e2e46d]\u001b[39m\u001b[92m + LinearAlgebra \u001b[39m\n",
      "\u001b[32m\u001b[1m  Updating\u001b[22m\u001b[39m `C:\\Users\\madis\\.julia\\environments\\v1.2\\Manifest.toml`\n",
      "\u001b[90m [no changes]\u001b[39m\n"
     ]
    }
   ],
   "source": [
    "using Pkg\n",
    "Pkg.add(\"Latexify\")\n",
    "using Latexify"
   ]
  },
  {
   "cell_type": "markdown",
   "metadata": {},
   "source": [
    "## Basic Latexify\n",
    "\n",
    "Latexify works for the following Julia object types:\n",
    "* Expressions\n",
    "* Strings\n",
    "* Numbers\n",
    "* Missings' Missing type (references Missings.jl)\n",
    "* Symbols\n",
    "* Symbolic expressions (references SymEngine.jl)\n",
    "* DataFrame (references DataFrames.jl)\n",
    "* Any shape of array containing a mix of any of the above types\n",
    "* ParameterizedFunctions (references DifferentialEquations.jl)\n",
    "* ReactionNetworks (references DifferentialEquations.jl)\n",
    "\n",
    "Supported LaTeX output environments include:\n",
    "* no env (:raw)\n",
    "* inline (:inline)\n",
    "* align (:align)\n",
    "* equation (:equation)\n",
    "* array (:array)\n",
    "* tabular (:table)\n",
    "* markdown table (:mdtable)\n",
    "* markdown text (:mdtext)\n",
    "* chemical arrow notation (:chem)\n",
    "\n",
    "Latexify automatically chooses and implements an output environment based on the inputs to the latexify function, but users can enforce a different output environment by executing\n",
    "\n",
    "    env = () \n",
    "\n",
    "where () is filled by one of the enclosed examples from the list above (i.e. env = :table)\n",
    "\n",
    "\n",
    "For basic functionality, this notebook will focus on a few inputs that do not rely on any other packages. For more information on the inputs which interact with other packages, refer to the documentation linked at the top of this notebook.\n",
    "\n",
    "To use the basic latexify function of this package, define an input and call latexify, giving it the input that was just defined."
   ]
  },
  {
   "cell_type": "markdown",
   "metadata": {},
   "source": [
    "__Expressions__\n",
    "\n",
    "The example below defines an expression and latexifies it."
   ]
  },
  {
   "cell_type": "code",
   "execution_count": 111,
   "metadata": {},
   "outputs": [
    {
     "name": "stdout",
     "output_type": "stream",
     "text": [
      "typeof(exp) = Expr\n"
     ]
    },
    {
     "data": {
      "text/latex": [
       "$1 + \\frac{3}{x^{2}} - e^{-1}$"
      ],
      "text/plain": [
       "L\"$1 + \\frac{3}{x^{2}} - e^{-1}$\""
      ]
     },
     "execution_count": 111,
     "metadata": {},
     "output_type": "execute_result"
    }
   ],
   "source": [
    "exp = :(1+3/x^2-e^-1);\n",
    "@show typeof(exp)\n",
    "latexify(exp)"
   ]
  },
  {
   "cell_type": "markdown",
   "metadata": {},
   "source": [
    "__Strings__\n",
    "\n",
    "The example below defines a string and latexifies it."
   ]
  },
  {
   "cell_type": "code",
   "execution_count": 112,
   "metadata": {},
   "outputs": [
    {
     "name": "stdout",
     "output_type": "stream",
     "text": [
      "typeof(str) = String\n"
     ]
    },
    {
     "data": {
      "text/latex": [
       "$\\frac{\\beta\\left( n \\right) \\cdot e^{-2 \\cdot x}}{x + n!} - \\log_{10}\\left( \\frac{x}{n} \\right)$"
      ],
      "text/plain": [
       "L\"$\\frac{\\beta\\left( n \\right) \\cdot e^{-2 \\cdot x}}{x + n!} - \\log_{10}\\left( \\frac{x}{n} \\right)$\""
      ]
     },
     "execution_count": 112,
     "metadata": {},
     "output_type": "execute_result"
    }
   ],
   "source": [
    "str = \"beta(n)*e^(-2x)/(x+n!)-(log10(x/n))\"\n",
    "@show typeof(str)\n",
    "latexify(str)"
   ]
  },
  {
   "cell_type": "markdown",
   "metadata": {},
   "source": [
    "__Numbers__\n",
    "\n",
    "The example below defines an array of numbers and latexifies it."
   ]
  },
  {
   "cell_type": "code",
   "execution_count": 114,
   "metadata": {},
   "outputs": [
    {
     "name": "stdout",
     "output_type": "stream",
     "text": [
      "typeof(A) = Array{Int64,2}\n"
     ]
    },
    {
     "data": {
      "text/latex": [
       "\\begin{equation}\n",
       "\\left[\n",
       "\\begin{array}{ccc}\n",
       "1 & 2 & 3 \\\\\n",
       "4 & 5 & 6 \\\\\n",
       "7 & 8 & 9 \\\\\n",
       "\\end{array}\n",
       "\\right]\n",
       "\\end{equation}\n"
      ],
      "text/plain": [
       "L\"\\begin{equation}\n",
       "\\left[\n",
       "\\begin{array}{ccc}\n",
       "1 & 2 & 3 \\\\\n",
       "4 & 5 & 6 \\\\\n",
       "7 & 8 & 9 \\\\\n",
       "\\end{array}\n",
       "\\right]\n",
       "\\end{equation}\n",
       "\""
      ]
     },
     "execution_count": 114,
     "metadata": {},
     "output_type": "execute_result"
    }
   ],
   "source": [
    "A = [1 2 3;4 5 6;7 8 9]\n",
    "@show typeof(A)\n",
    "as = latexify(A)"
   ]
  },
  {
   "cell_type": "markdown",
   "metadata": {},
   "source": [
    "## Copy to Clipboard\n",
    "\n",
    "The function copy_to_clipboard can be used to copy the formatting string for the LaTeX-formatted object to a computer's clipboard. This string can conveniently be pasted into any interface that accepts LaTeX formatting. Once copy_to_clipboard is set to true, it will continue to copy to the clipboard for subsequent latexify calls until it is set to false.\n",
    "\n",
    "__Example__"
   ]
  },
  {
   "cell_type": "code",
   "execution_count": 122,
   "metadata": {},
   "outputs": [
    {
     "data": {
      "text/latex": [
       "$\\frac{x}{2 \\cdot k_{1} + x^{2}}$"
      ],
      "text/plain": [
       "L\"$\\frac{x}{2 \\cdot k_{1} + x^{2}}$\""
      ]
     },
     "execution_count": 122,
     "metadata": {},
     "output_type": "execute_result"
    }
   ],
   "source": [
    "c = \"x/(2*k_1+x^2)\"\n",
    "copy_to_clipboard(true)\n",
    "latexify(c)"
   ]
  },
  {
   "cell_type": "markdown",
   "metadata": {},
   "source": [
    "If you run the code block above, the formatting string for c will be copied to your clipboard. Pasting after running the code block yields:\n",
    "\n",
    "    $\\frac{x}{2 \\cdot k_{1} + x^{2}}$\n",
    "    \n",
    "You can test out the formatting string by pasting it into an interface such as Overleaf."
   ]
  },
  {
   "cell_type": "markdown",
   "metadata": {},
   "source": [
    "## Formatting\n",
    "\n",
    "Latexify allows you to format the numbers in the output. A few helpful examples include printf formatting, significant digit specification (using FancyNumberFormatting within Latexify.jl), digits beyond the decimal (using FancyNumberFormatting within Latexify.jl), and exponential formatting (using StyledNumberFormatting within Latexify.jl)."
   ]
  },
  {
   "cell_type": "code",
   "execution_count": 145,
   "metadata": {},
   "outputs": [
    {
     "data": {
      "text/latex": [
       "$3.142$"
      ],
      "text/plain": [
       "L\"$3.142$\""
      ]
     },
     "execution_count": 145,
     "metadata": {},
     "output_type": "execute_result"
    }
   ],
   "source": [
    "num = pi\n",
    "latexify(num;fmt = \"%.3f\")\n",
    "# notice number of digits after decimal"
   ]
  },
  {
   "cell_type": "code",
   "execution_count": 143,
   "metadata": {},
   "outputs": [
    {
     "data": {
      "text/latex": [
       "$1.4865e+06$"
      ],
      "text/plain": [
       "L\"$1.4865e+06$\""
      ]
     },
     "execution_count": 143,
     "metadata": {},
     "output_type": "execute_result"
    }
   ],
   "source": [
    "num2 = 1486480\n",
    "latexify(num2;fmt = \"%.4e\")\n",
    "# notice number of digits after decimal and exp form"
   ]
  },
  {
   "cell_type": "code",
   "execution_count": 156,
   "metadata": {},
   "outputs": [
    {
     "name": "stdout",
     "output_type": "stream",
     "text": [
      "num3 = 1.2001\n"
     ]
    },
    {
     "data": {
      "text/latex": [
       "$1.2$"
      ],
      "text/plain": [
       "L\"$1.2$\""
      ]
     },
     "execution_count": 156,
     "metadata": {},
     "output_type": "execute_result"
    }
   ],
   "source": [
    "num3 = 1.200100\n",
    "latexify(num3;fmt = FancyNumberFormatter(2))\n",
    "# notice significant digits"
   ]
  },
  {
   "cell_type": "code",
   "execution_count": 169,
   "metadata": {},
   "outputs": [
    {
     "data": {
      "text/latex": [
       "$1.23 \\cdot 10^{7}$"
      ],
      "text/plain": [
       "L\"$1.23 \\cdot 10^{7}$\""
      ]
     },
     "execution_count": 169,
     "metadata": {},
     "output_type": "execute_result"
    }
   ],
   "source": [
    "num4 = 12345e3\n",
    "latexify(num4;fmt = FancyNumberFormatter(3))\n",
    "# notice the exp form now appears as *10^7"
   ]
  },
  {
   "cell_type": "markdown",
   "metadata": {},
   "source": [
    "You can also set default formatting by using set_default."
   ]
  },
  {
   "cell_type": "code",
   "execution_count": 171,
   "metadata": {},
   "outputs": [
    {
     "data": {
      "text/latex": [
       "$123.45600$"
      ],
      "text/plain": [
       "L\"$123.45600$\""
      ]
     },
     "execution_count": 171,
     "metadata": {},
     "output_type": "execute_result"
    }
   ],
   "source": [
    "set_default(fmt = \"%.5f\")\n",
    "latexify(123.456)\n",
    "# notice formatting was implemented without including fmt in the latexify call"
   ]
  },
  {
   "cell_type": "markdown",
   "metadata": {},
   "source": [
    "## Realistic Example\n",
    "\n",
    "Imagine you have written code for a project but are cutting it close to the deadline to submit your code along with a write-up of your results. Rather than wasting time writing the relevant equations in LaTeX format for your write up, you can use the Latexify package to save the day.\n"
   ]
  },
  {
   "cell_type": "code",
   "execution_count": 203,
   "metadata": {},
   "outputs": [
    {
     "data": {
      "text/latex": [
       "\\begin{equation}\n",
       "\\left[\n",
       "\\begin{array}{ccc}\n",
       "5.0 & 5.0 & -1.0 \\\\\n",
       "10.0 & 10.0 & -2.0 \\\\\n",
       "15.0 & 15.0 & -3.0 \\\\\n",
       "\\end{array}\n",
       "\\right]\n",
       "\\end{equation}\n"
      ],
      "text/plain": [
       "L\"\\begin{equation}\n",
       "\\left[\n",
       "\\begin{array}{ccc}\n",
       "5.0 & 5.0 & -1.0 \\\\\n",
       "10.0 & 10.0 & -2.0 \\\\\n",
       "15.0 & 15.0 & -3.0 \\\\\n",
       "\\end{array}\n",
       "\\right]\n",
       "\\end{equation}\n",
       "\""
      ]
     },
     "execution_count": 203,
     "metadata": {},
     "output_type": "execute_result"
    }
   ],
   "source": [
    "A = [5 5 -1;10 10 -2;15 15 -3];\n",
    "latexify(A,fmt = \"%.1f\")"
   ]
  },
  {
   "cell_type": "code",
   "execution_count": 204,
   "metadata": {},
   "outputs": [
    {
     "data": {
      "text/latex": [
       "\\begin{equation}\n",
       "\\left[\n",
       "\\begin{array}{c}\n",
       "2.4 \\\\\n",
       "-1.1 \\\\\n",
       "5.9 \\\\\n",
       "\\end{array}\n",
       "\\right]\n",
       "\\end{equation}\n"
      ],
      "text/plain": [
       "L\"\\begin{equation}\n",
       "\\left[\n",
       "\\begin{array}{c}\n",
       "2.4 \\\\\n",
       "-1.1 \\\\\n",
       "5.9 \\\\\n",
       "\\end{array}\n",
       "\\right]\n",
       "\\end{equation}\n",
       "\""
      ]
     },
     "execution_count": 204,
     "metadata": {},
     "output_type": "execute_result"
    }
   ],
   "source": [
    "x = [2.4;-1.1;5.9];\n",
    "latexify(x,fmt = \"%.1f\")"
   ]
  },
  {
   "cell_type": "code",
   "execution_count": 206,
   "metadata": {},
   "outputs": [
    {
     "data": {
      "text/latex": [
       "\\begin{equation}\n",
       "\\left[\n",
       "\\begin{array}{c}\n",
       "0.6 \\\\\n",
       "1.2 \\\\\n",
       "1.8 \\\\\n",
       "\\end{array}\n",
       "\\right]\n",
       "\\end{equation}\n"
      ],
      "text/plain": [
       "L\"\\begin{equation}\n",
       "\\left[\n",
       "\\begin{array}{c}\n",
       "0.6 \\\\\n",
       "1.2 \\\\\n",
       "1.8 \\\\\n",
       "\\end{array}\n",
       "\\right]\n",
       "\\end{equation}\n",
       "\""
      ]
     },
     "execution_count": 206,
     "metadata": {},
     "output_type": "execute_result"
    }
   ],
   "source": [
    "b = A*x;\n",
    "latexify(b,fmt = \"%.1f\") "
   ]
  },
  {
   "cell_type": "code",
   "execution_count": 208,
   "metadata": {},
   "outputs": [
    {
     "data": {
      "text/latex": [
       "$Ax = b$"
      ],
      "text/plain": [
       "L\"$Ax = b$\""
      ]
     },
     "execution_count": 208,
     "metadata": {},
     "output_type": "execute_result"
    }
   ],
   "source": [
    "eqn = \"Ax=b\"\n",
    "latexify(eqn)"
   ]
  },
  {
   "attachments": {},
   "cell_type": "markdown",
   "metadata": {},
   "source": [
    "Pasting these into Overleaf, I can quickly get:\n",
    "\n",
    "https://github.com/madisonmaloney/Random/blob/master/example.PNG\n",
    "\n",
    "This saves time and could even help you catch a mistake in your equation if the LaTeX version looks different than the equation you thought you implemented."
   ]
  }
 ],
 "metadata": {
  "kernelspec": {
   "display_name": "Julia 1.2.0",
   "language": "julia",
   "name": "julia-1.2"
  },
  "language_info": {
   "file_extension": ".jl",
   "mimetype": "application/julia",
   "name": "julia",
   "version": "1.2.0"
  }
 },
 "nbformat": 4,
 "nbformat_minor": 2
}
