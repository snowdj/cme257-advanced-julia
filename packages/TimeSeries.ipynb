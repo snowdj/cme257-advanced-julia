{
 "cells": [
  {
   "cell_type": "markdown",
   "metadata": {},
   "source": [
    "## CME 257 Homework 3\n",
    "\n",
    "#### Oct 27, 2019\n",
    "#### Davide Giovanardi\n",
    "#### Julia 1.2.0\n",
    "#### TimeSeries package"
   ]
  },
  {
   "cell_type": "code",
   "execution_count": null,
   "metadata": {},
   "outputs": [],
   "source": [
    "#Pkg.add(\"TimeSeries\")\n",
    "#Pkg.add(\"MarketData\");"
   ]
  },
  {
   "cell_type": "code",
   "execution_count": 10,
   "metadata": {},
   "outputs": [],
   "source": [
    "using TimeSeries\n",
    "using MarketData # historical data set\n",
    ";"
   ]
  },
  {
   "cell_type": "markdown",
   "metadata": {},
   "source": [
    "`indexing` to select only open and close price and a specific time period"
   ]
  },
  {
   "cell_type": "code",
   "execution_count": 54,
   "metadata": {},
   "outputs": [
    {
     "data": {
      "text/plain": [
       "2515×4 TimeArray{Float64,2,Date,Array{Float64,2}} 2000-01-03 to 2009-12-31\n",
       "│            │ Open   │ High   │ Low    │ Close  │\n",
       "├────────────┼────────┼────────┼────────┼────────┤\n",
       "│ 2000-01-03 │ 104.88 │ 112.5  │ 101.69 │ 111.94 │\n",
       "│ 2000-01-04 │ 108.25 │ 110.62 │ 101.19 │ 102.5  │\n",
       "│ 2000-01-05 │ 103.75 │ 110.56 │ 103.0  │ 104.0  │\n",
       "│ 2000-01-06 │ 106.12 │ 107.0  │ 95.0   │ 95.0   │\n",
       "│ 2000-01-07 │ 96.5   │ 101.0  │ 95.5   │ 99.5   │\n",
       "│ 2000-01-10 │ 102.0  │ 102.25 │ 94.75  │ 97.75  │\n",
       "│ 2000-01-11 │ 95.94  │ 99.38  │ 90.5   │ 92.75  │\n",
       "│ 2000-01-12 │ 95.0   │ 95.5   │ 86.5   │ 87.19  │\n",
       "│ 2000-01-13 │ 94.48  │ 98.75  │ 92.5   │ 96.75  │\n",
       "│ 2000-01-14 │ 100.0  │ 102.25 │ 99.38  │ 100.44 │\n",
       "│ 2000-01-18 │ 101.0  │ 106.0  │ 100.44 │ 103.94 │\n",
       "│ 2000-01-19 │ 105.62 │ 108.75 │ 103.38 │ 106.56 │\n",
       "   ⋮\n",
       "│ 2009-12-16 │ 195.1  │ 196.5  │ 194.55 │ 195.03 │\n",
       "│ 2009-12-17 │ 194.26 │ 195.0  │ 191.0  │ 191.86 │\n",
       "│ 2009-12-18 │ 193.17 │ 195.5  │ 192.6  │ 195.43 │\n",
       "│ 2009-12-21 │ 196.05 │ 199.75 │ 195.67 │ 198.23 │\n",
       "│ 2009-12-22 │ 199.44 │ 200.85 │ 198.66 │ 200.36 │\n",
       "│ 2009-12-23 │ 201.2  │ 202.38 │ 200.81 │ 202.1  │\n",
       "│ 2009-12-24 │ 203.55 │ 209.35 │ 203.35 │ 209.04 │\n",
       "│ 2009-12-28 │ 211.72 │ 213.95 │ 209.61 │ 211.61 │\n",
       "│ 2009-12-29 │ 212.63 │ 212.72 │ 208.73 │ 209.1  │\n",
       "│ 2009-12-30 │ 208.83 │ 212.0  │ 208.31 │ 211.64 │\n",
       "│ 2009-12-31 │ 213.13 │ 213.35 │ 210.56 │ 210.73 │"
      ]
     },
     "execution_count": 54,
     "metadata": {},
     "output_type": "execute_result"
    }
   ],
   "source": [
    "prices = AAPL[:Open, :High, :Low, :Close][Date(2000, 1, 1):Day(1):Date(2010, 1, 1)]"
   ]
  },
  {
   "cell_type": "markdown",
   "metadata": {},
   "source": [
    "`findwhen` is a filter that allows to easily compare fields, e.g. open and close prices <br>\n",
    "returns the dates in which the conditions is true"
   ]
  },
  {
   "cell_type": "code",
   "execution_count": 55,
   "metadata": {},
   "outputs": [
    {
     "data": {
      "text/plain": [
       "1266-element Array{Date,1}:\n",
       " 2000-01-03\n",
       " 2000-01-05\n",
       " 2000-01-07\n",
       " 2000-01-13\n",
       " 2000-01-14\n",
       " 2000-01-18\n",
       " 2000-01-19\n",
       " 2000-01-25\n",
       " 2000-01-26\n",
       " 2000-01-27\n",
       " 2000-01-31\n",
       " 2000-02-03\n",
       " 2000-02-04\n",
       " ⋮         \n",
       " 2009-11-20\n",
       " 2009-11-23\n",
       " 2009-11-27\n",
       " 2009-12-08\n",
       " 2009-12-09\n",
       " 2009-12-14\n",
       " 2009-12-18\n",
       " 2009-12-21\n",
       " 2009-12-22\n",
       " 2009-12-23\n",
       " 2009-12-24\n",
       " 2009-12-30"
      ]
     },
     "execution_count": 55,
     "metadata": {},
     "output_type": "execute_result"
    }
   ],
   "source": [
    "findwhen(prices[:Close] .> prices[:Open])"
   ]
  },
  {
   "cell_type": "markdown",
   "metadata": {},
   "source": [
    "we can use this a mask to get the data that we are interested in"
   ]
  },
  {
   "cell_type": "code",
   "execution_count": 56,
   "metadata": {},
   "outputs": [
    {
     "data": {
      "text/plain": [
       "1266×4 TimeArray{Float64,2,Date,Array{Float64,2}} 2000-01-03 to 2009-12-30\n",
       "│            │ Open   │ High   │ Low    │ Close  │\n",
       "├────────────┼────────┼────────┼────────┼────────┤\n",
       "│ 2000-01-03 │ 104.88 │ 112.5  │ 101.69 │ 111.94 │\n",
       "│ 2000-01-05 │ 103.75 │ 110.56 │ 103.0  │ 104.0  │\n",
       "│ 2000-01-07 │ 96.5   │ 101.0  │ 95.5   │ 99.5   │\n",
       "│ 2000-01-13 │ 94.48  │ 98.75  │ 92.5   │ 96.75  │\n",
       "│ 2000-01-14 │ 100.0  │ 102.25 │ 99.38  │ 100.44 │\n",
       "│ 2000-01-18 │ 101.0  │ 106.0  │ 100.44 │ 103.94 │\n",
       "│ 2000-01-19 │ 105.62 │ 108.75 │ 103.38 │ 106.56 │\n",
       "│ 2000-01-25 │ 105.0  │ 113.12 │ 102.38 │ 112.25 │\n",
       "│ 2000-01-26 │ 110.0  │ 114.19 │ 109.75 │ 110.19 │\n",
       "│ 2000-01-27 │ 108.81 │ 113.0  │ 107.0  │ 110.0  │\n",
       "│ 2000-01-31 │ 101.0  │ 103.88 │ 94.5   │ 103.75 │\n",
       "│ 2000-02-03 │ 100.31 │ 104.25 │ 100.25 │ 103.31 │\n",
       "   ⋮\n",
       "│ 2009-11-23 │ 203.0  │ 206.0  │ 202.95 │ 205.88 │\n",
       "│ 2009-11-27 │ 199.22 │ 202.96 │ 198.37 │ 200.59 │\n",
       "│ 2009-12-08 │ 189.36 │ 192.35 │ 188.7  │ 189.87 │\n",
       "│ 2009-12-09 │ 191.28 │ 198.16 │ 190.31 │ 197.8  │\n",
       "│ 2009-12-14 │ 195.37 │ 197.43 │ 192.56 │ 196.98 │\n",
       "│ 2009-12-18 │ 193.17 │ 195.5  │ 192.6  │ 195.43 │\n",
       "│ 2009-12-21 │ 196.05 │ 199.75 │ 195.67 │ 198.23 │\n",
       "│ 2009-12-22 │ 199.44 │ 200.85 │ 198.66 │ 200.36 │\n",
       "│ 2009-12-23 │ 201.2  │ 202.38 │ 200.81 │ 202.1  │\n",
       "│ 2009-12-24 │ 203.55 │ 209.35 │ 203.35 │ 209.04 │\n",
       "│ 2009-12-30 │ 208.83 │ 212.0  │ 208.31 │ 211.64 │"
      ]
     },
     "execution_count": 56,
     "metadata": {},
     "output_type": "execute_result"
    }
   ],
   "source": [
    "profit = findwhen(prices[:Close] .> prices[:Open])\n",
    "prices[profit]"
   ]
  },
  {
   "cell_type": "markdown",
   "metadata": {},
   "source": [
    "`lag` is a common operation used in time-series analysis, e.g. ARMA models. This package makes it easy to return a lagged series"
   ]
  },
  {
   "cell_type": "code",
   "execution_count": 61,
   "metadata": {},
   "outputs": [
    {
     "data": {
      "text/plain": [
       "9×4 TimeArray{Float64,2,Date,Array{Float64,2}} 2000-01-04 to 2000-01-14\n",
       "│            │ Open   │ High   │ Low    │ Close  │\n",
       "├────────────┼────────┼────────┼────────┼────────┤\n",
       "│ 2000-01-04 │ 104.88 │ 112.5  │ 101.69 │ 111.94 │\n",
       "│ 2000-01-05 │ 108.25 │ 110.62 │ 101.19 │ 102.5  │\n",
       "│ 2000-01-06 │ 103.75 │ 110.56 │ 103.0  │ 104.0  │\n",
       "│ 2000-01-07 │ 106.12 │ 107.0  │ 95.0   │ 95.0   │\n",
       "│ 2000-01-10 │ 96.5   │ 101.0  │ 95.5   │ 99.5   │\n",
       "│ 2000-01-11 │ 102.0  │ 102.25 │ 94.75  │ 97.75  │\n",
       "│ 2000-01-12 │ 95.94  │ 99.38  │ 90.5   │ 92.75  │\n",
       "│ 2000-01-13 │ 95.0   │ 95.5   │ 86.5   │ 87.19  │\n",
       "│ 2000-01-14 │ 94.48  │ 98.75  │ 92.5   │ 96.75  │"
      ]
     },
     "execution_count": 61,
     "metadata": {},
     "output_type": "execute_result"
    }
   ],
   "source": [
    "lag(prices[1:10])"
   ]
  },
  {
   "cell_type": "markdown",
   "metadata": {},
   "source": [
    "`diff` computes the difference between consecutive prices"
   ]
  },
  {
   "cell_type": "code",
   "execution_count": 63,
   "metadata": {},
   "outputs": [
    {
     "data": {
      "text/plain": [
       "9×4 TimeArray{Float64,2,Date,Array{Float64,2}} 2000-01-04 to 2000-01-14\n",
       "│            │ Open  │ High  │ Low   │ Close │\n",
       "├────────────┼───────┼───────┼───────┼───────┤\n",
       "│ 2000-01-04 │ 3.37  │ -1.88 │ -0.5  │ -9.44 │\n",
       "│ 2000-01-05 │ -4.5  │ -0.06 │ 1.81  │ 1.5   │\n",
       "│ 2000-01-06 │ 2.37  │ -3.56 │ -8.0  │ -9.0  │\n",
       "│ 2000-01-07 │ -9.62 │ -6.0  │ 0.5   │ 4.5   │\n",
       "│ 2000-01-10 │ 5.5   │ 1.25  │ -0.75 │ -1.75 │\n",
       "│ 2000-01-11 │ -6.06 │ -2.87 │ -4.25 │ -5.0  │\n",
       "│ 2000-01-12 │ -0.94 │ -3.88 │ -4.0  │ -5.56 │\n",
       "│ 2000-01-13 │ -0.52 │ 3.25  │ 6.0   │ 9.56  │\n",
       "│ 2000-01-14 │ 5.52  │ 3.5   │ 6.88  │ 3.69  │"
      ]
     },
     "execution_count": 63,
     "metadata": {},
     "output_type": "execute_result"
    }
   ],
   "source": [
    "diff(prices[1:10])"
   ]
  },
  {
   "cell_type": "markdown",
   "metadata": {},
   "source": [
    "`upto` is a cumulative sum up to a certain date, useful to sum returns"
   ]
  },
  {
   "cell_type": "code",
   "execution_count": 64,
   "metadata": {},
   "outputs": [
    {
     "data": {
      "text/plain": [
       "99×4 TimeArray{Float64,2,Date,Array{Float64,2}} 2000-01-04 to 2000-05-24\n",
       "│            │ Open   │ High   │ Low    │ Close  │\n",
       "├────────────┼────────┼────────┼────────┼────────┤\n",
       "│ 2000-01-04 │ 3.37   │ -1.88  │ -0.5   │ -9.44  │\n",
       "│ 2000-01-05 │ -1.13  │ -1.94  │ 1.31   │ -7.94  │\n",
       "│ 2000-01-06 │ 1.24   │ -5.5   │ -6.69  │ -16.94 │\n",
       "│ 2000-01-07 │ -8.38  │ -11.5  │ -6.19  │ -12.44 │\n",
       "│ 2000-01-10 │ -2.88  │ -10.25 │ -6.94  │ -14.19 │\n",
       "│ 2000-01-11 │ -8.94  │ -13.12 │ -11.19 │ -19.19 │\n",
       "│ 2000-01-12 │ -9.88  │ -17.0  │ -15.19 │ -24.75 │\n",
       "│ 2000-01-13 │ -10.4  │ -13.75 │ -9.19  │ -15.19 │\n",
       "│ 2000-01-14 │ -4.88  │ -10.25 │ -2.31  │ -11.5  │\n",
       "│ 2000-01-18 │ -3.88  │ -6.5   │ -1.25  │ -8.0   │\n",
       "│ 2000-01-19 │ 0.74   │ -3.75  │ 1.69   │ -5.38  │\n",
       "│ 2000-01-20 │ 10.62  │ 9.0    │ 11.81  │ 1.56   │\n",
       "   ⋮\n",
       "│ 2000-05-10 │ -0.82  │ -7.5   │ -2.94  │ -12.63 │\n",
       "│ 2000-05-11 │ -3.5   │ -8.25  │ -2.69  │ -9.13  │\n",
       "│ 2000-05-12 │ 1.12   │ -2.0   │ 3.08   │ -4.32  │\n",
       "│ 2000-05-15 │ 3.18   │ -4.44  │ -1.57  │ -10.94 │\n",
       "│ 2000-05-16 │ -0.36  │ -3.44  │ 1.06   │ -6.25  │\n",
       "│ 2000-05-17 │ -1.26  │ -8.81  │ -1.31  │ -10.56 │\n",
       "│ 2000-05-18 │ -1.88  │ -7.56  │ -1.07  │ -11.19 │\n",
       "│ 2000-05-19 │ -5.63  │ -13.25 │ -8.31  │ -17.94 │\n",
       "│ 2000-05-22 │ -11.13 │ -18.75 │ -15.69 │ -22.0  │\n",
       "│ 2000-05-23 │ -14.38 │ -19.12 │ -16.07 │ -26.13 │\n",
       "│ 2000-05-24 │ -18.69 │ -22.75 │ -18.69 │ -24.25 │"
      ]
     },
     "execution_count": 64,
     "metadata": {},
     "output_type": "execute_result"
    }
   ],
   "source": [
    "earnings = diff(prices[1:100])\n",
    "upto(sum, earnings)"
   ]
  },
  {
   "cell_type": "markdown",
   "metadata": {},
   "source": [
    "Visualize stock price"
   ]
  },
  {
   "cell_type": "code",
   "execution_count": 57,
   "metadata": {},
   "outputs": [
    {
     "data": {
      "image/png": "[encoded data removed]"
     },
     "execution_count": 57,
     "metadata": {},
     "output_type": "execute_result"
    }
   ],
   "source": [
    "using Plots\n",
    "pyplot()\n",
    "plot(prices)"
   ]
  },
  {
   "cell_type": "code",
   "execution_count": null,
   "metadata": {},
   "outputs": [],
   "source": []
  },
  {
   "cell_type": "code",
   "execution_count": null,
   "metadata": {},
   "outputs": [],
   "source": []
  }
 ],
 "metadata": {
  "kernelspec": {
   "display_name": "Julia 1.2.0",
   "language": "julia",
   "name": "julia-1.2"
  },
  "language_info": {
   "file_extension": ".jl",
   "mimetype": "application/julia",
   "name": "julia",
   "version": "1.2.0"
  }
 },
 "nbformat": 4,
 "nbformat_minor": 2
}
