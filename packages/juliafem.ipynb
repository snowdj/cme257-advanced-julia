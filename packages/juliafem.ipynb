{
 "cells": [
  {
   "cell_type": "markdown",
   "metadata": {},
   "source": [
    "# CME 257 HW 3\n",
    "## Ren Gibbons \n",
    "\n",
    "This notebook contains a simple example of a finite element assembly procedure for a 1D truss simulation using the Julia package JuliaFEM. The example is slightly modified from a tutorial page on JuliaFEM found [here](http://www.juliafem.org/examples/2017-08-30-defining-new-problems-to-juliafem/). This notebook was greated using Julia 0.6.2 version and the package JuliaFEM. Here, I import JuliaFEM for use in this notebook and check the status."
   ]
  },
  {
   "cell_type": "code",
   "execution_count": 9,
   "metadata": {},
   "outputs": [
    {
     "name": "stdout",
     "output_type": "stream",
     "text": [
      " - JuliaFEM                      0.3.6\n"
     ]
    }
   ],
   "source": [
    "using JuliaFEM\n",
    "import JuliaFEM: assemble!\n",
    "Pkg.status(\"JuliaFEM\")"
   ]
  },
  {
   "cell_type": "markdown",
   "metadata": {},
   "source": [
    "Next, I define the element type Truss as a descendant of FieldProblem, where FieldProblem describes a general framework for a finite element problem to be solved."
   ]
  },
  {
   "cell_type": "code",
   "execution_count": 16,
   "metadata": {},
   "outputs": [],
   "source": [
    "type Truss <: FieldProblem\n",
    "end"
   ]
  },
  {
   "cell_type": "markdown",
   "metadata": {},
   "source": [
    "Here, I define the assembly procecedure. First, the element stiffness matrices are created given geometrc and material properties. Next, I assign the values of the element stiffness matrix to the appropriate degrees of freedom in the global stiffness matrix."
   ]
  },
  {
   "cell_type": "code",
   "execution_count": 11,
   "metadata": {},
   "outputs": [
    {
     "data": {
      "text/plain": [
       "assemble! (generic function with 37 methods)"
      ]
     },
     "execution_count": 11,
     "metadata": {},
     "output_type": "execute_result"
    }
   ],
   "source": [
    "function assemble!(assembly::Assembly, problem::Problem{Truss},\n",
    "                   element::Element{Seg2}, time)\n",
    "    X = element(\"geometry\", time)        # get geometry\n",
    "    L = norm(X[2] - X[1])                # calculate length of rod\n",
    "    E = 1.0                              # Young's modulus\n",
    "    A = 1.0                              # cross sectional area of element\n",
    "    q = 1.0                              # magnitude of force\n",
    "    Ke = E*A/L*[1.0 -1.0; -1.0 1.0]      # element stiffness matrix \n",
    "    fe = q*L/2*[1.0, 1.0]                # element force vector\n",
    "    gdofs = get_gdofs(problem, element)  # find global dofs of element\n",
    "    add!(assembly.K, gdofs, gdofs, Ke)   # element -> global \n",
    "    add!(assembly.f, gdofs, fe)          # force   -> global\n",
    "end"
   ]
  },
  {
   "cell_type": "markdown",
   "metadata": {},
   "source": [
    "Finally, I test the element by defining a 1D structure with three truss elements with nodes located at positions $$x=[0.0,1.0,2.0,3.0]$$"
   ]
  },
  {
   "cell_type": "code",
   "execution_count": 18,
   "metadata": {
    "scrolled": true
   },
   "outputs": [
    {
     "name": "stderr",
     "output_type": "stream",
     "text": [
      "04-Feb 18:03:09:WARNING:root:assemble!(problem) will be deprecated. Use assemble!(problem, time)\n",
      "04-Feb 18:03:09:WARNING:root:Assembling elements for problem test problem: seems that problem is uninitialized. To initialize problem, use `initialize!(problem, time)`.\n",
      "04-Feb 18:03:09:INFO:root:Initializing problem test problem at time 0.0 automatically.\n",
      "04-Feb 18:03:09:WARNING:root:This is default assemble! function. Decreased performance can be expected without preallocation of memory. One should implement `assemble_elements!(problem, assembly, elements, time)` function.\n"
     ]
    }
   ],
   "source": [
    "X = Dict(1 => [0.0], 2 => [1.0], 3 => [2.0], 4 => [3.0]) # Location of nodes (or Truss element end points)\n",
    "element1 = Element(Seg2, [1, 2])             # First 1D element (with ends at node 1 and 2)\n",
    "element2 = Element(Seg2, [2, 3])             # Second 1D element (with ends at node 2 and 3)\n",
    "element3 = Element(Seg2, [3, 4])             # Third 1D element (with ends at node 3 and 4)\n",
    "elements = [element1, element2, element3]\n",
    "update!(elements, \"geometry\", X)             # Create the mesh\n",
    "problem = Problem(Truss, \"test problem\", 1)  # Initialize problem\n",
    "add_elements!(problem, elements)             # Add elements to problem\n",
    "assemble!(problem)                           # Assemble stiffness matrix and force vector for Truss"
   ]
  },
  {
   "cell_type": "markdown",
   "metadata": {},
   "source": [
    "I verify the correctness of the element implementation by printing the stiffness matrix and force vector."
   ]
  },
  {
   "cell_type": "code",
   "execution_count": 19,
   "metadata": {},
   "outputs": [
    {
     "data": {
      "text/plain": [
       "4×4 Array{Float64,2}:\n",
       "  1.0  -1.0   0.0   0.0\n",
       " -1.0   2.0  -1.0   0.0\n",
       "  0.0  -1.0   2.0  -1.0\n",
       "  0.0   0.0  -1.0   1.0"
      ]
     },
     "execution_count": 19,
     "metadata": {},
     "output_type": "execute_result"
    }
   ],
   "source": [
    "full(problem.assembly.K)"
   ]
  },
  {
   "cell_type": "code",
   "execution_count": 20,
   "metadata": {},
   "outputs": [
    {
     "data": {
      "text/plain": [
       "4×1 Array{Float64,2}:\n",
       " 0.5\n",
       " 1.0\n",
       " 1.0\n",
       " 0.5"
      ]
     },
     "execution_count": 20,
     "metadata": {},
     "output_type": "execute_result"
    }
   ],
   "source": [
    "full(problem.assembly.f)"
   ]
  },
  {
   "cell_type": "markdown",
   "metadata": {},
   "source": [
    "This example only shows how to create a new element type. This [page](http://www.juliafem.org/JuliaFEM.jl/v0.3.2/examples.html) provides an insightful tutorial for setting up and solving a simple finite element problem for a single element 2D quad elastic element."
   ]
  },
  {
   "cell_type": "code",
   "execution_count": null,
   "metadata": {},
   "outputs": [],
   "source": []
  }
 ],
 "metadata": {
  "kernelspec": {
   "display_name": "Julia 0.6.2",
   "language": "julia",
   "name": "julia-0.6"
  },
  "language_info": {
   "file_extension": ".jl",
   "mimetype": "application/julia",
   "name": "julia",
   "version": "0.6.2"
  }
 },
 "nbformat": 4,
 "nbformat_minor": 2
}
